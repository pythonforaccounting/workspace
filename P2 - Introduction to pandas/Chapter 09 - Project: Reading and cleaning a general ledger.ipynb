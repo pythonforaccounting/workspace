{
 "cells": [
  {
   "cell_type": "markdown",
   "metadata": {},
   "source": [
    "\n",
    "# Project: Reading and cleaning a general ledger"
   ]
  },
  {
   "cell_type": "code",
   "execution_count": null,
   "metadata": {},
   "outputs": [],
   "source": [
    "df = pd.read_excel('GeneralLedger.xlsx')\n",
    "\n",
    "df = df.dropna(how='all', axis='columns')\n",
    "df = df.dropna(how='all', axis='rows')\n",
    "\n",
    "df = df.iloc[:-1, 1:]\n",
    "\n",
    "df = df.rename(columns={\n",
    "    'Unnamed: 1': 'Header',\n",
    "    'Unnamed: 2': 'Subheader'\n",
    "})\n",
    "\n",
    "df['Header'] = df['Header'].fillna(method='ffill')\n",
    "df['Subheader'] = df['Subheader'].fillna(method='ffill')\n",
    "\n",
    "df = df.dropna(subset=['Type'])\n",
    "df = df.drop(['Num', 'Split', 'Balance'], axis='columns')\n",
    "\n",
    "df['Debit'] = df['Debit'].fillna(0)\n",
    "df['Credit'] = df['Credit'].fillna(0)\n",
    "\n",
    "df['Net'] = df['Debit'] - df['Credit']\n",
    "df = df[df['Net'] != 0]\n",
    "\n",
    "df['Name'] = df['Name'].replace({\n",
    "    'Gas & Electic Company': 'Gas & Electric Company',\n",
    "    'Kuver Property': 'Kuber Property'\n",
    "})\n",
    "\n",
    "df = df.reset_index(drop=True)"
   ]
  }
 ],
 "metadata": {
  "jupytext": {
   "formats": "ipynb"
  },
  "kernelspec": {
   "display_name": "Python 3",
   "language": "python",
   "name": "python3"
  }
 },
 "nbformat": 4,
 "nbformat_minor": 4
}

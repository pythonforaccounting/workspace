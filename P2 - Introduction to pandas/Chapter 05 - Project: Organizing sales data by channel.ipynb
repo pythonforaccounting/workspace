{
 "cells": [
  {
   "cell_type": "markdown",
   "metadata": {},
   "source": [
    "\n",
    "# Project: Organizing sales data by channel"
   ]
  },
  {
   "cell_type": "code",
   "execution_count": null,
   "metadata": {},
   "outputs": [],
   "source": [
    "import pandas as pd"
   ]
  },
  {
   "cell_type": "code",
   "execution_count": null,
   "metadata": {},
   "outputs": [],
   "source": [
    "sales_df = pd.read_excel('../generated_data/Q1Sales.xlsx', sheet_name='January')"
   ]
  },
  {
   "cell_type": "code",
   "execution_count": null,
   "metadata": {},
   "outputs": [],
   "source": [
    "sales_df"
   ]
  },
  {
   "cell_type": "code",
   "execution_count": null,
   "metadata": {},
   "outputs": [],
   "source": [
    "channel = 'iBay.com'\n",
    "\n",
    "channel_df = sales_df[sales_df['Channel'] == channel]\n",
    "\n",
    "channel_df = channel_df[['ProductID', 'Product Name', 'Date', 'Unit Price', 'Quantity', 'Total']]\n",
    "channel_df = channel_df.sort_values(['Total', 'Quantity'], ascending=False)\n",
    "channel_df = channel_df.iloc[:10, :]"
   ]
  },
  {
   "cell_type": "code",
   "execution_count": null,
   "metadata": {},
   "outputs": [],
   "source": [
    "channel_df"
   ]
  },
  {
   "cell_type": "code",
   "execution_count": null,
   "metadata": {},
   "outputs": [],
   "source": [
    "channels = ['Bullseye', 'iBay.com', 'Shoppe.com', 'Understock.com', 'Walcart',]\n",
    "\n",
    "for channel in channels:\n",
    "    \n",
    "    channel_df = sales_df[sales_df['Channel'] == channel]\n",
    "    channel_df = channel_df[['ProductID', 'Product Name', 'Date', 'Unit Price', 'Quantity', 'Total']]\n",
    "    channel_df = channel_df.sort_values(['Total', 'Quantity'], ascending=False)\n",
    "    channel_df = channel_df.iloc[:10, :]\n",
    "    \n",
    "    channel_df.to_excel(f'Q1Sales_January_{channel}.xlsx', index=False)"
   ]
  },
  {
   "cell_type": "code",
   "execution_count": null,
   "metadata": {},
   "outputs": [],
   "source": [
    "channels = ['Bullseye', 'iBay.com', 'Shoppe.com', 'Understock.com', 'Walcart',]\n",
    "\n",
    "with pd.ExcelWriter('Q1Sales_Channels.xlsx') as output_file:\n",
    "    \n",
    "    for channel in channels:\n",
    "        channel_df = sales_df[sales_df['Channel'] == channel]\n",
    "        channel_df = channel_df[['ProductID', 'Product Name', 'Date', 'Unit Price', 'Quantity', 'Total']]\n",
    "        channel_df = channel_df.sort_values(['Total', 'Quantity'], ascending=False)\n",
    "        channel_df = channel_df.iloc[:10, :]\n",
    "\n",
    "        channel_df.to_excel(output_file, sheet_name=channel, index=False)"
   ]
  }
 ],
 "metadata": {
  "jupytext": {
   "formats": "ipynb"
  },
  "kernelspec": {
   "display_name": "Python 3",
   "language": "python",
   "name": "python3"
  }
 },
 "nbformat": 4,
 "nbformat_minor": 4
}

{
 "cells": [
  {
   "cell_type": "markdown",
   "metadata": {},
   "source": [
    "\n",
    "# Project: Mining product reviews"
   ]
  },
  {
   "cell_type": "code",
   "execution_count": null,
   "metadata": {},
   "outputs": [],
   "source": [
    "import pandas as pd"
   ]
  },
  {
   "cell_type": "code",
   "execution_count": null,
   "metadata": {},
   "outputs": [],
   "source": [
    "reviews_df = pd.read_csv('../../code/data/reviews.csv')\n",
    "\n",
    "reviews_df[['CategoryID', 'ItemID']] = reviews_df['ProductID'].str.split('/', expand=True).rename(columns={0: 'CategoryID', 1: 'ItemID'})\n",
    "reviews_df = reviews_df[reviews_df['ProductID'].isin(sales_df['ProductID'].unique())]"
   ]
  },
  {
   "cell_type": "code",
   "execution_count": null,
   "metadata": {},
   "outputs": [],
   "source": [
    "reviews_df"
   ]
  },
  {
   "cell_type": "code",
   "execution_count": null,
   "metadata": {},
   "outputs": [],
   "source": [
    "category_id_to_name = {\n",
    "    'MI': 'Musical Instruments',\n",
    "    'C&P': 'Camera & Photo',\n",
    "    'E': 'Electronics',\n",
    "    'H&K': 'Home & Kitchen',\n",
    "    'I&S': 'Industrial & Scientific',\n",
    "    'T&G': 'Toys & Games',\n",
    "    'M&T': 'Movies & TV',\n",
    "    'H&PC': 'Health & Personal Care',\n",
    "    'PL&G': 'Patio, Lawn & Garden',\n",
    "    'CP&A': 'Cell Phones & Accessories',\n",
    "    'S&O': 'Sports & Outdoors',\n",
    "    'K&D': 'Kitchen & Dining'\n",
    "}\n",
    "\n",
    "reviews_df['CategoryID'] = reviews_df['CategoryID'].replace(category_id_to_name)"
   ]
  },
  {
   "cell_type": "code",
   "execution_count": null,
   "metadata": {},
   "outputs": [],
   "source": [
    "reviews_df[reviews_df['Rating'] == 1].value_counts(['CategoryID'])"
   ]
  },
  {
   "cell_type": "code",
   "execution_count": null,
   "metadata": {},
   "outputs": [],
   "source": [
    "reviews_df[reviews_df['Rating'] == 5].value_counts(['CategoryID'])"
   ]
  },
  {
   "cell_type": "code",
   "execution_count": null,
   "metadata": {},
   "outputs": [],
   "source": [
    "bad_movie_reviews = reviews_df.loc[\n",
    "    (reviews_df['CategoryID'] == 'Movies & TV') & \n",
    "    (reviews_df['Rating'] == 1), \n",
    "    'Review'\n",
    "]\n",
    "\n",
    "good_movie_reviews = reviews_df.loc[\n",
    "    (reviews_df['CategoryID'] == 'Movies & TV') & \n",
    "    (reviews_df['Rating'] == 5), \n",
    "    'Review'\n",
    "]"
   ]
  },
  {
   "cell_type": "code",
   "execution_count": null,
   "metadata": {},
   "outputs": [],
   "source": [
    "stopwords = pd.read_csv('../../code/data/stopwords.csv').squeeze().values"
   ]
  },
  {
   "cell_type": "code",
   "execution_count": null,
   "metadata": {},
   "outputs": [],
   "source": [
    "def review_to_words(review):\n",
    "    \n",
    "    review = review.strip().lower()\n",
    "    words = review.split()\n",
    "    words = [w.strip() for w in words]\n",
    "    words = [w.strip(string.punctuation) for w in words if w not in stopwords]\n",
    "    words = [w for w in words if len(w) > 0]\n",
    "    \n",
    "    return words"
   ]
  },
  {
   "cell_type": "code",
   "execution_count": null,
   "metadata": {},
   "outputs": [],
   "source": [
    "bad_movie_reviews.apply(review_to_words)"
   ]
  },
  {
   "cell_type": "code",
   "execution_count": null,
   "metadata": {},
   "outputs": [],
   "source": [
    "pd.Series(bad_movie_reviews.apply(review_to_words).sum()).value_counts().head(20)"
   ]
  },
  {
   "cell_type": "code",
   "execution_count": null,
   "metadata": {},
   "outputs": [],
   "source": [
    "pd.Series(good_movie_reviews.apply(review_to_words).sum()).value_counts().head(20)"
   ]
  }
 ],
 "metadata": {
  "jupytext": {
   "formats": "ipynb"
  },
  "kernelspec": {
   "display_name": "Python 3",
   "language": "python",
   "name": "python3"
  }
 },
 "nbformat": 4,
 "nbformat_minor": 4
}

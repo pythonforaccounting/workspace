{
 "cells": [
  {
   "cell_type": "markdown",
   "id": "respected-engineer",
   "metadata": {},
   "source": [
    "\n",
    "# Finding answers"
   ]
  },
  {
   "cell_type": "code",
   "execution_count": null,
   "id": "exclusive-tuner",
   "metadata": {
    "tags": []
   },
   "outputs": [],
   "source": [
    "import pandas as pd\n",
    "import seaborn as sns\n",
    "\n",
    "from common_code import data_folder"
   ]
  },
  {
   "cell_type": "code",
   "execution_count": null,
   "id": "precise-grammar",
   "metadata": {
    "tags": []
   },
   "outputs": [],
   "source": [
    "sales_df = pd.read_csv(f'{data_folder}/sales2020.csv')"
   ]
  },
  {
   "cell_type": "markdown",
   "id": "organic-radar",
   "metadata": {},
   "source": [
    "## Channel profits"
   ]
  },
  {
   "cell_type": "code",
   "execution_count": null,
   "id": "downtown-craps",
   "metadata": {
    "tags": []
   },
   "outputs": [],
   "source": [
    "channel_profits_df = (\n",
    "    sales_df\n",
    "    .groupby('Channel')\n",
    "    .agg({\n",
    "        'Quantity': 'sum',\n",
    "        'Gross Profit': 'sum', \n",
    "        'Margin per Unit': 'mean'\n",
    "    })\n",
    "    .round(3)\n",
    "    .sort_values('Gross Profit', ascending=False)\n",
    ")"
   ]
  },
  {
   "cell_type": "code",
   "execution_count": null,
   "id": "spatial-november",
   "metadata": {
    "tags": []
   },
   "outputs": [],
   "source": [
    "channel_profits_df"
   ]
  },
  {
   "cell_type": "code",
   "execution_count": null,
   "id": "destroyed-express",
   "metadata": {
    "tags": []
   },
   "outputs": [],
   "source": [
    "channel_profits_df.plot(\n",
    "    kind='bar', figsize=(15, 4), subplots=True,\n",
    "    layout=(1, 3), legend=False, rot=30\n",
    ");"
   ]
  },
  {
   "cell_type": "markdown",
   "id": "steady-third",
   "metadata": {},
   "source": [
    "## Category profits"
   ]
  },
  {
   "cell_type": "code",
   "execution_count": null,
   "id": "committed-continuity",
   "metadata": {
    "tags": []
   },
   "outputs": [],
   "source": [
    "category_profits_df = (\n",
    "    sales_df\n",
    "    .groupby('Category')\n",
    "    .agg({\n",
    "        'Quantity': 'sum',\n",
    "        'Gross Profit': 'sum', \n",
    "        'Margin per Unit': 'mean'\n",
    "    })\n",
    "    .round(3)\n",
    "    .sort_values('Gross Profit', ascending=False)\n",
    ")"
   ]
  },
  {
   "cell_type": "code",
   "execution_count": null,
   "id": "consecutive-elimination",
   "metadata": {
    "tags": []
   },
   "outputs": [],
   "source": [
    "category_profits_df"
   ]
  },
  {
   "cell_type": "code",
   "execution_count": null,
   "id": "sixth-today",
   "metadata": {
    "tags": []
   },
   "outputs": [],
   "source": [
    "category_profits_df.plot( \n",
    "    kind='barh', figsize=(15, 6), subplots=True,\n",
    "    layout=(1, 3), legend=False, sharex=False, sharey=True\n",
    ")"
   ]
  },
  {
   "cell_type": "markdown",
   "id": "decent-richmond",
   "metadata": {},
   "source": [
    "## Channel and category profits"
   ]
  },
  {
   "cell_type": "code",
   "execution_count": null,
   "id": "studied-submission",
   "metadata": {
    "tags": []
   },
   "outputs": [],
   "source": [
    "average_margin_per_category = pd.pivot_table(\n",
    "    sales_df, \n",
    "    index='Channel', \n",
    "    columns='Category', \n",
    "    values='Margin per Unit',\n",
    "    aggfunc='mean'\n",
    ").round(3)"
   ]
  },
  {
   "cell_type": "code",
   "execution_count": null,
   "id": "adapted-production",
   "metadata": {
    "tags": []
   },
   "outputs": [],
   "source": [
    "average_margin_per_category"
   ]
  },
  {
   "cell_type": "code",
   "execution_count": null,
   "id": "detailed-finland",
   "metadata": {
    "tags": []
   },
   "outputs": [],
   "source": [
    "sns.heatmap(\n",
    "    data=average_margin_per_category.transpose(), \n",
    "    cmap='Reds', \n",
    "    annot=True, \n",
    "    fmt=\".2f\", \n",
    "    linewidths=.5,\n",
    "    cbar=False\n",
    ")"
   ]
  },
  {
   "cell_type": "markdown",
   "id": "precise-comment",
   "metadata": {},
   "source": [
    "## Product profits"
   ]
  },
  {
   "cell_type": "code",
   "execution_count": null,
   "id": "humanitarian-anatomy",
   "metadata": {
    "tags": []
   },
   "outputs": [],
   "source": [
    "def get_product_profits(df, category):\n",
    "    return df[df['Category'] == category]"
   ]
  },
  {
   "cell_type": "code",
   "execution_count": null,
   "id": "acting-giving",
   "metadata": {
    "tags": []
   },
   "outputs": [],
   "source": [
    "get_product_profits(sales_df, 'Toys & Games')"
   ]
  },
  {
   "cell_type": "code",
   "execution_count": null,
   "id": "surprising-maine",
   "metadata": {
    "tags": []
   },
   "outputs": [],
   "source": [
    "def get_product_profits(df, category):\n",
    "    \n",
    "    df = df[df['Category'] == category]\n",
    "\n",
    "    return (\n",
    "        df.groupby('ProductID')\n",
    "          .agg({\n",
    "                'Product Name': 'first',\n",
    "                'Unit Price': 'first',\n",
    "                'Category': 'first',\n",
    "                'Quantity': 'sum',\n",
    "                'Gross Profit': 'sum',\n",
    "                'Margin per Unit': 'mean'\n",
    "            })\n",
    "          .sort_values(by='Gross Profit', ascending=False)\n",
    "          .reset_index()\n",
    "          .round(3)\n",
    "    )"
   ]
  },
  {
   "cell_type": "code",
   "execution_count": null,
   "id": "junior-representation",
   "metadata": {
    "tags": []
   },
   "outputs": [],
   "source": [
    "get_product_profits(sales_df, 'Toys & Games')"
   ]
  },
  {
   "cell_type": "code",
   "execution_count": null,
   "id": "unknown-ecology",
   "metadata": {
    "tags": []
   },
   "outputs": [],
   "source": [
    "def get_product_profits(df, \n",
    "                        category='All', channel='All', \n",
    "                        sort_column='Gross Profit', ascending=False):\n",
    "\n",
    "    if category != 'All':\n",
    "        df = df[df['Category'] == category]\n",
    "\n",
    "    if channel != 'All':\n",
    "        df = df[df['Channel'] == channel]\n",
    "\n",
    "    return (\n",
    "        df.groupby('ProductID')\n",
    "          .agg({\n",
    "                'Product Name': 'first',\n",
    "                'Unit Price': 'first',\n",
    "                'Category': 'first',\n",
    "                'Quantity': 'sum',\n",
    "                'Gross Profit': 'sum',\n",
    "                'Margin per Unit': 'mean'\n",
    "            })\n",
    "          .sort_values(by=sort_column, ascending=ascending)\n",
    "          .reset_index()\n",
    "          .round(3)\n",
    "    )"
   ]
  },
  {
   "cell_type": "code",
   "execution_count": null,
   "id": "single-broadcast",
   "metadata": {
    "tags": []
   },
   "outputs": [],
   "source": [
    "get_product_profits(sales_df, \n",
    "                    category='Toys & Games', \n",
    "                    channel='iBay.com', \n",
    "                    sort_column='Margin per Unit', \n",
    "                    ascending=True)"
   ]
  },
  {
   "cell_type": "code",
   "execution_count": null,
   "id": "external-sender",
   "metadata": {
    "tags": []
   },
   "outputs": [],
   "source": [
    "with pd.ExcelWriter(f'{data_folder}/Product profits 2020.xlsx') as writer:\n",
    "    for category in sales_df['Category'].unique():\n",
    "        products_df = get_product_profits(sales_df, category)\n",
    "        products_df.to_excel(writer, sheet_name=category, index=False)"
   ]
  },
  {
   "cell_type": "markdown",
   "id": "wooden-maldives",
   "metadata": {},
   "source": [
    "## Sharing results\n",
    "\n",
    "### Exporting notebooks"
   ]
  },
  {
   "cell_type": "code",
   "execution_count": null,
   "id": "enabling-environment",
   "metadata": {
    "tags": []
   },
   "outputs": [],
   "source": [
    "!jupyter-nbconvert \"03 - Finding answers.ipynb\" --no-input --output \"Sales analysis.html\";"
   ]
  },
  {
   "cell_type": "markdown",
   "id": "answering-angle",
   "metadata": {},
   "source": [
    "### Overthinking: Creating an interactive dashboard"
   ]
  },
  {
   "cell_type": "code",
   "execution_count": null,
   "id": "novel-mining",
   "metadata": {
    "tags": []
   },
   "outputs": [],
   "source": [
    "import pandas as pd\n",
    "\n",
    "import hvplot.pandas\n",
    "import panel as pn\n",
    "pn.extension();\n",
    "\n",
    "from common_code import data_folder, get_product_profits"
   ]
  },
  {
   "cell_type": "code",
   "execution_count": null,
   "id": "exact-judges",
   "metadata": {
    "tags": []
   },
   "outputs": [],
   "source": [
    "sales_df = pd.read_csv(f'{data_folder}/sales2020.csv')"
   ]
  },
  {
   "cell_type": "code",
   "execution_count": null,
   "id": "armed-chess",
   "metadata": {
    "tags": []
   },
   "outputs": [],
   "source": [
    "def products_scatterplot(category='All', channel='All'):    \n",
    "    df = get_product_profits(sales_df, category, channel)\n",
    "    \n",
    "    return df.hvplot(\n",
    "        kind='scatter',\n",
    "        x='Gross Profit', \n",
    "        y='Margin per Unit', \n",
    "        size='Quantity', \n",
    "        color='Category',\n",
    "        scale=0.2, \n",
    "        grid=True,\n",
    "        line_color='black', \n",
    "        width=900, \n",
    "        height=600, \n",
    "        hover_cols=['ProductID', 'Product Name', 'Unit Price']\n",
    "    )"
   ]
  },
  {
   "cell_type": "code",
   "execution_count": null,
   "id": "english-harbor",
   "metadata": {
    "tags": []
   },
   "outputs": [],
   "source": [
    "products_scatterplot()"
   ]
  },
  {
   "cell_type": "code",
   "execution_count": null,
   "id": "surface-attempt",
   "metadata": {
    "tags": []
   },
   "outputs": [],
   "source": [
    "test_dropdown = pn.widgets.Select(name='Test dropdown', value='a', options=['a', 'b', 'c'])"
   ]
  },
  {
   "cell_type": "code",
   "execution_count": null,
   "id": "continental-bible",
   "metadata": {
    "tags": []
   },
   "outputs": [],
   "source": [
    "test_dropdown"
   ]
  },
  {
   "cell_type": "code",
   "execution_count": null,
   "id": "finnish-basis",
   "metadata": {
    "tags": []
   },
   "outputs": [],
   "source": [
    "channels = ['All'] + sorted(sales_df['Channel'].unique())\n",
    "channel_dropdown = pn.widgets.Select(name='Channel', value='All', options=channels)"
   ]
  },
  {
   "cell_type": "code",
   "execution_count": null,
   "id": "secure-batman",
   "metadata": {
    "tags": []
   },
   "outputs": [],
   "source": [
    "channel_dropdown"
   ]
  },
  {
   "cell_type": "code",
   "execution_count": null,
   "id": "diverse-republican",
   "metadata": {
    "tags": []
   },
   "outputs": [],
   "source": [
    "categories = ['All'] + sorted(sales_df['Category'].unique())\n",
    "category_dropdown = pn.widgets.Select(name='Category', value='All', options=categories)"
   ]
  },
  {
   "cell_type": "code",
   "execution_count": null,
   "id": "danish-australia",
   "metadata": {
    "tags": []
   },
   "outputs": [],
   "source": [
    "category_dropdown"
   ]
  },
  {
   "cell_type": "code",
   "execution_count": null,
   "id": "available-fifty",
   "metadata": {
    "tags": []
   },
   "outputs": [],
   "source": [
    "@pn.depends(category_dropdown, channel_dropdown)\n",
    "def products_scatterplot(category='All', channel='All'):    \n",
    "    df = get_product_profits(sales_df, category, channel)\n",
    "    \n",
    "    return df.hvplot(\n",
    "        kind='scatter',\n",
    "        x='Gross Profit', \n",
    "        y='Margin per Unit', \n",
    "        size='Quantity', \n",
    "        color='Category',\n",
    "        scale=0.2, \n",
    "        grid=True,\n",
    "        line_color='black', \n",
    "        width=900, \n",
    "        height=600, \n",
    "        hover_cols=['ProductID', 'Product Name', 'Unit Price']\n",
    "    )"
   ]
  },
  {
   "cell_type": "code",
   "execution_count": null,
   "id": "successful-trustee",
   "metadata": {
    "tags": []
   },
   "outputs": [],
   "source": [
    "pn.Column(\n",
    "    category_dropdown,\n",
    "    channel_dropdown,\n",
    "    products_scatterplot\n",
    ")"
   ]
  },
  {
   "cell_type": "code",
   "execution_count": null,
   "id": "unauthorized-overhead",
   "metadata": {
    "tags": []
   },
   "outputs": [],
   "source": [
    "dashboard = pn.Column(\n",
    "    \"# Products dashboard\",\n",
    "    \"Select sales channel or product category using the menus below:\",\n",
    "    category_dropdown,\n",
    "    channel_dropdown,\n",
    "    products_scatterplot\n",
    ")"
   ]
  },
  {
   "cell_type": "code",
   "execution_count": null,
   "id": "marked-routine",
   "metadata": {
    "tags": []
   },
   "outputs": [],
   "source": [
    "dashboard.show()"
   ]
  },
  {
   "cell_type": "code",
   "execution_count": null,
   "id": "unauthorized-spencer",
   "metadata": {
    "tags": []
   },
   "outputs": [],
   "source": [
    "dashboard.save('Products dashboard.html', embed=True)"
   ]
  }
 ],
 "metadata": {
  "jupytext": {
   "formats": "ipynb"
  },
  "kernelspec": {
   "display_name": "Python 3",
   "language": "python",
   "name": "python3"
  }
 },
 "nbformat": 4,
 "nbformat_minor": 5
}

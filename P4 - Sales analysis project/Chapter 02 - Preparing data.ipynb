{
 "cells": [
  {
   "cell_type": "markdown",
   "id": "constitutional-bullet",
   "metadata": {},
   "source": [
    "\n",
    "# Preparing data"
   ]
  },
  {
   "cell_type": "code",
   "execution_count": null,
   "id": "advised-vampire",
   "metadata": {
    "tags": []
   },
   "outputs": [],
   "source": [
    "import os\n",
    "import pandas as pd\n",
    "\n",
    "from common_code import data_folder"
   ]
  },
  {
   "cell_type": "markdown",
   "id": "proprietary-coverage",
   "metadata": {},
   "source": [
    "## Product and cost data"
   ]
  },
  {
   "cell_type": "code",
   "execution_count": null,
   "id": "willing-privacy",
   "metadata": {
    "tags": []
   },
   "outputs": [],
   "source": [
    "products_df = pd.read_csv(f'{data_folder}/products.csv')\n",
    "\n",
    "products_df.head()"
   ]
  },
  {
   "cell_type": "code",
   "execution_count": null,
   "id": "funded-davis",
   "metadata": {
    "tags": []
   },
   "outputs": [],
   "source": [
    "products_df.info()"
   ]
  },
  {
   "cell_type": "code",
   "execution_count": null,
   "id": "express-mineral",
   "metadata": {
    "tags": []
   },
   "outputs": [],
   "source": [
    "products_df = pd.read_csv(f'{data_folder}/products.csv')\n",
    "products_df = products_df.drop('Brand', axis='columns')\n",
    "\n",
    "products_df.head()"
   ]
  },
  {
   "cell_type": "code",
   "execution_count": null,
   "id": "backed-republican",
   "metadata": {
    "tags": []
   },
   "outputs": [],
   "source": [
    "costs_df = pd.read_csv(f'{data_folder}/standard costs.csv')\n",
    "\n",
    "costs_df"
   ]
  },
  {
   "cell_type": "code",
   "execution_count": null,
   "id": "hawaiian-locking",
   "metadata": {
    "tags": []
   },
   "outputs": [],
   "source": [
    "costs_df = pd.read_csv(f'{data_folder}/standard costs.csv', sep='\\t')\n",
    "\n",
    "costs_df"
   ]
  },
  {
   "cell_type": "code",
   "execution_count": null,
   "id": "potential-cowboy",
   "metadata": {
    "tags": []
   },
   "outputs": [],
   "source": [
    "costs_df = pd.read_csv(f'{data_folder}/standard costs.csv', sep='\\t')\n",
    "costs_df = costs_df.rename(columns={'Standard Unit Cost': 'Unit Cost'})\n",
    "costs_df = costs_df[['ProductID', 'Unit Cost']]\n",
    "\n",
    "costs_df"
   ]
  },
  {
   "cell_type": "code",
   "execution_count": null,
   "id": "environmental-estonia",
   "metadata": {
    "tags": []
   },
   "outputs": [],
   "source": [
    "costs_df.info()"
   ]
  },
  {
   "cell_type": "markdown",
   "id": "regular-vegetable",
   "metadata": {},
   "source": [
    "## Sales data"
   ]
  },
  {
   "cell_type": "code",
   "execution_count": null,
   "id": "colored-medicine",
   "metadata": {
    "tags": []
   },
   "outputs": [],
   "source": [
    "def get_sales(file_name): \n",
    "    df = pd.read_excel(f'{data_folder}/{file_name}')\n",
    "    return df"
   ]
  },
  {
   "cell_type": "code",
   "execution_count": null,
   "id": "competent-proxy",
   "metadata": {
    "tags": []
   },
   "outputs": [],
   "source": [
    "get_sales('Q1Sales.xlsx')"
   ]
  },
  {
   "cell_type": "code",
   "execution_count": null,
   "id": "similar-mills",
   "metadata": {
    "tags": []
   },
   "outputs": [],
   "source": [
    "def get_sales(file_name): \n",
    "    df = pd.concat(\n",
    "        pd.read_excel(f'{data_folder}/{file_name}', sheet_name=None), \n",
    "        ignore_index=True\n",
    "    )\n",
    "\n",
    "    return df"
   ]
  },
  {
   "cell_type": "code",
   "execution_count": null,
   "id": "thick-stick",
   "metadata": {
    "tags": []
   },
   "outputs": [],
   "source": [
    "sales_df = get_sales('Q1Sales.xlsx')\n",
    "\n",
    "sales_df"
   ]
  },
  {
   "cell_type": "code",
   "execution_count": null,
   "id": "sized-mirror",
   "metadata": {
    "tags": []
   },
   "outputs": [],
   "source": [
    "sales_df.nunique()"
   ]
  },
  {
   "cell_type": "code",
   "execution_count": null,
   "id": "advance-times",
   "metadata": {
    "tags": []
   },
   "outputs": [],
   "source": [
    "sales_df.isna().sum()"
   ]
  },
  {
   "cell_type": "code",
   "execution_count": null,
   "id": "computational-cuisine",
   "metadata": {
    "tags": []
   },
   "outputs": [],
   "source": [
    "sales_df.duplicated().sum()"
   ]
  },
  {
   "cell_type": "code",
   "execution_count": null,
   "id": "coated-medicare",
   "metadata": {
    "tags": []
   },
   "outputs": [],
   "source": [
    "def get_sales(file_name):\n",
    "    df = pd.concat(\n",
    "        pd.read_excel(f'{data_folder}/{file_name}', sheet_name=None), \n",
    "        ignore_index=True\n",
    "    )\n",
    "    \n",
    "    df = df.drop_duplicates()\n",
    "    df = df.convert_dtypes()\n",
    "    \n",
    "    df = df[[\n",
    "        'InvoiceNo', 'Channel', 'ProductID', \n",
    "        'Date', 'Unit Price', 'Quantity', 'Total' \n",
    "    ]]\n",
    "    \n",
    "    df = df.merge(products_df, on='ProductID', validate='many_to_one')\n",
    "    df = df.merge(costs_df, on='ProductID', validate='many_to_one')\n",
    "    df = df.sort_values('InvoiceNo')\n",
    "    \n",
    "    return df"
   ]
  },
  {
   "cell_type": "code",
   "execution_count": null,
   "id": "mathematical-radical",
   "metadata": {
    "tags": []
   },
   "outputs": [],
   "source": [
    "sales_df = get_sales('Q1Sales.xlsx')\n",
    "\n",
    "sales_df"
   ]
  },
  {
   "cell_type": "code",
   "execution_count": null,
   "id": "technical-delhi",
   "metadata": {
    "tags": []
   },
   "outputs": [],
   "source": [
    "def get_sales(file_name):\n",
    "    # Reads sales Excel file, cleans and merges it with products and costs\n",
    "    # data, and returns a new DataFrame.\n",
    "    \n",
    "    df = pd.concat(\n",
    "        pd.read_excel(f'{data_folder}/{file_name}', sheet_name=None), \n",
    "        ignore_index=True\n",
    "    )\n",
    "    \n",
    "    df = df.drop_duplicates()\n",
    "    df = df.convert_dtypes()\n",
    "    \n",
    "    # keep useful columns\n",
    "    df = df[[\n",
    "        'InvoiceNo', 'Channel', 'ProductID', \n",
    "        'Date', 'Unit Price', 'Quantity', 'Total' \n",
    "    ]]\n",
    "    \n",
    "    # merge with products and costs data\n",
    "    df = df.merge(products_df, on='ProductID')\n",
    "    df = df.merge(costs_df, on='ProductID')\n",
    "    df = df.sort_values('InvoiceNo')\n",
    "    \n",
    "    # check for missing values in any of the columns\n",
    "    # and for sale events spilling across quarters\n",
    "    assert df.isna().sum().sum() == 0, 'Data contains NA values'\n",
    "    assert len(df['Date'].dt.quarter.unique()) == 1, 'Data from multiple quarters'\n",
    "    \n",
    "    return df"
   ]
  },
  {
   "cell_type": "code",
   "execution_count": null,
   "id": "third-marking",
   "metadata": {
    "tags": []
   },
   "outputs": [],
   "source": [
    "os.listdir(data_folder)"
   ]
  },
  {
   "cell_type": "code",
   "execution_count": null,
   "id": "reduced-richards",
   "metadata": {
    "tags": []
   },
   "outputs": [],
   "source": []
  },
  {
   "cell_type": "code",
   "execution_count": null,
   "id": "straight-hydrogen",
   "metadata": {
    "tags": []
   },
   "outputs": [],
   "source": [
    "sales_df = pd.concat(\n",
    "    [get_sales(name) for name in os.listdir(data_folder) if name.endswith('.xlsx')], \n",
    "    ignore_index=True\n",
    ")"
   ]
  },
  {
   "cell_type": "code",
   "execution_count": null,
   "id": "material-friend",
   "metadata": {
    "tags": []
   },
   "outputs": [],
   "source": [
    "sales_df"
   ]
  },
  {
   "cell_type": "code",
   "execution_count": null,
   "id": "dramatic-negotiation",
   "metadata": {
    "tags": []
   },
   "outputs": [],
   "source": [
    "sales_df['Gross Profit'] = (sales_df['Total'] - \n",
    "                           (sales_df['Quantity'] * sales_df['Unit Cost']))\n",
    "\n",
    "sales_df['Profit per Unit'] = sales_df['Gross Profit'] / sales_df['Quantity']\n",
    "sales_df['Margin per Unit'] = ((sales_df['Profit per Unit'] / \n",
    "                                sales_df['Unit Price']) * 100)"
   ]
  },
  {
   "cell_type": "code",
   "execution_count": null,
   "id": "improving-examination",
   "metadata": {
    "tags": []
   },
   "outputs": [],
   "source": [
    "sales_df.to_csv(f'{data_folder}/sales2020.csv', index=False)"
   ]
  }
 ],
 "metadata": {
  "jupytext": {
   "formats": "ipynb"
  },
  "kernelspec": {
   "display_name": "Python 3",
   "language": "python",
   "name": "python3"
  }
 },
 "nbformat": 4,
 "nbformat_minor": 5
}

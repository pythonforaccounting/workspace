{
 "cells": [
  {
   "cell_type": "markdown",
   "id": "saving-process",
   "metadata": {},
   "source": [
    "\n",
    "# Setting up your project\n",
    "\n",
    "## Files and folders\n",
    "\n",
    "### Data files\n",
    "\n",
    "### Jupyter notebooks\n",
    "\n",
    "### Common code"
   ]
  },
  {
   "cell_type": "code",
   "execution_count": null,
   "id": "later-updating",
   "metadata": {
    "tags": []
   },
   "outputs": [],
   "source": [
    "data_folder = 'data'"
   ]
  },
  {
   "cell_type": "code",
   "execution_count": null,
   "id": "native-balance",
   "metadata": {
    "tags": []
   },
   "outputs": [],
   "source": [
    "from common_code import data_folder"
   ]
  }
 ],
 "metadata": {
  "jupytext": {
   "formats": "ipynb"
  },
  "kernelspec": {
   "display_name": "Python 3",
   "language": "python",
   "name": "python3"
  }
 },
 "nbformat": 4,
 "nbformat_minor": 5
}

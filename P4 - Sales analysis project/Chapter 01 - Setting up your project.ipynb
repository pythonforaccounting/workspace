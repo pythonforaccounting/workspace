{
 "cells": [
  {
   "cell_type": "markdown",
   "id": "aerial-harbor",
   "metadata": {},
   "source": [
    "\n",
    "# Setting up your project\n",
    "\n",
    "## Files and folders\n",
    "\n",
    "### Data files\n",
    "\n",
    "### Jupyter notebooks\n",
    "\n",
    "### Common code"
   ]
  },
  {
   "cell_type": "code",
   "execution_count": null,
   "id": "british-manchester",
   "metadata": {
    "tags": []
   },
   "outputs": [],
   "source": [
    "data_folder = 'data'"
   ]
  },
  {
   "cell_type": "code",
   "execution_count": null,
   "id": "under-haven",
   "metadata": {
    "tags": []
   },
   "outputs": [],
   "source": [
    "from common_code import data_folder"
   ]
  }
 ],
 "metadata": {
  "jupytext": {
   "formats": "ipynb"
  },
  "kernelspec": {
   "display_name": "Python 3",
   "language": "python",
   "name": "python3"
  }
 },
 "nbformat": 4,
 "nbformat_minor": 5
}

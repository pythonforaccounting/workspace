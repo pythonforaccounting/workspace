{
 "cells": [
  {
   "cell_type": "markdown",
   "id": "interested-recommendation",
   "metadata": {},
   "source": [
    "\n",
    "#  tables"
   ]
  },
  {
   "cell_type": "code",
   "execution_count": null,
   "id": "subject-simple",
   "metadata": {
    "tags": []
   },
   "outputs": [],
   "source": [
    "import pandas as pd\n",
    "\n",
    "ledger_df = pd.read_excel('Q1Sales.xlsx')"
   ]
  },
  {
   "cell_type": "markdown",
   "id": "dedicated-pillow",
   "metadata": {},
   "source": [
    "## Selecting columns"
   ]
  },
  {
   "cell_type": "code",
   "execution_count": null,
   "id": "defensive-installation",
   "metadata": {
    "tags": []
   },
   "outputs": [],
   "source": [
    "ledger_df['Product Name']"
   ]
  },
  {
   "cell_type": "code",
   "execution_count": null,
   "id": "nasty-longer",
   "metadata": {
    "tags": []
   },
   "outputs": [],
   "source": [
    "ledger_df['Unit Price']"
   ]
  },
  {
   "cell_type": "code",
   "execution_count": null,
   "id": "furnished-welsh",
   "metadata": {
    "tags": []
   },
   "outputs": [],
   "source": [
    "ledger_df['Unit Price'].median()"
   ]
  },
  {
   "cell_type": "code",
   "execution_count": null,
   "id": "precise-flesh",
   "metadata": {
    "tags": [
     "allowerror"
    ]
   },
   "outputs": [],
   "source": [
    "ledger_df['Unit Price ']"
   ]
  },
  {
   "cell_type": "code",
   "execution_count": null,
   "id": "electric-territory",
   "metadata": {
    "tags": []
   },
   "outputs": [],
   "source": [
    "ledger_df[['ProductID', 'Product Name', 'Unit Price', 'Total']]"
   ]
  },
  {
   "cell_type": "code",
   "execution_count": null,
   "id": "thermal-stranger",
   "metadata": {
    "tags": []
   },
   "outputs": [],
   "source": [
    "column_names = ['ProductID', 'Product Name', 'Unit Price', 'Total']\n",
    "\n",
    "ledger_df[column_names]"
   ]
  },
  {
   "cell_type": "code",
   "execution_count": null,
   "id": "important-criterion",
   "metadata": {
    "tags": []
   },
   "outputs": [],
   "source": [
    "products_df = ledger_df[['ProductID', 'Product Name', 'Unit Price', 'Total']]\n",
    "\n",
    "products_df"
   ]
  },
  {
   "cell_type": "code",
   "execution_count": null,
   "id": "patent-breach",
   "metadata": {
    "tags": []
   },
   "outputs": [],
   "source": [
    "ledger_df.columns"
   ]
  },
  {
   "cell_type": "code",
   "execution_count": null,
   "id": "parallel-factory",
   "metadata": {
    "tags": []
   },
   "outputs": [],
   "source": [
    "ledger_df.columns[:3]"
   ]
  },
  {
   "cell_type": "code",
   "execution_count": null,
   "id": "adjusted-three",
   "metadata": {
    "tags": []
   },
   "outputs": [],
   "source": [
    "ledger_df[ledger_df.columns[:3]]"
   ]
  },
  {
   "cell_type": "code",
   "execution_count": null,
   "id": "early-alias",
   "metadata": {
    "tags": []
   },
   "outputs": [],
   "source": []
  },
  {
   "cell_type": "code",
   "execution_count": null,
   "id": "blocked-princeton",
   "metadata": {
    "tags": []
   },
   "outputs": [],
   "source": [
    "ledger_df[[name for name in ledger_df.columns if 'Product' in name]]"
   ]
  },
  {
   "cell_type": "markdown",
   "id": "another-democracy",
   "metadata": {},
   "source": [
    "## Removing columns"
   ]
  },
  {
   "cell_type": "code",
   "execution_count": null,
   "id": "level-landing",
   "metadata": {
    "tags": []
   },
   "outputs": [],
   "source": [
    "products_df = ledger_df[['ProductID', 'Product Name', 'Unit Price', 'Total']]"
   ]
  },
  {
   "cell_type": "code",
   "execution_count": null,
   "id": "collaborative-bedroom",
   "metadata": {
    "tags": []
   },
   "outputs": [],
   "source": [
    "columns_to_remove = ['InvoiceNo', 'Account', 'AccountNo', 'Currency']\n",
    "\n",
    "ledger_df.drop(columns_to_remove, axis='columns')"
   ]
  },
  {
   "cell_type": "markdown",
   "id": "peripheral-infrastructure",
   "metadata": {},
   "source": [
    "## Selecting rows and columns\n",
    "\n",
    "### loc"
   ]
  },
  {
   "cell_type": "code",
   "execution_count": null,
   "id": "wicked-field",
   "metadata": {
    "tags": []
   },
   "outputs": [],
   "source": [
    "ledger_df.loc[0:9, 'InvoiceNo':'ProductID']"
   ]
  },
  {
   "cell_type": "code",
   "execution_count": null,
   "id": "offensive-commissioner",
   "metadata": {
    "tags": []
   },
   "outputs": [],
   "source": [
    "ledger_df.loc[[0, 1, 2, 3, 4], ['InvoiceNo', 'Channel', 'Unit Price', 'Total']]"
   ]
  },
  {
   "cell_type": "code",
   "execution_count": null,
   "id": "continuous-future",
   "metadata": {
    "tags": []
   },
   "outputs": [],
   "source": [
    "ledger_df.loc[:, 'Channel':'Date']"
   ]
  },
  {
   "cell_type": "code",
   "execution_count": null,
   "id": "understanding-cooling",
   "metadata": {
    "tags": []
   },
   "outputs": [],
   "source": [
    "ledger_df.loc[0:4, :]"
   ]
  },
  {
   "cell_type": "code",
   "execution_count": null,
   "id": "continent-telescope",
   "metadata": {
    "tags": []
   },
   "outputs": [],
   "source": [
    "ledger_df.loc[0, 'Channel']"
   ]
  },
  {
   "cell_type": "markdown",
   "id": "brutal-lindsay",
   "metadata": {},
   "source": [
    "### iloc"
   ]
  },
  {
   "cell_type": "code",
   "execution_count": null,
   "id": "limiting-speech",
   "metadata": {
    "tags": []
   },
   "outputs": [],
   "source": [
    "ledger_df.iloc[0:10, 0:4]"
   ]
  },
  {
   "cell_type": "code",
   "execution_count": null,
   "id": "continental-design",
   "metadata": {
    "tags": []
   },
   "outputs": [],
   "source": [
    "ledger_df.iloc[[0, 1, 2, 3, 4], [1, 2, 9, 11]]"
   ]
  },
  {
   "cell_type": "code",
   "execution_count": null,
   "id": "instrumental-aquatic",
   "metadata": {
    "tags": []
   },
   "outputs": [],
   "source": [
    "ledger_df.iloc[:, :3]"
   ]
  },
  {
   "cell_type": "code",
   "execution_count": null,
   "id": "liable-dinner",
   "metadata": {
    "tags": []
   },
   "outputs": [],
   "source": [
    "ledger_df.iloc[-4:, -4:]"
   ]
  },
  {
   "cell_type": "markdown",
   "id": "subtle-encoding",
   "metadata": {},
   "source": [
    "###  trap"
   ]
  },
  {
   "cell_type": "code",
   "execution_count": null,
   "id": "precious-client",
   "metadata": {
    "tags": []
   },
   "outputs": [],
   "source": [
    "ledger_df.loc[0:4, 'Channel']"
   ]
  },
  {
   "cell_type": "code",
   "execution_count": null,
   "id": "scheduled-enhancement",
   "metadata": {
    "tags": []
   },
   "outputs": [],
   "source": [
    "ledger_df.iloc[0:4, 1]"
   ]
  },
  {
   "cell_type": "markdown",
   "id": "proper-differential",
   "metadata": {},
   "source": [
    "## Filtering data"
   ]
  },
  {
   "cell_type": "code",
   "execution_count": null,
   "id": "orange-grounds",
   "metadata": {
    "tags": []
   },
   "outputs": [],
   "source": [
    "ledger_df[ledger_df['Channel'] == 'Walcart']"
   ]
  },
  {
   "cell_type": "code",
   "execution_count": null,
   "id": "personal-shelter",
   "metadata": {
    "tags": []
   },
   "outputs": [],
   "source": [
    "ledger_df['Channel'] == 'Walcart'"
   ]
  },
  {
   "cell_type": "code",
   "execution_count": null,
   "id": "terminal-surprise",
   "metadata": {
    "tags": []
   },
   "outputs": [],
   "source": [
    "rows_to_keep = ledger_df['Channel'] == 'Walcart'\n",
    "\n",
    "rows_to_keep.sum()"
   ]
  },
  {
   "cell_type": "code",
   "execution_count": null,
   "id": "crude-sodium",
   "metadata": {
    "tags": []
   },
   "outputs": [],
   "source": [
    "ledger_df[rows_to_keep]"
   ]
  },
  {
   "cell_type": "code",
   "execution_count": null,
   "id": "hydraulic-behalf",
   "metadata": {
    "tags": []
   },
   "outputs": [],
   "source": [
    "ledger_df[\n",
    "    (ledger_df['Channel'] == 'Walcart') &\n",
    "    (ledger_df['Quantity'] > 25)\n",
    "]"
   ]
  },
  {
   "cell_type": "code",
   "execution_count": null,
   "id": "resistant-operations",
   "metadata": {
    "tags": []
   },
   "outputs": [],
   "source": [
    "(ledger_df['Channel'] == 'Walcart') & (ledger_df['Quantity'] > 25)"
   ]
  },
  {
   "cell_type": "code",
   "execution_count": null,
   "id": "moving-chinese",
   "metadata": {
    "tags": []
   },
   "outputs": [],
   "source": [
    "~(ledger_df['Channel'] == 'Walcart')"
   ]
  },
  {
   "cell_type": "code",
   "execution_count": null,
   "id": "composed-compact",
   "metadata": {
    "tags": []
   },
   "outputs": [],
   "source": [
    "# Instead of:\n",
    "(\n",
    "  (ledger_df['Channel'] == 'Understock.com') | \n",
    "  (ledger_df['Channel'] == 'iBay.com') |\n",
    "  (ledger_df['Channel'] == 'Shoppe.com')\n",
    ")\n",
    "\n",
    "# You can use:\n",
    "ledger_df['Channel'].isin(['Understock.com', 'iBay.com', 'Shoppe.com'])"
   ]
  },
  {
   "cell_type": "code",
   "execution_count": null,
   "id": "devoted-sarah",
   "metadata": {
    "tags": []
   },
   "outputs": [],
   "source": [
    "# Instead of:\n",
    "(ledger_df['Quantity'] >= 10) & (ledger_df['Quantity'] <= 100)\n",
    "\n",
    "# You can use:\n",
    "ledger_df['Quantity'].between(10, 100)"
   ]
  },
  {
   "cell_type": "markdown",
   "id": "parliamentary-consolidation",
   "metadata": {},
   "source": [
    "###  for filtering"
   ]
  },
  {
   "cell_type": "code",
   "execution_count": null,
   "id": "found-writer",
   "metadata": {
    "tags": []
   },
   "outputs": [],
   "source": [
    "ledger_df[ledger_df['Channel'] == 'Walcart'][['Channel', 'Quantity', 'Total']]"
   ]
  },
  {
   "cell_type": "code",
   "execution_count": null,
   "id": "minus-crest",
   "metadata": {
    "tags": []
   },
   "outputs": [],
   "source": [
    "ledger_df.loc[\n",
    "  ledger_df['Channel'] == 'Walcart', \n",
    "  ['Channel', 'Quantity', 'Total']\n",
    "]"
   ]
  },
  {
   "cell_type": "markdown",
   "id": "devoted-roulette",
   "metadata": {},
   "source": [
    "## Sorting data"
   ]
  },
  {
   "cell_type": "code",
   "execution_count": null,
   "id": "excellent-pressure",
   "metadata": {
    "tags": []
   },
   "outputs": [],
   "source": [
    "ledger_df.sort_values(by='Total')"
   ]
  },
  {
   "cell_type": "code",
   "execution_count": null,
   "id": "residential-opinion",
   "metadata": {
    "tags": []
   },
   "outputs": [],
   "source": [
    "ledger_df.sort_values(by='Total', ascending=False)"
   ]
  },
  {
   "cell_type": "code",
   "execution_count": null,
   "id": "brief-johns",
   "metadata": {
    "tags": []
   },
   "outputs": [],
   "source": [
    "ledger_df.sort_values(by=['Quantity', 'Total'], ascending=[False, True])"
   ]
  }
 ],
 "metadata": {
  "jupytext": {
   "formats": "ipynb"
  },
  "kernelspec": {
   "display_name": "Python 3",
   "language": "python",
   "name": "python3"
  }
 },
 "nbformat": 4,
 "nbformat_minor": 5
}

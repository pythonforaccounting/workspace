{
 "cells": [
  {
   "cell_type": "markdown",
   "id": "printable-little",
   "metadata": {},
   "source": [
    "\n",
    "#  tables"
   ]
  },
  {
   "cell_type": "code",
   "execution_count": null,
   "id": "located-actor",
   "metadata": {
    "tags": []
   },
   "outputs": [],
   "source": [
    "import pandas as pd\n",
    "\n",
    "ledger_df = pd.read_excel('Q1Sales.xlsx')"
   ]
  },
  {
   "cell_type": "markdown",
   "id": "reduced-patch",
   "metadata": {},
   "source": [
    "## Selecting columns"
   ]
  },
  {
   "cell_type": "code",
   "execution_count": null,
   "id": "complete-sympathy",
   "metadata": {
    "tags": []
   },
   "outputs": [],
   "source": [
    "ledger_df['Product Name']"
   ]
  },
  {
   "cell_type": "code",
   "execution_count": null,
   "id": "fallen-thanks",
   "metadata": {
    "tags": []
   },
   "outputs": [],
   "source": [
    "ledger_df['Unit Price']"
   ]
  },
  {
   "cell_type": "code",
   "execution_count": null,
   "id": "silent-louisiana",
   "metadata": {
    "tags": []
   },
   "outputs": [],
   "source": [
    "ledger_df['Unit Price'].median()"
   ]
  },
  {
   "cell_type": "code",
   "execution_count": null,
   "id": "numeric-continuity",
   "metadata": {
    "tags": [
     "allowerror"
    ]
   },
   "outputs": [],
   "source": [
    "ledger_df['Unit Price ']"
   ]
  },
  {
   "cell_type": "code",
   "execution_count": null,
   "id": "excessive-bookmark",
   "metadata": {
    "tags": []
   },
   "outputs": [],
   "source": [
    "ledger_df[['ProductID', 'Product Name', 'Unit Price', 'Total']]"
   ]
  },
  {
   "cell_type": "code",
   "execution_count": null,
   "id": "assigned-procurement",
   "metadata": {
    "tags": []
   },
   "outputs": [],
   "source": [
    "column_names = ['ProductID', 'Product Name', 'Unit Price', 'Total']\n",
    "\n",
    "ledger_df[column_names]"
   ]
  },
  {
   "cell_type": "code",
   "execution_count": null,
   "id": "peaceful-complex",
   "metadata": {
    "tags": []
   },
   "outputs": [],
   "source": [
    "products_df = ledger_df[['ProductID', 'Product Name', 'Unit Price', 'Total']]\n",
    "\n",
    "products_df"
   ]
  },
  {
   "cell_type": "code",
   "execution_count": null,
   "id": "desirable-excerpt",
   "metadata": {
    "tags": []
   },
   "outputs": [],
   "source": [
    "ledger_df.columns"
   ]
  },
  {
   "cell_type": "code",
   "execution_count": null,
   "id": "pressed-freeware",
   "metadata": {
    "tags": []
   },
   "outputs": [],
   "source": [
    "ledger_df.columns[:3]"
   ]
  },
  {
   "cell_type": "code",
   "execution_count": null,
   "id": "collectible-adjustment",
   "metadata": {
    "tags": []
   },
   "outputs": [],
   "source": [
    "ledger_df[ledger_df.columns[:3]]"
   ]
  },
  {
   "cell_type": "code",
   "execution_count": null,
   "id": "drawn-given",
   "metadata": {
    "tags": []
   },
   "outputs": [],
   "source": []
  },
  {
   "cell_type": "code",
   "execution_count": null,
   "id": "cutting-wholesale",
   "metadata": {
    "tags": []
   },
   "outputs": [],
   "source": [
    "ledger_df[[name for name in ledger_df.columns if 'Product' in name]]"
   ]
  },
  {
   "cell_type": "markdown",
   "id": "micro-jackson",
   "metadata": {},
   "source": [
    "## Removing columns"
   ]
  },
  {
   "cell_type": "code",
   "execution_count": null,
   "id": "offensive-matthew",
   "metadata": {
    "tags": []
   },
   "outputs": [],
   "source": [
    "products_df = ledger_df[['ProductID', 'Product Name', 'Unit Price', 'Total']]"
   ]
  },
  {
   "cell_type": "code",
   "execution_count": null,
   "id": "opening-fraud",
   "metadata": {
    "tags": []
   },
   "outputs": [],
   "source": [
    "columns_to_remove = ['InvoiceNo', 'Account', 'AccountNo', 'Currency']\n",
    "\n",
    "ledger_df.drop(columns_to_remove, axis='columns')"
   ]
  },
  {
   "cell_type": "markdown",
   "id": "colonial-valve",
   "metadata": {},
   "source": [
    "## Selecting rows and columns\n",
    "\n",
    "### loc"
   ]
  },
  {
   "cell_type": "code",
   "execution_count": null,
   "id": "basic-state",
   "metadata": {
    "tags": []
   },
   "outputs": [],
   "source": [
    "ledger_df.loc[0:9, 'InvoiceNo':'ProductID']"
   ]
  },
  {
   "cell_type": "code",
   "execution_count": null,
   "id": "funky-sessions",
   "metadata": {
    "tags": []
   },
   "outputs": [],
   "source": [
    "ledger_df.loc[[0, 1, 2, 3, 4], ['InvoiceNo', 'Channel', 'Unit Price', 'Total']]"
   ]
  },
  {
   "cell_type": "code",
   "execution_count": null,
   "id": "cardiac-switzerland",
   "metadata": {
    "tags": []
   },
   "outputs": [],
   "source": [
    "ledger_df.loc[:, 'Channel':'Date']"
   ]
  },
  {
   "cell_type": "code",
   "execution_count": null,
   "id": "heated-jewelry",
   "metadata": {
    "tags": []
   },
   "outputs": [],
   "source": [
    "ledger_df.loc[0:4, :]"
   ]
  },
  {
   "cell_type": "code",
   "execution_count": null,
   "id": "valid-reynolds",
   "metadata": {
    "tags": []
   },
   "outputs": [],
   "source": [
    "ledger_df.loc[0, 'Channel']"
   ]
  },
  {
   "cell_type": "markdown",
   "id": "hourly-designation",
   "metadata": {},
   "source": [
    "### iloc"
   ]
  },
  {
   "cell_type": "code",
   "execution_count": null,
   "id": "chinese-absolute",
   "metadata": {
    "tags": []
   },
   "outputs": [],
   "source": [
    "ledger_df.iloc[0:10, 0:4]"
   ]
  },
  {
   "cell_type": "code",
   "execution_count": null,
   "id": "external-egyptian",
   "metadata": {
    "tags": []
   },
   "outputs": [],
   "source": [
    "ledger_df.iloc[[0, 1, 2, 3, 4], [1, 2, 9, 11]]"
   ]
  },
  {
   "cell_type": "code",
   "execution_count": null,
   "id": "clinical-tourist",
   "metadata": {
    "tags": []
   },
   "outputs": [],
   "source": [
    "ledger_df.iloc[:, :3]"
   ]
  },
  {
   "cell_type": "code",
   "execution_count": null,
   "id": "backed-liberia",
   "metadata": {
    "tags": []
   },
   "outputs": [],
   "source": [
    "ledger_df.iloc[-4:, -4:]"
   ]
  },
  {
   "cell_type": "markdown",
   "id": "naked-judgment",
   "metadata": {},
   "source": [
    "###  trap"
   ]
  },
  {
   "cell_type": "code",
   "execution_count": null,
   "id": "handy-refrigerator",
   "metadata": {
    "tags": []
   },
   "outputs": [],
   "source": [
    "ledger_df.loc[0:4, 'Channel']"
   ]
  },
  {
   "cell_type": "code",
   "execution_count": null,
   "id": "higher-present",
   "metadata": {
    "tags": []
   },
   "outputs": [],
   "source": [
    "ledger_df.iloc[0:4, 1]"
   ]
  },
  {
   "cell_type": "markdown",
   "id": "compliant-fossil",
   "metadata": {},
   "source": [
    "## Filtering data"
   ]
  },
  {
   "cell_type": "code",
   "execution_count": null,
   "id": "offensive-female",
   "metadata": {
    "tags": []
   },
   "outputs": [],
   "source": [
    "ledger_df[ledger_df['Channel'] == 'Walcart']"
   ]
  },
  {
   "cell_type": "code",
   "execution_count": null,
   "id": "seeing-cheese",
   "metadata": {
    "tags": []
   },
   "outputs": [],
   "source": [
    "ledger_df['Channel'] == 'Walcart'"
   ]
  },
  {
   "cell_type": "code",
   "execution_count": null,
   "id": "hybrid-cameroon",
   "metadata": {
    "tags": []
   },
   "outputs": [],
   "source": [
    "rows_to_keep = ledger_df['Channel'] == 'Walcart'\n",
    "\n",
    "rows_to_keep.sum()"
   ]
  },
  {
   "cell_type": "code",
   "execution_count": null,
   "id": "falling-salon",
   "metadata": {
    "tags": []
   },
   "outputs": [],
   "source": [
    "ledger_df[rows_to_keep]"
   ]
  },
  {
   "cell_type": "code",
   "execution_count": null,
   "id": "promising-brunei",
   "metadata": {
    "tags": []
   },
   "outputs": [],
   "source": [
    "ledger_df[\n",
    "    (ledger_df['Channel'] == 'Walcart') &\n",
    "    (ledger_df['Quantity'] > 25)\n",
    "]"
   ]
  },
  {
   "cell_type": "code",
   "execution_count": null,
   "id": "average-separation",
   "metadata": {
    "tags": []
   },
   "outputs": [],
   "source": [
    "(ledger_df['Channel'] == 'Walcart') & (ledger_df['Quantity'] > 25)"
   ]
  },
  {
   "cell_type": "code",
   "execution_count": null,
   "id": "suspected-public",
   "metadata": {
    "tags": []
   },
   "outputs": [],
   "source": [
    "~(ledger_df['Channel'] == 'Walcart')"
   ]
  },
  {
   "cell_type": "code",
   "execution_count": null,
   "id": "unavailable-young",
   "metadata": {
    "tags": []
   },
   "outputs": [],
   "source": [
    "# Instead of:\n",
    "(\n",
    "  (ledger_df['Channel'] == 'Understock.com') | \n",
    "  (ledger_df['Channel'] == 'iBay.com') |\n",
    "  (ledger_df['Channel'] == 'Shoppe.com')\n",
    ")\n",
    "\n",
    "# You can use:\n",
    "ledger_df['Channel'].isin(['Understock.com', 'iBay.com', 'Shoppe.com'])"
   ]
  },
  {
   "cell_type": "code",
   "execution_count": null,
   "id": "arctic-scout",
   "metadata": {
    "tags": []
   },
   "outputs": [],
   "source": [
    "# Instead of:\n",
    "(ledger_df['Quantity'] >= 10) & (ledger_df['Quantity'] <= 100)\n",
    "\n",
    "# You can use:\n",
    "ledger_df['Quantity'].between(10, 100)"
   ]
  },
  {
   "cell_type": "markdown",
   "id": "british-temperature",
   "metadata": {},
   "source": [
    "###  for filtering"
   ]
  },
  {
   "cell_type": "code",
   "execution_count": null,
   "id": "optional-variance",
   "metadata": {
    "tags": []
   },
   "outputs": [],
   "source": [
    "ledger_df[ledger_df['Channel'] == 'Walcart'][['Channel', 'Quantity', 'Total']]"
   ]
  },
  {
   "cell_type": "code",
   "execution_count": null,
   "id": "advance-pressing",
   "metadata": {
    "tags": []
   },
   "outputs": [],
   "source": [
    "ledger_df.loc[\n",
    "  ledger_df['Channel'] == 'Walcart', \n",
    "  ['Channel', 'Quantity', 'Total']\n",
    "]"
   ]
  },
  {
   "cell_type": "markdown",
   "id": "induced-casino",
   "metadata": {},
   "source": [
    "## Sorting data"
   ]
  },
  {
   "cell_type": "code",
   "execution_count": null,
   "id": "centered-brain",
   "metadata": {
    "tags": []
   },
   "outputs": [],
   "source": [
    "ledger_df.sort_values(by='Total')"
   ]
  },
  {
   "cell_type": "code",
   "execution_count": null,
   "id": "noticed-ballot",
   "metadata": {
    "tags": []
   },
   "outputs": [],
   "source": [
    "ledger_df.sort_values(by='Total', ascending=False)"
   ]
  },
  {
   "cell_type": "code",
   "execution_count": null,
   "id": "imposed-alliance",
   "metadata": {
    "tags": []
   },
   "outputs": [],
   "source": [
    "ledger_df.sort_values(by=['Quantity', 'Total'], ascending=[False, True])"
   ]
  }
 ],
 "metadata": {
  "jupytext": {
   "formats": "ipynb"
  },
  "kernelspec": {
   "display_name": "Python 3",
   "language": "python",
   "name": "python3"
  }
 },
 "nbformat": 4,
 "nbformat_minor": 5
}

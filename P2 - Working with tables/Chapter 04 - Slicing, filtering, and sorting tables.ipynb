{
 "cells": [
  {
   "cell_type": "markdown",
   "id": "tight-hudson",
   "metadata": {},
   "source": [
    "\n",
    "#  tables"
   ]
  },
  {
   "cell_type": "code",
   "execution_count": null,
   "id": "smooth-egypt",
   "metadata": {
    "tags": []
   },
   "outputs": [],
   "source": [
    "import pandas as pd\n",
    "\n",
    "ledger_df = pd.read_excel('Q1Sales.xlsx')"
   ]
  },
  {
   "cell_type": "markdown",
   "id": "dated-christopher",
   "metadata": {},
   "source": [
    "## Selecting columns"
   ]
  },
  {
   "cell_type": "code",
   "execution_count": null,
   "id": "capable-allen",
   "metadata": {
    "tags": []
   },
   "outputs": [],
   "source": [
    "ledger_df['Product Name']"
   ]
  },
  {
   "cell_type": "code",
   "execution_count": null,
   "id": "activated-trance",
   "metadata": {
    "tags": []
   },
   "outputs": [],
   "source": [
    "ledger_df['Unit Price']"
   ]
  },
  {
   "cell_type": "code",
   "execution_count": null,
   "id": "precise-contribution",
   "metadata": {
    "tags": []
   },
   "outputs": [],
   "source": [
    "ledger_df['Unit Price'].median()"
   ]
  },
  {
   "cell_type": "code",
   "execution_count": null,
   "id": "soviet-current",
   "metadata": {
    "tags": [
     "allowerror"
    ]
   },
   "outputs": [],
   "source": [
    "ledger_df['Unit Price ']"
   ]
  },
  {
   "cell_type": "code",
   "execution_count": null,
   "id": "mature-matthew",
   "metadata": {
    "tags": []
   },
   "outputs": [],
   "source": [
    "ledger_df[['ProductID', 'Product Name', 'Unit Price', 'Total']]"
   ]
  },
  {
   "cell_type": "code",
   "execution_count": null,
   "id": "large-enemy",
   "metadata": {
    "tags": []
   },
   "outputs": [],
   "source": [
    "column_names = ['ProductID', 'Product Name', 'Unit Price', 'Total']\n",
    "\n",
    "ledger_df[column_names]"
   ]
  },
  {
   "cell_type": "code",
   "execution_count": null,
   "id": "accessible-stake",
   "metadata": {
    "tags": []
   },
   "outputs": [],
   "source": [
    "products_df = ledger_df[['ProductID', 'Product Name', 'Unit Price', 'Total']]\n",
    "\n",
    "products_df"
   ]
  },
  {
   "cell_type": "code",
   "execution_count": null,
   "id": "twelve-louisiana",
   "metadata": {
    "tags": []
   },
   "outputs": [],
   "source": [
    "ledger_df.columns"
   ]
  },
  {
   "cell_type": "code",
   "execution_count": null,
   "id": "planned-present",
   "metadata": {
    "tags": []
   },
   "outputs": [],
   "source": [
    "ledger_df.columns[:3]"
   ]
  },
  {
   "cell_type": "code",
   "execution_count": null,
   "id": "adverse-torture",
   "metadata": {
    "tags": []
   },
   "outputs": [],
   "source": [
    "ledger_df[ledger_df.columns[:3]]"
   ]
  },
  {
   "cell_type": "code",
   "execution_count": null,
   "id": "exclusive-testament",
   "metadata": {
    "tags": []
   },
   "outputs": [],
   "source": []
  },
  {
   "cell_type": "code",
   "execution_count": null,
   "id": "ambient-swimming",
   "metadata": {
    "tags": []
   },
   "outputs": [],
   "source": [
    "ledger_df[[name for name in ledger_df.columns if 'Product' in name]]"
   ]
  },
  {
   "cell_type": "markdown",
   "id": "divided-turning",
   "metadata": {},
   "source": [
    "## Removing columns"
   ]
  },
  {
   "cell_type": "code",
   "execution_count": null,
   "id": "celtic-morris",
   "metadata": {
    "tags": []
   },
   "outputs": [],
   "source": [
    "products_df = ledger_df[['ProductID', 'Product Name', 'Unit Price', 'Total']]"
   ]
  },
  {
   "cell_type": "code",
   "execution_count": null,
   "id": "later-tiffany",
   "metadata": {
    "tags": []
   },
   "outputs": [],
   "source": [
    "columns_to_remove = ['InvoiceNo', 'Account', 'AccountNo', 'Currency']\n",
    "\n",
    "ledger_df.drop(columns_to_remove, axis='columns')"
   ]
  },
  {
   "cell_type": "markdown",
   "id": "national-cartridge",
   "metadata": {},
   "source": [
    "## Selecting rows and columns\n",
    "\n",
    "### loc"
   ]
  },
  {
   "cell_type": "code",
   "execution_count": null,
   "id": "alone-machine",
   "metadata": {
    "tags": []
   },
   "outputs": [],
   "source": [
    "ledger_df.loc[0:9, 'InvoiceNo':'ProductID']"
   ]
  },
  {
   "cell_type": "code",
   "execution_count": null,
   "id": "governmental-platinum",
   "metadata": {
    "tags": []
   },
   "outputs": [],
   "source": [
    "ledger_df.loc[[0, 1, 2, 3, 4], ['InvoiceNo', 'Channel', 'Unit Price', 'Total']]"
   ]
  },
  {
   "cell_type": "code",
   "execution_count": null,
   "id": "important-heather",
   "metadata": {
    "tags": []
   },
   "outputs": [],
   "source": [
    "ledger_df.loc[:, 'Channel':'Date']"
   ]
  },
  {
   "cell_type": "code",
   "execution_count": null,
   "id": "express-plasma",
   "metadata": {
    "tags": []
   },
   "outputs": [],
   "source": [
    "ledger_df.loc[0:4, :]"
   ]
  },
  {
   "cell_type": "code",
   "execution_count": null,
   "id": "focal-million",
   "metadata": {
    "tags": []
   },
   "outputs": [],
   "source": [
    "ledger_df.loc[0, 'Channel']"
   ]
  },
  {
   "cell_type": "markdown",
   "id": "vanilla-separation",
   "metadata": {},
   "source": [
    "### iloc"
   ]
  },
  {
   "cell_type": "code",
   "execution_count": null,
   "id": "restricted-question",
   "metadata": {
    "tags": []
   },
   "outputs": [],
   "source": [
    "ledger_df.iloc[0:10, 0:4]"
   ]
  },
  {
   "cell_type": "code",
   "execution_count": null,
   "id": "changing-explorer",
   "metadata": {
    "tags": []
   },
   "outputs": [],
   "source": [
    "ledger_df.iloc[[0, 1, 2, 3, 4], [1, 2, 9, 11]]"
   ]
  },
  {
   "cell_type": "code",
   "execution_count": null,
   "id": "sustainable-application",
   "metadata": {
    "tags": []
   },
   "outputs": [],
   "source": [
    "ledger_df.iloc[:, :3]"
   ]
  },
  {
   "cell_type": "code",
   "execution_count": null,
   "id": "enabling-victorian",
   "metadata": {
    "tags": []
   },
   "outputs": [],
   "source": [
    "ledger_df.iloc[-4:, -4:]"
   ]
  },
  {
   "cell_type": "markdown",
   "id": "dental-square",
   "metadata": {},
   "source": [
    "###  trap"
   ]
  },
  {
   "cell_type": "code",
   "execution_count": null,
   "id": "hybrid-collection",
   "metadata": {
    "tags": []
   },
   "outputs": [],
   "source": [
    "ledger_df.loc[0:4, 'Channel']"
   ]
  },
  {
   "cell_type": "code",
   "execution_count": null,
   "id": "arbitrary-surveillance",
   "metadata": {
    "tags": []
   },
   "outputs": [],
   "source": [
    "ledger_df.iloc[0:4, 1]"
   ]
  },
  {
   "cell_type": "markdown",
   "id": "bright-oracle",
   "metadata": {},
   "source": [
    "## Filtering data"
   ]
  },
  {
   "cell_type": "code",
   "execution_count": null,
   "id": "oriental-divide",
   "metadata": {
    "tags": []
   },
   "outputs": [],
   "source": [
    "ledger_df[ledger_df['Channel'] == 'Walcart']"
   ]
  },
  {
   "cell_type": "code",
   "execution_count": null,
   "id": "taken-seller",
   "metadata": {
    "tags": []
   },
   "outputs": [],
   "source": [
    "ledger_df['Channel'] == 'Walcart'"
   ]
  },
  {
   "cell_type": "code",
   "execution_count": null,
   "id": "constitutional-bleeding",
   "metadata": {
    "tags": []
   },
   "outputs": [],
   "source": [
    "rows_to_keep = ledger_df['Channel'] == 'Walcart'\n",
    "\n",
    "rows_to_keep.sum()"
   ]
  },
  {
   "cell_type": "code",
   "execution_count": null,
   "id": "literary-attendance",
   "metadata": {
    "tags": []
   },
   "outputs": [],
   "source": [
    "ledger_df[rows_to_keep]"
   ]
  },
  {
   "cell_type": "code",
   "execution_count": null,
   "id": "finished-chick",
   "metadata": {
    "tags": []
   },
   "outputs": [],
   "source": [
    "ledger_df[\n",
    "    (ledger_df['Channel'] == 'Walcart') &\n",
    "    (ledger_df['Quantity'] > 25)\n",
    "]"
   ]
  },
  {
   "cell_type": "code",
   "execution_count": null,
   "id": "laughing-vintage",
   "metadata": {
    "tags": []
   },
   "outputs": [],
   "source": [
    "(ledger_df['Channel'] == 'Walcart') & (ledger_df['Quantity'] > 25)"
   ]
  },
  {
   "cell_type": "code",
   "execution_count": null,
   "id": "extra-spank",
   "metadata": {
    "tags": []
   },
   "outputs": [],
   "source": [
    "~(ledger_df['Channel'] == 'Walcart')"
   ]
  },
  {
   "cell_type": "code",
   "execution_count": null,
   "id": "blocked-flesh",
   "metadata": {
    "tags": []
   },
   "outputs": [],
   "source": [
    "# Instead of:\n",
    "(\n",
    "  (ledger_df['Channel'] == 'Understock.com') | \n",
    "  (ledger_df['Channel'] == 'iBay.com') |\n",
    "  (ledger_df['Channel'] == 'Shoppe.com')\n",
    ")\n",
    "\n",
    "# You can use:\n",
    "ledger_df['Channel'].isin(['Understock.com', 'iBay.com', 'Shoppe.com'])"
   ]
  },
  {
   "cell_type": "code",
   "execution_count": null,
   "id": "spanish-asian",
   "metadata": {
    "tags": []
   },
   "outputs": [],
   "source": [
    "# Instead of:\n",
    "(ledger_df['Quantity'] >= 10) & (ledger_df['Quantity'] <= 100)\n",
    "\n",
    "# You can use:\n",
    "ledger_df['Quantity'].between(10, 100)"
   ]
  },
  {
   "cell_type": "markdown",
   "id": "blank-guest",
   "metadata": {},
   "source": [
    "###  for filtering"
   ]
  },
  {
   "cell_type": "code",
   "execution_count": null,
   "id": "express-leonard",
   "metadata": {
    "tags": []
   },
   "outputs": [],
   "source": [
    "ledger_df[ledger_df['Channel'] == 'Walcart'][['Channel', 'Quantity', 'Total']]"
   ]
  },
  {
   "cell_type": "code",
   "execution_count": null,
   "id": "typical-destiny",
   "metadata": {
    "tags": []
   },
   "outputs": [],
   "source": [
    "ledger_df.loc[\n",
    "  ledger_df['Channel'] == 'Walcart', \n",
    "  ['Channel', 'Quantity', 'Total']\n",
    "]"
   ]
  },
  {
   "cell_type": "markdown",
   "id": "integral-coast",
   "metadata": {},
   "source": [
    "## Sorting data"
   ]
  },
  {
   "cell_type": "code",
   "execution_count": null,
   "id": "upset-farming",
   "metadata": {
    "tags": []
   },
   "outputs": [],
   "source": [
    "ledger_df.sort_values(by='Total')"
   ]
  },
  {
   "cell_type": "code",
   "execution_count": null,
   "id": "bulgarian-kidney",
   "metadata": {
    "tags": []
   },
   "outputs": [],
   "source": [
    "ledger_df.sort_values(by='Total', ascending=False)"
   ]
  },
  {
   "cell_type": "code",
   "execution_count": null,
   "id": "authentic-gates",
   "metadata": {
    "tags": []
   },
   "outputs": [],
   "source": [
    "ledger_df.sort_values(by=['Quantity', 'Total'], ascending=[False, True])"
   ]
  }
 ],
 "metadata": {
  "jupytext": {
   "formats": "ipynb"
  },
  "kernelspec": {
   "display_name": "Python 3",
   "language": "python",
   "name": "python3"
  }
 },
 "nbformat": 4,
 "nbformat_minor": 5
}

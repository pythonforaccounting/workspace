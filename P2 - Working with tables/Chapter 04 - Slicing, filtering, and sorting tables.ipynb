{
 "cells": [
  {
   "cell_type": "markdown",
   "id": "remarkable-photography",
   "metadata": {},
   "source": [
    "\n",
    "#  tables"
   ]
  },
  {
   "cell_type": "code",
   "execution_count": null,
   "id": "transparent-table",
   "metadata": {
    "tags": []
   },
   "outputs": [],
   "source": [
    "import pandas as pd\n",
    "\n",
    "ledger_df = pd.read_excel('Q1Sales.xlsx')"
   ]
  },
  {
   "cell_type": "markdown",
   "id": "alert-science",
   "metadata": {},
   "source": [
    "## Selecting columns"
   ]
  },
  {
   "cell_type": "code",
   "execution_count": null,
   "id": "major-technology",
   "metadata": {
    "tags": []
   },
   "outputs": [],
   "source": [
    "ledger_df['Product Name']"
   ]
  },
  {
   "cell_type": "code",
   "execution_count": null,
   "id": "pointed-client",
   "metadata": {
    "tags": []
   },
   "outputs": [],
   "source": [
    "ledger_df['Unit Price']"
   ]
  },
  {
   "cell_type": "code",
   "execution_count": null,
   "id": "iraqi-nursery",
   "metadata": {
    "tags": []
   },
   "outputs": [],
   "source": [
    "ledger_df['Unit Price'].median()"
   ]
  },
  {
   "cell_type": "code",
   "execution_count": null,
   "id": "yellow-routine",
   "metadata": {
    "tags": [
     "allowerror"
    ]
   },
   "outputs": [],
   "source": [
    "ledger_df['Unit Price ']"
   ]
  },
  {
   "cell_type": "code",
   "execution_count": null,
   "id": "caroline-momentum",
   "metadata": {
    "tags": []
   },
   "outputs": [],
   "source": [
    "ledger_df[['ProductID', 'Product Name', 'Unit Price', 'Total']]"
   ]
  },
  {
   "cell_type": "code",
   "execution_count": null,
   "id": "rural-straight",
   "metadata": {
    "tags": []
   },
   "outputs": [],
   "source": [
    "column_names = ['ProductID', 'Product Name', 'Unit Price', 'Total']\n",
    "\n",
    "ledger_df[column_names]"
   ]
  },
  {
   "cell_type": "code",
   "execution_count": null,
   "id": "enclosed-enhancement",
   "metadata": {
    "tags": []
   },
   "outputs": [],
   "source": [
    "products_df = ledger_df[['ProductID', 'Product Name', 'Unit Price', 'Total']]\n",
    "\n",
    "products_df"
   ]
  },
  {
   "cell_type": "code",
   "execution_count": null,
   "id": "experimental-letters",
   "metadata": {
    "tags": []
   },
   "outputs": [],
   "source": [
    "ledger_df.columns"
   ]
  },
  {
   "cell_type": "code",
   "execution_count": null,
   "id": "incorporated-access",
   "metadata": {
    "tags": []
   },
   "outputs": [],
   "source": [
    "ledger_df.columns[:3]"
   ]
  },
  {
   "cell_type": "code",
   "execution_count": null,
   "id": "fundamental-academy",
   "metadata": {
    "tags": []
   },
   "outputs": [],
   "source": [
    "ledger_df[ledger_df.columns[:3]]"
   ]
  },
  {
   "cell_type": "code",
   "execution_count": null,
   "id": "happy-transportation",
   "metadata": {
    "tags": []
   },
   "outputs": [],
   "source": []
  },
  {
   "cell_type": "code",
   "execution_count": null,
   "id": "accessory-camping",
   "metadata": {
    "tags": []
   },
   "outputs": [],
   "source": [
    "ledger_df[[name for name in ledger_df.columns if 'Product' in name]]"
   ]
  },
  {
   "cell_type": "markdown",
   "id": "careful-waste",
   "metadata": {},
   "source": [
    "## Removing columns"
   ]
  },
  {
   "cell_type": "code",
   "execution_count": null,
   "id": "removable-stick",
   "metadata": {
    "tags": []
   },
   "outputs": [],
   "source": [
    "products_df = ledger_df[['ProductID', 'Product Name', 'Unit Price', 'Total']]"
   ]
  },
  {
   "cell_type": "code",
   "execution_count": null,
   "id": "educational-camel",
   "metadata": {
    "tags": []
   },
   "outputs": [],
   "source": [
    "columns_to_remove = ['InvoiceNo', 'Account', 'AccountNo', 'Currency']\n",
    "\n",
    "ledger_df.drop(columns_to_remove, axis='columns')"
   ]
  },
  {
   "cell_type": "markdown",
   "id": "aggregate-onion",
   "metadata": {},
   "source": [
    "## Selecting rows and columns\n",
    "\n",
    "### loc"
   ]
  },
  {
   "cell_type": "code",
   "execution_count": null,
   "id": "diagnostic-round",
   "metadata": {
    "tags": []
   },
   "outputs": [],
   "source": [
    "ledger_df.loc[0:9, 'InvoiceNo':'ProductID']"
   ]
  },
  {
   "cell_type": "code",
   "execution_count": null,
   "id": "gentle-mambo",
   "metadata": {
    "tags": []
   },
   "outputs": [],
   "source": [
    "ledger_df.loc[[0, 1, 2, 3, 4], ['InvoiceNo', 'Channel', 'Unit Price', 'Total']]"
   ]
  },
  {
   "cell_type": "code",
   "execution_count": null,
   "id": "special-satisfaction",
   "metadata": {
    "tags": []
   },
   "outputs": [],
   "source": [
    "ledger_df.loc[:, 'Channel':'Date']"
   ]
  },
  {
   "cell_type": "code",
   "execution_count": null,
   "id": "advised-walnut",
   "metadata": {
    "tags": []
   },
   "outputs": [],
   "source": [
    "ledger_df.loc[0:4, :]"
   ]
  },
  {
   "cell_type": "code",
   "execution_count": null,
   "id": "capital-taxation",
   "metadata": {
    "tags": []
   },
   "outputs": [],
   "source": [
    "ledger_df.loc[0, 'Channel']"
   ]
  },
  {
   "cell_type": "markdown",
   "id": "beginning-average",
   "metadata": {},
   "source": [
    "### iloc"
   ]
  },
  {
   "cell_type": "code",
   "execution_count": null,
   "id": "timely-object",
   "metadata": {
    "tags": []
   },
   "outputs": [],
   "source": [
    "ledger_df.iloc[0:10, 0:4]"
   ]
  },
  {
   "cell_type": "code",
   "execution_count": null,
   "id": "naked-asian",
   "metadata": {
    "tags": []
   },
   "outputs": [],
   "source": [
    "ledger_df.iloc[[0, 1, 2, 3, 4], [1, 2, 9, 11]]"
   ]
  },
  {
   "cell_type": "code",
   "execution_count": null,
   "id": "printable-rolling",
   "metadata": {
    "tags": []
   },
   "outputs": [],
   "source": [
    "ledger_df.iloc[:, :3]"
   ]
  },
  {
   "cell_type": "code",
   "execution_count": null,
   "id": "designing-cradle",
   "metadata": {
    "tags": []
   },
   "outputs": [],
   "source": [
    "ledger_df.iloc[-4:, -4:]"
   ]
  },
  {
   "cell_type": "markdown",
   "id": "respiratory-national",
   "metadata": {},
   "source": [
    "###  trap"
   ]
  },
  {
   "cell_type": "code",
   "execution_count": null,
   "id": "vertical-replacement",
   "metadata": {
    "tags": []
   },
   "outputs": [],
   "source": [
    "ledger_df.loc[0:4, 'Channel']"
   ]
  },
  {
   "cell_type": "code",
   "execution_count": null,
   "id": "virgin-myanmar",
   "metadata": {
    "tags": []
   },
   "outputs": [],
   "source": [
    "ledger_df.iloc[0:4, 1]"
   ]
  },
  {
   "cell_type": "markdown",
   "id": "fatty-header",
   "metadata": {},
   "source": [
    "## Filtering data"
   ]
  },
  {
   "cell_type": "code",
   "execution_count": null,
   "id": "eastern-inspiration",
   "metadata": {
    "tags": []
   },
   "outputs": [],
   "source": [
    "ledger_df[ledger_df['Channel'] == 'Walcart']"
   ]
  },
  {
   "cell_type": "code",
   "execution_count": null,
   "id": "intelligent-enlargement",
   "metadata": {
    "tags": []
   },
   "outputs": [],
   "source": [
    "ledger_df['Channel'] == 'Walcart'"
   ]
  },
  {
   "cell_type": "code",
   "execution_count": null,
   "id": "first-victory",
   "metadata": {
    "tags": []
   },
   "outputs": [],
   "source": [
    "rows_to_keep = ledger_df['Channel'] == 'Walcart'\n",
    "\n",
    "rows_to_keep.sum()"
   ]
  },
  {
   "cell_type": "code",
   "execution_count": null,
   "id": "several-veteran",
   "metadata": {
    "tags": []
   },
   "outputs": [],
   "source": [
    "ledger_df[rows_to_keep]"
   ]
  },
  {
   "cell_type": "code",
   "execution_count": null,
   "id": "driven-machinery",
   "metadata": {
    "tags": []
   },
   "outputs": [],
   "source": [
    "ledger_df[\n",
    "    (ledger_df['Channel'] == 'Walcart') &\n",
    "    (ledger_df['Quantity'] > 25)\n",
    "]"
   ]
  },
  {
   "cell_type": "code",
   "execution_count": null,
   "id": "filled-entity",
   "metadata": {
    "tags": []
   },
   "outputs": [],
   "source": [
    "(ledger_df['Channel'] == 'Walcart') & (ledger_df['Quantity'] > 25)"
   ]
  },
  {
   "cell_type": "code",
   "execution_count": null,
   "id": "prostate-istanbul",
   "metadata": {
    "tags": []
   },
   "outputs": [],
   "source": [
    "~(ledger_df['Channel'] == 'Walcart')"
   ]
  },
  {
   "cell_type": "code",
   "execution_count": null,
   "id": "located-situation",
   "metadata": {
    "tags": []
   },
   "outputs": [],
   "source": [
    "# Instead of:\n",
    "(\n",
    "  (ledger_df['Channel'] == 'Understock.com') | \n",
    "  (ledger_df['Channel'] == 'iBay.com') |\n",
    "  (ledger_df['Channel'] == 'Shoppe.com')\n",
    ")\n",
    "\n",
    "# You can use:\n",
    "ledger_df['Channel'].isin(['Understock.com', 'iBay.com', 'Shoppe.com'])"
   ]
  },
  {
   "cell_type": "code",
   "execution_count": null,
   "id": "gross-aspect",
   "metadata": {
    "tags": []
   },
   "outputs": [],
   "source": [
    "# Instead of:\n",
    "(ledger_df['Quantity'] >= 10) & (ledger_df['Quantity'] <= 100)\n",
    "\n",
    "# You can use:\n",
    "ledger_df['Quantity'].between(10, 100)"
   ]
  },
  {
   "cell_type": "markdown",
   "id": "floppy-armstrong",
   "metadata": {},
   "source": [
    "###  for filtering"
   ]
  },
  {
   "cell_type": "code",
   "execution_count": null,
   "id": "printable-daniel",
   "metadata": {
    "tags": []
   },
   "outputs": [],
   "source": [
    "ledger_df[ledger_df['Channel'] == 'Walcart'][['Channel', 'Quantity', 'Total']]"
   ]
  },
  {
   "cell_type": "code",
   "execution_count": null,
   "id": "divided-relation",
   "metadata": {
    "tags": []
   },
   "outputs": [],
   "source": [
    "ledger_df.loc[\n",
    "  ledger_df['Channel'] == 'Walcart', \n",
    "  ['Channel', 'Quantity', 'Total']\n",
    "]"
   ]
  },
  {
   "cell_type": "markdown",
   "id": "included-writer",
   "metadata": {},
   "source": [
    "## Sorting data"
   ]
  },
  {
   "cell_type": "code",
   "execution_count": null,
   "id": "clinical-adventure",
   "metadata": {
    "tags": []
   },
   "outputs": [],
   "source": [
    "ledger_df.sort_values(by='Total')"
   ]
  },
  {
   "cell_type": "code",
   "execution_count": null,
   "id": "specialized-fabric",
   "metadata": {
    "tags": []
   },
   "outputs": [],
   "source": [
    "ledger_df.sort_values(by='Total', ascending=False)"
   ]
  },
  {
   "cell_type": "code",
   "execution_count": null,
   "id": "simplified-circumstances",
   "metadata": {
    "tags": []
   },
   "outputs": [],
   "source": [
    "ledger_df.sort_values(by=['Quantity', 'Total'], ascending=[False, True])"
   ]
  }
 ],
 "metadata": {
  "jupytext": {
   "formats": "ipynb"
  },
  "kernelspec": {
   "display_name": "Python 3",
   "language": "python",
   "name": "python3"
  }
 },
 "nbformat": 4,
 "nbformat_minor": 5
}

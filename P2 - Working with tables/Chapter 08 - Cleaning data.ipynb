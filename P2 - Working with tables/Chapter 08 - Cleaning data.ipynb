{
 "cells": [
  {
   "cell_type": "markdown",
   "id": "equal-wales",
   "metadata": {},
   "source": [
    "\n",
    "# Cleaning data\n",
    "\n",
    "## Dealing with missing values"
   ]
  },
  {
   "cell_type": "code",
   "execution_count": null,
   "id": "outstanding-invitation",
   "metadata": {
    "tags": []
   },
   "outputs": [],
   "source": [
    "ledger_df.head()"
   ]
  },
  {
   "cell_type": "code",
   "execution_count": null,
   "id": "patent-denver",
   "metadata": {
    "tags": []
   },
   "outputs": [],
   "source": [
    "ledger_df.iloc[2, 2]"
   ]
  },
  {
   "cell_type": "markdown",
   "id": "unsigned-surveillance",
   "metadata": {},
   "source": [
    "### Finding missing values"
   ]
  },
  {
   "cell_type": "code",
   "execution_count": null,
   "id": "improving-orchestra",
   "metadata": {
    "tags": []
   },
   "outputs": [],
   "source": [
    "ledger_df['Product Name'].isna()"
   ]
  },
  {
   "cell_type": "code",
   "execution_count": null,
   "id": "retained-secret",
   "metadata": {
    "tags": []
   },
   "outputs": [],
   "source": [
    "ledger_df[ledger_df['Product Name'].isna()]"
   ]
  },
  {
   "cell_type": "code",
   "execution_count": null,
   "id": "generous-command",
   "metadata": {
    "tags": []
   },
   "outputs": [],
   "source": [
    "ledger_df['Product Name'].isna().sum()"
   ]
  },
  {
   "cell_type": "code",
   "execution_count": null,
   "id": "guided-spectrum",
   "metadata": {
    "tags": []
   },
   "outputs": [],
   "source": [
    "ledger_df.isna().sum()"
   ]
  },
  {
   "cell_type": "markdown",
   "id": "agricultural-short",
   "metadata": {},
   "source": [
    "### Discarding missing values"
   ]
  },
  {
   "cell_type": "code",
   "execution_count": null,
   "id": "integrated-seventh",
   "metadata": {
    "tags": []
   },
   "outputs": [],
   "source": [
    "ledger_df[ledger_df['Product Name'].notna()]"
   ]
  },
  {
   "cell_type": "code",
   "execution_count": null,
   "id": "intelligent-dialogue",
   "metadata": {
    "tags": []
   },
   "outputs": [],
   "source": [
    "# these two lines of code \n",
    "# produce the same output\n",
    "\n",
    "~ledger_df['Product Name'].isna()\n",
    "ledger_df['Product Name'].notna()"
   ]
  },
  {
   "cell_type": "code",
   "execution_count": null,
   "id": "illegal-retail",
   "metadata": {
    "tags": []
   },
   "outputs": [],
   "source": [
    "ledger_df.dropna()"
   ]
  },
  {
   "cell_type": "code",
   "execution_count": null,
   "id": "spoken-stamp",
   "metadata": {
    "tags": []
   },
   "outputs": [],
   "source": [
    "ledger_df.dropna(subset=['Product Name', 'ProductID'])"
   ]
  },
  {
   "cell_type": "code",
   "execution_count": null,
   "id": "still-wilson",
   "metadata": {
    "tags": []
   },
   "outputs": [],
   "source": [
    "ledger_df.dropna(how='all')"
   ]
  },
  {
   "cell_type": "code",
   "execution_count": null,
   "id": "dress-scholar",
   "metadata": {
    "tags": []
   },
   "outputs": [],
   "source": [
    "ledger_df.dropna(how='any', axis='columns')"
   ]
  },
  {
   "cell_type": "markdown",
   "id": "ideal-bruce",
   "metadata": {},
   "source": [
    "### Filling missing values"
   ]
  },
  {
   "cell_type": "code",
   "execution_count": null,
   "id": "reliable-cleveland",
   "metadata": {
    "tags": []
   },
   "outputs": [],
   "source": [
    "ledger_df['Product Name'].fillna('MISSING')"
   ]
  },
  {
   "cell_type": "code",
   "execution_count": null,
   "id": "finnish-longer",
   "metadata": {
    "tags": []
   },
   "outputs": [],
   "source": [
    "ledger_df['Product Name'].fillna(method='ffill')"
   ]
  },
  {
   "cell_type": "code",
   "execution_count": null,
   "id": "indonesian-accommodation",
   "metadata": {
    "tags": []
   },
   "outputs": [],
   "source": [
    "ledger_df['Product Name'].fillna(method='bfill')"
   ]
  },
  {
   "cell_type": "markdown",
   "id": "fifteen-dakota",
   "metadata": {},
   "source": [
    "## Dealing with duplicate rows"
   ]
  },
  {
   "cell_type": "code",
   "execution_count": null,
   "id": "continued-relay",
   "metadata": {
    "tags": []
   },
   "outputs": [],
   "source": [
    "ledger_df.duplicated()"
   ]
  },
  {
   "cell_type": "code",
   "execution_count": null,
   "id": "tough-architect",
   "metadata": {
    "tags": []
   },
   "outputs": [],
   "source": [
    "ledger_df.loc[3] == ledger_df.loc[4]"
   ]
  },
  {
   "cell_type": "code",
   "execution_count": null,
   "id": "necessary-length",
   "metadata": {
    "tags": []
   },
   "outputs": [],
   "source": [
    "ledger_df.duplicated(keep=False)"
   ]
  },
  {
   "cell_type": "code",
   "execution_count": null,
   "id": "electronic-musician",
   "metadata": {
    "tags": []
   },
   "outputs": [],
   "source": [
    "ledger_df[~ledger_df.duplicated()] "
   ]
  },
  {
   "cell_type": "code",
   "execution_count": null,
   "id": "generous-pacific",
   "metadata": {
    "tags": []
   },
   "outputs": [],
   "source": [
    "ledger_df.drop_duplicates()"
   ]
  },
  {
   "cell_type": "code",
   "execution_count": null,
   "id": "wrapped-receipt",
   "metadata": {
    "tags": []
   },
   "outputs": [],
   "source": [
    "ledger_df.drop_duplicates(subset=['InvoiceNo', 'ProductID'])"
   ]
  },
  {
   "cell_type": "markdown",
   "id": "selective-phone",
   "metadata": {},
   "source": [
    "## Converting column data types"
   ]
  },
  {
   "cell_type": "code",
   "execution_count": null,
   "id": "delayed-disposal",
   "metadata": {
    "tags": []
   },
   "outputs": [],
   "source": [
    "ledger_df['Quantity'].astype('float')"
   ]
  },
  {
   "cell_type": "code",
   "execution_count": null,
   "id": "wrong-botswana",
   "metadata": {
    "tags": []
   },
   "outputs": [],
   "source": [
    "ledger_df.convert_dtypes().info()"
   ]
  },
  {
   "cell_type": "code",
   "execution_count": null,
   "id": "convertible-physiology",
   "metadata": {
    "tags": []
   },
   "outputs": [],
   "source": [
    "ledger_df.convert_dtypes()"
   ]
  }
 ],
 "metadata": {
  "jupytext": {
   "formats": "ipynb"
  },
  "kernelspec": {
   "display_name": "Python 3",
   "language": "python",
   "name": "python3"
  }
 },
 "nbformat": 4,
 "nbformat_minor": 5
}

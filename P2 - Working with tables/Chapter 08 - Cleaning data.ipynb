{
 "cells": [
  {
   "cell_type": "markdown",
   "id": "endangered-thomson",
   "metadata": {},
   "source": [
    "\n",
    "# Cleaning data\n",
    "\n",
    "## Dealing with missing values"
   ]
  },
  {
   "cell_type": "code",
   "execution_count": null,
   "id": "relative-tourist",
   "metadata": {
    "tags": []
   },
   "outputs": [],
   "source": [
    "ledger_df.head()"
   ]
  },
  {
   "cell_type": "code",
   "execution_count": null,
   "id": "shared-stopping",
   "metadata": {
    "tags": []
   },
   "outputs": [],
   "source": [
    "ledger_df.iloc[2, 2]"
   ]
  },
  {
   "cell_type": "markdown",
   "id": "blank-scratch",
   "metadata": {},
   "source": [
    "### Finding missing values"
   ]
  },
  {
   "cell_type": "code",
   "execution_count": null,
   "id": "impossible-danger",
   "metadata": {
    "tags": []
   },
   "outputs": [],
   "source": [
    "ledger_df['Product Name'].isna()"
   ]
  },
  {
   "cell_type": "code",
   "execution_count": null,
   "id": "strategic-statistics",
   "metadata": {
    "tags": []
   },
   "outputs": [],
   "source": [
    "ledger_df[ledger_df['Product Name'].isna()]"
   ]
  },
  {
   "cell_type": "code",
   "execution_count": null,
   "id": "silent-physiology",
   "metadata": {
    "tags": []
   },
   "outputs": [],
   "source": [
    "ledger_df['Product Name'].isna().sum()"
   ]
  },
  {
   "cell_type": "code",
   "execution_count": null,
   "id": "specific-desperate",
   "metadata": {
    "tags": []
   },
   "outputs": [],
   "source": [
    "ledger_df.isna().sum()"
   ]
  },
  {
   "cell_type": "markdown",
   "id": "naval-composer",
   "metadata": {},
   "source": [
    "### Discarding missing values"
   ]
  },
  {
   "cell_type": "code",
   "execution_count": null,
   "id": "rocky-psychiatry",
   "metadata": {
    "tags": []
   },
   "outputs": [],
   "source": [
    "ledger_df[ledger_df['Product Name'].notna()]"
   ]
  },
  {
   "cell_type": "code",
   "execution_count": null,
   "id": "modern-muslim",
   "metadata": {
    "tags": []
   },
   "outputs": [],
   "source": [
    "# these two lines of code \n",
    "# produce the same output\n",
    "\n",
    "~ledger_df['Product Name'].isna()\n",
    "ledger_df['Product Name'].notna()"
   ]
  },
  {
   "cell_type": "code",
   "execution_count": null,
   "id": "executive-partner",
   "metadata": {
    "tags": []
   },
   "outputs": [],
   "source": [
    "ledger_df.dropna()"
   ]
  },
  {
   "cell_type": "code",
   "execution_count": null,
   "id": "worth-investigator",
   "metadata": {
    "tags": []
   },
   "outputs": [],
   "source": [
    "ledger_df.dropna(subset=['Product Name', 'ProductID'])"
   ]
  },
  {
   "cell_type": "code",
   "execution_count": null,
   "id": "endless-announcement",
   "metadata": {
    "tags": []
   },
   "outputs": [],
   "source": [
    "ledger_df.dropna(how='all')"
   ]
  },
  {
   "cell_type": "code",
   "execution_count": null,
   "id": "military-walnut",
   "metadata": {
    "tags": []
   },
   "outputs": [],
   "source": [
    "ledger_df.dropna(how='any', axis='columns')"
   ]
  },
  {
   "cell_type": "markdown",
   "id": "conventional-rental",
   "metadata": {},
   "source": [
    "### Filling missing values"
   ]
  },
  {
   "cell_type": "code",
   "execution_count": null,
   "id": "boxed-commerce",
   "metadata": {
    "tags": []
   },
   "outputs": [],
   "source": [
    "ledger_df['Product Name'].fillna('MISSING')"
   ]
  },
  {
   "cell_type": "code",
   "execution_count": null,
   "id": "outdoor-arizona",
   "metadata": {
    "tags": []
   },
   "outputs": [],
   "source": [
    "ledger_df['Product Name'].fillna(method='ffill')"
   ]
  },
  {
   "cell_type": "code",
   "execution_count": null,
   "id": "systematic-intensity",
   "metadata": {
    "tags": []
   },
   "outputs": [],
   "source": [
    "ledger_df['Product Name'].fillna(method='bfill')"
   ]
  },
  {
   "cell_type": "markdown",
   "id": "structural-jimmy",
   "metadata": {},
   "source": [
    "## Dealing with duplicate rows"
   ]
  },
  {
   "cell_type": "code",
   "execution_count": null,
   "id": "opponent-robert",
   "metadata": {
    "tags": []
   },
   "outputs": [],
   "source": [
    "ledger_df.duplicated()"
   ]
  },
  {
   "cell_type": "code",
   "execution_count": null,
   "id": "promising-explorer",
   "metadata": {
    "tags": []
   },
   "outputs": [],
   "source": [
    "ledger_df.loc[3] == ledger_df.loc[4]"
   ]
  },
  {
   "cell_type": "code",
   "execution_count": null,
   "id": "constitutional-techno",
   "metadata": {
    "tags": []
   },
   "outputs": [],
   "source": [
    "ledger_df.duplicated(keep=False)"
   ]
  },
  {
   "cell_type": "code",
   "execution_count": null,
   "id": "subtle-greece",
   "metadata": {
    "tags": []
   },
   "outputs": [],
   "source": [
    "ledger_df[~ledger_df.duplicated()] "
   ]
  },
  {
   "cell_type": "code",
   "execution_count": null,
   "id": "bacterial-building",
   "metadata": {
    "tags": []
   },
   "outputs": [],
   "source": [
    "ledger_df.drop_duplicates()"
   ]
  },
  {
   "cell_type": "code",
   "execution_count": null,
   "id": "advised-tobago",
   "metadata": {
    "tags": []
   },
   "outputs": [],
   "source": [
    "ledger_df.drop_duplicates(subset=['InvoiceNo', 'ProductID'])"
   ]
  },
  {
   "cell_type": "markdown",
   "id": "elementary-administrator",
   "metadata": {},
   "source": [
    "## Converting column data types"
   ]
  },
  {
   "cell_type": "code",
   "execution_count": null,
   "id": "adverse-butler",
   "metadata": {
    "tags": []
   },
   "outputs": [],
   "source": [
    "ledger_df['Quantity'].astype('float')"
   ]
  },
  {
   "cell_type": "code",
   "execution_count": null,
   "id": "contemporary-event",
   "metadata": {
    "tags": []
   },
   "outputs": [],
   "source": [
    "ledger_df.convert_dtypes().info()"
   ]
  },
  {
   "cell_type": "code",
   "execution_count": null,
   "id": "touched-adventure",
   "metadata": {
    "tags": []
   },
   "outputs": [],
   "source": [
    "ledger_df.convert_dtypes()"
   ]
  }
 ],
 "metadata": {
  "jupytext": {
   "formats": "ipynb"
  },
  "kernelspec": {
   "display_name": "Python 3",
   "language": "python",
   "name": "python3"
  }
 },
 "nbformat": 4,
 "nbformat_minor": 5
}

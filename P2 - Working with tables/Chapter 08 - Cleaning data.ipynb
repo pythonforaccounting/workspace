{
 "cells": [
  {
   "cell_type": "markdown",
   "id": "distributed-iraqi",
   "metadata": {},
   "source": [
    "\n",
    "# Cleaning data\n",
    "\n",
    "## Dealing with missing values"
   ]
  },
  {
   "cell_type": "code",
   "execution_count": null,
   "id": "electoral-backup",
   "metadata": {
    "tags": []
   },
   "outputs": [],
   "source": [
    "ledger_df.head()"
   ]
  },
  {
   "cell_type": "code",
   "execution_count": null,
   "id": "massive-scout",
   "metadata": {
    "tags": []
   },
   "outputs": [],
   "source": [
    "ledger_df.iloc[2, 2]"
   ]
  },
  {
   "cell_type": "markdown",
   "id": "sufficient-novelty",
   "metadata": {},
   "source": [
    "### Finding missing values"
   ]
  },
  {
   "cell_type": "code",
   "execution_count": null,
   "id": "blind-average",
   "metadata": {
    "tags": []
   },
   "outputs": [],
   "source": [
    "ledger_df['Product Name'].isna()"
   ]
  },
  {
   "cell_type": "code",
   "execution_count": null,
   "id": "polar-state",
   "metadata": {
    "tags": []
   },
   "outputs": [],
   "source": [
    "ledger_df[ledger_df['Product Name'].isna()]"
   ]
  },
  {
   "cell_type": "code",
   "execution_count": null,
   "id": "geological-pioneer",
   "metadata": {
    "tags": []
   },
   "outputs": [],
   "source": [
    "ledger_df['Product Name'].isna().sum()"
   ]
  },
  {
   "cell_type": "code",
   "execution_count": null,
   "id": "egyptian-consensus",
   "metadata": {
    "tags": []
   },
   "outputs": [],
   "source": [
    "ledger_df.isna().sum()"
   ]
  },
  {
   "cell_type": "markdown",
   "id": "mineral-marketplace",
   "metadata": {},
   "source": [
    "### Discarding missing values"
   ]
  },
  {
   "cell_type": "code",
   "execution_count": null,
   "id": "widespread-declaration",
   "metadata": {
    "tags": []
   },
   "outputs": [],
   "source": [
    "ledger_df[ledger_df['Product Name'].notna()]"
   ]
  },
  {
   "cell_type": "code",
   "execution_count": null,
   "id": "authentic-nevada",
   "metadata": {
    "tags": []
   },
   "outputs": [],
   "source": [
    "# these two lines of code \n",
    "# produce the same output\n",
    "\n",
    "~ledger_df['Product Name'].isna()\n",
    "ledger_df['Product Name'].notna()"
   ]
  },
  {
   "cell_type": "code",
   "execution_count": null,
   "id": "blind-powder",
   "metadata": {
    "tags": []
   },
   "outputs": [],
   "source": [
    "ledger_df.dropna()"
   ]
  },
  {
   "cell_type": "code",
   "execution_count": null,
   "id": "induced-carpet",
   "metadata": {
    "tags": []
   },
   "outputs": [],
   "source": [
    "ledger_df.dropna(subset=['Product Name', 'ProductID'])"
   ]
  },
  {
   "cell_type": "code",
   "execution_count": null,
   "id": "superior-sitting",
   "metadata": {
    "tags": []
   },
   "outputs": [],
   "source": [
    "ledger_df.dropna(how='all')"
   ]
  },
  {
   "cell_type": "code",
   "execution_count": null,
   "id": "respiratory-nepal",
   "metadata": {
    "tags": []
   },
   "outputs": [],
   "source": [
    "ledger_df.dropna(how='any', axis='columns')"
   ]
  },
  {
   "cell_type": "markdown",
   "id": "macro-heater",
   "metadata": {},
   "source": [
    "### Filling missing values"
   ]
  },
  {
   "cell_type": "code",
   "execution_count": null,
   "id": "linear-convention",
   "metadata": {
    "tags": []
   },
   "outputs": [],
   "source": [
    "ledger_df['Product Name'].fillna('MISSING')"
   ]
  },
  {
   "cell_type": "code",
   "execution_count": null,
   "id": "younger-chapter",
   "metadata": {
    "tags": []
   },
   "outputs": [],
   "source": [
    "ledger_df['Product Name'].fillna(method='ffill')"
   ]
  },
  {
   "cell_type": "code",
   "execution_count": null,
   "id": "funded-toddler",
   "metadata": {
    "tags": []
   },
   "outputs": [],
   "source": [
    "ledger_df['Product Name'].fillna(method='bfill')"
   ]
  },
  {
   "cell_type": "markdown",
   "id": "ongoing-adapter",
   "metadata": {},
   "source": [
    "## Dealing with duplicate rows"
   ]
  },
  {
   "cell_type": "code",
   "execution_count": null,
   "id": "opened-christopher",
   "metadata": {
    "tags": []
   },
   "outputs": [],
   "source": [
    "ledger_df.duplicated()"
   ]
  },
  {
   "cell_type": "code",
   "execution_count": null,
   "id": "seasonal-denial",
   "metadata": {
    "tags": []
   },
   "outputs": [],
   "source": [
    "ledger_df.loc[3] == ledger_df.loc[4]"
   ]
  },
  {
   "cell_type": "code",
   "execution_count": null,
   "id": "mounted-illinois",
   "metadata": {
    "tags": []
   },
   "outputs": [],
   "source": [
    "ledger_df.duplicated(keep=False)"
   ]
  },
  {
   "cell_type": "code",
   "execution_count": null,
   "id": "conceptual-being",
   "metadata": {
    "tags": []
   },
   "outputs": [],
   "source": [
    "ledger_df[~ledger_df.duplicated()] "
   ]
  },
  {
   "cell_type": "code",
   "execution_count": null,
   "id": "attached-playing",
   "metadata": {
    "tags": []
   },
   "outputs": [],
   "source": [
    "ledger_df.drop_duplicates()"
   ]
  },
  {
   "cell_type": "code",
   "execution_count": null,
   "id": "south-minimum",
   "metadata": {
    "tags": []
   },
   "outputs": [],
   "source": [
    "ledger_df.drop_duplicates(subset=['InvoiceNo', 'ProductID'])"
   ]
  },
  {
   "cell_type": "markdown",
   "id": "integrated-raleigh",
   "metadata": {},
   "source": [
    "## Converting column data types"
   ]
  },
  {
   "cell_type": "code",
   "execution_count": null,
   "id": "hollywood-claim",
   "metadata": {
    "tags": []
   },
   "outputs": [],
   "source": [
    "ledger_df['Quantity'].astype('float')"
   ]
  },
  {
   "cell_type": "code",
   "execution_count": null,
   "id": "resident-closing",
   "metadata": {
    "tags": []
   },
   "outputs": [],
   "source": [
    "ledger_df.convert_dtypes().info()"
   ]
  },
  {
   "cell_type": "code",
   "execution_count": null,
   "id": "animal-incident",
   "metadata": {
    "tags": []
   },
   "outputs": [],
   "source": [
    "ledger_df.convert_dtypes()"
   ]
  }
 ],
 "metadata": {
  "jupytext": {
   "formats": "ipynb"
  },
  "kernelspec": {
   "display_name": "Python 3",
   "language": "python",
   "name": "python3"
  }
 },
 "nbformat": 4,
 "nbformat_minor": 5
}

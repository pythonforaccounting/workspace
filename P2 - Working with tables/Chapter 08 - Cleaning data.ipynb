{
 "cells": [
  {
   "cell_type": "markdown",
   "id": "buried-purse",
   "metadata": {},
   "source": [
    "\n",
    "# Cleaning data\n",
    "\n",
    "## Dealing with missing values"
   ]
  },
  {
   "cell_type": "code",
   "execution_count": null,
   "id": "wireless-packing",
   "metadata": {
    "tags": []
   },
   "outputs": [],
   "source": [
    "ledger_df.head()"
   ]
  },
  {
   "cell_type": "code",
   "execution_count": null,
   "id": "raised-heart",
   "metadata": {
    "tags": []
   },
   "outputs": [],
   "source": [
    "ledger_df.iloc[2, 2]"
   ]
  },
  {
   "cell_type": "markdown",
   "id": "cognitive-memorabilia",
   "metadata": {},
   "source": [
    "### Finding missing values"
   ]
  },
  {
   "cell_type": "code",
   "execution_count": null,
   "id": "viral-wayne",
   "metadata": {
    "tags": []
   },
   "outputs": [],
   "source": [
    "ledger_df['Product Name'].isna()"
   ]
  },
  {
   "cell_type": "code",
   "execution_count": null,
   "id": "willing-intent",
   "metadata": {
    "tags": []
   },
   "outputs": [],
   "source": [
    "ledger_df[ledger_df['Product Name'].isna()]"
   ]
  },
  {
   "cell_type": "code",
   "execution_count": null,
   "id": "psychological-library",
   "metadata": {
    "tags": []
   },
   "outputs": [],
   "source": [
    "ledger_df['Product Name'].isna().sum()"
   ]
  },
  {
   "cell_type": "code",
   "execution_count": null,
   "id": "rising-length",
   "metadata": {
    "tags": []
   },
   "outputs": [],
   "source": [
    "ledger_df.isna().sum()"
   ]
  },
  {
   "cell_type": "markdown",
   "id": "impaired-renewal",
   "metadata": {},
   "source": [
    "### Discarding missing values"
   ]
  },
  {
   "cell_type": "code",
   "execution_count": null,
   "id": "southwest-latest",
   "metadata": {
    "tags": []
   },
   "outputs": [],
   "source": [
    "ledger_df[ledger_df['Product Name'].notna()]"
   ]
  },
  {
   "cell_type": "code",
   "execution_count": null,
   "id": "departmental-purchase",
   "metadata": {
    "tags": []
   },
   "outputs": [],
   "source": [
    "# these two lines of code \n",
    "# produce the same output\n",
    "\n",
    "~ledger_df['Product Name'].isna()\n",
    "ledger_df['Product Name'].notna()"
   ]
  },
  {
   "cell_type": "code",
   "execution_count": null,
   "id": "dramatic-consequence",
   "metadata": {
    "tags": []
   },
   "outputs": [],
   "source": [
    "ledger_df.dropna()"
   ]
  },
  {
   "cell_type": "code",
   "execution_count": null,
   "id": "italic-archive",
   "metadata": {
    "tags": []
   },
   "outputs": [],
   "source": [
    "ledger_df.dropna(subset=['Product Name', 'ProductID'])"
   ]
  },
  {
   "cell_type": "code",
   "execution_count": null,
   "id": "improved-decade",
   "metadata": {
    "tags": []
   },
   "outputs": [],
   "source": [
    "ledger_df.dropna(how='all')"
   ]
  },
  {
   "cell_type": "code",
   "execution_count": null,
   "id": "animated-penny",
   "metadata": {
    "tags": []
   },
   "outputs": [],
   "source": [
    "ledger_df.dropna(how='any', axis='columns')"
   ]
  },
  {
   "cell_type": "markdown",
   "id": "revolutionary-night",
   "metadata": {},
   "source": [
    "### Filling missing values"
   ]
  },
  {
   "cell_type": "code",
   "execution_count": null,
   "id": "first-genesis",
   "metadata": {
    "tags": []
   },
   "outputs": [],
   "source": [
    "ledger_df['Product Name'].fillna('MISSING')"
   ]
  },
  {
   "cell_type": "code",
   "execution_count": null,
   "id": "continent-birth",
   "metadata": {
    "tags": []
   },
   "outputs": [],
   "source": [
    "ledger_df['Product Name'].fillna(method='ffill')"
   ]
  },
  {
   "cell_type": "code",
   "execution_count": null,
   "id": "lonely-swedish",
   "metadata": {
    "tags": []
   },
   "outputs": [],
   "source": [
    "ledger_df['Product Name'].fillna(method='bfill')"
   ]
  },
  {
   "cell_type": "markdown",
   "id": "significant-exercise",
   "metadata": {},
   "source": [
    "## Dealing with duplicate rows"
   ]
  },
  {
   "cell_type": "code",
   "execution_count": null,
   "id": "optimum-ownership",
   "metadata": {
    "tags": []
   },
   "outputs": [],
   "source": [
    "ledger_df.duplicated()"
   ]
  },
  {
   "cell_type": "code",
   "execution_count": null,
   "id": "charged-toolbox",
   "metadata": {
    "tags": []
   },
   "outputs": [],
   "source": [
    "ledger_df.loc[3] == ledger_df.loc[4]"
   ]
  },
  {
   "cell_type": "code",
   "execution_count": null,
   "id": "geological-martin",
   "metadata": {
    "tags": []
   },
   "outputs": [],
   "source": [
    "ledger_df.duplicated(keep=False)"
   ]
  },
  {
   "cell_type": "code",
   "execution_count": null,
   "id": "lesser-purchase",
   "metadata": {
    "tags": []
   },
   "outputs": [],
   "source": [
    "ledger_df[~ledger_df.duplicated()] "
   ]
  },
  {
   "cell_type": "code",
   "execution_count": null,
   "id": "roman-childhood",
   "metadata": {
    "tags": []
   },
   "outputs": [],
   "source": [
    "ledger_df.drop_duplicates()"
   ]
  },
  {
   "cell_type": "code",
   "execution_count": null,
   "id": "following-deployment",
   "metadata": {
    "tags": []
   },
   "outputs": [],
   "source": [
    "ledger_df.drop_duplicates(subset=['InvoiceNo', 'ProductID'])"
   ]
  },
  {
   "cell_type": "markdown",
   "id": "musical-thumbnail",
   "metadata": {},
   "source": [
    "## Converting column data types"
   ]
  },
  {
   "cell_type": "code",
   "execution_count": null,
   "id": "australian-package",
   "metadata": {
    "tags": []
   },
   "outputs": [],
   "source": [
    "ledger_df['Quantity'].astype('float')"
   ]
  },
  {
   "cell_type": "code",
   "execution_count": null,
   "id": "assumed-accommodation",
   "metadata": {
    "tags": []
   },
   "outputs": [],
   "source": [
    "ledger_df.convert_dtypes().info()"
   ]
  },
  {
   "cell_type": "code",
   "execution_count": null,
   "id": "attempted-psychiatry",
   "metadata": {
    "tags": []
   },
   "outputs": [],
   "source": [
    "ledger_df.convert_dtypes()"
   ]
  }
 ],
 "metadata": {
  "jupytext": {
   "formats": "ipynb"
  },
  "kernelspec": {
   "display_name": "Python 3",
   "language": "python",
   "name": "python3"
  }
 },
 "nbformat": 4,
 "nbformat_minor": 5
}

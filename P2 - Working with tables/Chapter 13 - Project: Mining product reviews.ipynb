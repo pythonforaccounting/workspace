{
 "cells": [
  {
   "cell_type": "markdown",
   "id": "korean-shipping",
   "metadata": {},
   "source": [
    "\n",
    "# Project: Mining product reviews"
   ]
  },
  {
   "cell_type": "code",
   "execution_count": null,
   "id": "plastic-program",
   "metadata": {
    "tags": []
   },
   "outputs": [],
   "source": [
    "import pandas as pd"
   ]
  },
  {
   "cell_type": "code",
   "execution_count": null,
   "id": "convenient-salvation",
   "metadata": {
    "tags": []
   },
   "outputs": [],
   "source": [
    "reviews_df = pd.read_csv('project_data/reviews.csv')\n",
    "\n",
    "reviews_df"
   ]
  },
  {
   "cell_type": "code",
   "execution_count": null,
   "id": "computational-conservative",
   "metadata": {
    "tags": []
   },
   "outputs": [],
   "source": [
    "reviews_df.info()"
   ]
  },
  {
   "cell_type": "code",
   "execution_count": null,
   "id": "frequent-husband",
   "metadata": {
    "tags": []
   },
   "outputs": [],
   "source": [
    "reviews_df['Date']"
   ]
  },
  {
   "cell_type": "code",
   "execution_count": null,
   "id": "unauthorized-consumer",
   "metadata": {
    "tags": []
   },
   "outputs": [],
   "source": [
    "pd.to_datetime(reviews_df['Date'], unit='D', origin='1899-12-30')"
   ]
  },
  {
   "cell_type": "code",
   "execution_count": null,
   "id": "surprising-monroe",
   "metadata": {
    "tags": []
   },
   "outputs": [],
   "source": [
    "reviews_df['Date'] = pd.to_datetime(reviews_df['Date'], unit='D', origin='1899-12-30')\n"
   ]
  },
  {
   "cell_type": "code",
   "execution_count": null,
   "id": "technical-deadline",
   "metadata": {
    "tags": []
   },
   "outputs": [],
   "source": [
    "reviews_df['Date'].dt.year.value_counts().sort_index()"
   ]
  },
  {
   "cell_type": "code",
   "execution_count": null,
   "id": "celtic-person",
   "metadata": {
    "tags": []
   },
   "outputs": [],
   "source": [
    "reviews_df = reviews_df[reviews_df['Date'].dt.year >= 2020]\n",
    "\n",
    "reviews_df"
   ]
  },
  {
   "cell_type": "code",
   "execution_count": null,
   "id": "fantastic-mainstream",
   "metadata": {
    "tags": []
   },
   "outputs": [],
   "source": [
    "reviews_df['Review'] = reviews_df['Review'].str.lower()\n",
    "reviews_df['Review'] = reviews_df['Review'].str.strip()"
   ]
  },
  {
   "cell_type": "code",
   "execution_count": null,
   "id": "optional-entrepreneur",
   "metadata": {
    "tags": []
   },
   "outputs": [],
   "source": [
    "import string\n",
    "\n",
    "string.punctuation"
   ]
  },
  {
   "cell_type": "code",
   "execution_count": null,
   "id": "funky-bunch",
   "metadata": {
    "tags": []
   },
   "outputs": [],
   "source": [
    "def remove_punctuation(review):\n",
    "    for character in string.punctuation:\n",
    "        review = review.replace(character, '')\n",
    "    \n",
    "    return review"
   ]
  },
  {
   "cell_type": "code",
   "execution_count": null,
   "id": "connected-globe",
   "metadata": {
    "tags": []
   },
   "outputs": [],
   "source": [
    "remove_punctuation('Great quality!!! Much nicer than expected -- but expensive.')"
   ]
  },
  {
   "cell_type": "code",
   "execution_count": null,
   "id": "higher-terrorist",
   "metadata": {
    "tags": []
   },
   "outputs": [],
   "source": [
    "reviews_df['Review'] = reviews_df['Review'].apply(remove_punctuation)"
   ]
  },
  {
   "cell_type": "code",
   "execution_count": null,
   "id": "million-business",
   "metadata": {
    "tags": []
   },
   "outputs": [],
   "source": [
    "reviews_df['Review Words'] = reviews_df['Review'].str.split()"
   ]
  },
  {
   "cell_type": "code",
   "execution_count": null,
   "id": "apart-interstate",
   "metadata": {
    "tags": []
   },
   "outputs": [],
   "source": [
    "reviews_df[['Review', 'Review Words']]"
   ]
  },
  {
   "cell_type": "code",
   "execution_count": null,
   "id": "superb-keeping",
   "metadata": {
    "tags": []
   },
   "outputs": [],
   "source": [
    "stopwords = pd.read_csv('project_data/stopwords.csv', squeeze=True)\n",
    "stopwords = list(stopwords)"
   ]
  },
  {
   "cell_type": "code",
   "execution_count": null,
   "id": "administrative-stick",
   "metadata": {
    "tags": []
   },
   "outputs": [],
   "source": [
    "'it' in stopwords"
   ]
  },
  {
   "cell_type": "code",
   "execution_count": null,
   "id": "sublime-coalition",
   "metadata": {
    "tags": []
   },
   "outputs": [],
   "source": [
    "'product' in stopwords"
   ]
  },
  {
   "cell_type": "code",
   "execution_count": null,
   "id": "severe-builder",
   "metadata": {
    "tags": []
   },
   "outputs": [],
   "source": [
    "def remove_stopwords(word_list):\n",
    "    return [w for w in word_list if w not in stopwords]"
   ]
  },
  {
   "cell_type": "code",
   "execution_count": null,
   "id": "proud-fitness",
   "metadata": {
    "tags": []
   },
   "outputs": [],
   "source": [
    "remove_stopwords(['imperfect', 'but', 'so', 'handy'])"
   ]
  },
  {
   "cell_type": "code",
   "execution_count": null,
   "id": "pressed-homework",
   "metadata": {
    "tags": []
   },
   "outputs": [],
   "source": [
    "reviews_df['Review Words'] = reviews_df['Review Words'].apply(remove_stopwords)\n",
    "\n",
    "reviews_df[['Review', 'Review Words']]"
   ]
  },
  {
   "cell_type": "code",
   "execution_count": null,
   "id": "covered-aurora",
   "metadata": {
    "tags": []
   },
   "outputs": [],
   "source": [
    "negative_reviews_df = reviews_df.loc[reviews_df['Rating'] == 1]\n",
    "positive_reviews_df = reviews_df.loc[(reviews_df['Rating'] == 5)]"
   ]
  },
  {
   "cell_type": "code",
   "execution_count": null,
   "id": "planned-association",
   "metadata": {
    "tags": []
   },
   "outputs": [],
   "source": [
    "negative_words = pd.Series(negative_reviews_df['Review Words'].sum())\n",
    "positive_words = pd.Series(positive_reviews_df['Review Words'].sum())"
   ]
  },
  {
   "cell_type": "code",
   "execution_count": null,
   "id": "genetic-anderson",
   "metadata": {
    "tags": []
   },
   "outputs": [],
   "source": [
    "negative_words.value_counts()"
   ]
  },
  {
   "cell_type": "code",
   "execution_count": null,
   "id": "respected-quest",
   "metadata": {
    "tags": []
   },
   "outputs": [],
   "source": [
    "positive_words.value_counts()"
   ]
  },
  {
   "cell_type": "code",
   "execution_count": null,
   "id": "former-quilt",
   "metadata": {
    "tags": []
   },
   "outputs": [],
   "source": [
    "positive_pattern = '(great .*)'\n",
    "\n",
    "positive_reviews_df['Review'].str.extract(positive_pattern).value_counts()"
   ]
  },
  {
   "cell_type": "code",
   "execution_count": null,
   "id": "linear-beads",
   "metadata": {
    "tags": []
   },
   "outputs": [],
   "source": [
    "negative_pattern = '(poor .*)'\n",
    "\n",
    "negative_reviews_df['Review'].str.extract(negative_pattern).value_counts()"
   ]
  }
 ],
 "metadata": {
  "jupytext": {
   "formats": "ipynb"
  },
  "kernelspec": {
   "display_name": "Python 3",
   "language": "python",
   "name": "python3"
  }
 },
 "nbformat": 4,
 "nbformat_minor": 5
}

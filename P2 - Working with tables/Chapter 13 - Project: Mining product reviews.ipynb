{
 "cells": [
  {
   "cell_type": "markdown",
   "id": "earned-suspension",
   "metadata": {},
   "source": [
    "\n",
    "# Project: Mining product reviews"
   ]
  },
  {
   "cell_type": "code",
   "execution_count": null,
   "id": "whole-still",
   "metadata": {
    "tags": []
   },
   "outputs": [],
   "source": [
    "import pandas as pd"
   ]
  },
  {
   "cell_type": "code",
   "execution_count": null,
   "id": "catholic-elimination",
   "metadata": {
    "tags": []
   },
   "outputs": [],
   "source": [
    "reviews_df = pd.read_csv('project_data/reviews.csv')\n",
    "\n",
    "reviews_df"
   ]
  },
  {
   "cell_type": "code",
   "execution_count": null,
   "id": "sacred-blood",
   "metadata": {
    "tags": []
   },
   "outputs": [],
   "source": [
    "reviews_df.info()"
   ]
  },
  {
   "cell_type": "code",
   "execution_count": null,
   "id": "virtual-valuation",
   "metadata": {
    "tags": []
   },
   "outputs": [],
   "source": [
    "reviews_df['Date']"
   ]
  },
  {
   "cell_type": "code",
   "execution_count": null,
   "id": "broad-university",
   "metadata": {
    "tags": []
   },
   "outputs": [],
   "source": [
    "pd.to_datetime(reviews_df['Date'], unit='D', origin='1899-12-30')"
   ]
  },
  {
   "cell_type": "code",
   "execution_count": null,
   "id": "geographic-equity",
   "metadata": {
    "tags": []
   },
   "outputs": [],
   "source": [
    "reviews_df['Date'] = pd.to_datetime(reviews_df['Date'], unit='D', origin='1899-12-30')\n"
   ]
  },
  {
   "cell_type": "code",
   "execution_count": null,
   "id": "exceptional-botswana",
   "metadata": {
    "tags": []
   },
   "outputs": [],
   "source": [
    "reviews_df['Date'].dt.year.value_counts().sort_index()"
   ]
  },
  {
   "cell_type": "code",
   "execution_count": null,
   "id": "wired-observation",
   "metadata": {
    "tags": []
   },
   "outputs": [],
   "source": [
    "reviews_df = reviews_df[reviews_df['Date'].dt.year >= 2020]\n",
    "\n",
    "reviews_df"
   ]
  },
  {
   "cell_type": "code",
   "execution_count": null,
   "id": "viral-croatia",
   "metadata": {
    "tags": []
   },
   "outputs": [],
   "source": [
    "reviews_df['Review'] = reviews_df['Review'].str.lower()\n",
    "reviews_df['Review'] = reviews_df['Review'].str.strip()"
   ]
  },
  {
   "cell_type": "code",
   "execution_count": null,
   "id": "nervous-prize",
   "metadata": {
    "tags": []
   },
   "outputs": [],
   "source": [
    "import string\n",
    "\n",
    "string.punctuation"
   ]
  },
  {
   "cell_type": "code",
   "execution_count": null,
   "id": "legendary-night",
   "metadata": {
    "tags": []
   },
   "outputs": [],
   "source": [
    "def remove_punctuation(review):\n",
    "    for character in string.punctuation:\n",
    "        review = review.replace(character, '')\n",
    "    \n",
    "    return review"
   ]
  },
  {
   "cell_type": "code",
   "execution_count": null,
   "id": "impossible-assist",
   "metadata": {
    "tags": []
   },
   "outputs": [],
   "source": [
    "remove_punctuation('Great quality!!! Much nicer than expected -- but expensive.')"
   ]
  },
  {
   "cell_type": "code",
   "execution_count": null,
   "id": "comparable-addition",
   "metadata": {
    "tags": []
   },
   "outputs": [],
   "source": [
    "reviews_df['Review'] = reviews_df['Review'].apply(remove_punctuation)"
   ]
  },
  {
   "cell_type": "code",
   "execution_count": null,
   "id": "healthy-burlington",
   "metadata": {
    "tags": []
   },
   "outputs": [],
   "source": [
    "reviews_df['Review Words'] = reviews_df['Review'].str.split()"
   ]
  },
  {
   "cell_type": "code",
   "execution_count": null,
   "id": "copyrighted-genome",
   "metadata": {
    "tags": []
   },
   "outputs": [],
   "source": [
    "reviews_df[['Review', 'Review Words']]"
   ]
  },
  {
   "cell_type": "code",
   "execution_count": null,
   "id": "freelance-morning",
   "metadata": {
    "tags": []
   },
   "outputs": [],
   "source": [
    "stopwords = pd.read_csv('project_data/stopwords.csv', squeeze=True)\n",
    "stopwords = list(stopwords)"
   ]
  },
  {
   "cell_type": "code",
   "execution_count": null,
   "id": "welcome-syndication",
   "metadata": {
    "tags": []
   },
   "outputs": [],
   "source": [
    "'it' in stopwords"
   ]
  },
  {
   "cell_type": "code",
   "execution_count": null,
   "id": "explicit-contents",
   "metadata": {
    "tags": []
   },
   "outputs": [],
   "source": [
    "'product' in stopwords"
   ]
  },
  {
   "cell_type": "code",
   "execution_count": null,
   "id": "commercial-flash",
   "metadata": {
    "tags": []
   },
   "outputs": [],
   "source": [
    "def remove_stopwords(word_list):\n",
    "    return [w for w in word_list if w not in stopwords]"
   ]
  },
  {
   "cell_type": "code",
   "execution_count": null,
   "id": "satisfied-minutes",
   "metadata": {
    "tags": []
   },
   "outputs": [],
   "source": [
    "remove_stopwords(['imperfect', 'but', 'so', 'handy'])"
   ]
  },
  {
   "cell_type": "code",
   "execution_count": null,
   "id": "imposed-beads",
   "metadata": {
    "tags": []
   },
   "outputs": [],
   "source": [
    "reviews_df['Review Words'] = reviews_df['Review Words'].apply(remove_stopwords)\n",
    "\n",
    "reviews_df[['Review', 'Review Words']]"
   ]
  },
  {
   "cell_type": "code",
   "execution_count": null,
   "id": "designed-greenhouse",
   "metadata": {
    "tags": []
   },
   "outputs": [],
   "source": [
    "negative_reviews_df = reviews_df.loc[reviews_df['Rating'] == 1]\n",
    "positive_reviews_df = reviews_df.loc[(reviews_df['Rating'] == 5)]"
   ]
  },
  {
   "cell_type": "code",
   "execution_count": null,
   "id": "significant-swaziland",
   "metadata": {
    "tags": []
   },
   "outputs": [],
   "source": [
    "negative_words = pd.Series(negative_reviews_df['Review Words'].sum())\n",
    "positive_words = pd.Series(positive_reviews_df['Review Words'].sum())"
   ]
  },
  {
   "cell_type": "code",
   "execution_count": null,
   "id": "mathematical-marina",
   "metadata": {
    "tags": []
   },
   "outputs": [],
   "source": [
    "negative_words.value_counts()"
   ]
  },
  {
   "cell_type": "code",
   "execution_count": null,
   "id": "technical-contribution",
   "metadata": {
    "tags": []
   },
   "outputs": [],
   "source": [
    "positive_words.value_counts()"
   ]
  },
  {
   "cell_type": "code",
   "execution_count": null,
   "id": "protected-antenna",
   "metadata": {
    "tags": []
   },
   "outputs": [],
   "source": [
    "positive_pattern = '(great .*)'\n",
    "\n",
    "positive_reviews_df['Review'].str.extract(positive_pattern).value_counts()"
   ]
  },
  {
   "cell_type": "code",
   "execution_count": null,
   "id": "functional-challenge",
   "metadata": {
    "tags": []
   },
   "outputs": [],
   "source": [
    "negative_pattern = '(poor .*)'\n",
    "\n",
    "negative_reviews_df['Review'].str.extract(negative_pattern).value_counts()"
   ]
  }
 ],
 "metadata": {
  "jupytext": {
   "formats": "ipynb"
  },
  "kernelspec": {
   "display_name": "Python 3",
   "language": "python",
   "name": "python3"
  }
 },
 "nbformat": 4,
 "nbformat_minor": 5
}

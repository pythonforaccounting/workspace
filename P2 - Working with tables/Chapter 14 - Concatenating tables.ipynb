{
 "cells": [
  {
   "cell_type": "markdown",
   "id": "proved-alliance",
   "metadata": {},
   "source": [
    "\n",
    "# Concatenating tables\n",
    "\n",
    "## Row-wise concatenation"
   ]
  },
  {
   "cell_type": "code",
   "execution_count": null,
   "id": "green-customer",
   "metadata": {
    "tags": []
   },
   "outputs": [],
   "source": [
    "cols = ['ProductID', 'Quantity', 'Total']\n",
    "\n",
    "jan_df = pd.read_excel('Q1Sales.xlsx', sheet_name='January', usecols=cols, nrows=5)\n",
    "feb_df = pd.read_excel('Q1Sales.xlsx', sheet_name='February', usecols=cols, nrows=5)\n",
    "mar_df = pd.read_excel('Q1Sales.xlsx', sheet_name='March', usecols=cols, nrows=5)"
   ]
  },
  {
   "cell_type": "code",
   "execution_count": null,
   "id": "adolescent-terminal",
   "metadata": {
    "tags": []
   },
   "outputs": [],
   "source": [
    "jan_df"
   ]
  },
  {
   "cell_type": "code",
   "execution_count": null,
   "id": "collective-lending",
   "metadata": {
    "tags": []
   },
   "outputs": [],
   "source": [
    "feb_df"
   ]
  },
  {
   "cell_type": "code",
   "execution_count": null,
   "id": "conditional-mambo",
   "metadata": {
    "tags": []
   },
   "outputs": [],
   "source": [
    "mar_df"
   ]
  },
  {
   "cell_type": "code",
   "execution_count": null,
   "id": "seasonal-league",
   "metadata": {
    "tags": []
   },
   "outputs": [],
   "source": [
    "pd.concat([jan_df, feb_df, mar_df])"
   ]
  },
  {
   "cell_type": "code",
   "execution_count": null,
   "id": "incorporated-combine",
   "metadata": {
    "tags": []
   },
   "outputs": [],
   "source": [
    "pd.concat([jan_df, feb_df, mar_df], ignore_index=True)"
   ]
  },
  {
   "cell_type": "code",
   "execution_count": null,
   "id": "english-flash",
   "metadata": {
    "tags": []
   },
   "outputs": [],
   "source": [
    "pd.concat({'Jan': jan_df, 'Feb': feb_df, 'Mar': mar_df})"
   ]
  },
  {
   "cell_type": "code",
   "execution_count": null,
   "id": "requested-saturn",
   "metadata": {
    "tags": []
   },
   "outputs": [],
   "source": [
    "df = pd.concat({'Jan': jan_df, 'Feb': feb_df, 'Mar': mar_df})\n",
    "\n",
    "df.index"
   ]
  },
  {
   "cell_type": "code",
   "execution_count": null,
   "id": "earned-slovak",
   "metadata": {
    "tags": []
   },
   "outputs": [],
   "source": [
    "df.loc['Mar']"
   ]
  },
  {
   "cell_type": "code",
   "execution_count": null,
   "id": "alleged-syndication",
   "metadata": {
    "tags": []
   },
   "outputs": [],
   "source": [
    "df.loc[('Mar', 0)]"
   ]
  },
  {
   "cell_type": "code",
   "execution_count": null,
   "id": "outside-observation",
   "metadata": {
    "tags": []
   },
   "outputs": [],
   "source": [
    "pd.concat([\n",
    "    jan_df[['ProductID', 'Quantity']],\n",
    "    feb_df[['ProductID', 'Total']]\n",
    "])"
   ]
  },
  {
   "cell_type": "code",
   "execution_count": null,
   "id": "finished-huntington",
   "metadata": {
    "tags": []
   },
   "outputs": [],
   "source": [
    "pd.concat([\n",
    "        jan_df[['ProductID', 'Quantity']],\n",
    "        feb_df[['ProductID', 'Total']]\n",
    "    ], \n",
    "    join='inner',\n",
    "    ignore_index=True\n",
    ")"
   ]
  },
  {
   "cell_type": "markdown",
   "id": "eligible-weapon",
   "metadata": {},
   "source": [
    "## Column-wise concatenation"
   ]
  },
  {
   "cell_type": "code",
   "execution_count": null,
   "id": "altered-promotion",
   "metadata": {
    "tags": []
   },
   "outputs": [],
   "source": [
    "pd.concat([jan_df, feb_df, mar_df], axis='columns')"
   ]
  },
  {
   "cell_type": "code",
   "execution_count": null,
   "id": "flexible-allen",
   "metadata": {
    "tags": []
   },
   "outputs": [],
   "source": [
    "pd.concat([jan_df.head(3), mar_df.tail(3)], axis='columns')"
   ]
  },
  {
   "cell_type": "code",
   "execution_count": null,
   "id": "arranged-synthesis",
   "metadata": {
    "tags": []
   },
   "outputs": [],
   "source": [
    "pd.concat([jan_df.head(3), mar_df.tail(3)], axis='columns', join='inner')"
   ]
  },
  {
   "cell_type": "markdown",
   "id": "prostate-count",
   "metadata": {},
   "source": [
    "## Appending rows to a DataFrame"
   ]
  },
  {
   "cell_type": "code",
   "execution_count": null,
   "id": "similar-advisory",
   "metadata": {
    "tags": []
   },
   "outputs": [],
   "source": [
    "jan_df.append(feb_df)"
   ]
  },
  {
   "cell_type": "code",
   "execution_count": null,
   "id": "revolutionary-plenty",
   "metadata": {
    "tags": []
   },
   "outputs": [],
   "source": [
    "jan_df.append([feb_df, mar_df], ignore_index=True)"
   ]
  },
  {
   "cell_type": "code",
   "execution_count": null,
   "id": "rapid-bloom",
   "metadata": {
    "tags": []
   },
   "outputs": [],
   "source": [
    "feb_df.append([{\n",
    "        'ProductID': 'Subtotal', \n",
    "        'Quantity': feb_df['Quantity'].sum(), \n",
    "        'Total': feb_df['Total'].sum()\n",
    "    }], ignore_index=True)"
   ]
  }
 ],
 "metadata": {
  "jupytext": {
   "formats": "ipynb"
  },
  "kernelspec": {
   "display_name": "Python 3",
   "language": "python",
   "name": "python3"
  }
 },
 "nbformat": 4,
 "nbformat_minor": 5
}

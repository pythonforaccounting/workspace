{
 "cells": [
  {
   "cell_type": "markdown",
   "id": "extreme-amber",
   "metadata": {},
   "source": [
    "\n",
    "# Concatenating tables\n",
    "\n",
    "## Row-wise concatenation"
   ]
  },
  {
   "cell_type": "code",
   "execution_count": null,
   "id": "adequate-albert",
   "metadata": {
    "tags": []
   },
   "outputs": [],
   "source": [
    "cols = ['ProductID', 'Quantity', 'Total']\n",
    "\n",
    "jan_df = pd.read_excel('Q1Sales.xlsx', sheet_name='January', usecols=cols, nrows=5)\n",
    "feb_df = pd.read_excel('Q1Sales.xlsx', sheet_name='February', usecols=cols, nrows=5)\n",
    "mar_df = pd.read_excel('Q1Sales.xlsx', sheet_name='March', usecols=cols, nrows=5)"
   ]
  },
  {
   "cell_type": "code",
   "execution_count": null,
   "id": "wrapped-brazilian",
   "metadata": {
    "tags": []
   },
   "outputs": [],
   "source": [
    "jan_df"
   ]
  },
  {
   "cell_type": "code",
   "execution_count": null,
   "id": "rational-thompson",
   "metadata": {
    "tags": []
   },
   "outputs": [],
   "source": [
    "feb_df"
   ]
  },
  {
   "cell_type": "code",
   "execution_count": null,
   "id": "rising-irrigation",
   "metadata": {
    "tags": []
   },
   "outputs": [],
   "source": [
    "mar_df"
   ]
  },
  {
   "cell_type": "code",
   "execution_count": null,
   "id": "ordered-column",
   "metadata": {
    "tags": []
   },
   "outputs": [],
   "source": [
    "pd.concat([jan_df, feb_df, mar_df])"
   ]
  },
  {
   "cell_type": "code",
   "execution_count": null,
   "id": "biological-oregon",
   "metadata": {
    "tags": []
   },
   "outputs": [],
   "source": [
    "pd.concat([jan_df, feb_df, mar_df], ignore_index=True)"
   ]
  },
  {
   "cell_type": "code",
   "execution_count": null,
   "id": "limiting-utilization",
   "metadata": {
    "tags": []
   },
   "outputs": [],
   "source": [
    "pd.concat({'Jan': jan_df, 'Feb': feb_df, 'Mar': mar_df})"
   ]
  },
  {
   "cell_type": "code",
   "execution_count": null,
   "id": "diagnostic-break",
   "metadata": {
    "tags": []
   },
   "outputs": [],
   "source": [
    "df = pd.concat({'Jan': jan_df, 'Feb': feb_df, 'Mar': mar_df})\n",
    "\n",
    "df.index"
   ]
  },
  {
   "cell_type": "code",
   "execution_count": null,
   "id": "necessary-delight",
   "metadata": {
    "tags": []
   },
   "outputs": [],
   "source": [
    "df.loc['Mar']"
   ]
  },
  {
   "cell_type": "code",
   "execution_count": null,
   "id": "facial-ballet",
   "metadata": {
    "tags": []
   },
   "outputs": [],
   "source": [
    "df.loc[('Mar', 0)]"
   ]
  },
  {
   "cell_type": "code",
   "execution_count": null,
   "id": "running-quantity",
   "metadata": {
    "tags": []
   },
   "outputs": [],
   "source": [
    "pd.concat([\n",
    "    jan_df[['ProductID', 'Quantity']],\n",
    "    feb_df[['ProductID', 'Total']]\n",
    "])"
   ]
  },
  {
   "cell_type": "code",
   "execution_count": null,
   "id": "caroline-diameter",
   "metadata": {
    "tags": []
   },
   "outputs": [],
   "source": [
    "pd.concat([\n",
    "        jan_df[['ProductID', 'Quantity']],\n",
    "        feb_df[['ProductID', 'Total']]\n",
    "    ], \n",
    "    join='inner',\n",
    "    ignore_index=True\n",
    ")"
   ]
  },
  {
   "cell_type": "markdown",
   "id": "inside-domain",
   "metadata": {},
   "source": [
    "## Column-wise concatenation"
   ]
  },
  {
   "cell_type": "code",
   "execution_count": null,
   "id": "injured-report",
   "metadata": {
    "tags": []
   },
   "outputs": [],
   "source": [
    "pd.concat([jan_df, feb_df, mar_df], axis='columns')"
   ]
  },
  {
   "cell_type": "code",
   "execution_count": null,
   "id": "convinced-confirmation",
   "metadata": {
    "tags": []
   },
   "outputs": [],
   "source": [
    "pd.concat([jan_df.head(3), mar_df.tail(3)], axis='columns')"
   ]
  },
  {
   "cell_type": "code",
   "execution_count": null,
   "id": "ranging-representative",
   "metadata": {
    "tags": []
   },
   "outputs": [],
   "source": [
    "pd.concat([jan_df.head(3), mar_df.tail(3)], axis='columns', join='inner')"
   ]
  },
  {
   "cell_type": "markdown",
   "id": "vocal-payment",
   "metadata": {},
   "source": [
    "## Appending rows to a DataFrame"
   ]
  },
  {
   "cell_type": "code",
   "execution_count": null,
   "id": "personal-laundry",
   "metadata": {
    "tags": []
   },
   "outputs": [],
   "source": [
    "jan_df.append(feb_df)"
   ]
  },
  {
   "cell_type": "code",
   "execution_count": null,
   "id": "leading-warrant",
   "metadata": {
    "tags": []
   },
   "outputs": [],
   "source": [
    "jan_df.append([feb_df, mar_df], ignore_index=True)"
   ]
  },
  {
   "cell_type": "code",
   "execution_count": null,
   "id": "premium-pillow",
   "metadata": {
    "tags": []
   },
   "outputs": [],
   "source": [
    "feb_df.append([{\n",
    "        'ProductID': 'Subtotal', \n",
    "        'Quantity': feb_df['Quantity'].sum(), \n",
    "        'Total': feb_df['Total'].sum()\n",
    "    }], ignore_index=True)"
   ]
  }
 ],
 "metadata": {
  "jupytext": {
   "formats": "ipynb"
  },
  "kernelspec": {
   "display_name": "Python 3",
   "language": "python",
   "name": "python3"
  }
 },
 "nbformat": 4,
 "nbformat_minor": 5
}

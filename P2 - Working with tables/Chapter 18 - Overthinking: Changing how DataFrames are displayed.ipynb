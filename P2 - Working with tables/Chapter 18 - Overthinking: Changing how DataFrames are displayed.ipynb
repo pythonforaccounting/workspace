{
 "cells": [
  {
   "cell_type": "markdown",
   "id": "million-claim",
   "metadata": {},
   "source": [
    "\n",
    "# Overthinking: Changing how DataFrames are displayed"
   ]
  },
  {
   "cell_type": "code",
   "execution_count": null,
   "id": "hydraulic-rotation",
   "metadata": {
    "tags": []
   },
   "outputs": [],
   "source": [
    "sales_df = pd.read_excel('Q1Sales.xlsx', nrows=100)"
   ]
  },
  {
   "cell_type": "markdown",
   "id": "outstanding-pendant",
   "metadata": {},
   "source": [
    "## Setting display options"
   ]
  },
  {
   "cell_type": "code",
   "execution_count": null,
   "id": "lucky-genius",
   "metadata": {
    "tags": []
   },
   "outputs": [],
   "source": [
    "pd.options.display.max_columns = 6"
   ]
  },
  {
   "cell_type": "code",
   "execution_count": null,
   "id": "wrapped-level",
   "metadata": {
    "tags": []
   },
   "outputs": [],
   "source": [
    "pd.options.display.min_rows = 20\n",
    "pd.options.display.max_rows = 40"
   ]
  },
  {
   "cell_type": "code",
   "execution_count": null,
   "id": "agricultural-universal",
   "metadata": {
    "tags": []
   },
   "outputs": [],
   "source": [
    "pd.options.display.max_columns = None\n",
    "pd.options.display.max_rows = None"
   ]
  },
  {
   "cell_type": "code",
   "execution_count": null,
   "id": "ceramic-friend",
   "metadata": {
    "tags": []
   },
   "outputs": [],
   "source": [
    "def float_format_function(value):\n",
    "    return f'{value:,}'\n",
    "\n",
    "pd.options.display.float_format = float_format_function"
   ]
  },
  {
   "cell_type": "code",
   "execution_count": null,
   "id": "comfortable-round",
   "metadata": {
    "tags": []
   },
   "outputs": [],
   "source": [
    "pd.Series([1000.0, 2000.0, 5000.0])"
   ]
  },
  {
   "cell_type": "code",
   "execution_count": null,
   "id": "municipal-uncle",
   "metadata": {
    "tags": []
   },
   "outputs": [],
   "source": [
    "def float_format_function(value):\n",
    "    return f'My value is $\\color{stringcolor}\\mathsterling${value:,}'\n",
    "\n",
    "pd.options.display.float_format = float_format_function\n",
    "\n",
    "pd.Series([1000.0, 2000.0, 5000.0])"
   ]
  },
  {
   "cell_type": "code",
   "execution_count": null,
   "id": "successful-artist",
   "metadata": {
    "tags": []
   },
   "outputs": [],
   "source": [
    "pd.reset_option(\"display\")"
   ]
  },
  {
   "cell_type": "markdown",
   "id": "duplicate-cherry",
   "metadata": {},
   "source": [
    "## Styling tables"
   ]
  },
  {
   "cell_type": "code",
   "execution_count": null,
   "id": "connected-frontier",
   "metadata": {
    "tags": []
   },
   "outputs": [],
   "source": [
    "sales_df.style.set_properties(**{'color':'blue', 'background-color': 'pink'})"
   ]
  },
  {
   "cell_type": "code",
   "execution_count": null,
   "id": "dominican-universal",
   "metadata": {
    "tags": []
   },
   "outputs": [],
   "source": [
    "table = sales_df.style.set_properties(**{'color':'blue', 'background-color': 'pink'})\n",
    "\n",
    "type(table)"
   ]
  },
  {
   "cell_type": "code",
   "execution_count": null,
   "id": "silent-concept",
   "metadata": {
    "tags": []
   },
   "outputs": [],
   "source": [
    "def color_quantity_column(values):\n",
    "    colors = []\n",
    "    \n",
    "    for quantity in values:\n",
    "        if quantity > values.mean():\n",
    "            colors.append('color: green')\n",
    "        else:\n",
    "            colors.append('color: red')\n",
    "    \n",
    "    return colors"
   ]
  },
  {
   "cell_type": "code",
   "execution_count": null,
   "id": "built-transparency",
   "metadata": {
    "tags": []
   },
   "outputs": [],
   "source": [
    "sales_df.style.apply(color_quantity_column, subset=['Quantity'])"
   ]
  },
  {
   "cell_type": "code",
   "execution_count": null,
   "id": "expanded-poker",
   "metadata": {
    "tags": []
   },
   "outputs": [],
   "source": [
    "def color_quantity_column(values):\n",
    "    colors = []\n",
    "    \n",
    "    for quantity in values:\n",
    "        if quantity > values.mean():\n",
    "            colors.append('color: green; font-weight: 900; font-size: 12pt')\n",
    "        else:\n",
    "            colors.append('color: red; text-align: left')\n",
    "    \n",
    "    return colors"
   ]
  },
  {
   "cell_type": "code",
   "execution_count": null,
   "id": "outside-objective",
   "metadata": {
    "tags": []
   },
   "outputs": [],
   "source": [
    "def color_total_column(values):\n",
    "    \n",
    "    green = 'background-color: green'\n",
    "    red = 'background-color: red'\n",
    "    \n",
    "    return [green if v > 100 else red for v in values]"
   ]
  },
  {
   "cell_type": "code",
   "execution_count": null,
   "id": "controversial-sandwich",
   "metadata": {
    "tags": []
   },
   "outputs": [],
   "source": [
    "(sales_df\n",
    "    .style\n",
    "    .apply(color_quantity_column, subset=['Quantity'])\n",
    "    .apply(color_total_column, subset=['Total'])\n",
    ")"
   ]
  },
  {
   "cell_type": "code",
   "execution_count": null,
   "id": "guided-currency",
   "metadata": {
    "tags": []
   },
   "outputs": [],
   "source": [
    "(sales_df\n",
    "    .style\n",
    "    .apply(color_quantity_column, subset=['Quantity'])\n",
    "    .apply(color_total_column, subset=['Total'])\n",
    "    .to_excel('Q1SalesStyled.xlsx', index=False)\n",
    ")"
   ]
  }
 ],
 "metadata": {
  "jupytext": {
   "formats": "ipynb"
  },
  "kernelspec": {
   "display_name": "Python 3",
   "language": "python",
   "name": "python3"
  }
 },
 "nbformat": 4,
 "nbformat_minor": 5
}

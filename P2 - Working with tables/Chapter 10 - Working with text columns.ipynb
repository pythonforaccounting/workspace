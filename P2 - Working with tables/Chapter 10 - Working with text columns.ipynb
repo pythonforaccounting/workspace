{
 "cells": [
  {
   "cell_type": "markdown",
   "id": "controversial-deficit",
   "metadata": {},
   "source": [
    "\n",
    "# Working with text columns\n",
    "\n",
    "## Python strings"
   ]
  },
  {
   "cell_type": "code",
   "execution_count": null,
   "id": "blocked-massachusetts",
   "metadata": {
    "tags": []
   },
   "outputs": [],
   "source": [
    "message = 'hello, python for accounting'"
   ]
  },
  {
   "cell_type": "code",
   "execution_count": null,
   "id": "potential-trouble",
   "metadata": {
    "tags": []
   },
   "outputs": [],
   "source": [
    "message.upper()"
   ]
  },
  {
   "cell_type": "code",
   "execution_count": null,
   "id": "worst-fashion",
   "metadata": {
    "tags": []
   },
   "outputs": [],
   "source": [
    "message = message.upper()\n",
    "\n",
    "message"
   ]
  },
  {
   "cell_type": "code",
   "execution_count": null,
   "id": "retained-clinic",
   "metadata": {
    "tags": []
   },
   "outputs": [],
   "source": [
    "message[:5]"
   ]
  },
  {
   "cell_type": "code",
   "execution_count": null,
   "id": "preliminary-blond",
   "metadata": {
    "tags": []
   },
   "outputs": [],
   "source": [
    "'PYTHON' in message"
   ]
  },
  {
   "cell_type": "code",
   "execution_count": null,
   "id": "pharmaceutical-farmer",
   "metadata": {
    "tags": []
   },
   "outputs": [],
   "source": [
    "'pandas' in message"
   ]
  },
  {
   "cell_type": "code",
   "execution_count": null,
   "id": "naughty-letters",
   "metadata": {
    "tags": []
   },
   "outputs": [],
   "source": [
    "'hello' + ', ' +  'python ' + 'for ' + 'accounting'"
   ]
  },
  {
   "cell_type": "code",
   "execution_count": null,
   "id": "alike-favorite",
   "metadata": {
    "tags": []
   },
   "outputs": [],
   "source": [
    "first_name = \"margaret\"\n",
    "last_name = \"hamilton\"\n",
    "age = 83\n",
    "\n",
    "f'{first_name} {last_name} is {age} years old!'"
   ]
  },
  {
   "cell_type": "markdown",
   "id": "organized-officer",
   "metadata": {},
   "source": [
    "## String methods in pandas"
   ]
  },
  {
   "cell_type": "code",
   "execution_count": null,
   "id": "offshore-israel",
   "metadata": {
    "tags": []
   },
   "outputs": [],
   "source": [
    "ledger_df['Channel'].str.upper()"
   ]
  },
  {
   "cell_type": "code",
   "execution_count": null,
   "id": "confused-phenomenon",
   "metadata": {
    "tags": [
     "allowerror"
    ]
   },
   "outputs": [],
   "source": [
    "ledger_df['Channel'].upper()"
   ]
  },
  {
   "cell_type": "code",
   "execution_count": null,
   "id": "pending-buyer",
   "metadata": {
    "tags": []
   },
   "outputs": [],
   "source": [
    "ledger_df['Product Name']"
   ]
  },
  {
   "cell_type": "code",
   "execution_count": null,
   "id": "meaningful-fairy",
   "metadata": {
    "tags": []
   },
   "outputs": [],
   "source": [
    "ledger_df['Product Name'].str.upper()"
   ]
  },
  {
   "cell_type": "code",
   "execution_count": null,
   "id": "foreign-sodium",
   "metadata": {
    "tags": []
   },
   "outputs": [],
   "source": [
    "ledger_df['Product Name'].str.contains('LEGO')"
   ]
  },
  {
   "cell_type": "code",
   "execution_count": null,
   "id": "concrete-element",
   "metadata": {
    "tags": [
     "allowerror"
    ]
   },
   "outputs": [],
   "source": [
    "ledger_df[ledger_df['Product Name'].str.contains('LEGO')]"
   ]
  },
  {
   "cell_type": "code",
   "execution_count": null,
   "id": "embedded-career",
   "metadata": {
    "tags": []
   },
   "outputs": [],
   "source": [
    "ledger_df[ledger_df['Product Name'].str.contains('LEGO').fillna(False)]"
   ]
  },
  {
   "cell_type": "markdown",
   "id": "micro-wells",
   "metadata": {},
   "source": [
    "### Replacing parts of text"
   ]
  },
  {
   "cell_type": "code",
   "execution_count": null,
   "id": "purple-position",
   "metadata": {
    "tags": []
   },
   "outputs": [],
   "source": [
    "ledger_df['Channel'].str.replace('.com', '')"
   ]
  },
  {
   "cell_type": "code",
   "execution_count": null,
   "id": "considerable-release",
   "metadata": {
    "tags": []
   },
   "outputs": [],
   "source": [
    "ledger_df['Channel'].replace('iBay.com', 'Anazon.com')"
   ]
  },
  {
   "cell_type": "markdown",
   "id": "comparative-thong",
   "metadata": {},
   "source": [
    "### Splitting text values into multiple columns"
   ]
  },
  {
   "cell_type": "code",
   "execution_count": null,
   "id": "difficult-limitation",
   "metadata": {
    "tags": []
   },
   "outputs": [],
   "source": [
    "ledger_df[['Product Name', 'ProductID', 'Unit Price', 'Quantity', 'Total']]"
   ]
  },
  {
   "cell_type": "code",
   "execution_count": null,
   "id": "fitting-houston",
   "metadata": {
    "tags": []
   },
   "outputs": [],
   "source": [
    "ledger_df['ProductID'].str.split('/')"
   ]
  },
  {
   "cell_type": "code",
   "execution_count": null,
   "id": "classical-computer",
   "metadata": {
    "tags": []
   },
   "outputs": [],
   "source": [
    "ledger_df['ProductID'].str.split('/', expand=True)"
   ]
  },
  {
   "cell_type": "code",
   "execution_count": null,
   "id": "choice-button",
   "metadata": {
    "tags": []
   },
   "outputs": [],
   "source": [
    "ledger_df[['CategoryID', 'ItemID']] = ledger_df['ProductID'].str.split('/', expand=True)\n",
    "\n",
    "ledger_df"
   ]
  },
  {
   "cell_type": "markdown",
   "id": "based-monroe",
   "metadata": {},
   "source": [
    "### Concatenating text columns"
   ]
  },
  {
   "cell_type": "code",
   "execution_count": null,
   "id": "eight-engagement",
   "metadata": {
    "tags": []
   },
   "outputs": [],
   "source": [
    "'Category ID is: ' + ledger_df['CategoryID']"
   ]
  },
  {
   "cell_type": "code",
   "execution_count": null,
   "id": "planned-township",
   "metadata": {
    "tags": []
   },
   "outputs": [],
   "source": [
    "ledger_df['CategoryID'] + '/' + ledger_df['ItemID']"
   ]
  },
  {
   "cell_type": "code",
   "execution_count": null,
   "id": "casual-roommate",
   "metadata": {
    "tags": [
     "allowerror"
    ]
   },
   "outputs": [],
   "source": [
    "ledger_df['InvoiceNo'] + '/' + ledger_df['AccountNo']"
   ]
  },
  {
   "cell_type": "code",
   "execution_count": null,
   "id": "possible-cambridge",
   "metadata": {
    "tags": []
   },
   "outputs": [],
   "source": [
    "ledger_df['InvoiceNo'].astype('string') + '/' + ledger_df['AccountNo'].astype('string')"
   ]
  },
  {
   "cell_type": "markdown",
   "id": "qualified-apache",
   "metadata": {},
   "source": [
    "## String data types in pandas"
   ]
  },
  {
   "cell_type": "code",
   "execution_count": null,
   "id": "patent-affairs",
   "metadata": {
    "tags": []
   },
   "outputs": [],
   "source": [
    "ledger_df = pd.read_excel('Q1Sales.xlsx')\n",
    "\n",
    "ledger_df.info()"
   ]
  },
  {
   "cell_type": "code",
   "execution_count": null,
   "id": "suited-particle",
   "metadata": {
    "tags": []
   },
   "outputs": [],
   "source": [
    "ledger_df = pd.read_excel('Q1Sales.xlsx').convert_dtypes()\n",
    "\n",
    "ledger_df.info()"
   ]
  },
  {
   "cell_type": "code",
   "execution_count": null,
   "id": "exclusive-gambling",
   "metadata": {
    "tags": []
   },
   "outputs": [],
   "source": [
    "ledger_df['Product Name'].astype('string')"
   ]
  },
  {
   "cell_type": "code",
   "execution_count": null,
   "id": "illegal-pickup",
   "metadata": {
    "tags": []
   },
   "outputs": [],
   "source": [
    "pd.Series([1011, '1320', \"980\", 645, 340])"
   ]
  },
  {
   "cell_type": "code",
   "execution_count": null,
   "id": "blank-velvet",
   "metadata": {
    "tags": []
   },
   "outputs": [],
   "source": [
    "pd.Series([1011, '1320', \"980\", 645, 340]).str.strip('')"
   ]
  },
  {
   "cell_type": "code",
   "execution_count": null,
   "id": "verbal-angel",
   "metadata": {
    "tags": []
   },
   "outputs": [],
   "source": [
    "pd.Series([1011, '1320', \"980\", 645, 340]).astype('string').str.strip('')"
   ]
  },
  {
   "cell_type": "markdown",
   "id": "psychological-founder",
   "metadata": {},
   "source": [
    "## Overthinking: Regular expressions"
   ]
  },
  {
   "cell_type": "code",
   "execution_count": null,
   "id": "allied-belle",
   "metadata": {
    "tags": []
   },
   "outputs": [],
   "source": [
    "pattern = '(Nikon).*(Camera)'"
   ]
  },
  {
   "cell_type": "code",
   "execution_count": null,
   "id": "hybrid-thursday",
   "metadata": {
    "tags": []
   },
   "outputs": [],
   "source": [
    "is_camera = ledger_df['Product Name'].str.contains('camera', case=False).fillna(False)\n",
    "\n",
    "cameras_df = ledger_df[is_camera]\n",
    "cameras_df = cameras_df[['ProductID', 'Product Name', 'Total']]\n",
    "\n",
    "cameras_df"
   ]
  },
  {
   "cell_type": "code",
   "execution_count": null,
   "id": "tribal-induction",
   "metadata": {
    "tags": []
   },
   "outputs": [],
   "source": [
    "pattern = '(Nikon|Canon|Kodak)'\n",
    "cameras_df = cameras_df[cameras_df['Product Name'].str.contains(pattern)]\n",
    "\n",
    "cameras_df"
   ]
  },
  {
   "cell_type": "code",
   "execution_count": null,
   "id": "familiar-assignment",
   "metadata": {
    "tags": []
   },
   "outputs": [],
   "source": [
    "cameras_df[\n",
    "    (cameras_df['Product Name'].str.contains('Nikon'))\n",
    "    | (cameras_df['Product Name'].str.contains('Canon'))\n",
    "    | (cameras_df['Product Name'].str.contains('Kodak'))\n",
    "]"
   ]
  },
  {
   "cell_type": "code",
   "execution_count": null,
   "id": "continental-cargo",
   "metadata": {
    "tags": []
   },
   "outputs": [],
   "source": [
    "pattern = '(Nikon|Canon|Kodak)\\s+(\\w*)'\n",
    "\n",
    "cameras_df['Product Name'].str.extract(pattern)"
   ]
  }
 ],
 "metadata": {
  "jupytext": {
   "formats": "ipynb"
  },
  "kernelspec": {
   "display_name": "Python 3",
   "language": "python",
   "name": "python3"
  }
 },
 "nbformat": 4,
 "nbformat_minor": 5
}

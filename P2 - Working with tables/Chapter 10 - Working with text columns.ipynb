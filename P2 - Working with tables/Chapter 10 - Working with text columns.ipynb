{
 "cells": [
  {
   "cell_type": "markdown",
   "id": "subject-answer",
   "metadata": {},
   "source": [
    "\n",
    "# Working with text columns\n",
    "\n",
    "## Python strings"
   ]
  },
  {
   "cell_type": "code",
   "execution_count": null,
   "id": "cloudy-carpet",
   "metadata": {
    "tags": []
   },
   "outputs": [],
   "source": [
    "message = 'hello, python for accounting'"
   ]
  },
  {
   "cell_type": "code",
   "execution_count": null,
   "id": "sized-funds",
   "metadata": {
    "tags": []
   },
   "outputs": [],
   "source": [
    "message.upper()"
   ]
  },
  {
   "cell_type": "code",
   "execution_count": null,
   "id": "liked-agreement",
   "metadata": {
    "tags": []
   },
   "outputs": [],
   "source": [
    "message = message.upper()\n",
    "\n",
    "message"
   ]
  },
  {
   "cell_type": "code",
   "execution_count": null,
   "id": "original-going",
   "metadata": {
    "tags": []
   },
   "outputs": [],
   "source": [
    "message[:5]"
   ]
  },
  {
   "cell_type": "code",
   "execution_count": null,
   "id": "crude-committee",
   "metadata": {
    "tags": []
   },
   "outputs": [],
   "source": [
    "'PYTHON' in message"
   ]
  },
  {
   "cell_type": "code",
   "execution_count": null,
   "id": "forty-conservation",
   "metadata": {
    "tags": []
   },
   "outputs": [],
   "source": [
    "'pandas' in message"
   ]
  },
  {
   "cell_type": "code",
   "execution_count": null,
   "id": "further-brook",
   "metadata": {
    "tags": []
   },
   "outputs": [],
   "source": [
    "'hello' + ', ' +  'python ' + 'for ' + 'accounting'"
   ]
  },
  {
   "cell_type": "code",
   "execution_count": null,
   "id": "narrative-platform",
   "metadata": {
    "tags": []
   },
   "outputs": [],
   "source": [
    "first_name = \"margaret\"\n",
    "last_name = \"hamilton\"\n",
    "age = 83\n",
    "\n",
    "f'{first_name} {last_name} is {age} years old!'"
   ]
  },
  {
   "cell_type": "markdown",
   "id": "crucial-alarm",
   "metadata": {},
   "source": [
    "## String methods in pandas"
   ]
  },
  {
   "cell_type": "code",
   "execution_count": null,
   "id": "featured-anderson",
   "metadata": {
    "tags": []
   },
   "outputs": [],
   "source": [
    "ledger_df['Channel'].str.upper()"
   ]
  },
  {
   "cell_type": "code",
   "execution_count": null,
   "id": "gross-retrieval",
   "metadata": {
    "tags": [
     "allowerror"
    ]
   },
   "outputs": [],
   "source": [
    "ledger_df['Channel'].upper()"
   ]
  },
  {
   "cell_type": "code",
   "execution_count": null,
   "id": "persistent-involvement",
   "metadata": {
    "tags": []
   },
   "outputs": [],
   "source": [
    "ledger_df['Product Name']"
   ]
  },
  {
   "cell_type": "code",
   "execution_count": null,
   "id": "threatened-south",
   "metadata": {
    "tags": []
   },
   "outputs": [],
   "source": [
    "ledger_df['Product Name'].str.upper()"
   ]
  },
  {
   "cell_type": "code",
   "execution_count": null,
   "id": "pending-boutique",
   "metadata": {
    "tags": []
   },
   "outputs": [],
   "source": [
    "ledger_df['Product Name'].str.contains('LEGO')"
   ]
  },
  {
   "cell_type": "code",
   "execution_count": null,
   "id": "demanding-jaguar",
   "metadata": {
    "tags": [
     "allowerror"
    ]
   },
   "outputs": [],
   "source": [
    "ledger_df[ledger_df['Product Name'].str.contains('LEGO')]"
   ]
  },
  {
   "cell_type": "code",
   "execution_count": null,
   "id": "colonial-hamilton",
   "metadata": {
    "tags": []
   },
   "outputs": [],
   "source": [
    "ledger_df[ledger_df['Product Name'].str.contains('LEGO').fillna(False)]"
   ]
  },
  {
   "cell_type": "markdown",
   "id": "formed-dictionary",
   "metadata": {},
   "source": [
    "### Replacing parts of text"
   ]
  },
  {
   "cell_type": "code",
   "execution_count": null,
   "id": "unusual-pension",
   "metadata": {
    "tags": []
   },
   "outputs": [],
   "source": [
    "ledger_df['Channel'].str.replace('.com', '')"
   ]
  },
  {
   "cell_type": "code",
   "execution_count": null,
   "id": "continuous-personal",
   "metadata": {
    "tags": []
   },
   "outputs": [],
   "source": [
    "ledger_df['Channel'].replace('iBay.com', 'Anazon.com')"
   ]
  },
  {
   "cell_type": "markdown",
   "id": "identified-journalist",
   "metadata": {},
   "source": [
    "### Splitting text values into multiple columns"
   ]
  },
  {
   "cell_type": "code",
   "execution_count": null,
   "id": "stuck-parade",
   "metadata": {
    "tags": []
   },
   "outputs": [],
   "source": [
    "ledger_df[['Product Name', 'ProductID', 'Unit Price', 'Quantity', 'Total']]"
   ]
  },
  {
   "cell_type": "code",
   "execution_count": null,
   "id": "essential-grant",
   "metadata": {
    "tags": []
   },
   "outputs": [],
   "source": [
    "ledger_df['ProductID'].str.split('/')"
   ]
  },
  {
   "cell_type": "code",
   "execution_count": null,
   "id": "olive-liver",
   "metadata": {
    "tags": []
   },
   "outputs": [],
   "source": [
    "ledger_df['ProductID'].str.split('/', expand=True)"
   ]
  },
  {
   "cell_type": "code",
   "execution_count": null,
   "id": "built-video",
   "metadata": {
    "tags": []
   },
   "outputs": [],
   "source": [
    "ledger_df[['CategoryID', 'ItemID']] = ledger_df['ProductID'].str.split('/', expand=True)\n",
    "\n",
    "ledger_df"
   ]
  },
  {
   "cell_type": "markdown",
   "id": "seven-actor",
   "metadata": {},
   "source": [
    "### Concatenating text columns"
   ]
  },
  {
   "cell_type": "code",
   "execution_count": null,
   "id": "married-enhancement",
   "metadata": {
    "tags": []
   },
   "outputs": [],
   "source": [
    "'Category ID is: ' + ledger_df['CategoryID']"
   ]
  },
  {
   "cell_type": "code",
   "execution_count": null,
   "id": "progressive-installation",
   "metadata": {
    "tags": []
   },
   "outputs": [],
   "source": [
    "ledger_df['CategoryID'] + '/' + ledger_df['ItemID']"
   ]
  },
  {
   "cell_type": "code",
   "execution_count": null,
   "id": "proved-muscle",
   "metadata": {
    "tags": [
     "allowerror"
    ]
   },
   "outputs": [],
   "source": [
    "ledger_df['InvoiceNo'] + '/' + ledger_df['AccountNo']"
   ]
  },
  {
   "cell_type": "code",
   "execution_count": null,
   "id": "perfect-keyboard",
   "metadata": {
    "tags": []
   },
   "outputs": [],
   "source": [
    "ledger_df['InvoiceNo'].astype('string') + '/' + ledger_df['AccountNo'].astype('string')"
   ]
  },
  {
   "cell_type": "markdown",
   "id": "included-explanation",
   "metadata": {},
   "source": [
    "## String data types in pandas"
   ]
  },
  {
   "cell_type": "code",
   "execution_count": null,
   "id": "coordinated-volleyball",
   "metadata": {
    "tags": []
   },
   "outputs": [],
   "source": [
    "ledger_df = pd.read_excel('Q1Sales.xlsx')\n",
    "\n",
    "ledger_df.info()"
   ]
  },
  {
   "cell_type": "code",
   "execution_count": null,
   "id": "completed-effects",
   "metadata": {
    "tags": []
   },
   "outputs": [],
   "source": [
    "ledger_df = pd.read_excel('Q1Sales.xlsx').convert_dtypes()\n",
    "\n",
    "ledger_df.info()"
   ]
  },
  {
   "cell_type": "code",
   "execution_count": null,
   "id": "sporting-subcommittee",
   "metadata": {
    "tags": []
   },
   "outputs": [],
   "source": [
    "ledger_df['Product Name'].astype('string')"
   ]
  },
  {
   "cell_type": "code",
   "execution_count": null,
   "id": "every-klein",
   "metadata": {
    "tags": []
   },
   "outputs": [],
   "source": [
    "pd.Series([1011, '1320', \"980\", 645, 340])"
   ]
  },
  {
   "cell_type": "code",
   "execution_count": null,
   "id": "interpreted-penalty",
   "metadata": {
    "tags": []
   },
   "outputs": [],
   "source": [
    "pd.Series([1011, '1320', \"980\", 645, 340]).str.strip('')"
   ]
  },
  {
   "cell_type": "code",
   "execution_count": null,
   "id": "martial-satellite",
   "metadata": {
    "tags": []
   },
   "outputs": [],
   "source": [
    "pd.Series([1011, '1320', \"980\", 645, 340]).astype('string').str.strip('')"
   ]
  },
  {
   "cell_type": "markdown",
   "id": "controlled-crest",
   "metadata": {},
   "source": [
    "## Overthinking: Regular expressions"
   ]
  },
  {
   "cell_type": "code",
   "execution_count": null,
   "id": "armed-anthropology",
   "metadata": {
    "tags": []
   },
   "outputs": [],
   "source": [
    "pattern = '(Nikon).*(Camera)'"
   ]
  },
  {
   "cell_type": "code",
   "execution_count": null,
   "id": "marine-integration",
   "metadata": {
    "tags": []
   },
   "outputs": [],
   "source": [
    "is_camera = ledger_df['Product Name'].str.contains('camera', case=False).fillna(False)\n",
    "\n",
    "cameras_df = ledger_df[is_camera]\n",
    "cameras_df = cameras_df[['ProductID', 'Product Name', 'Total']]\n",
    "\n",
    "cameras_df"
   ]
  },
  {
   "cell_type": "code",
   "execution_count": null,
   "id": "welsh-telephone",
   "metadata": {
    "tags": []
   },
   "outputs": [],
   "source": [
    "pattern = '(Nikon|Canon|Kodak)'\n",
    "cameras_df = cameras_df[cameras_df['Product Name'].str.contains(pattern)]\n",
    "\n",
    "cameras_df"
   ]
  },
  {
   "cell_type": "code",
   "execution_count": null,
   "id": "continuous-remains",
   "metadata": {
    "tags": []
   },
   "outputs": [],
   "source": [
    "cameras_df[\n",
    "    (cameras_df['Product Name'].str.contains('Nikon'))\n",
    "    | (cameras_df['Product Name'].str.contains('Canon'))\n",
    "    | (cameras_df['Product Name'].str.contains('Kodak'))\n",
    "]"
   ]
  },
  {
   "cell_type": "code",
   "execution_count": null,
   "id": "announced-remove",
   "metadata": {
    "tags": []
   },
   "outputs": [],
   "source": [
    "pattern = '(Nikon|Canon|Kodak)\\s+(\\w*)'\n",
    "\n",
    "cameras_df['Product Name'].str.extract(pattern)"
   ]
  }
 ],
 "metadata": {
  "jupytext": {
   "formats": "ipynb"
  },
  "kernelspec": {
   "display_name": "Python 3",
   "language": "python",
   "name": "python3"
  }
 },
 "nbformat": 4,
 "nbformat_minor": 5
}

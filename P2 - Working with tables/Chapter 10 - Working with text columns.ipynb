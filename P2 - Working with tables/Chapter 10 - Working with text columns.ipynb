{
 "cells": [
  {
   "cell_type": "markdown",
   "id": "magnetic-practitioner",
   "metadata": {},
   "source": [
    "\n",
    "# Working with text columns\n",
    "\n",
    "## Python strings"
   ]
  },
  {
   "cell_type": "code",
   "execution_count": null,
   "id": "amended-davis",
   "metadata": {
    "tags": []
   },
   "outputs": [],
   "source": [
    "message = 'hello, python for accounting'"
   ]
  },
  {
   "cell_type": "code",
   "execution_count": null,
   "id": "inappropriate-venue",
   "metadata": {
    "tags": []
   },
   "outputs": [],
   "source": [
    "message.upper()"
   ]
  },
  {
   "cell_type": "code",
   "execution_count": null,
   "id": "angry-country",
   "metadata": {
    "tags": []
   },
   "outputs": [],
   "source": [
    "message = message.upper()\n",
    "\n",
    "message"
   ]
  },
  {
   "cell_type": "code",
   "execution_count": null,
   "id": "impressive-aspect",
   "metadata": {
    "tags": []
   },
   "outputs": [],
   "source": [
    "message[:5]"
   ]
  },
  {
   "cell_type": "code",
   "execution_count": null,
   "id": "isolated-lancaster",
   "metadata": {
    "tags": []
   },
   "outputs": [],
   "source": [
    "'PYTHON' in message"
   ]
  },
  {
   "cell_type": "code",
   "execution_count": null,
   "id": "frequent-hospital",
   "metadata": {
    "tags": []
   },
   "outputs": [],
   "source": [
    "'pandas' in message"
   ]
  },
  {
   "cell_type": "code",
   "execution_count": null,
   "id": "binary-correspondence",
   "metadata": {
    "tags": []
   },
   "outputs": [],
   "source": [
    "'hello' + ', ' +  'python ' + 'for ' + 'accounting'"
   ]
  },
  {
   "cell_type": "code",
   "execution_count": null,
   "id": "tropical-pocket",
   "metadata": {
    "tags": []
   },
   "outputs": [],
   "source": [
    "first_name = \"margaret\"\n",
    "last_name = \"hamilton\"\n",
    "age = 83\n",
    "\n",
    "f'{first_name} {last_name} is {age} years old!'"
   ]
  },
  {
   "cell_type": "markdown",
   "id": "civilian-rebound",
   "metadata": {},
   "source": [
    "## String methods in pandas"
   ]
  },
  {
   "cell_type": "code",
   "execution_count": null,
   "id": "crude-syndication",
   "metadata": {
    "tags": []
   },
   "outputs": [],
   "source": [
    "ledger_df['Channel'].str.upper()"
   ]
  },
  {
   "cell_type": "code",
   "execution_count": null,
   "id": "lovely-acrobat",
   "metadata": {
    "tags": [
     "allowerror"
    ]
   },
   "outputs": [],
   "source": [
    "ledger_df['Channel'].upper()"
   ]
  },
  {
   "cell_type": "code",
   "execution_count": null,
   "id": "overhead-garbage",
   "metadata": {
    "tags": []
   },
   "outputs": [],
   "source": [
    "ledger_df['Product Name']"
   ]
  },
  {
   "cell_type": "code",
   "execution_count": null,
   "id": "nuclear-museum",
   "metadata": {
    "tags": []
   },
   "outputs": [],
   "source": [
    "ledger_df['Product Name'].str.upper()"
   ]
  },
  {
   "cell_type": "code",
   "execution_count": null,
   "id": "pregnant-friday",
   "metadata": {
    "tags": []
   },
   "outputs": [],
   "source": [
    "ledger_df['Product Name'].str.contains('LEGO')"
   ]
  },
  {
   "cell_type": "code",
   "execution_count": null,
   "id": "systematic-render",
   "metadata": {
    "tags": [
     "allowerror"
    ]
   },
   "outputs": [],
   "source": [
    "ledger_df[ledger_df['Product Name'].str.contains('LEGO')]"
   ]
  },
  {
   "cell_type": "code",
   "execution_count": null,
   "id": "checked-berkeley",
   "metadata": {
    "tags": []
   },
   "outputs": [],
   "source": [
    "ledger_df[ledger_df['Product Name'].str.contains('LEGO').fillna(False)]"
   ]
  },
  {
   "cell_type": "markdown",
   "id": "stable-puzzle",
   "metadata": {},
   "source": [
    "### Replacing parts of text"
   ]
  },
  {
   "cell_type": "code",
   "execution_count": null,
   "id": "designing-prison",
   "metadata": {
    "tags": []
   },
   "outputs": [],
   "source": [
    "ledger_df['Channel'].str.replace('.com', '')"
   ]
  },
  {
   "cell_type": "code",
   "execution_count": null,
   "id": "greater-arthur",
   "metadata": {
    "tags": []
   },
   "outputs": [],
   "source": [
    "ledger_df['Channel'].replace('iBay.com', 'Anazon.com')"
   ]
  },
  {
   "cell_type": "markdown",
   "id": "oriental-commitment",
   "metadata": {},
   "source": [
    "### Splitting text values into multiple columns"
   ]
  },
  {
   "cell_type": "code",
   "execution_count": null,
   "id": "coordinate-literature",
   "metadata": {
    "tags": []
   },
   "outputs": [],
   "source": [
    "ledger_df[['Product Name', 'ProductID', 'Unit Price', 'Quantity', 'Total']]"
   ]
  },
  {
   "cell_type": "code",
   "execution_count": null,
   "id": "buried-package",
   "metadata": {
    "tags": []
   },
   "outputs": [],
   "source": [
    "ledger_df['ProductID'].str.split('/')"
   ]
  },
  {
   "cell_type": "code",
   "execution_count": null,
   "id": "chinese-point",
   "metadata": {
    "tags": []
   },
   "outputs": [],
   "source": [
    "ledger_df['ProductID'].str.split('/', expand=True)"
   ]
  },
  {
   "cell_type": "code",
   "execution_count": null,
   "id": "intermediate-transport",
   "metadata": {
    "tags": []
   },
   "outputs": [],
   "source": [
    "ledger_df[['CategoryID', 'ItemID']] = ledger_df['ProductID'].str.split('/', expand=True)\n",
    "\n",
    "ledger_df"
   ]
  },
  {
   "cell_type": "markdown",
   "id": "union-voluntary",
   "metadata": {},
   "source": [
    "### Concatenating text columns"
   ]
  },
  {
   "cell_type": "code",
   "execution_count": null,
   "id": "racial-ranch",
   "metadata": {
    "tags": []
   },
   "outputs": [],
   "source": [
    "'Category ID is: ' + ledger_df['CategoryID']"
   ]
  },
  {
   "cell_type": "code",
   "execution_count": null,
   "id": "brief-maker",
   "metadata": {
    "tags": []
   },
   "outputs": [],
   "source": [
    "ledger_df['CategoryID'] + '/' + ledger_df['ItemID']"
   ]
  },
  {
   "cell_type": "code",
   "execution_count": null,
   "id": "crude-pricing",
   "metadata": {
    "tags": [
     "allowerror"
    ]
   },
   "outputs": [],
   "source": [
    "ledger_df['InvoiceNo'] + '/' + ledger_df['AccountNo']"
   ]
  },
  {
   "cell_type": "code",
   "execution_count": null,
   "id": "speaking-locator",
   "metadata": {
    "tags": []
   },
   "outputs": [],
   "source": [
    "ledger_df['InvoiceNo'].astype('string') + '/' + ledger_df['AccountNo'].astype('string')"
   ]
  },
  {
   "cell_type": "markdown",
   "id": "silent-instrument",
   "metadata": {},
   "source": [
    "## String data types in pandas"
   ]
  },
  {
   "cell_type": "code",
   "execution_count": null,
   "id": "documented-bookmark",
   "metadata": {
    "tags": []
   },
   "outputs": [],
   "source": [
    "ledger_df = pd.read_excel('Q1Sales.xlsx')\n",
    "\n",
    "ledger_df.info()"
   ]
  },
  {
   "cell_type": "code",
   "execution_count": null,
   "id": "centered-blame",
   "metadata": {
    "tags": []
   },
   "outputs": [],
   "source": [
    "ledger_df = pd.read_excel('Q1Sales.xlsx').convert_dtypes()\n",
    "\n",
    "ledger_df.info()"
   ]
  },
  {
   "cell_type": "code",
   "execution_count": null,
   "id": "commercial-uniform",
   "metadata": {
    "tags": []
   },
   "outputs": [],
   "source": [
    "ledger_df['Product Name'].astype('string')"
   ]
  },
  {
   "cell_type": "code",
   "execution_count": null,
   "id": "norman-criminal",
   "metadata": {
    "tags": []
   },
   "outputs": [],
   "source": [
    "pd.Series([1011, '1320', \"980\", 645, 340])"
   ]
  },
  {
   "cell_type": "code",
   "execution_count": null,
   "id": "hindu-pension",
   "metadata": {
    "tags": []
   },
   "outputs": [],
   "source": [
    "pd.Series([1011, '1320', \"980\", 645, 340]).str.strip('')"
   ]
  },
  {
   "cell_type": "code",
   "execution_count": null,
   "id": "metropolitan-genetics",
   "metadata": {
    "tags": []
   },
   "outputs": [],
   "source": [
    "pd.Series([1011, '1320', \"980\", 645, 340]).astype('string').str.strip('')"
   ]
  },
  {
   "cell_type": "markdown",
   "id": "adverse-martial",
   "metadata": {},
   "source": [
    "## Overthinking: Regular expressions"
   ]
  },
  {
   "cell_type": "code",
   "execution_count": null,
   "id": "authentic-dubai",
   "metadata": {
    "tags": []
   },
   "outputs": [],
   "source": [
    "pattern = '(Nikon).*(Camera)'"
   ]
  },
  {
   "cell_type": "code",
   "execution_count": null,
   "id": "harmful-transformation",
   "metadata": {
    "tags": []
   },
   "outputs": [],
   "source": [
    "is_camera = ledger_df['Product Name'].str.contains('camera', case=False).fillna(False)\n",
    "\n",
    "cameras_df = ledger_df[is_camera]\n",
    "cameras_df = cameras_df[['ProductID', 'Product Name', 'Total']]\n",
    "\n",
    "cameras_df"
   ]
  },
  {
   "cell_type": "code",
   "execution_count": null,
   "id": "unable-wedding",
   "metadata": {
    "tags": []
   },
   "outputs": [],
   "source": [
    "pattern = '(Nikon|Canon|Kodak)'\n",
    "cameras_df = cameras_df[cameras_df['Product Name'].str.contains(pattern)]\n",
    "\n",
    "cameras_df"
   ]
  },
  {
   "cell_type": "code",
   "execution_count": null,
   "id": "aquatic-aurora",
   "metadata": {
    "tags": []
   },
   "outputs": [],
   "source": [
    "cameras_df[\n",
    "    (cameras_df['Product Name'].str.contains('Nikon'))\n",
    "    | (cameras_df['Product Name'].str.contains('Canon'))\n",
    "    | (cameras_df['Product Name'].str.contains('Kodak'))\n",
    "]"
   ]
  },
  {
   "cell_type": "code",
   "execution_count": null,
   "id": "collaborative-arrival",
   "metadata": {
    "tags": []
   },
   "outputs": [],
   "source": [
    "pattern = '(Nikon|Canon|Kodak)\\s+(\\w*)'\n",
    "\n",
    "cameras_df['Product Name'].str.extract(pattern)"
   ]
  }
 ],
 "metadata": {
  "jupytext": {
   "formats": "ipynb"
  },
  "kernelspec": {
   "display_name": "Python 3",
   "language": "python",
   "name": "python3"
  }
 },
 "nbformat": 4,
 "nbformat_minor": 5
}

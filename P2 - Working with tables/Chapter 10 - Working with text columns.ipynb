{
 "cells": [
  {
   "cell_type": "markdown",
   "id": "funny-reputation",
   "metadata": {},
   "source": [
    "\n",
    "# Working with text columns\n",
    "\n",
    "## Python strings"
   ]
  },
  {
   "cell_type": "code",
   "execution_count": null,
   "id": "social-prompt",
   "metadata": {
    "tags": []
   },
   "outputs": [],
   "source": [
    "message = 'hello, python for accounting'"
   ]
  },
  {
   "cell_type": "code",
   "execution_count": null,
   "id": "interstate-fruit",
   "metadata": {
    "tags": []
   },
   "outputs": [],
   "source": [
    "message.upper()"
   ]
  },
  {
   "cell_type": "code",
   "execution_count": null,
   "id": "metallic-enforcement",
   "metadata": {
    "tags": []
   },
   "outputs": [],
   "source": [
    "message = message.upper()\n",
    "\n",
    "message"
   ]
  },
  {
   "cell_type": "code",
   "execution_count": null,
   "id": "confidential-buffer",
   "metadata": {
    "tags": []
   },
   "outputs": [],
   "source": [
    "message[:5]"
   ]
  },
  {
   "cell_type": "code",
   "execution_count": null,
   "id": "corresponding-stomach",
   "metadata": {
    "tags": []
   },
   "outputs": [],
   "source": [
    "'PYTHON' in message"
   ]
  },
  {
   "cell_type": "code",
   "execution_count": null,
   "id": "lonely-shelf",
   "metadata": {
    "tags": []
   },
   "outputs": [],
   "source": [
    "'pandas' in message"
   ]
  },
  {
   "cell_type": "code",
   "execution_count": null,
   "id": "persistent-dealing",
   "metadata": {
    "tags": []
   },
   "outputs": [],
   "source": [
    "'hello' + ', ' +  'python ' + 'for ' + 'accounting'"
   ]
  },
  {
   "cell_type": "code",
   "execution_count": null,
   "id": "decreased-flush",
   "metadata": {
    "tags": []
   },
   "outputs": [],
   "source": [
    "first_name = \"margaret\"\n",
    "last_name = \"hamilton\"\n",
    "age = 83\n",
    "\n",
    "f'{first_name} {last_name} is {age} years old!'"
   ]
  },
  {
   "cell_type": "markdown",
   "id": "visible-sport",
   "metadata": {},
   "source": [
    "## String methods in pandas"
   ]
  },
  {
   "cell_type": "code",
   "execution_count": null,
   "id": "median-craft",
   "metadata": {
    "tags": []
   },
   "outputs": [],
   "source": [
    "ledger_df['Channel'].str.upper()"
   ]
  },
  {
   "cell_type": "code",
   "execution_count": null,
   "id": "german-fighter",
   "metadata": {
    "tags": [
     "allowerror"
    ]
   },
   "outputs": [],
   "source": [
    "ledger_df['Channel'].upper()"
   ]
  },
  {
   "cell_type": "code",
   "execution_count": null,
   "id": "interstate-deficit",
   "metadata": {
    "tags": []
   },
   "outputs": [],
   "source": [
    "ledger_df['Product Name']"
   ]
  },
  {
   "cell_type": "code",
   "execution_count": null,
   "id": "matched-syndication",
   "metadata": {
    "tags": []
   },
   "outputs": [],
   "source": [
    "ledger_df['Product Name'].str.upper()"
   ]
  },
  {
   "cell_type": "code",
   "execution_count": null,
   "id": "italian-acrobat",
   "metadata": {
    "tags": []
   },
   "outputs": [],
   "source": [
    "ledger_df['Product Name'].str.contains('LEGO')"
   ]
  },
  {
   "cell_type": "code",
   "execution_count": null,
   "id": "hindu-locator",
   "metadata": {
    "tags": [
     "allowerror"
    ]
   },
   "outputs": [],
   "source": [
    "ledger_df[ledger_df['Product Name'].str.contains('LEGO')]"
   ]
  },
  {
   "cell_type": "code",
   "execution_count": null,
   "id": "possible-hypothesis",
   "metadata": {
    "tags": []
   },
   "outputs": [],
   "source": [
    "ledger_df[ledger_df['Product Name'].str.contains('LEGO').fillna(False)]"
   ]
  },
  {
   "cell_type": "markdown",
   "id": "partial-flour",
   "metadata": {},
   "source": [
    "### Replacing parts of text"
   ]
  },
  {
   "cell_type": "code",
   "execution_count": null,
   "id": "compact-elevation",
   "metadata": {
    "tags": []
   },
   "outputs": [],
   "source": [
    "ledger_df['Channel'].str.replace('.com', '')"
   ]
  },
  {
   "cell_type": "code",
   "execution_count": null,
   "id": "collectible-defensive",
   "metadata": {
    "tags": []
   },
   "outputs": [],
   "source": [
    "ledger_df['Channel'].replace('iBay.com', 'Anazon.com')"
   ]
  },
  {
   "cell_type": "markdown",
   "id": "sensitive-shame",
   "metadata": {},
   "source": [
    "### Splitting text values into multiple columns"
   ]
  },
  {
   "cell_type": "code",
   "execution_count": null,
   "id": "systematic-compatibility",
   "metadata": {
    "tags": []
   },
   "outputs": [],
   "source": [
    "ledger_df[['Product Name', 'ProductID', 'Unit Price', 'Quantity', 'Total']]"
   ]
  },
  {
   "cell_type": "code",
   "execution_count": null,
   "id": "foster-wings",
   "metadata": {
    "tags": []
   },
   "outputs": [],
   "source": [
    "ledger_df['ProductID'].str.split('/')"
   ]
  },
  {
   "cell_type": "code",
   "execution_count": null,
   "id": "logical-missouri",
   "metadata": {
    "tags": []
   },
   "outputs": [],
   "source": [
    "ledger_df['ProductID'].str.split('/', expand=True)"
   ]
  },
  {
   "cell_type": "code",
   "execution_count": null,
   "id": "satellite-kingdom",
   "metadata": {
    "tags": []
   },
   "outputs": [],
   "source": [
    "ledger_df[['CategoryID', 'ItemID']] = ledger_df['ProductID'].str.split('/', expand=True)\n",
    "\n",
    "ledger_df"
   ]
  },
  {
   "cell_type": "markdown",
   "id": "realistic-kenya",
   "metadata": {},
   "source": [
    "### Concatenating text columns"
   ]
  },
  {
   "cell_type": "code",
   "execution_count": null,
   "id": "minus-lightning",
   "metadata": {
    "tags": []
   },
   "outputs": [],
   "source": [
    "'Category ID is: ' + ledger_df['CategoryID']"
   ]
  },
  {
   "cell_type": "code",
   "execution_count": null,
   "id": "boring-wagon",
   "metadata": {
    "tags": []
   },
   "outputs": [],
   "source": [
    "ledger_df['CategoryID'] + '/' + ledger_df['ItemID']"
   ]
  },
  {
   "cell_type": "code",
   "execution_count": null,
   "id": "personal-investigator",
   "metadata": {
    "tags": [
     "allowerror"
    ]
   },
   "outputs": [],
   "source": [
    "ledger_df['InvoiceNo'] + '/' + ledger_df['AccountNo']"
   ]
  },
  {
   "cell_type": "code",
   "execution_count": null,
   "id": "oriented-hometown",
   "metadata": {
    "tags": []
   },
   "outputs": [],
   "source": [
    "ledger_df['InvoiceNo'].astype('string') + '/' + ledger_df['AccountNo'].astype('string')"
   ]
  },
  {
   "cell_type": "markdown",
   "id": "unable-wagner",
   "metadata": {},
   "source": [
    "## String data types in pandas"
   ]
  },
  {
   "cell_type": "code",
   "execution_count": null,
   "id": "distributed-vienna",
   "metadata": {
    "tags": []
   },
   "outputs": [],
   "source": [
    "ledger_df = pd.read_excel('Q1Sales.xlsx')\n",
    "\n",
    "ledger_df.info()"
   ]
  },
  {
   "cell_type": "code",
   "execution_count": null,
   "id": "turned-extension",
   "metadata": {
    "tags": []
   },
   "outputs": [],
   "source": [
    "ledger_df = pd.read_excel('Q1Sales.xlsx').convert_dtypes()\n",
    "\n",
    "ledger_df.info()"
   ]
  },
  {
   "cell_type": "code",
   "execution_count": null,
   "id": "embedded-validity",
   "metadata": {
    "tags": []
   },
   "outputs": [],
   "source": [
    "ledger_df['Product Name'].astype('string')"
   ]
  },
  {
   "cell_type": "code",
   "execution_count": null,
   "id": "decent-parent",
   "metadata": {
    "tags": []
   },
   "outputs": [],
   "source": [
    "pd.Series([1011, '1320', \"980\", 645, 340])"
   ]
  },
  {
   "cell_type": "code",
   "execution_count": null,
   "id": "golden-humor",
   "metadata": {
    "tags": []
   },
   "outputs": [],
   "source": [
    "pd.Series([1011, '1320', \"980\", 645, 340]).str.strip('')"
   ]
  },
  {
   "cell_type": "code",
   "execution_count": null,
   "id": "unusual-english",
   "metadata": {
    "tags": []
   },
   "outputs": [],
   "source": [
    "pd.Series([1011, '1320', \"980\", 645, 340]).astype('string').str.strip('')"
   ]
  },
  {
   "cell_type": "markdown",
   "id": "major-sensitivity",
   "metadata": {},
   "source": [
    "## Overthinking: Regular expressions"
   ]
  },
  {
   "cell_type": "code",
   "execution_count": null,
   "id": "desperate-memory",
   "metadata": {
    "tags": []
   },
   "outputs": [],
   "source": [
    "pattern = '(Nikon).*(Camera)'"
   ]
  },
  {
   "cell_type": "code",
   "execution_count": null,
   "id": "turkish-assessment",
   "metadata": {
    "tags": []
   },
   "outputs": [],
   "source": [
    "is_camera = ledger_df['Product Name'].str.contains('camera', case=False).fillna(False)\n",
    "\n",
    "cameras_df = ledger_df[is_camera]\n",
    "cameras_df = cameras_df[['ProductID', 'Product Name', 'Total']]\n",
    "\n",
    "cameras_df"
   ]
  },
  {
   "cell_type": "code",
   "execution_count": null,
   "id": "straight-church",
   "metadata": {
    "tags": []
   },
   "outputs": [],
   "source": [
    "pattern = '(Nikon|Canon|Kodak)'\n",
    "cameras_df = cameras_df[cameras_df['Product Name'].str.contains(pattern)]\n",
    "\n",
    "cameras_df"
   ]
  },
  {
   "cell_type": "code",
   "execution_count": null,
   "id": "instrumental-colony",
   "metadata": {
    "tags": []
   },
   "outputs": [],
   "source": [
    "cameras_df[\n",
    "    (cameras_df['Product Name'].str.contains('Nikon'))\n",
    "    | (cameras_df['Product Name'].str.contains('Canon'))\n",
    "    | (cameras_df['Product Name'].str.contains('Kodak'))\n",
    "]"
   ]
  },
  {
   "cell_type": "code",
   "execution_count": null,
   "id": "hired-success",
   "metadata": {
    "tags": []
   },
   "outputs": [],
   "source": [
    "pattern = '(Nikon|Canon|Kodak)\\s+(\\w*)'\n",
    "\n",
    "cameras_df['Product Name'].str.extract(pattern)"
   ]
  }
 ],
 "metadata": {
  "jupytext": {
   "formats": "ipynb"
  },
  "kernelspec": {
   "display_name": "Python 3",
   "language": "python",
   "name": "python3"
  }
 },
 "nbformat": 4,
 "nbformat_minor": 5
}

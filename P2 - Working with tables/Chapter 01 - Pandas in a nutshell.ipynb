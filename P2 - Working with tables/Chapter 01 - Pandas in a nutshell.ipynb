{
 "cells": [
  {
   "cell_type": "markdown",
   "id": "activated-uganda",
   "metadata": {},
   "source": [
    "\n",
    "# Pandas in a nutshell\n",
    "\n",
    "## Getting started"
   ]
  },
  {
   "cell_type": "code",
   "execution_count": null,
   "id": "mathematical-cologne",
   "metadata": {
    "tags": []
   },
   "outputs": [],
   "source": [
    "import pandas as pd"
   ]
  },
  {
   "cell_type": "markdown",
   "id": "engaging-angel",
   "metadata": {},
   "source": [
    "## Reading data from spreadsheets"
   ]
  },
  {
   "cell_type": "code",
   "execution_count": null,
   "id": "neural-grove",
   "metadata": {
    "tags": []
   },
   "outputs": [],
   "source": [
    "ledger_df = pd.read_excel('Q1Sales.xlsx')"
   ]
  },
  {
   "cell_type": "code",
   "execution_count": null,
   "id": "metric-month",
   "metadata": {
    "tags": []
   },
   "outputs": [],
   "source": [
    "ledger_df"
   ]
  },
  {
   "cell_type": "markdown",
   "id": "german-disco",
   "metadata": {},
   "source": [
    "## Preparing and transforming data"
   ]
  },
  {
   "cell_type": "code",
   "execution_count": null,
   "id": "corresponding-blame",
   "metadata": {
    "tags": []
   },
   "outputs": [],
   "source": [
    "ledger_df['Channel']"
   ]
  },
  {
   "cell_type": "code",
   "execution_count": null,
   "id": "prospective-telling",
   "metadata": {
    "tags": []
   },
   "outputs": [],
   "source": [
    "ledger_df['Channel'].value_counts()"
   ]
  },
  {
   "cell_type": "code",
   "execution_count": null,
   "id": "acoustic-relationship",
   "metadata": {
    "tags": []
   },
   "outputs": [],
   "source": [
    "ledger_df['Total'].sum()"
   ]
  },
  {
   "cell_type": "code",
   "execution_count": null,
   "id": "painful-master",
   "metadata": {
    "tags": []
   },
   "outputs": [],
   "source": [
    "def make_upper(value):\n",
    "    return value.strip('.com').upper()\n",
    "\n",
    "ledger_df['Channel'].apply(make_upper)"
   ]
  },
  {
   "cell_type": "code",
   "execution_count": null,
   "id": "juvenile-parade",
   "metadata": {
    "tags": []
   },
   "outputs": [],
   "source": [
    "ledger_df['Channel'] = ledger_df['Channel'].apply(make_upper)"
   ]
  },
  {
   "cell_type": "code",
   "execution_count": null,
   "id": "abroad-april",
   "metadata": {
    "tags": []
   },
   "outputs": [],
   "source": [
    "ledger_df"
   ]
  },
  {
   "cell_type": "code",
   "execution_count": null,
   "id": "occupied-collection",
   "metadata": {
    "tags": []
   },
   "outputs": [],
   "source": [
    "ledger_df[\n",
    "    (ledger_df['Channel'] == 'WALCART') &  \n",
    "    (ledger_df['Product Name'].str.contains('Camera')) &\n",
    "    (ledger_df['Quantity'] > 10)\n",
    "]"
   ]
  },
  {
   "cell_type": "code",
   "execution_count": null,
   "id": "sunset-steering",
   "metadata": {
    "tags": []
   },
   "outputs": [],
   "source": [
    "ledger_df.pivot_table(\n",
    "    index='Date',\n",
    "    columns='Channel',\n",
    "    values='Total',\n",
    "    aggfunc='sum'\n",
    ")"
   ]
  },
  {
   "cell_type": "code",
   "execution_count": null,
   "id": "indian-vertical",
   "metadata": {
    "tags": []
   },
   "outputs": [],
   "source": [
    "daily_totals_df = ledger_df.pivot_table(\n",
    "    index='Date',\n",
    "    columns='Channel',\n",
    "    values='Total',\n",
    "    aggfunc='sum'\n",
    ")"
   ]
  },
  {
   "cell_type": "markdown",
   "id": "visible-rally",
   "metadata": {},
   "source": [
    "## Visualizing data"
   ]
  },
  {
   "cell_type": "code",
   "execution_count": null,
   "id": "instant-monaco",
   "metadata": {
    "tags": []
   },
   "outputs": [],
   "source": [
    "daily_totals_df.plot()"
   ]
  },
  {
   "cell_type": "markdown",
   "id": "roman-buyer",
   "metadata": {},
   "source": [
    "## Writing data to a spreadsheet"
   ]
  },
  {
   "cell_type": "code",
   "execution_count": null,
   "id": "scheduled-toolbox",
   "metadata": {
    "tags": []
   },
   "outputs": [],
   "source": [
    "daily_totals_df.to_excel('DailyTotals.xlsx')"
   ]
  }
 ],
 "metadata": {
  "jupytext": {
   "formats": "ipynb"
  },
  "kernelspec": {
   "display_name": "Python 3",
   "language": "python",
   "name": "python3"
  }
 },
 "nbformat": 4,
 "nbformat_minor": 5
}

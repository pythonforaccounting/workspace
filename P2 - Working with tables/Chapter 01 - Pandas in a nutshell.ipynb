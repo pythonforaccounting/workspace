{
 "cells": [
  {
   "cell_type": "markdown",
   "id": "extended-blond",
   "metadata": {},
   "source": [
    "\n",
    "# Pandas in a nutshell\n",
    "\n",
    "## Getting started"
   ]
  },
  {
   "cell_type": "code",
   "execution_count": null,
   "id": "complex-folks",
   "metadata": {
    "tags": []
   },
   "outputs": [],
   "source": [
    "import pandas as pd"
   ]
  },
  {
   "cell_type": "markdown",
   "id": "domestic-appreciation",
   "metadata": {},
   "source": [
    "## Reading data from spreadsheets"
   ]
  },
  {
   "cell_type": "code",
   "execution_count": null,
   "id": "current-angle",
   "metadata": {
    "tags": []
   },
   "outputs": [],
   "source": [
    "ledger_df = pd.read_excel('Q1Sales.xlsx')"
   ]
  },
  {
   "cell_type": "code",
   "execution_count": null,
   "id": "sustained-cameroon",
   "metadata": {
    "tags": []
   },
   "outputs": [],
   "source": [
    "ledger_df"
   ]
  },
  {
   "cell_type": "markdown",
   "id": "likely-celebrity",
   "metadata": {},
   "source": [
    "## Preparing and transforming data"
   ]
  },
  {
   "cell_type": "code",
   "execution_count": null,
   "id": "light-allen",
   "metadata": {
    "tags": []
   },
   "outputs": [],
   "source": [
    "ledger_df['Channel']"
   ]
  },
  {
   "cell_type": "code",
   "execution_count": null,
   "id": "conservative-dancing",
   "metadata": {
    "tags": []
   },
   "outputs": [],
   "source": [
    "ledger_df['Channel'].value_counts()"
   ]
  },
  {
   "cell_type": "code",
   "execution_count": null,
   "id": "necessary-chapter",
   "metadata": {
    "tags": []
   },
   "outputs": [],
   "source": [
    "ledger_df['Total'].sum()"
   ]
  },
  {
   "cell_type": "code",
   "execution_count": null,
   "id": "liked-impossible",
   "metadata": {
    "tags": []
   },
   "outputs": [],
   "source": [
    "def make_upper(value):\n",
    "    return value.strip('.com').upper()\n",
    "\n",
    "ledger_df['Channel'].apply(make_upper)"
   ]
  },
  {
   "cell_type": "code",
   "execution_count": null,
   "id": "norwegian-lancaster",
   "metadata": {
    "tags": []
   },
   "outputs": [],
   "source": [
    "ledger_df['Channel'] = ledger_df['Channel'].apply(make_upper)"
   ]
  },
  {
   "cell_type": "code",
   "execution_count": null,
   "id": "tough-peninsula",
   "metadata": {
    "tags": []
   },
   "outputs": [],
   "source": [
    "ledger_df"
   ]
  },
  {
   "cell_type": "code",
   "execution_count": null,
   "id": "quality-rogers",
   "metadata": {
    "tags": []
   },
   "outputs": [],
   "source": [
    "ledger_df[\n",
    "    (ledger_df['Channel'] == 'WALCART') &  \n",
    "    (ledger_df['Product Name'].str.contains('Camera')) &\n",
    "    (ledger_df['Quantity'] > 10)\n",
    "]"
   ]
  },
  {
   "cell_type": "code",
   "execution_count": null,
   "id": "adverse-removal",
   "metadata": {
    "tags": []
   },
   "outputs": [],
   "source": [
    "ledger_df.pivot_table(\n",
    "    index='Date',\n",
    "    columns='Channel',\n",
    "    values='Total',\n",
    "    aggfunc='sum'\n",
    ")"
   ]
  },
  {
   "cell_type": "code",
   "execution_count": null,
   "id": "satisfactory-debate",
   "metadata": {
    "tags": []
   },
   "outputs": [],
   "source": [
    "daily_totals_df = ledger_df.pivot_table(\n",
    "    index='Date',\n",
    "    columns='Channel',\n",
    "    values='Total',\n",
    "    aggfunc='sum'\n",
    ")"
   ]
  },
  {
   "cell_type": "markdown",
   "id": "adequate-westminster",
   "metadata": {},
   "source": [
    "## Visualizing data"
   ]
  },
  {
   "cell_type": "code",
   "execution_count": null,
   "id": "olive-investing",
   "metadata": {
    "tags": []
   },
   "outputs": [],
   "source": [
    "daily_totals_df.plot()"
   ]
  },
  {
   "cell_type": "markdown",
   "id": "iraqi-arbitration",
   "metadata": {},
   "source": [
    "## Writing data to a spreadsheet"
   ]
  },
  {
   "cell_type": "code",
   "execution_count": null,
   "id": "alleged-pulse",
   "metadata": {
    "tags": []
   },
   "outputs": [],
   "source": [
    "daily_totals_df.to_excel('DailyTotals.xlsx')"
   ]
  }
 ],
 "metadata": {
  "jupytext": {
   "formats": "ipynb"
  },
  "kernelspec": {
   "display_name": "Python 3",
   "language": "python",
   "name": "python3"
  }
 },
 "nbformat": 4,
 "nbformat_minor": 5
}

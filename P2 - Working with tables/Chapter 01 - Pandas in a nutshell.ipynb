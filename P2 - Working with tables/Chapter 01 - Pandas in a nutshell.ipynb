{
 "cells": [
  {
   "cell_type": "markdown",
   "id": "exclusive-positive",
   "metadata": {},
   "source": [
    "\n",
    "# Pandas in a nutshell\n",
    "\n",
    "## Getting started"
   ]
  },
  {
   "cell_type": "code",
   "execution_count": null,
   "id": "virtual-reason",
   "metadata": {
    "tags": []
   },
   "outputs": [],
   "source": [
    "import pandas as pd"
   ]
  },
  {
   "cell_type": "markdown",
   "id": "aggressive-finish",
   "metadata": {},
   "source": [
    "## Reading data from spreadsheets"
   ]
  },
  {
   "cell_type": "code",
   "execution_count": null,
   "id": "economic-number",
   "metadata": {
    "tags": []
   },
   "outputs": [],
   "source": [
    "ledger_df = pd.read_excel('Q1Sales.xlsx')"
   ]
  },
  {
   "cell_type": "code",
   "execution_count": null,
   "id": "irish-meter",
   "metadata": {
    "tags": []
   },
   "outputs": [],
   "source": [
    "ledger_df"
   ]
  },
  {
   "cell_type": "markdown",
   "id": "expected-guarantee",
   "metadata": {},
   "source": [
    "## Preparing and transforming data"
   ]
  },
  {
   "cell_type": "code",
   "execution_count": null,
   "id": "likely-simulation",
   "metadata": {
    "tags": []
   },
   "outputs": [],
   "source": [
    "ledger_df['Channel']"
   ]
  },
  {
   "cell_type": "code",
   "execution_count": null,
   "id": "important-thong",
   "metadata": {
    "tags": []
   },
   "outputs": [],
   "source": [
    "ledger_df['Channel'].value_counts()"
   ]
  },
  {
   "cell_type": "code",
   "execution_count": null,
   "id": "aging-abuse",
   "metadata": {
    "tags": []
   },
   "outputs": [],
   "source": [
    "ledger_df['Total'].sum()"
   ]
  },
  {
   "cell_type": "code",
   "execution_count": null,
   "id": "comprehensive-brother",
   "metadata": {
    "tags": []
   },
   "outputs": [],
   "source": [
    "def make_upper(value):\n",
    "    return value.strip('.com').upper()\n",
    "\n",
    "ledger_df['Channel'].apply(make_upper)"
   ]
  },
  {
   "cell_type": "code",
   "execution_count": null,
   "id": "conceptual-socket",
   "metadata": {
    "tags": []
   },
   "outputs": [],
   "source": [
    "ledger_df['Channel'] = ledger_df['Channel'].apply(make_upper)"
   ]
  },
  {
   "cell_type": "code",
   "execution_count": null,
   "id": "female-backup",
   "metadata": {
    "tags": []
   },
   "outputs": [],
   "source": [
    "ledger_df"
   ]
  },
  {
   "cell_type": "code",
   "execution_count": null,
   "id": "still-orlando",
   "metadata": {
    "tags": []
   },
   "outputs": [],
   "source": [
    "ledger_df[\n",
    "    (ledger_df['Channel'] == 'WALCART') &  \n",
    "    (ledger_df['Product Name'].str.contains('Camera')) &\n",
    "    (ledger_df['Quantity'] > 10)\n",
    "]"
   ]
  },
  {
   "cell_type": "code",
   "execution_count": null,
   "id": "scheduled-chinese",
   "metadata": {
    "tags": []
   },
   "outputs": [],
   "source": [
    "ledger_df.pivot_table(\n",
    "    index='Date',\n",
    "    columns='Channel',\n",
    "    values='Total',\n",
    "    aggfunc='sum'\n",
    ")"
   ]
  },
  {
   "cell_type": "code",
   "execution_count": null,
   "id": "organic-sample",
   "metadata": {
    "tags": []
   },
   "outputs": [],
   "source": [
    "daily_totals_df = ledger_df.pivot_table(\n",
    "    index='Date',\n",
    "    columns='Channel',\n",
    "    values='Total',\n",
    "    aggfunc='sum'\n",
    ")"
   ]
  },
  {
   "cell_type": "markdown",
   "id": "norman-offer",
   "metadata": {},
   "source": [
    "## Visualizing data"
   ]
  },
  {
   "cell_type": "code",
   "execution_count": null,
   "id": "breeding-keeping",
   "metadata": {
    "tags": []
   },
   "outputs": [],
   "source": [
    "daily_totals_df.plot()"
   ]
  },
  {
   "cell_type": "markdown",
   "id": "anticipated-jerusalem",
   "metadata": {},
   "source": [
    "## Writing data to a spreadsheet"
   ]
  },
  {
   "cell_type": "code",
   "execution_count": null,
   "id": "cloudy-beads",
   "metadata": {
    "tags": []
   },
   "outputs": [],
   "source": [
    "daily_totals_df.to_excel('DailyTotals.xlsx')"
   ]
  }
 ],
 "metadata": {
  "jupytext": {
   "formats": "ipynb"
  },
  "kernelspec": {
   "display_name": "Python 3",
   "language": "python",
   "name": "python3"
  }
 },
 "nbformat": 4,
 "nbformat_minor": 5
}

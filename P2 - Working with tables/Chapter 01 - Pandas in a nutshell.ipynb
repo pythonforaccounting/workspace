{
 "cells": [
  {
   "cell_type": "markdown",
   "id": "young-helicopter",
   "metadata": {},
   "source": [
    "\n",
    "# Pandas in a nutshell\n",
    "\n",
    "## Getting started"
   ]
  },
  {
   "cell_type": "code",
   "execution_count": null,
   "id": "front-miracle",
   "metadata": {
    "tags": []
   },
   "outputs": [],
   "source": [
    "import pandas as pd"
   ]
  },
  {
   "cell_type": "markdown",
   "id": "monthly-function",
   "metadata": {},
   "source": [
    "## Reading data from spreadsheets"
   ]
  },
  {
   "cell_type": "code",
   "execution_count": null,
   "id": "norman-magazine",
   "metadata": {
    "tags": []
   },
   "outputs": [],
   "source": [
    "ledger_df = pd.read_excel('Q1Sales.xlsx')"
   ]
  },
  {
   "cell_type": "code",
   "execution_count": null,
   "id": "ecological-lover",
   "metadata": {
    "tags": []
   },
   "outputs": [],
   "source": [
    "ledger_df"
   ]
  },
  {
   "cell_type": "markdown",
   "id": "engaged-healing",
   "metadata": {},
   "source": [
    "## Preparing and transforming data"
   ]
  },
  {
   "cell_type": "code",
   "execution_count": null,
   "id": "weird-going",
   "metadata": {
    "tags": []
   },
   "outputs": [],
   "source": [
    "ledger_df['Channel']"
   ]
  },
  {
   "cell_type": "code",
   "execution_count": null,
   "id": "remarkable-swimming",
   "metadata": {
    "tags": []
   },
   "outputs": [],
   "source": [
    "ledger_df['Channel'].value_counts()"
   ]
  },
  {
   "cell_type": "code",
   "execution_count": null,
   "id": "logical-pendant",
   "metadata": {
    "tags": []
   },
   "outputs": [],
   "source": [
    "ledger_df['Total'].sum()"
   ]
  },
  {
   "cell_type": "code",
   "execution_count": null,
   "id": "upper-sending",
   "metadata": {
    "tags": []
   },
   "outputs": [],
   "source": [
    "def make_upper(value):\n",
    "    return value.strip('.com').upper()\n",
    "\n",
    "ledger_df['Channel'].apply(make_upper)"
   ]
  },
  {
   "cell_type": "code",
   "execution_count": null,
   "id": "quantitative-filter",
   "metadata": {
    "tags": []
   },
   "outputs": [],
   "source": [
    "ledger_df['Channel'] = ledger_df['Channel'].apply(make_upper)"
   ]
  },
  {
   "cell_type": "code",
   "execution_count": null,
   "id": "basic-convergence",
   "metadata": {
    "tags": []
   },
   "outputs": [],
   "source": [
    "ledger_df"
   ]
  },
  {
   "cell_type": "code",
   "execution_count": null,
   "id": "relative-child",
   "metadata": {
    "tags": []
   },
   "outputs": [],
   "source": [
    "ledger_df[\n",
    "    (ledger_df['Channel'] == 'WALCART') &  \n",
    "    (ledger_df['Product Name'].str.contains('Camera')) &\n",
    "    (ledger_df['Quantity'] > 10)\n",
    "]"
   ]
  },
  {
   "cell_type": "code",
   "execution_count": null,
   "id": "noted-mattress",
   "metadata": {
    "tags": []
   },
   "outputs": [],
   "source": [
    "ledger_df.pivot_table(\n",
    "    index='Date',\n",
    "    columns='Channel',\n",
    "    values='Total',\n",
    "    aggfunc='sum'\n",
    ")"
   ]
  },
  {
   "cell_type": "code",
   "execution_count": null,
   "id": "nuclear-rider",
   "metadata": {
    "tags": []
   },
   "outputs": [],
   "source": [
    "daily_totals_df = ledger_df.pivot_table(\n",
    "    index='Date',\n",
    "    columns='Channel',\n",
    "    values='Total',\n",
    "    aggfunc='sum'\n",
    ")"
   ]
  },
  {
   "cell_type": "markdown",
   "id": "distant-entry",
   "metadata": {},
   "source": [
    "## Visualizing data"
   ]
  },
  {
   "cell_type": "code",
   "execution_count": null,
   "id": "helpful-implementation",
   "metadata": {
    "tags": []
   },
   "outputs": [],
   "source": [
    "daily_totals_df.plot()"
   ]
  },
  {
   "cell_type": "markdown",
   "id": "recorded-weather",
   "metadata": {},
   "source": [
    "## Writing data to a spreadsheet"
   ]
  },
  {
   "cell_type": "code",
   "execution_count": null,
   "id": "future-spread",
   "metadata": {
    "tags": []
   },
   "outputs": [],
   "source": [
    "daily_totals_df.to_excel('DailyTotals.xlsx')"
   ]
  }
 ],
 "metadata": {
  "jupytext": {
   "formats": "ipynb"
  },
  "kernelspec": {
   "display_name": "Python 3",
   "language": "python",
   "name": "python3"
  }
 },
 "nbformat": 4,
 "nbformat_minor": 5
}

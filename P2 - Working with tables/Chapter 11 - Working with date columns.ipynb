{
 "cells": [
  {
   "cell_type": "markdown",
   "id": "black-entity",
   "metadata": {},
   "source": [
    "\n",
    "# Working with date columns\n",
    "\n",
    "## Revisiting Python dates"
   ]
  },
  {
   "cell_type": "code",
   "execution_count": null,
   "id": "hungarian-forth",
   "metadata": {
    "tags": []
   },
   "outputs": [],
   "source": [
    "from datetime import date, time, datetime, timedelta \n",
    "\n",
    "today = date(2020, 9, 30)\n",
    "now = datetime(2020, 9, 30, 12, 33)\n",
    "birthday = date(1989, 3, 21)\n",
    "\n",
    "days_of_holiday = timedelta(days=14) \n",
    "minutes_of_nap = timedelta(minutes=30)"
   ]
  },
  {
   "cell_type": "code",
   "execution_count": null,
   "id": "sought-thomson",
   "metadata": {
    "tags": []
   },
   "outputs": [],
   "source": [
    "today + days_of_holiday"
   ]
  },
  {
   "cell_type": "code",
   "execution_count": null,
   "id": "contemporary-gilbert",
   "metadata": {
    "tags": []
   },
   "outputs": [],
   "source": [
    "now + minutes_of_nap"
   ]
  },
  {
   "cell_type": "code",
   "execution_count": null,
   "id": "downtown-speaker",
   "metadata": {
    "tags": []
   },
   "outputs": [],
   "source": [
    "today > birthday"
   ]
  },
  {
   "cell_type": "code",
   "execution_count": null,
   "id": "protecting-surprise",
   "metadata": {
    "tags": []
   },
   "outputs": [],
   "source": [
    "today - birthday"
   ]
  },
  {
   "cell_type": "code",
   "execution_count": null,
   "id": "rapid-software",
   "metadata": {
    "tags": []
   },
   "outputs": [],
   "source": [
    "birthday.strftime('%d/%m/%y')"
   ]
  },
  {
   "cell_type": "code",
   "execution_count": null,
   "id": "spiritual-moment",
   "metadata": {
    "tags": []
   },
   "outputs": [],
   "source": [
    "birthday.strftime('%A, %d %B, %Y')"
   ]
  },
  {
   "cell_type": "code",
   "execution_count": null,
   "id": "novel-travel",
   "metadata": {
    "tags": []
   },
   "outputs": [],
   "source": [
    "my_date = '30/09/20'\n",
    "datetime.strptime(my_date, '%d/%m/%y')"
   ]
  },
  {
   "cell_type": "markdown",
   "id": "broke-tennessee",
   "metadata": {},
   "source": [
    "## Date columns"
   ]
  },
  {
   "cell_type": "code",
   "execution_count": null,
   "id": "suspended-stand",
   "metadata": {
    "tags": []
   },
   "outputs": [],
   "source": [
    "ledger_df.info()"
   ]
  },
  {
   "cell_type": "code",
   "execution_count": null,
   "id": "fancy-intervention",
   "metadata": {
    "tags": []
   },
   "outputs": [],
   "source": [
    "ledger_df['Date'].iloc[0]"
   ]
  },
  {
   "cell_type": "code",
   "execution_count": null,
   "id": "previous-broadway",
   "metadata": {
    "tags": []
   },
   "outputs": [],
   "source": [
    "timestamp_date = pd.Timestamp(2020, 1, 1)\n",
    "datetime_date = datetime(2020, 1, 1)\n",
    "\n",
    "timestamp_date == datetime_date"
   ]
  },
  {
   "cell_type": "code",
   "execution_count": null,
   "id": "virtual-technique",
   "metadata": {
    "tags": []
   },
   "outputs": [],
   "source": [
    "ledger_df[['Date', 'Deadline']]"
   ]
  },
  {
   "cell_type": "markdown",
   "id": "infinite-sharp",
   "metadata": {},
   "source": [
    "### Converting strings to dates"
   ]
  },
  {
   "cell_type": "code",
   "execution_count": null,
   "id": "incomplete-silicon",
   "metadata": {
    "tags": []
   },
   "outputs": [],
   "source": [
    "pd.to_datetime(ledger_df['Deadline'])"
   ]
  },
  {
   "cell_type": "code",
   "execution_count": null,
   "id": "external-uzbekistan",
   "metadata": {
    "tags": []
   },
   "outputs": [],
   "source": [
    "dates = pd.Series(['05/07/20', '05/08/20', '05/09/20'])\n",
    "\n",
    "pd.to_datetime(dates)"
   ]
  },
  {
   "cell_type": "code",
   "execution_count": null,
   "id": "abstract-brooklyn",
   "metadata": {
    "tags": []
   },
   "outputs": [],
   "source": [
    "pd.to_datetime(dates, format='%d/%m/%y')"
   ]
  },
  {
   "cell_type": "code",
   "execution_count": null,
   "id": "accepting-honor",
   "metadata": {
    "tags": []
   },
   "outputs": [],
   "source": [
    "pd.to_datetime(ledger_df['Deadline']).describe()"
   ]
  },
  {
   "cell_type": "code",
   "execution_count": null,
   "id": "color-union",
   "metadata": {
    "tags": []
   },
   "outputs": [],
   "source": [
    "ledger_df['Deadline'] = pd.to_datetime(ledger_df['Deadline'])"
   ]
  },
  {
   "cell_type": "code",
   "execution_count": null,
   "id": "comprehensive-garbage",
   "metadata": {
    "tags": []
   },
   "outputs": [],
   "source": [
    "ledger_df.info()"
   ]
  },
  {
   "cell_type": "code",
   "execution_count": null,
   "id": "governmental-blade",
   "metadata": {
    "tags": []
   },
   "outputs": [],
   "source": [
    "ledger_df[['Date', 'Deadline']]"
   ]
  },
  {
   "cell_type": "markdown",
   "id": "checked-transparency",
   "metadata": {},
   "source": [
    "## Pandas date methods"
   ]
  },
  {
   "cell_type": "code",
   "execution_count": null,
   "id": "worst-thing",
   "metadata": {
    "tags": []
   },
   "outputs": [],
   "source": [
    "ledger_df['Deadline'].dt.year"
   ]
  },
  {
   "cell_type": "code",
   "execution_count": null,
   "id": "optical-graham",
   "metadata": {
    "tags": []
   },
   "outputs": [],
   "source": [
    "ledger_df['Deadline'].dt.day_name()"
   ]
  },
  {
   "cell_type": "code",
   "execution_count": null,
   "id": "treated-lucas",
   "metadata": {
    "tags": []
   },
   "outputs": [],
   "source": [
    "ledger_df['Deadline'].dt.day_name('de_DE')"
   ]
  },
  {
   "cell_type": "markdown",
   "id": "matched-satellite",
   "metadata": {},
   "source": [
    "### Filtering date columns"
   ]
  },
  {
   "cell_type": "code",
   "execution_count": null,
   "id": "cutting-operator",
   "metadata": {
    "tags": []
   },
   "outputs": [],
   "source": [
    "ledger_df[ledger_df['Date'] > '15/01/2020']"
   ]
  },
  {
   "cell_type": "code",
   "execution_count": null,
   "id": "understanding-harbor",
   "metadata": {
    "tags": []
   },
   "outputs": [],
   "source": [
    "ledger_df[ledger_df['Date'] > '15th of January, 2020']\n",
    "ledger_df[ledger_df['Date'] > '15/1/2020']\n",
    "ledger_df[ledger_df['Date'] > '2020, Jan 15']\n",
    "ledger_df[ledger_df['Date'] > '1-15-20']\n",
    "ledger_df[ledger_df['Date'] > '2020/1/15']"
   ]
  },
  {
   "cell_type": "code",
   "execution_count": null,
   "id": "clear-vacation",
   "metadata": {
    "tags": []
   },
   "outputs": [],
   "source": [
    "import datetime as dt\n",
    "\n",
    "start_date = dt.datetime(2020, 1, 15)\n",
    "end_date = dt.datetime(2020, 1, 20)\n",
    "\n",
    "shift = dt.timedelta(days=1)\n",
    "\n",
    "ledger_df[\n",
    "    (ledger_df['Date'] > start_date - shift) & \n",
    "    (ledger_df['Date'] < end_date + shift)\n",
    "]"
   ]
  },
  {
   "cell_type": "code",
   "execution_count": null,
   "id": "declared-truck",
   "metadata": {
    "tags": []
   },
   "outputs": [],
   "source": [
    "ledger_df[\n",
    "    (ledger_df['Deadline'].dt.year.isin([2018, 2019])) & \n",
    "    (ledger_df['Deadline'].dt.quarter == 4) & \n",
    "    (ledger_df['Deadline'].dt.day_name() == 'Thursday')\n",
    "]"
   ]
  },
  {
   "cell_type": "markdown",
   "id": "ordinary-anaheim",
   "metadata": {},
   "source": [
    "### Converting dates back to strings"
   ]
  },
  {
   "cell_type": "code",
   "execution_count": null,
   "id": "favorite-family",
   "metadata": {
    "tags": []
   },
   "outputs": [],
   "source": [
    "ledger_df['Deadline'].dt.strftime(\"%A, %d %B, %Y\")"
   ]
  },
  {
   "cell_type": "markdown",
   "id": "vulnerable-tackle",
   "metadata": {},
   "source": [
    "## Pandas date arithmetic\n",
    "\n",
    "### Timedeltas"
   ]
  },
  {
   "cell_type": "code",
   "execution_count": null,
   "id": "included-finland",
   "metadata": {
    "tags": []
   },
   "outputs": [],
   "source": [
    "ledger_df['Deadline']"
   ]
  },
  {
   "cell_type": "code",
   "execution_count": null,
   "id": "medium-shareware",
   "metadata": {
    "tags": []
   },
   "outputs": [],
   "source": [
    "ledger_df['Deadline'] + pd.Timedelta(days=2)"
   ]
  },
  {
   "cell_type": "code",
   "execution_count": null,
   "id": "alpha-genetics",
   "metadata": {
    "tags": []
   },
   "outputs": [],
   "source": [
    "ledger_df['Deadline'] - pd.Timedelta(weeks=4)"
   ]
  },
  {
   "cell_type": "code",
   "execution_count": null,
   "id": "quarterly-battery",
   "metadata": {
    "tags": []
   },
   "outputs": [],
   "source": [
    "ledger_df['Deadline'] + pd.Timedelta(weeks=4, days=3, hours=2, minutes=1)"
   ]
  },
  {
   "cell_type": "code",
   "execution_count": null,
   "id": "fewer-lucas",
   "metadata": {
    "tags": []
   },
   "outputs": [],
   "source": [
    "ledger_df['Date'] - ledger_df['Deadline']"
   ]
  },
  {
   "cell_type": "code",
   "execution_count": null,
   "id": "quarterly-willow",
   "metadata": {
    "tags": []
   },
   "outputs": [],
   "source": [
    "(ledger_df['Date'] - ledger_df['Deadline']).iloc[0]"
   ]
  },
  {
   "cell_type": "code",
   "execution_count": null,
   "id": "emotional-antibody",
   "metadata": {
    "tags": []
   },
   "outputs": [],
   "source": [
    "pd.Timedelta(days=2) + pd.Timedelta(weeks=1)"
   ]
  },
  {
   "cell_type": "code",
   "execution_count": null,
   "id": "funded-catering",
   "metadata": {
    "tags": []
   },
   "outputs": [],
   "source": [
    "(ledger_df['Date'] - ledger_df['Deadline']) / pd.Timedelta(hours=1)"
   ]
  },
  {
   "cell_type": "markdown",
   "id": "sufficient-greek",
   "metadata": {},
   "source": [
    "### Date offsets"
   ]
  },
  {
   "cell_type": "code",
   "execution_count": null,
   "id": "honest-april",
   "metadata": {
    "tags": []
   },
   "outputs": [],
   "source": [
    "# equivalent to\n",
    "# ledger_df['Deadline'] + pd.Timedelta(days=2)\n",
    "ledger_df['Deadline'] + pd.DateOffset(days=2)"
   ]
  },
  {
   "cell_type": "code",
   "execution_count": null,
   "id": "external-jersey",
   "metadata": {
    "tags": []
   },
   "outputs": [],
   "source": [
    "ledger_df['Deadline'] + pd.DateOffset(years=2, months=5)"
   ]
  },
  {
   "cell_type": "code",
   "execution_count": null,
   "id": "respiratory-significance",
   "metadata": {
    "tags": []
   },
   "outputs": [],
   "source": [
    "ledger_df['Deadline'] + pd.DateOffset(year=1999)"
   ]
  },
  {
   "cell_type": "code",
   "execution_count": null,
   "id": "offshore-career",
   "metadata": {
    "tags": []
   },
   "outputs": [],
   "source": [
    "import pandas.tseries.offsets as offsets"
   ]
  },
  {
   "cell_type": "code",
   "execution_count": null,
   "id": "turned-painting",
   "metadata": {
    "tags": [
     "allowerror"
    ]
   },
   "outputs": [],
   "source": [
    "offsets.<TAB>"
   ]
  },
  {
   "cell_type": "code",
   "execution_count": null,
   "id": "gross-drilling",
   "metadata": {
    "tags": []
   },
   "outputs": [],
   "source": [
    "reference_date = pd.Timestamp(2020, 9, 30)\n",
    "\n",
    "reference_date.day_name()"
   ]
  },
  {
   "cell_type": "code",
   "execution_count": null,
   "id": "continent-investigation",
   "metadata": {
    "tags": []
   },
   "outputs": [],
   "source": [
    "(reference_date + offsets.BusinessDay(3)).day_name()"
   ]
  },
  {
   "cell_type": "code",
   "execution_count": null,
   "id": "ahead-american",
   "metadata": {
    "tags": []
   },
   "outputs": [],
   "source": [
    "reference_date - offsets.Easter(3)"
   ]
  },
  {
   "cell_type": "code",
   "execution_count": null,
   "id": "ceramic-stadium",
   "metadata": {
    "tags": []
   },
   "outputs": [],
   "source": [
    "ledger_df['Deadline'] + offsets.BusinessDay(3) "
   ]
  },
  {
   "cell_type": "markdown",
   "id": "guilty-vintage",
   "metadata": {},
   "source": [
    "### Periods"
   ]
  },
  {
   "cell_type": "code",
   "execution_count": null,
   "id": "associate-dancing",
   "metadata": {
    "tags": []
   },
   "outputs": [],
   "source": [
    "ledger_df['Deadline'].dt.to_period(freq='Q')"
   ]
  },
  {
   "cell_type": "code",
   "execution_count": null,
   "id": "completed-federal",
   "metadata": {
    "tags": []
   },
   "outputs": [],
   "source": [
    "ledger_df['Deadline'].dt.to_period(freq='Q-SEP')"
   ]
  },
  {
   "cell_type": "code",
   "execution_count": null,
   "id": "cutting-exhibition",
   "metadata": {
    "tags": []
   },
   "outputs": [],
   "source": [
    "# A stands for annual\n",
    "ledger_df['Deadline'].dt.to_period(freq='A')"
   ]
  },
  {
   "cell_type": "code",
   "execution_count": null,
   "id": "discrete-carter",
   "metadata": {
    "tags": []
   },
   "outputs": [],
   "source": [
    "ledger_df['Deadline'].dt.to_period(freq='A-MAR')"
   ]
  },
  {
   "cell_type": "code",
   "execution_count": null,
   "id": "young-province",
   "metadata": {
    "tags": []
   },
   "outputs": [],
   "source": [
    "periods = ledger_df['Deadline'].dt.to_period(freq='Q-SEP')\n",
    "\n",
    "periods"
   ]
  },
  {
   "cell_type": "code",
   "execution_count": null,
   "id": "desirable-assessment",
   "metadata": {
    "tags": []
   },
   "outputs": [],
   "source": [
    "periods.dt.to_timestamp()"
   ]
  },
  {
   "cell_type": "markdown",
   "id": "civil-talent",
   "metadata": {},
   "source": [
    "## Overthinking: Timezones"
   ]
  },
  {
   "cell_type": "code",
   "execution_count": null,
   "id": "passive-croatia",
   "metadata": {
    "tags": []
   },
   "outputs": [],
   "source": [
    "us_pacific_deadlines = ledger_df['Deadline'].dt.tz_localize('US/Pacific')\n",
    "\n",
    "us_pacific_deadlines"
   ]
  },
  {
   "cell_type": "code",
   "execution_count": null,
   "id": "contrary-utilization",
   "metadata": {
    "tags": []
   },
   "outputs": [],
   "source": [
    "us_pacific_deadlines.dt.tz_convert('US/Eastern')"
   ]
  },
  {
   "cell_type": "code",
   "execution_count": null,
   "id": "ultimate-questionnaire",
   "metadata": {
    "tags": []
   },
   "outputs": [],
   "source": [
    "us_pacific_deadlines.dt.tz_convert('Europe/Berlin')"
   ]
  },
  {
   "cell_type": "code",
   "execution_count": null,
   "id": "severe-valuation",
   "metadata": {
    "tags": []
   },
   "outputs": [],
   "source": [
    "us_pacific_deadlines.dt.tz_localize(None)"
   ]
  },
  {
   "cell_type": "code",
   "execution_count": null,
   "id": "danish-threat",
   "metadata": {
    "tags": [
     "allowerror"
    ]
   },
   "outputs": [],
   "source": [
    "ledger_df['Date'].dt.tz_localize('US/Pacific') > ledger_df['Deadline']"
   ]
  }
 ],
 "metadata": {
  "jupytext": {
   "formats": "ipynb"
  },
  "kernelspec": {
   "display_name": "Python 3",
   "language": "python",
   "name": "python3"
  }
 },
 "nbformat": 4,
 "nbformat_minor": 5
}

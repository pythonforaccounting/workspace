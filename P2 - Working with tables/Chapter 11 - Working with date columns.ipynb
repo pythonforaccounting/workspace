{
 "cells": [
  {
   "cell_type": "markdown",
   "id": "regulated-bachelor",
   "metadata": {},
   "source": [
    "\n",
    "# Working with date columns\n",
    "\n",
    "## Revisiting Python dates"
   ]
  },
  {
   "cell_type": "code",
   "execution_count": null,
   "id": "religious-terrorism",
   "metadata": {
    "tags": []
   },
   "outputs": [],
   "source": [
    "from datetime import date, time, datetime, timedelta \n",
    "\n",
    "today = date(2020, 9, 30)\n",
    "now = datetime(2020, 9, 30, 12, 33)\n",
    "birthday = date(1989, 3, 21)\n",
    "\n",
    "days_of_holiday = timedelta(days=14) \n",
    "minutes_of_nap = timedelta(minutes=30)"
   ]
  },
  {
   "cell_type": "code",
   "execution_count": null,
   "id": "serious-whole",
   "metadata": {
    "tags": []
   },
   "outputs": [],
   "source": [
    "today + days_of_holiday"
   ]
  },
  {
   "cell_type": "code",
   "execution_count": null,
   "id": "scientific-darwin",
   "metadata": {
    "tags": []
   },
   "outputs": [],
   "source": [
    "now + minutes_of_nap"
   ]
  },
  {
   "cell_type": "code",
   "execution_count": null,
   "id": "painted-columbus",
   "metadata": {
    "tags": []
   },
   "outputs": [],
   "source": [
    "today > birthday"
   ]
  },
  {
   "cell_type": "code",
   "execution_count": null,
   "id": "popular-nowhere",
   "metadata": {
    "tags": []
   },
   "outputs": [],
   "source": [
    "today - birthday"
   ]
  },
  {
   "cell_type": "code",
   "execution_count": null,
   "id": "manual-healthcare",
   "metadata": {
    "tags": []
   },
   "outputs": [],
   "source": [
    "birthday.strftime('%d/%m/%y')"
   ]
  },
  {
   "cell_type": "code",
   "execution_count": null,
   "id": "integral-morgan",
   "metadata": {
    "tags": []
   },
   "outputs": [],
   "source": [
    "birthday.strftime('%A, %d %B, %Y')"
   ]
  },
  {
   "cell_type": "code",
   "execution_count": null,
   "id": "offshore-intermediate",
   "metadata": {
    "tags": []
   },
   "outputs": [],
   "source": [
    "my_date = '30/09/20'\n",
    "datetime.strptime(my_date, '%d/%m/%y')"
   ]
  },
  {
   "cell_type": "markdown",
   "id": "consecutive-chassis",
   "metadata": {},
   "source": [
    "## Date columns"
   ]
  },
  {
   "cell_type": "code",
   "execution_count": null,
   "id": "vietnamese-payroll",
   "metadata": {
    "tags": []
   },
   "outputs": [],
   "source": [
    "ledger_df.info()"
   ]
  },
  {
   "cell_type": "code",
   "execution_count": null,
   "id": "pressing-bread",
   "metadata": {
    "tags": []
   },
   "outputs": [],
   "source": [
    "ledger_df['Date'].iloc[0]"
   ]
  },
  {
   "cell_type": "code",
   "execution_count": null,
   "id": "excess-alpha",
   "metadata": {
    "tags": []
   },
   "outputs": [],
   "source": [
    "timestamp_date = pd.Timestamp(2020, 1, 1)\n",
    "datetime_date = datetime(2020, 1, 1)\n",
    "\n",
    "timestamp_date == datetime_date"
   ]
  },
  {
   "cell_type": "code",
   "execution_count": null,
   "id": "external-maria",
   "metadata": {
    "tags": []
   },
   "outputs": [],
   "source": [
    "ledger_df[['Date', 'Deadline']]"
   ]
  },
  {
   "cell_type": "markdown",
   "id": "boring-valuable",
   "metadata": {},
   "source": [
    "### Converting strings to dates"
   ]
  },
  {
   "cell_type": "code",
   "execution_count": null,
   "id": "plastic-aquarium",
   "metadata": {
    "tags": []
   },
   "outputs": [],
   "source": [
    "pd.to_datetime(ledger_df['Deadline'])"
   ]
  },
  {
   "cell_type": "code",
   "execution_count": null,
   "id": "dangerous-alabama",
   "metadata": {
    "tags": []
   },
   "outputs": [],
   "source": [
    "dates = pd.Series(['05/07/20', '05/08/20', '05/09/20'])\n",
    "\n",
    "pd.to_datetime(dates)"
   ]
  },
  {
   "cell_type": "code",
   "execution_count": null,
   "id": "exceptional-dream",
   "metadata": {
    "tags": []
   },
   "outputs": [],
   "source": [
    "pd.to_datetime(dates, format='%d/%m/%y')"
   ]
  },
  {
   "cell_type": "code",
   "execution_count": null,
   "id": "twenty-trouble",
   "metadata": {
    "tags": []
   },
   "outputs": [],
   "source": [
    "pd.to_datetime(ledger_df['Deadline']).describe()"
   ]
  },
  {
   "cell_type": "code",
   "execution_count": null,
   "id": "sustainable-integration",
   "metadata": {
    "tags": []
   },
   "outputs": [],
   "source": [
    "ledger_df['Deadline'] = pd.to_datetime(ledger_df['Deadline'])"
   ]
  },
  {
   "cell_type": "code",
   "execution_count": null,
   "id": "fancy-devil",
   "metadata": {
    "tags": []
   },
   "outputs": [],
   "source": [
    "ledger_df.info()"
   ]
  },
  {
   "cell_type": "code",
   "execution_count": null,
   "id": "suited-answer",
   "metadata": {
    "tags": []
   },
   "outputs": [],
   "source": [
    "ledger_df[['Date', 'Deadline']]"
   ]
  },
  {
   "cell_type": "markdown",
   "id": "naked-organization",
   "metadata": {},
   "source": [
    "## Pandas date methods"
   ]
  },
  {
   "cell_type": "code",
   "execution_count": null,
   "id": "demanding-opposition",
   "metadata": {
    "tags": []
   },
   "outputs": [],
   "source": [
    "ledger_df['Deadline'].dt.year"
   ]
  },
  {
   "cell_type": "code",
   "execution_count": null,
   "id": "durable-address",
   "metadata": {
    "tags": []
   },
   "outputs": [],
   "source": [
    "ledger_df['Deadline'].dt.day_name()"
   ]
  },
  {
   "cell_type": "code",
   "execution_count": null,
   "id": "major-joseph",
   "metadata": {
    "tags": []
   },
   "outputs": [],
   "source": [
    "ledger_df['Deadline'].dt.day_name('de_DE')"
   ]
  },
  {
   "cell_type": "markdown",
   "id": "funded-regression",
   "metadata": {},
   "source": [
    "### Filtering date columns"
   ]
  },
  {
   "cell_type": "code",
   "execution_count": null,
   "id": "opened-norman",
   "metadata": {
    "tags": []
   },
   "outputs": [],
   "source": [
    "ledger_df[ledger_df['Date'] > '15/01/2020']"
   ]
  },
  {
   "cell_type": "code",
   "execution_count": null,
   "id": "executed-evanescence",
   "metadata": {
    "tags": []
   },
   "outputs": [],
   "source": [
    "ledger_df[ledger_df['Date'] > '15th of January, 2020']\n",
    "ledger_df[ledger_df['Date'] > '15/1/2020']\n",
    "ledger_df[ledger_df['Date'] > '2020, Jan 15']\n",
    "ledger_df[ledger_df['Date'] > '1-15-20']\n",
    "ledger_df[ledger_df['Date'] > '2020/1/15']"
   ]
  },
  {
   "cell_type": "code",
   "execution_count": null,
   "id": "pharmaceutical-bulgaria",
   "metadata": {
    "tags": []
   },
   "outputs": [],
   "source": [
    "import datetime as dt\n",
    "\n",
    "start_date = dt.datetime(2020, 1, 15)\n",
    "end_date = dt.datetime(2020, 1, 20)\n",
    "\n",
    "shift = dt.timedelta(days=1)\n",
    "\n",
    "ledger_df[\n",
    "    (ledger_df['Date'] > start_date - shift) & \n",
    "    (ledger_df['Date'] < end_date + shift)\n",
    "]"
   ]
  },
  {
   "cell_type": "code",
   "execution_count": null,
   "id": "acting-sample",
   "metadata": {
    "tags": []
   },
   "outputs": [],
   "source": [
    "ledger_df[\n",
    "    (ledger_df['Deadline'].dt.year.isin([2018, 2019])) & \n",
    "    (ledger_df['Deadline'].dt.quarter == 4) & \n",
    "    (ledger_df['Deadline'].dt.day_name() == 'Thursday')\n",
    "]"
   ]
  },
  {
   "cell_type": "markdown",
   "id": "abroad-webster",
   "metadata": {},
   "source": [
    "### Converting dates back to strings"
   ]
  },
  {
   "cell_type": "code",
   "execution_count": null,
   "id": "worse-migration",
   "metadata": {
    "tags": []
   },
   "outputs": [],
   "source": [
    "ledger_df['Deadline'].dt.strftime(\"%A, %d %B, %Y\")"
   ]
  },
  {
   "cell_type": "markdown",
   "id": "israeli-brick",
   "metadata": {},
   "source": [
    "## Pandas date arithmetic\n",
    "\n",
    "### Timedeltas"
   ]
  },
  {
   "cell_type": "code",
   "execution_count": null,
   "id": "aging-africa",
   "metadata": {
    "tags": []
   },
   "outputs": [],
   "source": [
    "ledger_df['Deadline']"
   ]
  },
  {
   "cell_type": "code",
   "execution_count": null,
   "id": "professional-gambling",
   "metadata": {
    "tags": []
   },
   "outputs": [],
   "source": [
    "ledger_df['Deadline'] + pd.Timedelta(days=2)"
   ]
  },
  {
   "cell_type": "code",
   "execution_count": null,
   "id": "global-portland",
   "metadata": {
    "tags": []
   },
   "outputs": [],
   "source": [
    "ledger_df['Deadline'] - pd.Timedelta(weeks=4)"
   ]
  },
  {
   "cell_type": "code",
   "execution_count": null,
   "id": "amateur-duration",
   "metadata": {
    "tags": []
   },
   "outputs": [],
   "source": [
    "ledger_df['Deadline'] + pd.Timedelta(weeks=4, days=3, hours=2, minutes=1)"
   ]
  },
  {
   "cell_type": "code",
   "execution_count": null,
   "id": "accepting-blind",
   "metadata": {
    "tags": []
   },
   "outputs": [],
   "source": [
    "ledger_df['Date'] - ledger_df['Deadline']"
   ]
  },
  {
   "cell_type": "code",
   "execution_count": null,
   "id": "educational-norway",
   "metadata": {
    "tags": []
   },
   "outputs": [],
   "source": [
    "(ledger_df['Date'] - ledger_df['Deadline']).iloc[0]"
   ]
  },
  {
   "cell_type": "code",
   "execution_count": null,
   "id": "concerned-fence",
   "metadata": {
    "tags": []
   },
   "outputs": [],
   "source": [
    "pd.Timedelta(days=2) + pd.Timedelta(weeks=1)"
   ]
  },
  {
   "cell_type": "code",
   "execution_count": null,
   "id": "organizational-immunology",
   "metadata": {
    "tags": []
   },
   "outputs": [],
   "source": [
    "(ledger_df['Date'] - ledger_df['Deadline']) / pd.Timedelta(hours=1)"
   ]
  },
  {
   "cell_type": "markdown",
   "id": "constitutional-remainder",
   "metadata": {},
   "source": [
    "### Date offsets"
   ]
  },
  {
   "cell_type": "code",
   "execution_count": null,
   "id": "available-sperm",
   "metadata": {
    "tags": []
   },
   "outputs": [],
   "source": [
    "# equivalent to\n",
    "# ledger_df['Deadline'] + pd.Timedelta(days=2)\n",
    "ledger_df['Deadline'] + pd.DateOffset(days=2)"
   ]
  },
  {
   "cell_type": "code",
   "execution_count": null,
   "id": "solved-diving",
   "metadata": {
    "tags": []
   },
   "outputs": [],
   "source": [
    "ledger_df['Deadline'] + pd.DateOffset(years=2, months=5)"
   ]
  },
  {
   "cell_type": "code",
   "execution_count": null,
   "id": "partial-hebrew",
   "metadata": {
    "tags": []
   },
   "outputs": [],
   "source": [
    "ledger_df['Deadline'] + pd.DateOffset(year=1999)"
   ]
  },
  {
   "cell_type": "code",
   "execution_count": null,
   "id": "upset-tenant",
   "metadata": {
    "tags": []
   },
   "outputs": [],
   "source": [
    "import pandas.tseries.offsets as offsets"
   ]
  },
  {
   "cell_type": "code",
   "execution_count": null,
   "id": "cloudy-afternoon",
   "metadata": {
    "tags": [
     "allowerror"
    ]
   },
   "outputs": [],
   "source": [
    "offsets.<TAB>"
   ]
  },
  {
   "cell_type": "code",
   "execution_count": null,
   "id": "affiliated-fiber",
   "metadata": {
    "tags": []
   },
   "outputs": [],
   "source": [
    "reference_date = pd.Timestamp(2020, 9, 30)\n",
    "\n",
    "reference_date.day_name()"
   ]
  },
  {
   "cell_type": "code",
   "execution_count": null,
   "id": "unusual-islam",
   "metadata": {
    "tags": []
   },
   "outputs": [],
   "source": [
    "(reference_date + offsets.BusinessDay(3)).day_name()"
   ]
  },
  {
   "cell_type": "code",
   "execution_count": null,
   "id": "juvenile-meeting",
   "metadata": {
    "tags": []
   },
   "outputs": [],
   "source": [
    "reference_date - offsets.Easter(3)"
   ]
  },
  {
   "cell_type": "code",
   "execution_count": null,
   "id": "greek-camel",
   "metadata": {
    "tags": []
   },
   "outputs": [],
   "source": [
    "ledger_df['Deadline'] + offsets.BusinessDay(3) "
   ]
  },
  {
   "cell_type": "markdown",
   "id": "established-purchase",
   "metadata": {},
   "source": [
    "### Periods"
   ]
  },
  {
   "cell_type": "code",
   "execution_count": null,
   "id": "laughing-pontiac",
   "metadata": {
    "tags": []
   },
   "outputs": [],
   "source": [
    "ledger_df['Deadline'].dt.to_period(freq='Q')"
   ]
  },
  {
   "cell_type": "code",
   "execution_count": null,
   "id": "modern-garage",
   "metadata": {
    "tags": []
   },
   "outputs": [],
   "source": [
    "ledger_df['Deadline'].dt.to_period(freq='Q-SEP')"
   ]
  },
  {
   "cell_type": "code",
   "execution_count": null,
   "id": "herbal-brick",
   "metadata": {
    "tags": []
   },
   "outputs": [],
   "source": [
    "# A stands for annual\n",
    "ledger_df['Deadline'].dt.to_period(freq='A')"
   ]
  },
  {
   "cell_type": "code",
   "execution_count": null,
   "id": "hearing-alpha",
   "metadata": {
    "tags": []
   },
   "outputs": [],
   "source": [
    "ledger_df['Deadline'].dt.to_period(freq='A-MAR')"
   ]
  },
  {
   "cell_type": "code",
   "execution_count": null,
   "id": "significant-estonia",
   "metadata": {
    "tags": []
   },
   "outputs": [],
   "source": [
    "periods = ledger_df['Deadline'].dt.to_period(freq='Q-SEP')\n",
    "\n",
    "periods"
   ]
  },
  {
   "cell_type": "code",
   "execution_count": null,
   "id": "spread-penny",
   "metadata": {
    "tags": []
   },
   "outputs": [],
   "source": [
    "periods.dt.to_timestamp()"
   ]
  },
  {
   "cell_type": "markdown",
   "id": "through-ethernet",
   "metadata": {},
   "source": [
    "## Overthinking: Timezones"
   ]
  },
  {
   "cell_type": "code",
   "execution_count": null,
   "id": "republican-crest",
   "metadata": {
    "tags": []
   },
   "outputs": [],
   "source": [
    "us_pacific_deadlines = ledger_df['Deadline'].dt.tz_localize('US/Pacific')\n",
    "\n",
    "us_pacific_deadlines"
   ]
  },
  {
   "cell_type": "code",
   "execution_count": null,
   "id": "underlying-block",
   "metadata": {
    "tags": []
   },
   "outputs": [],
   "source": [
    "us_pacific_deadlines.dt.tz_convert('US/Eastern')"
   ]
  },
  {
   "cell_type": "code",
   "execution_count": null,
   "id": "scenic-reliance",
   "metadata": {
    "tags": []
   },
   "outputs": [],
   "source": [
    "us_pacific_deadlines.dt.tz_convert('Europe/Berlin')"
   ]
  },
  {
   "cell_type": "code",
   "execution_count": null,
   "id": "better-palestinian",
   "metadata": {
    "tags": []
   },
   "outputs": [],
   "source": [
    "us_pacific_deadlines.dt.tz_localize(None)"
   ]
  },
  {
   "cell_type": "code",
   "execution_count": null,
   "id": "modified-companion",
   "metadata": {
    "tags": [
     "allowerror"
    ]
   },
   "outputs": [],
   "source": [
    "ledger_df['Date'].dt.tz_localize('US/Pacific') > ledger_df['Deadline']"
   ]
  }
 ],
 "metadata": {
  "jupytext": {
   "formats": "ipynb"
  },
  "kernelspec": {
   "display_name": "Python 3",
   "language": "python",
   "name": "python3"
  }
 },
 "nbformat": 4,
 "nbformat_minor": 5
}

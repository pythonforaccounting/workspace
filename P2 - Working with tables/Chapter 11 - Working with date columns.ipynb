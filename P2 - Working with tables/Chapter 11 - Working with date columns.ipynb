{
 "cells": [
  {
   "cell_type": "markdown",
   "id": "spoken-colors",
   "metadata": {},
   "source": [
    "\n",
    "# Working with date columns\n",
    "\n",
    "## Revisiting Python dates"
   ]
  },
  {
   "cell_type": "code",
   "execution_count": null,
   "id": "realistic-cooperative",
   "metadata": {
    "tags": []
   },
   "outputs": [],
   "source": [
    "from datetime import date, time, datetime, timedelta \n",
    "\n",
    "today = date(2020, 9, 30)\n",
    "now = datetime(2020, 9, 30, 12, 33)\n",
    "birthday = date(1989, 3, 21)\n",
    "\n",
    "days_of_holiday = timedelta(days=14) \n",
    "minutes_of_nap = timedelta(minutes=30)"
   ]
  },
  {
   "cell_type": "code",
   "execution_count": null,
   "id": "similar-location",
   "metadata": {
    "tags": []
   },
   "outputs": [],
   "source": [
    "today + days_of_holiday"
   ]
  },
  {
   "cell_type": "code",
   "execution_count": null,
   "id": "cognitive-chapel",
   "metadata": {
    "tags": []
   },
   "outputs": [],
   "source": [
    "now + minutes_of_nap"
   ]
  },
  {
   "cell_type": "code",
   "execution_count": null,
   "id": "indoor-mouse",
   "metadata": {
    "tags": []
   },
   "outputs": [],
   "source": [
    "today > birthday"
   ]
  },
  {
   "cell_type": "code",
   "execution_count": null,
   "id": "searching-honolulu",
   "metadata": {
    "tags": []
   },
   "outputs": [],
   "source": [
    "today - birthday"
   ]
  },
  {
   "cell_type": "code",
   "execution_count": null,
   "id": "olympic-grace",
   "metadata": {
    "tags": []
   },
   "outputs": [],
   "source": [
    "birthday.strftime('%d/%m/%y')"
   ]
  },
  {
   "cell_type": "code",
   "execution_count": null,
   "id": "interim-server",
   "metadata": {
    "tags": []
   },
   "outputs": [],
   "source": [
    "birthday.strftime('%A, %d %B, %Y')"
   ]
  },
  {
   "cell_type": "code",
   "execution_count": null,
   "id": "varied-patrol",
   "metadata": {
    "tags": []
   },
   "outputs": [],
   "source": [
    "my_date = '30/09/20'\n",
    "datetime.strptime(my_date, '%d/%m/%y')"
   ]
  },
  {
   "cell_type": "markdown",
   "id": "third-natural",
   "metadata": {},
   "source": [
    "## Date columns"
   ]
  },
  {
   "cell_type": "code",
   "execution_count": null,
   "id": "central-citizen",
   "metadata": {
    "tags": []
   },
   "outputs": [],
   "source": [
    "ledger_df.info()"
   ]
  },
  {
   "cell_type": "code",
   "execution_count": null,
   "id": "devoted-introduction",
   "metadata": {
    "tags": []
   },
   "outputs": [],
   "source": [
    "ledger_df['Date'].iloc[0]"
   ]
  },
  {
   "cell_type": "code",
   "execution_count": null,
   "id": "familiar-lobby",
   "metadata": {
    "tags": []
   },
   "outputs": [],
   "source": [
    "timestamp_date = pd.Timestamp(2020, 1, 1)\n",
    "datetime_date = datetime(2020, 1, 1)\n",
    "\n",
    "timestamp_date == datetime_date"
   ]
  },
  {
   "cell_type": "code",
   "execution_count": null,
   "id": "other-amount",
   "metadata": {
    "tags": []
   },
   "outputs": [],
   "source": [
    "ledger_df[['Date', 'Deadline']]"
   ]
  },
  {
   "cell_type": "markdown",
   "id": "complimentary-negative",
   "metadata": {},
   "source": [
    "### Converting strings to dates"
   ]
  },
  {
   "cell_type": "code",
   "execution_count": null,
   "id": "spoken-elements",
   "metadata": {
    "tags": []
   },
   "outputs": [],
   "source": [
    "pd.to_datetime(ledger_df['Deadline'])"
   ]
  },
  {
   "cell_type": "code",
   "execution_count": null,
   "id": "sonic-winter",
   "metadata": {
    "tags": []
   },
   "outputs": [],
   "source": [
    "dates = pd.Series(['05/07/20', '05/08/20', '05/09/20'])\n",
    "\n",
    "pd.to_datetime(dates)"
   ]
  },
  {
   "cell_type": "code",
   "execution_count": null,
   "id": "appropriate-software",
   "metadata": {
    "tags": []
   },
   "outputs": [],
   "source": [
    "pd.to_datetime(dates, format='%d/%m/%y')"
   ]
  },
  {
   "cell_type": "code",
   "execution_count": null,
   "id": "cordless-barcelona",
   "metadata": {
    "tags": []
   },
   "outputs": [],
   "source": [
    "pd.to_datetime(ledger_df['Deadline']).describe()"
   ]
  },
  {
   "cell_type": "code",
   "execution_count": null,
   "id": "empty-carter",
   "metadata": {
    "tags": []
   },
   "outputs": [],
   "source": [
    "ledger_df['Deadline'] = pd.to_datetime(ledger_df['Deadline'])"
   ]
  },
  {
   "cell_type": "code",
   "execution_count": null,
   "id": "transparent-brook",
   "metadata": {
    "tags": []
   },
   "outputs": [],
   "source": [
    "ledger_df.info()"
   ]
  },
  {
   "cell_type": "code",
   "execution_count": null,
   "id": "blond-replica",
   "metadata": {
    "tags": []
   },
   "outputs": [],
   "source": [
    "ledger_df[['Date', 'Deadline']]"
   ]
  },
  {
   "cell_type": "markdown",
   "id": "productive-groove",
   "metadata": {},
   "source": [
    "## Pandas date methods"
   ]
  },
  {
   "cell_type": "code",
   "execution_count": null,
   "id": "south-salvation",
   "metadata": {
    "tags": []
   },
   "outputs": [],
   "source": [
    "ledger_df['Deadline'].dt.year"
   ]
  },
  {
   "cell_type": "code",
   "execution_count": null,
   "id": "based-solid",
   "metadata": {
    "tags": []
   },
   "outputs": [],
   "source": [
    "ledger_df['Deadline'].dt.day_name()"
   ]
  },
  {
   "cell_type": "code",
   "execution_count": null,
   "id": "unusual-lover",
   "metadata": {
    "tags": []
   },
   "outputs": [],
   "source": [
    "ledger_df['Deadline'].dt.day_name('de_DE')"
   ]
  },
  {
   "cell_type": "markdown",
   "id": "postal-structure",
   "metadata": {},
   "source": [
    "### Filtering date columns"
   ]
  },
  {
   "cell_type": "code",
   "execution_count": null,
   "id": "prescribed-criminal",
   "metadata": {
    "tags": []
   },
   "outputs": [],
   "source": [
    "ledger_df[ledger_df['Date'] > '15/01/2020']"
   ]
  },
  {
   "cell_type": "code",
   "execution_count": null,
   "id": "superb-technician",
   "metadata": {
    "tags": []
   },
   "outputs": [],
   "source": [
    "ledger_df[ledger_df['Date'] > '15th of January, 2020']\n",
    "ledger_df[ledger_df['Date'] > '15/1/2020']\n",
    "ledger_df[ledger_df['Date'] > '2020, Jan 15']\n",
    "ledger_df[ledger_df['Date'] > '1-15-20']\n",
    "ledger_df[ledger_df['Date'] > '2020/1/15']"
   ]
  },
  {
   "cell_type": "code",
   "execution_count": null,
   "id": "foster-alcohol",
   "metadata": {
    "tags": []
   },
   "outputs": [],
   "source": [
    "import datetime as dt\n",
    "\n",
    "start_date = dt.datetime(2020, 1, 15)\n",
    "end_date = dt.datetime(2020, 1, 20)\n",
    "\n",
    "shift = dt.timedelta(days=1)\n",
    "\n",
    "ledger_df[\n",
    "    (ledger_df['Date'] > start_date - shift) & \n",
    "    (ledger_df['Date'] < end_date + shift)\n",
    "]"
   ]
  },
  {
   "cell_type": "code",
   "execution_count": null,
   "id": "pregnant-apache",
   "metadata": {
    "tags": []
   },
   "outputs": [],
   "source": [
    "ledger_df[\n",
    "    (ledger_df['Deadline'].dt.year.isin([2018, 2019])) & \n",
    "    (ledger_df['Deadline'].dt.quarter == 4) & \n",
    "    (ledger_df['Deadline'].dt.day_name() == 'Thursday')\n",
    "]"
   ]
  },
  {
   "cell_type": "markdown",
   "id": "further-motor",
   "metadata": {},
   "source": [
    "### Converting dates back to strings"
   ]
  },
  {
   "cell_type": "code",
   "execution_count": null,
   "id": "suburban-possible",
   "metadata": {
    "tags": []
   },
   "outputs": [],
   "source": [
    "ledger_df['Deadline'].dt.strftime(\"%A, %d %B, %Y\")"
   ]
  },
  {
   "cell_type": "markdown",
   "id": "minus-wednesday",
   "metadata": {},
   "source": [
    "## Pandas date arithmetic\n",
    "\n",
    "### Timedeltas"
   ]
  },
  {
   "cell_type": "code",
   "execution_count": null,
   "id": "statutory-custom",
   "metadata": {
    "tags": []
   },
   "outputs": [],
   "source": [
    "ledger_df['Deadline']"
   ]
  },
  {
   "cell_type": "code",
   "execution_count": null,
   "id": "synthetic-webmaster",
   "metadata": {
    "tags": []
   },
   "outputs": [],
   "source": [
    "ledger_df['Deadline'] + pd.Timedelta(days=2)"
   ]
  },
  {
   "cell_type": "code",
   "execution_count": null,
   "id": "thick-moldova",
   "metadata": {
    "tags": []
   },
   "outputs": [],
   "source": [
    "ledger_df['Deadline'] - pd.Timedelta(weeks=4)"
   ]
  },
  {
   "cell_type": "code",
   "execution_count": null,
   "id": "permanent-bishop",
   "metadata": {
    "tags": []
   },
   "outputs": [],
   "source": [
    "ledger_df['Deadline'] + pd.Timedelta(weeks=4, days=3, hours=2, minutes=1)"
   ]
  },
  {
   "cell_type": "code",
   "execution_count": null,
   "id": "narrow-broadway",
   "metadata": {
    "tags": []
   },
   "outputs": [],
   "source": [
    "ledger_df['Date'] - ledger_df['Deadline']"
   ]
  },
  {
   "cell_type": "code",
   "execution_count": null,
   "id": "collaborative-afghanistan",
   "metadata": {
    "tags": []
   },
   "outputs": [],
   "source": [
    "(ledger_df['Date'] - ledger_df['Deadline']).iloc[0]"
   ]
  },
  {
   "cell_type": "code",
   "execution_count": null,
   "id": "little-drawing",
   "metadata": {
    "tags": []
   },
   "outputs": [],
   "source": [
    "pd.Timedelta(days=2) + pd.Timedelta(weeks=1)"
   ]
  },
  {
   "cell_type": "code",
   "execution_count": null,
   "id": "effective-duncan",
   "metadata": {
    "tags": []
   },
   "outputs": [],
   "source": [
    "(ledger_df['Date'] - ledger_df['Deadline']) / pd.Timedelta(hours=1)"
   ]
  },
  {
   "cell_type": "markdown",
   "id": "interesting-california",
   "metadata": {},
   "source": [
    "### Date offsets"
   ]
  },
  {
   "cell_type": "code",
   "execution_count": null,
   "id": "adequate-influence",
   "metadata": {
    "tags": []
   },
   "outputs": [],
   "source": [
    "# equivalent to\n",
    "# ledger_df['Deadline'] + pd.Timedelta(days=2)\n",
    "ledger_df['Deadline'] + pd.DateOffset(days=2)"
   ]
  },
  {
   "cell_type": "code",
   "execution_count": null,
   "id": "established-subject",
   "metadata": {
    "tags": []
   },
   "outputs": [],
   "source": [
    "ledger_df['Deadline'] + pd.DateOffset(years=2, months=5)"
   ]
  },
  {
   "cell_type": "code",
   "execution_count": null,
   "id": "hollow-costs",
   "metadata": {
    "tags": []
   },
   "outputs": [],
   "source": [
    "ledger_df['Deadline'] + pd.DateOffset(year=1999)"
   ]
  },
  {
   "cell_type": "code",
   "execution_count": null,
   "id": "excited-commodity",
   "metadata": {
    "tags": []
   },
   "outputs": [],
   "source": [
    "import pandas.tseries.offsets as offsets"
   ]
  },
  {
   "cell_type": "code",
   "execution_count": null,
   "id": "indonesian-shanghai",
   "metadata": {
    "tags": [
     "allowerror"
    ]
   },
   "outputs": [],
   "source": [
    "offsets.<TAB>"
   ]
  },
  {
   "cell_type": "code",
   "execution_count": null,
   "id": "ordinary-illustration",
   "metadata": {
    "tags": []
   },
   "outputs": [],
   "source": [
    "reference_date = pd.Timestamp(2020, 9, 30)\n",
    "\n",
    "reference_date.day_name()"
   ]
  },
  {
   "cell_type": "code",
   "execution_count": null,
   "id": "clean-manual",
   "metadata": {
    "tags": []
   },
   "outputs": [],
   "source": [
    "(reference_date + offsets.BusinessDay(3)).day_name()"
   ]
  },
  {
   "cell_type": "code",
   "execution_count": null,
   "id": "compound-raising",
   "metadata": {
    "tags": []
   },
   "outputs": [],
   "source": [
    "reference_date - offsets.Easter(3)"
   ]
  },
  {
   "cell_type": "code",
   "execution_count": null,
   "id": "primary-armenia",
   "metadata": {
    "tags": []
   },
   "outputs": [],
   "source": [
    "ledger_df['Deadline'] + offsets.BusinessDay(3) "
   ]
  },
  {
   "cell_type": "markdown",
   "id": "stunning-necessity",
   "metadata": {},
   "source": [
    "### Periods"
   ]
  },
  {
   "cell_type": "code",
   "execution_count": null,
   "id": "resistant-visibility",
   "metadata": {
    "tags": []
   },
   "outputs": [],
   "source": [
    "ledger_df['Deadline'].dt.to_period(freq='Q')"
   ]
  },
  {
   "cell_type": "code",
   "execution_count": null,
   "id": "skilled-philadelphia",
   "metadata": {
    "tags": []
   },
   "outputs": [],
   "source": [
    "ledger_df['Deadline'].dt.to_period(freq='Q-SEP')"
   ]
  },
  {
   "cell_type": "code",
   "execution_count": null,
   "id": "specialized-mainland",
   "metadata": {
    "tags": []
   },
   "outputs": [],
   "source": [
    "# A stands for annual\n",
    "ledger_df['Deadline'].dt.to_period(freq='A')"
   ]
  },
  {
   "cell_type": "code",
   "execution_count": null,
   "id": "measured-earth",
   "metadata": {
    "tags": []
   },
   "outputs": [],
   "source": [
    "ledger_df['Deadline'].dt.to_period(freq='A-MAR')"
   ]
  },
  {
   "cell_type": "code",
   "execution_count": null,
   "id": "russian-event",
   "metadata": {
    "tags": []
   },
   "outputs": [],
   "source": [
    "periods = ledger_df['Deadline'].dt.to_period(freq='Q-SEP')\n",
    "\n",
    "periods"
   ]
  },
  {
   "cell_type": "code",
   "execution_count": null,
   "id": "fatal-value",
   "metadata": {
    "tags": []
   },
   "outputs": [],
   "source": [
    "periods.dt.to_timestamp()"
   ]
  },
  {
   "cell_type": "markdown",
   "id": "entitled-sculpture",
   "metadata": {},
   "source": [
    "## Overthinking: Timezones"
   ]
  },
  {
   "cell_type": "code",
   "execution_count": null,
   "id": "frozen-tribute",
   "metadata": {
    "tags": []
   },
   "outputs": [],
   "source": [
    "us_pacific_deadlines = ledger_df['Deadline'].dt.tz_localize('US/Pacific')\n",
    "\n",
    "us_pacific_deadlines"
   ]
  },
  {
   "cell_type": "code",
   "execution_count": null,
   "id": "adapted-anger",
   "metadata": {
    "tags": []
   },
   "outputs": [],
   "source": [
    "us_pacific_deadlines.dt.tz_convert('US/Eastern')"
   ]
  },
  {
   "cell_type": "code",
   "execution_count": null,
   "id": "social-independence",
   "metadata": {
    "tags": []
   },
   "outputs": [],
   "source": [
    "us_pacific_deadlines.dt.tz_convert('Europe/Berlin')"
   ]
  },
  {
   "cell_type": "code",
   "execution_count": null,
   "id": "valuable-prophet",
   "metadata": {
    "tags": []
   },
   "outputs": [],
   "source": [
    "us_pacific_deadlines.dt.tz_localize(None)"
   ]
  },
  {
   "cell_type": "code",
   "execution_count": null,
   "id": "shaped-default",
   "metadata": {
    "tags": [
     "allowerror"
    ]
   },
   "outputs": [],
   "source": [
    "ledger_df['Date'].dt.tz_localize('US/Pacific') > ledger_df['Deadline']"
   ]
  }
 ],
 "metadata": {
  "jupytext": {
   "formats": "ipynb"
  },
  "kernelspec": {
   "display_name": "Python 3",
   "language": "python",
   "name": "python3"
  }
 },
 "nbformat": 4,
 "nbformat_minor": 5
}

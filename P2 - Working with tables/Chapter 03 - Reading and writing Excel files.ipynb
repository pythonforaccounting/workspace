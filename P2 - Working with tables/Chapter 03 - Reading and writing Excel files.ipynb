{
 "cells": [
  {
   "cell_type": "markdown",
   "id": "internal-mapping",
   "metadata": {},
   "source": [
    "\n",
    "# Reading and writing Excel files"
   ]
  },
  {
   "cell_type": "code",
   "execution_count": null,
   "id": "empty-spirit",
   "metadata": {
    "tags": []
   },
   "outputs": [],
   "source": [
    "import pandas as pd"
   ]
  },
  {
   "cell_type": "markdown",
   "id": "indirect-corpus",
   "metadata": {},
   "source": [
    "## Reading Excel files"
   ]
  },
  {
   "cell_type": "code",
   "execution_count": null,
   "id": "surprising-somewhere",
   "metadata": {
    "tags": []
   },
   "outputs": [],
   "source": [
    "ledger_df = pd.read_excel('Q1Sales.xlsx')"
   ]
  },
  {
   "cell_type": "code",
   "execution_count": null,
   "id": "relevant-publicity",
   "metadata": {
    "tags": []
   },
   "outputs": [],
   "source": [
    "ledger_df"
   ]
  },
  {
   "cell_type": "code",
   "execution_count": null,
   "id": "placed-blake",
   "metadata": {
    "tags": []
   },
   "outputs": [],
   "source": [
    "ledger_df = pd.read_excel('Q1Sales.xlsx', sheet_name='March')"
   ]
  },
  {
   "cell_type": "code",
   "execution_count": null,
   "id": "excessive-description",
   "metadata": {
    "tags": []
   },
   "outputs": [],
   "source": [
    "jan_ledger_df = pd.read_excel('Q1Sales.xlsx')\n",
    "feb_ledger_df = pd.read_excel('Q1Sales.xlsx', sheet_name='February')\n",
    "mar_ledger_df = pd.read_excel('Q1Sales.xlsx', sheet_name='March')"
   ]
  },
  {
   "cell_type": "code",
   "execution_count": null,
   "id": "european-great",
   "metadata": {
    "tags": []
   },
   "outputs": [],
   "source": [
    "ledger_df = pd.read_excel('Q1Sales.xlsx', sheet_name=0)"
   ]
  },
  {
   "cell_type": "code",
   "execution_count": null,
   "id": "warming-function",
   "metadata": {
    "tags": [
     "allowerror"
    ]
   },
   "outputs": [],
   "source": [
    "pd.read_<TAB>"
   ]
  },
  {
   "cell_type": "markdown",
   "id": "former-stomach",
   "metadata": {},
   "source": [
    "## Inspecting data"
   ]
  },
  {
   "cell_type": "code",
   "execution_count": null,
   "id": "deluxe-field",
   "metadata": {
    "tags": []
   },
   "outputs": [],
   "source": [
    "ledger_df"
   ]
  },
  {
   "cell_type": "code",
   "execution_count": null,
   "id": "sunrise-plane",
   "metadata": {
    "tags": []
   },
   "outputs": [],
   "source": [
    "ledger_df.head(3)"
   ]
  },
  {
   "cell_type": "code",
   "execution_count": null,
   "id": "reserved-handling",
   "metadata": {
    "tags": []
   },
   "outputs": [],
   "source": [
    "ledger_df.tail(3)"
   ]
  },
  {
   "cell_type": "code",
   "execution_count": null,
   "id": "naval-inspector",
   "metadata": {
    "tags": []
   },
   "outputs": [],
   "source": [
    "ledger_df.info()"
   ]
  },
  {
   "cell_type": "code",
   "execution_count": null,
   "id": "covered-textbook",
   "metadata": {
    "tags": []
   },
   "outputs": [],
   "source": [
    "ledger_df.shape"
   ]
  },
  {
   "cell_type": "markdown",
   "id": "supported-muscle",
   "metadata": {},
   "source": [
    "## Writing Excel files"
   ]
  },
  {
   "cell_type": "code",
   "execution_count": null,
   "id": "widespread-emerald",
   "metadata": {
    "tags": []
   },
   "outputs": [],
   "source": [
    "ledger_df.to_excel('JanQ1Sales.xlsx')"
   ]
  },
  {
   "cell_type": "code",
   "execution_count": null,
   "id": "hollow-deputy",
   "metadata": {
    "tags": [
     "allowerror"
    ]
   },
   "outputs": [],
   "source": [
    "ledger_df.to_excel('C:/Users/Horatio/Documents/Python for Accounting/JanQ1Sales.xlsx')"
   ]
  },
  {
   "cell_type": "code",
   "execution_count": null,
   "id": "close-australia",
   "metadata": {
    "tags": [
     "allowerror"
    ]
   },
   "outputs": [],
   "source": [
    "ledger_df.to_excel(r'C:\\Users\\Horatio\\Documents\\Python for Accounting\\JanQ1Sales.xlsx')"
   ]
  },
  {
   "cell_type": "code",
   "execution_count": null,
   "id": "growing-fairy",
   "metadata": {
    "tags": []
   },
   "outputs": [],
   "source": [
    "ledger_df.to_excel('JanQ1Sales.xlsx', sheet_name='Sales')"
   ]
  },
  {
   "cell_type": "code",
   "execution_count": null,
   "id": "international-andorra",
   "metadata": {
    "tags": []
   },
   "outputs": [],
   "source": [
    "ledger_df.to_excel('JanQ1Sales.xlsx', sheet_name='Sales', index=False)"
   ]
  },
  {
   "cell_type": "code",
   "execution_count": null,
   "id": "adopted-order",
   "metadata": {
    "tags": []
   },
   "outputs": [],
   "source": [
    "ledger_df.to_csv('JanQ1Sales.csv', index=False)"
   ]
  },
  {
   "cell_type": "code",
   "execution_count": null,
   "id": "senior-veteran",
   "metadata": {
    "tags": [
     "allowerror"
    ]
   },
   "outputs": [],
   "source": [
    "ledger_df.to_<TAB>"
   ]
  },
  {
   "cell_type": "code",
   "execution_count": null,
   "id": "recent-obligation",
   "metadata": {
    "tags": []
   },
   "outputs": [],
   "source": [
    "ledger_df.to_clipboard?"
   ]
  }
 ],
 "metadata": {
  "jupytext": {
   "formats": "ipynb"
  },
  "kernelspec": {
   "display_name": "Python 3",
   "language": "python",
   "name": "python3"
  }
 },
 "nbformat": 4,
 "nbformat_minor": 5
}

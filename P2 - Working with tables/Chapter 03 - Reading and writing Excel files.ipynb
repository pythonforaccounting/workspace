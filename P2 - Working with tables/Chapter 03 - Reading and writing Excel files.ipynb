{
 "cells": [
  {
   "cell_type": "markdown",
   "id": "consolidated-agency",
   "metadata": {},
   "source": [
    "\n",
    "# Reading and writing Excel files"
   ]
  },
  {
   "cell_type": "code",
   "execution_count": null,
   "id": "objective-behavior",
   "metadata": {
    "tags": []
   },
   "outputs": [],
   "source": [
    "import pandas as pd"
   ]
  },
  {
   "cell_type": "markdown",
   "id": "minus-lying",
   "metadata": {},
   "source": [
    "## Reading Excel files"
   ]
  },
  {
   "cell_type": "code",
   "execution_count": null,
   "id": "nearby-preview",
   "metadata": {
    "tags": []
   },
   "outputs": [],
   "source": [
    "ledger_df = pd.read_excel('Q1Sales.xlsx')"
   ]
  },
  {
   "cell_type": "code",
   "execution_count": null,
   "id": "considerable-timothy",
   "metadata": {
    "tags": []
   },
   "outputs": [],
   "source": [
    "ledger_df"
   ]
  },
  {
   "cell_type": "code",
   "execution_count": null,
   "id": "welcome-appeal",
   "metadata": {
    "tags": []
   },
   "outputs": [],
   "source": [
    "ledger_df = pd.read_excel('Q1Sales.xlsx', sheet_name='March')"
   ]
  },
  {
   "cell_type": "code",
   "execution_count": null,
   "id": "later-balance",
   "metadata": {
    "tags": []
   },
   "outputs": [],
   "source": [
    "jan_ledger_df = pd.read_excel('Q1Sales.xlsx')\n",
    "feb_ledger_df = pd.read_excel('Q1Sales.xlsx', sheet_name='February')\n",
    "mar_ledger_df = pd.read_excel('Q1Sales.xlsx', sheet_name='March')"
   ]
  },
  {
   "cell_type": "code",
   "execution_count": null,
   "id": "commercial-minnesota",
   "metadata": {
    "tags": []
   },
   "outputs": [],
   "source": [
    "ledger_df = pd.read_excel('Q1Sales.xlsx', sheet_name=0)"
   ]
  },
  {
   "cell_type": "code",
   "execution_count": null,
   "id": "latin-flesh",
   "metadata": {
    "tags": [
     "allowerror"
    ]
   },
   "outputs": [],
   "source": [
    "pd.read_<TAB>"
   ]
  },
  {
   "cell_type": "markdown",
   "id": "fleet-mozambique",
   "metadata": {},
   "source": [
    "## Inspecting data"
   ]
  },
  {
   "cell_type": "code",
   "execution_count": null,
   "id": "located-vertex",
   "metadata": {
    "tags": []
   },
   "outputs": [],
   "source": [
    "ledger_df"
   ]
  },
  {
   "cell_type": "code",
   "execution_count": null,
   "id": "seventh-gilbert",
   "metadata": {
    "tags": []
   },
   "outputs": [],
   "source": [
    "ledger_df.head(3)"
   ]
  },
  {
   "cell_type": "code",
   "execution_count": null,
   "id": "becoming-circumstances",
   "metadata": {
    "tags": []
   },
   "outputs": [],
   "source": [
    "ledger_df.tail(3)"
   ]
  },
  {
   "cell_type": "code",
   "execution_count": null,
   "id": "active-defensive",
   "metadata": {
    "tags": []
   },
   "outputs": [],
   "source": [
    "ledger_df.info()"
   ]
  },
  {
   "cell_type": "code",
   "execution_count": null,
   "id": "trying-designation",
   "metadata": {
    "tags": []
   },
   "outputs": [],
   "source": [
    "ledger_df.shape"
   ]
  },
  {
   "cell_type": "markdown",
   "id": "spread-account",
   "metadata": {},
   "source": [
    "## Writing Excel files"
   ]
  },
  {
   "cell_type": "code",
   "execution_count": null,
   "id": "verified-occasions",
   "metadata": {
    "tags": []
   },
   "outputs": [],
   "source": [
    "ledger_df.to_excel('JanQ1Sales.xlsx')"
   ]
  },
  {
   "cell_type": "code",
   "execution_count": null,
   "id": "ruled-original",
   "metadata": {
    "tags": [
     "allowerror"
    ]
   },
   "outputs": [],
   "source": [
    "ledger_df.to_excel('C:/Users/Horatio/Documents/Python for Accounting/JanQ1Sales.xlsx')"
   ]
  },
  {
   "cell_type": "code",
   "execution_count": null,
   "id": "irish-washington",
   "metadata": {
    "tags": [
     "allowerror"
    ]
   },
   "outputs": [],
   "source": [
    "ledger_df.to_excel(r'C:\\Users\\Horatio\\Documents\\Python for Accounting\\JanQ1Sales.xlsx')"
   ]
  },
  {
   "cell_type": "code",
   "execution_count": null,
   "id": "thirty-jordan",
   "metadata": {
    "tags": []
   },
   "outputs": [],
   "source": [
    "ledger_df.to_excel('JanQ1Sales.xlsx', sheet_name='Sales')"
   ]
  },
  {
   "cell_type": "code",
   "execution_count": null,
   "id": "worldwide-analyst",
   "metadata": {
    "tags": []
   },
   "outputs": [],
   "source": [
    "ledger_df.to_excel('JanQ1Sales.xlsx', sheet_name='Sales', index=False)"
   ]
  },
  {
   "cell_type": "code",
   "execution_count": null,
   "id": "anonymous-boring",
   "metadata": {
    "tags": []
   },
   "outputs": [],
   "source": [
    "ledger_df.to_csv('JanQ1Sales.csv', index=False)"
   ]
  },
  {
   "cell_type": "code",
   "execution_count": null,
   "id": "mighty-study",
   "metadata": {
    "tags": [
     "allowerror"
    ]
   },
   "outputs": [],
   "source": [
    "ledger_df.to_<TAB>"
   ]
  },
  {
   "cell_type": "code",
   "execution_count": null,
   "id": "raising-temple",
   "metadata": {
    "tags": []
   },
   "outputs": [],
   "source": [
    "ledger_df.to_clipboard?"
   ]
  }
 ],
 "metadata": {
  "jupytext": {
   "formats": "ipynb"
  },
  "kernelspec": {
   "display_name": "Python 3",
   "language": "python",
   "name": "python3"
  }
 },
 "nbformat": 4,
 "nbformat_minor": 5
}

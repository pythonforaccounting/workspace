{
 "cells": [
  {
   "cell_type": "markdown",
   "id": "engaged-capability",
   "metadata": {},
   "source": [
    "\n",
    "# Reading and writing Excel files"
   ]
  },
  {
   "cell_type": "code",
   "execution_count": null,
   "id": "indirect-deviation",
   "metadata": {
    "tags": []
   },
   "outputs": [],
   "source": [
    "import pandas as pd"
   ]
  },
  {
   "cell_type": "markdown",
   "id": "likely-click",
   "metadata": {},
   "source": [
    "## Reading Excel files"
   ]
  },
  {
   "cell_type": "code",
   "execution_count": null,
   "id": "orange-conference",
   "metadata": {
    "tags": []
   },
   "outputs": [],
   "source": [
    "ledger_df = pd.read_excel('Q1Sales.xlsx')"
   ]
  },
  {
   "cell_type": "code",
   "execution_count": null,
   "id": "wooden-winner",
   "metadata": {
    "tags": []
   },
   "outputs": [],
   "source": [
    "ledger_df"
   ]
  },
  {
   "cell_type": "code",
   "execution_count": null,
   "id": "corrected-intent",
   "metadata": {
    "tags": []
   },
   "outputs": [],
   "source": [
    "ledger_df = pd.read_excel('Q1Sales.xlsx', sheet_name='March')"
   ]
  },
  {
   "cell_type": "code",
   "execution_count": null,
   "id": "suited-iraqi",
   "metadata": {
    "tags": []
   },
   "outputs": [],
   "source": [
    "jan_ledger_df = pd.read_excel('Q1Sales.xlsx')\n",
    "feb_ledger_df = pd.read_excel('Q1Sales.xlsx', sheet_name='February')\n",
    "mar_ledger_df = pd.read_excel('Q1Sales.xlsx', sheet_name='March')"
   ]
  },
  {
   "cell_type": "code",
   "execution_count": null,
   "id": "boxed-polish",
   "metadata": {
    "tags": []
   },
   "outputs": [],
   "source": [
    "ledger_df = pd.read_excel('Q1Sales.xlsx', sheet_name=0)"
   ]
  },
  {
   "cell_type": "code",
   "execution_count": null,
   "id": "differential-psychology",
   "metadata": {
    "tags": [
     "allowerror"
    ]
   },
   "outputs": [],
   "source": [
    "pd.read_<TAB>"
   ]
  },
  {
   "cell_type": "markdown",
   "id": "classical-reducing",
   "metadata": {},
   "source": [
    "## Inspecting data"
   ]
  },
  {
   "cell_type": "code",
   "execution_count": null,
   "id": "sensitive-rover",
   "metadata": {
    "tags": []
   },
   "outputs": [],
   "source": [
    "ledger_df"
   ]
  },
  {
   "cell_type": "code",
   "execution_count": null,
   "id": "consolidated-print",
   "metadata": {
    "tags": []
   },
   "outputs": [],
   "source": [
    "ledger_df.head(3)"
   ]
  },
  {
   "cell_type": "code",
   "execution_count": null,
   "id": "metallic-nightlife",
   "metadata": {
    "tags": []
   },
   "outputs": [],
   "source": [
    "ledger_df.tail(3)"
   ]
  },
  {
   "cell_type": "code",
   "execution_count": null,
   "id": "preliminary-increase",
   "metadata": {
    "tags": []
   },
   "outputs": [],
   "source": [
    "ledger_df.info()"
   ]
  },
  {
   "cell_type": "code",
   "execution_count": null,
   "id": "controlling-depth",
   "metadata": {
    "tags": []
   },
   "outputs": [],
   "source": [
    "ledger_df.shape"
   ]
  },
  {
   "cell_type": "markdown",
   "id": "anticipated-xerox",
   "metadata": {},
   "source": [
    "## Writing Excel files"
   ]
  },
  {
   "cell_type": "code",
   "execution_count": null,
   "id": "loaded-queens",
   "metadata": {
    "tags": []
   },
   "outputs": [],
   "source": [
    "ledger_df.to_excel('JanQ1Sales.xlsx')"
   ]
  },
  {
   "cell_type": "code",
   "execution_count": null,
   "id": "moving-council",
   "metadata": {
    "tags": [
     "allowerror"
    ]
   },
   "outputs": [],
   "source": [
    "ledger_df.to_excel('C:/Users/Horatio/Documents/Python for Accounting/JanQ1Sales.xlsx')"
   ]
  },
  {
   "cell_type": "code",
   "execution_count": null,
   "id": "particular-protection",
   "metadata": {
    "tags": [
     "allowerror"
    ]
   },
   "outputs": [],
   "source": [
    "ledger_df.to_excel(r'C:\\Users\\Horatio\\Documents\\Python for Accounting\\JanQ1Sales.xlsx')"
   ]
  },
  {
   "cell_type": "code",
   "execution_count": null,
   "id": "personalized-hazard",
   "metadata": {
    "tags": []
   },
   "outputs": [],
   "source": [
    "ledger_df.to_excel('JanQ1Sales.xlsx', sheet_name='Sales')"
   ]
  },
  {
   "cell_type": "code",
   "execution_count": null,
   "id": "transparent-referral",
   "metadata": {
    "tags": []
   },
   "outputs": [],
   "source": [
    "ledger_df.to_excel('JanQ1Sales.xlsx', sheet_name='Sales', index=False)"
   ]
  },
  {
   "cell_type": "code",
   "execution_count": null,
   "id": "naval-george",
   "metadata": {
    "tags": []
   },
   "outputs": [],
   "source": [
    "ledger_df.to_csv('JanQ1Sales.csv', index=False)"
   ]
  },
  {
   "cell_type": "code",
   "execution_count": null,
   "id": "mighty-employer",
   "metadata": {
    "tags": [
     "allowerror"
    ]
   },
   "outputs": [],
   "source": [
    "ledger_df.to_<TAB>"
   ]
  },
  {
   "cell_type": "code",
   "execution_count": null,
   "id": "humanitarian-onion",
   "metadata": {
    "tags": []
   },
   "outputs": [],
   "source": [
    "ledger_df.to_clipboard?"
   ]
  }
 ],
 "metadata": {
  "jupytext": {
   "formats": "ipynb"
  },
  "kernelspec": {
   "display_name": "Python 3",
   "language": "python",
   "name": "python3"
  }
 },
 "nbformat": 4,
 "nbformat_minor": 5
}

{
 "cells": [
  {
   "cell_type": "markdown",
   "id": "convenient-thing",
   "metadata": {},
   "source": [
    "\n",
    "# Tables, columns, and values\n",
    "\n",
    "## Series"
   ]
  },
  {
   "cell_type": "code",
   "execution_count": null,
   "id": "amino-split",
   "metadata": {
    "tags": []
   },
   "outputs": [],
   "source": [
    "import pandas as pd"
   ]
  },
  {
   "cell_type": "code",
   "execution_count": null,
   "id": "amber-chase",
   "metadata": {
    "tags": []
   },
   "outputs": [],
   "source": [
    "pd.Series({'first_row': 3, 'second_row': -20, 'third_row': 121})"
   ]
  },
  {
   "cell_type": "code",
   "execution_count": null,
   "id": "fleet-catering",
   "metadata": {
    "tags": []
   },
   "outputs": [],
   "source": [
    "pd.Series({0: 'Assets', 5: 'Revenue', -3: 'Sales'})"
   ]
  },
  {
   "cell_type": "code",
   "execution_count": null,
   "id": "floating-animation",
   "metadata": {
    "tags": []
   },
   "outputs": [],
   "source": [
    "values = pd.Series({'first_row': 3, 'second_row': -20, 'third_row': 121})\n",
    "\n",
    "values['second_row']"
   ]
  },
  {
   "cell_type": "code",
   "execution_count": null,
   "id": "established-sight",
   "metadata": {
    "tags": []
   },
   "outputs": [],
   "source": [
    "values.sum()"
   ]
  },
  {
   "cell_type": "markdown",
   "id": "pharmaceutical-glasgow",
   "metadata": {},
   "source": [
    "## DataFrame"
   ]
  },
  {
   "cell_type": "code",
   "execution_count": null,
   "id": "premier-station",
   "metadata": {
    "tags": []
   },
   "outputs": [],
   "source": [
    "df = pd.DataFrame({\n",
    "    \"first_column\": pd.Series({\"first_row\": 3, \"second_row\": -20, \"third_row\": 121}),\n",
    "    \"second_column\": pd.Series({\"first_row\": 0.23, \"second_row\": 2, \"third_row\": -3.5}),\n",
    "    \"third_column\": pd.Series({\"second_row\": 'Assets'}),\n",
    "})\n",
    "\n",
    "df"
   ]
  },
  {
   "cell_type": "code",
   "execution_count": null,
   "id": "adjacent-aaron",
   "metadata": {
    "tags": []
   },
   "outputs": [],
   "source": [
    "df['first_column']"
   ]
  },
  {
   "cell_type": "code",
   "execution_count": null,
   "id": "touched-castle",
   "metadata": {
    "tags": []
   },
   "outputs": [],
   "source": [
    "df['first_column']['second_row']"
   ]
  },
  {
   "cell_type": "markdown",
   "id": "descending-chambers",
   "metadata": {},
   "source": [
    "## Index and axes"
   ]
  },
  {
   "cell_type": "code",
   "execution_count": null,
   "id": "saving-reception",
   "metadata": {
    "tags": []
   },
   "outputs": [],
   "source": [
    "df.columns"
   ]
  },
  {
   "cell_type": "code",
   "execution_count": null,
   "id": "falling-working",
   "metadata": {
    "tags": []
   },
   "outputs": [],
   "source": [
    "df.index"
   ]
  },
  {
   "cell_type": "code",
   "execution_count": null,
   "id": "fixed-pledge",
   "metadata": {
    "tags": []
   },
   "outputs": [],
   "source": [
    "df.columns[2]"
   ]
  },
  {
   "cell_type": "code",
   "execution_count": null,
   "id": "subtle-lottery",
   "metadata": {
    "tags": []
   },
   "outputs": [],
   "source": [
    "df.index[1]"
   ]
  },
  {
   "cell_type": "code",
   "execution_count": null,
   "id": "narrow-charles",
   "metadata": {
    "tags": []
   },
   "outputs": [],
   "source": [
    "df"
   ]
  },
  {
   "cell_type": "code",
   "execution_count": null,
   "id": "described-niger",
   "metadata": {
    "tags": []
   },
   "outputs": [],
   "source": [
    "df.transpose()"
   ]
  },
  {
   "cell_type": "markdown",
   "id": "educated-modem",
   "metadata": {},
   "source": [
    "### Axes"
   ]
  },
  {
   "cell_type": "code",
   "execution_count": null,
   "id": "marked-pollution",
   "metadata": {
    "tags": []
   },
   "outputs": [],
   "source": [
    "df.axes"
   ]
  },
  {
   "cell_type": "code",
   "execution_count": null,
   "id": "adapted-nothing",
   "metadata": {
    "tags": []
   },
   "outputs": [],
   "source": [
    "[df.index, df.columns]"
   ]
  },
  {
   "cell_type": "code",
   "execution_count": null,
   "id": "homeless-lewis",
   "metadata": {
    "tags": []
   },
   "outputs": [],
   "source": [
    "df.count(axis='rows')"
   ]
  },
  {
   "cell_type": "code",
   "execution_count": null,
   "id": "thorough-adolescent",
   "metadata": {
    "tags": []
   },
   "outputs": [],
   "source": [
    "df.count(axis='columns')"
   ]
  },
  {
   "cell_type": "markdown",
   "id": "russian-recall",
   "metadata": {},
   "source": [
    "## Values and types"
   ]
  },
  {
   "cell_type": "code",
   "execution_count": null,
   "id": "dying-reflection",
   "metadata": {
    "tags": []
   },
   "outputs": [],
   "source": [
    "df"
   ]
  },
  {
   "cell_type": "code",
   "execution_count": null,
   "id": "auburn-dakota",
   "metadata": {
    "tags": []
   },
   "outputs": [],
   "source": [
    "df.info()"
   ]
  },
  {
   "cell_type": "code",
   "execution_count": null,
   "id": "wooden-kruger",
   "metadata": {
    "tags": []
   },
   "outputs": [],
   "source": [
    "df['first_column'].sum()"
   ]
  },
  {
   "cell_type": "code",
   "execution_count": null,
   "id": "southern-enclosure",
   "metadata": {
    "tags": [
     "allowerror"
    ]
   },
   "outputs": [],
   "source": [
    "df['first_column'].astype('string').sum()"
   ]
  }
 ],
 "metadata": {
  "jupytext": {
   "formats": "ipynb"
  },
  "kernelspec": {
   "display_name": "Python 3",
   "language": "python",
   "name": "python3"
  }
 },
 "nbformat": 4,
 "nbformat_minor": 5
}

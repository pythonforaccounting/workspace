{
 "cells": [
  {
   "cell_type": "markdown",
   "id": "egyptian-marshall",
   "metadata": {},
   "source": [
    "\n",
    "# Tables, columns, and values\n",
    "\n",
    "## Series"
   ]
  },
  {
   "cell_type": "code",
   "execution_count": null,
   "id": "pointed-logistics",
   "metadata": {
    "tags": []
   },
   "outputs": [],
   "source": [
    "import pandas as pd"
   ]
  },
  {
   "cell_type": "code",
   "execution_count": null,
   "id": "capital-google",
   "metadata": {
    "tags": []
   },
   "outputs": [],
   "source": [
    "pd.Series({'first_row': 3, 'second_row': -20, 'third_row': 121})"
   ]
  },
  {
   "cell_type": "code",
   "execution_count": null,
   "id": "excess-tulsa",
   "metadata": {
    "tags": []
   },
   "outputs": [],
   "source": [
    "pd.Series({0: 'Assets', 5: 'Revenue', -3: 'Sales'})"
   ]
  },
  {
   "cell_type": "code",
   "execution_count": null,
   "id": "abstract-decrease",
   "metadata": {
    "tags": []
   },
   "outputs": [],
   "source": [
    "values = pd.Series({'first_row': 3, 'second_row': -20, 'third_row': 121})\n",
    "\n",
    "values['second_row']"
   ]
  },
  {
   "cell_type": "code",
   "execution_count": null,
   "id": "eligible-enforcement",
   "metadata": {
    "tags": []
   },
   "outputs": [],
   "source": [
    "values.sum()"
   ]
  },
  {
   "cell_type": "markdown",
   "id": "collectible-processor",
   "metadata": {},
   "source": [
    "## DataFrame"
   ]
  },
  {
   "cell_type": "code",
   "execution_count": null,
   "id": "hidden-separation",
   "metadata": {
    "tags": []
   },
   "outputs": [],
   "source": [
    "df = pd.DataFrame({\n",
    "    \"first_column\": pd.Series({\"first_row\": 3, \"second_row\": -20, \"third_row\": 121}),\n",
    "    \"second_column\": pd.Series({\"first_row\": 0.23, \"second_row\": 2, \"third_row\": -3.5}),\n",
    "    \"third_column\": pd.Series({\"second_row\": 'Assets'}),\n",
    "})\n",
    "\n",
    "df"
   ]
  },
  {
   "cell_type": "code",
   "execution_count": null,
   "id": "powered-breathing",
   "metadata": {
    "tags": []
   },
   "outputs": [],
   "source": [
    "df['first_column']"
   ]
  },
  {
   "cell_type": "code",
   "execution_count": null,
   "id": "incoming-transsexual",
   "metadata": {
    "tags": []
   },
   "outputs": [],
   "source": [
    "df['first_column']['second_row']"
   ]
  },
  {
   "cell_type": "markdown",
   "id": "standing-silicon",
   "metadata": {},
   "source": [
    "## Index and axes"
   ]
  },
  {
   "cell_type": "code",
   "execution_count": null,
   "id": "lined-mambo",
   "metadata": {
    "tags": []
   },
   "outputs": [],
   "source": [
    "df.columns"
   ]
  },
  {
   "cell_type": "code",
   "execution_count": null,
   "id": "fewer-spirit",
   "metadata": {
    "tags": []
   },
   "outputs": [],
   "source": [
    "df.index"
   ]
  },
  {
   "cell_type": "code",
   "execution_count": null,
   "id": "strange-speech",
   "metadata": {
    "tags": []
   },
   "outputs": [],
   "source": [
    "df.columns[2]"
   ]
  },
  {
   "cell_type": "code",
   "execution_count": null,
   "id": "fatty-anxiety",
   "metadata": {
    "tags": []
   },
   "outputs": [],
   "source": [
    "df.index[1]"
   ]
  },
  {
   "cell_type": "code",
   "execution_count": null,
   "id": "guilty-delivery",
   "metadata": {
    "tags": []
   },
   "outputs": [],
   "source": [
    "df"
   ]
  },
  {
   "cell_type": "code",
   "execution_count": null,
   "id": "automated-space",
   "metadata": {
    "tags": []
   },
   "outputs": [],
   "source": [
    "df.transpose()"
   ]
  },
  {
   "cell_type": "markdown",
   "id": "neutral-stuff",
   "metadata": {},
   "source": [
    "### Axes"
   ]
  },
  {
   "cell_type": "code",
   "execution_count": null,
   "id": "equivalent-growth",
   "metadata": {
    "tags": []
   },
   "outputs": [],
   "source": [
    "df.axes"
   ]
  },
  {
   "cell_type": "code",
   "execution_count": null,
   "id": "unlimited-document",
   "metadata": {
    "tags": []
   },
   "outputs": [],
   "source": [
    "[df.index, df.columns]"
   ]
  },
  {
   "cell_type": "code",
   "execution_count": null,
   "id": "adjustable-effect",
   "metadata": {
    "tags": []
   },
   "outputs": [],
   "source": [
    "df.count(axis='rows')"
   ]
  },
  {
   "cell_type": "code",
   "execution_count": null,
   "id": "outside-lancaster",
   "metadata": {
    "tags": []
   },
   "outputs": [],
   "source": [
    "df.count(axis='columns')"
   ]
  },
  {
   "cell_type": "markdown",
   "id": "least-volume",
   "metadata": {},
   "source": [
    "## Values and types"
   ]
  },
  {
   "cell_type": "code",
   "execution_count": null,
   "id": "chemical-tampa",
   "metadata": {
    "tags": []
   },
   "outputs": [],
   "source": [
    "df"
   ]
  },
  {
   "cell_type": "code",
   "execution_count": null,
   "id": "increased-electric",
   "metadata": {
    "tags": []
   },
   "outputs": [],
   "source": [
    "df.info()"
   ]
  },
  {
   "cell_type": "code",
   "execution_count": null,
   "id": "apparent-overhead",
   "metadata": {
    "tags": []
   },
   "outputs": [],
   "source": [
    "df['first_column'].sum()"
   ]
  },
  {
   "cell_type": "code",
   "execution_count": null,
   "id": "decent-idaho",
   "metadata": {
    "tags": [
     "allowerror"
    ]
   },
   "outputs": [],
   "source": [
    "df['first_column'].astype('string').sum()"
   ]
  }
 ],
 "metadata": {
  "jupytext": {
   "formats": "ipynb"
  },
  "kernelspec": {
   "display_name": "Python 3",
   "language": "python",
   "name": "python3"
  }
 },
 "nbformat": 4,
 "nbformat_minor": 5
}

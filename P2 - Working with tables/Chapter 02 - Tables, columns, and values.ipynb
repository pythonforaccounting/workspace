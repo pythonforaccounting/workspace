{
 "cells": [
  {
   "cell_type": "markdown",
   "id": "obvious-qatar",
   "metadata": {},
   "source": [
    "\n",
    "# Tables, columns, and values\n",
    "\n",
    "## Series"
   ]
  },
  {
   "cell_type": "code",
   "execution_count": null,
   "id": "middle-punch",
   "metadata": {
    "tags": []
   },
   "outputs": [],
   "source": [
    "import pandas as pd"
   ]
  },
  {
   "cell_type": "code",
   "execution_count": null,
   "id": "serial-music",
   "metadata": {
    "tags": []
   },
   "outputs": [],
   "source": [
    "pd.Series({'first_row': 3, 'second_row': -20, 'third_row': 121})"
   ]
  },
  {
   "cell_type": "code",
   "execution_count": null,
   "id": "emotional-stretch",
   "metadata": {
    "tags": []
   },
   "outputs": [],
   "source": [
    "pd.Series({0: 'Assets', 5: 'Revenue', -3: 'Sales'})"
   ]
  },
  {
   "cell_type": "code",
   "execution_count": null,
   "id": "logical-knight",
   "metadata": {
    "tags": []
   },
   "outputs": [],
   "source": [
    "values = pd.Series({'first_row': 3, 'second_row': -20, 'third_row': 121})\n",
    "\n",
    "values['second_row']"
   ]
  },
  {
   "cell_type": "code",
   "execution_count": null,
   "id": "comparative-craps",
   "metadata": {
    "tags": []
   },
   "outputs": [],
   "source": [
    "values.sum()"
   ]
  },
  {
   "cell_type": "markdown",
   "id": "solid-active",
   "metadata": {},
   "source": [
    "## DataFrame"
   ]
  },
  {
   "cell_type": "code",
   "execution_count": null,
   "id": "portuguese-dividend",
   "metadata": {
    "tags": []
   },
   "outputs": [],
   "source": [
    "df = pd.DataFrame({\n",
    "    \"first_column\": pd.Series({\"first_row\": 3, \"second_row\": -20, \"third_row\": 121}),\n",
    "    \"second_column\": pd.Series({\"first_row\": 0.23, \"second_row\": 2, \"third_row\": -3.5}),\n",
    "    \"third_column\": pd.Series({\"second_row\": 'Assets'}),\n",
    "})\n",
    "\n",
    "df"
   ]
  },
  {
   "cell_type": "code",
   "execution_count": null,
   "id": "dried-provider",
   "metadata": {
    "tags": []
   },
   "outputs": [],
   "source": [
    "df['first_column']"
   ]
  },
  {
   "cell_type": "code",
   "execution_count": null,
   "id": "processed-cleveland",
   "metadata": {
    "tags": []
   },
   "outputs": [],
   "source": [
    "df['first_column']['second_row']"
   ]
  },
  {
   "cell_type": "markdown",
   "id": "expected-danish",
   "metadata": {},
   "source": [
    "## Index and axes"
   ]
  },
  {
   "cell_type": "code",
   "execution_count": null,
   "id": "abstract-headline",
   "metadata": {
    "tags": []
   },
   "outputs": [],
   "source": [
    "df.columns"
   ]
  },
  {
   "cell_type": "code",
   "execution_count": null,
   "id": "lightweight-simple",
   "metadata": {
    "tags": []
   },
   "outputs": [],
   "source": [
    "df.index"
   ]
  },
  {
   "cell_type": "code",
   "execution_count": null,
   "id": "demographic-customs",
   "metadata": {
    "tags": []
   },
   "outputs": [],
   "source": [
    "df.columns[2]"
   ]
  },
  {
   "cell_type": "code",
   "execution_count": null,
   "id": "stuck-dallas",
   "metadata": {
    "tags": []
   },
   "outputs": [],
   "source": [
    "df.index[1]"
   ]
  },
  {
   "cell_type": "code",
   "execution_count": null,
   "id": "fixed-initial",
   "metadata": {
    "tags": []
   },
   "outputs": [],
   "source": [
    "df"
   ]
  },
  {
   "cell_type": "code",
   "execution_count": null,
   "id": "prescription-slovenia",
   "metadata": {
    "tags": []
   },
   "outputs": [],
   "source": [
    "df.transpose()"
   ]
  },
  {
   "cell_type": "markdown",
   "id": "listed-ultimate",
   "metadata": {},
   "source": [
    "### Axes"
   ]
  },
  {
   "cell_type": "code",
   "execution_count": null,
   "id": "configured-isolation",
   "metadata": {
    "tags": []
   },
   "outputs": [],
   "source": [
    "df.axes"
   ]
  },
  {
   "cell_type": "code",
   "execution_count": null,
   "id": "vocational-horse",
   "metadata": {
    "tags": []
   },
   "outputs": [],
   "source": [
    "[df.index, df.columns]"
   ]
  },
  {
   "cell_type": "code",
   "execution_count": null,
   "id": "tracked-frame",
   "metadata": {
    "tags": []
   },
   "outputs": [],
   "source": [
    "df.count(axis='rows')"
   ]
  },
  {
   "cell_type": "code",
   "execution_count": null,
   "id": "timely-wealth",
   "metadata": {
    "tags": []
   },
   "outputs": [],
   "source": [
    "df.count(axis='columns')"
   ]
  },
  {
   "cell_type": "markdown",
   "id": "first-billy",
   "metadata": {},
   "source": [
    "## Values and types"
   ]
  },
  {
   "cell_type": "code",
   "execution_count": null,
   "id": "continued-pizza",
   "metadata": {
    "tags": []
   },
   "outputs": [],
   "source": [
    "df"
   ]
  },
  {
   "cell_type": "code",
   "execution_count": null,
   "id": "editorial-direction",
   "metadata": {
    "tags": []
   },
   "outputs": [],
   "source": [
    "df.info()"
   ]
  },
  {
   "cell_type": "code",
   "execution_count": null,
   "id": "outstanding-sapphire",
   "metadata": {
    "tags": []
   },
   "outputs": [],
   "source": [
    "df['first_column'].sum()"
   ]
  },
  {
   "cell_type": "code",
   "execution_count": null,
   "id": "derived-personality",
   "metadata": {
    "tags": [
     "allowerror"
    ]
   },
   "outputs": [],
   "source": [
    "df['first_column'].astype('string').sum()"
   ]
  }
 ],
 "metadata": {
  "jupytext": {
   "formats": "ipynb"
  },
  "kernelspec": {
   "display_name": "Python 3",
   "language": "python",
   "name": "python3"
  }
 },
 "nbformat": 4,
 "nbformat_minor": 5
}

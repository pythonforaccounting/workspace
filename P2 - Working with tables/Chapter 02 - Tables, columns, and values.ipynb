{
 "cells": [
  {
   "cell_type": "markdown",
   "id": "featured-honduras",
   "metadata": {},
   "source": [
    "\n",
    "# Tables, columns, and values\n",
    "\n",
    "## Series"
   ]
  },
  {
   "cell_type": "code",
   "execution_count": null,
   "id": "dynamic-turner",
   "metadata": {
    "tags": []
   },
   "outputs": [],
   "source": [
    "import pandas as pd"
   ]
  },
  {
   "cell_type": "code",
   "execution_count": null,
   "id": "ruled-mailing",
   "metadata": {
    "tags": []
   },
   "outputs": [],
   "source": [
    "pd.Series({'first_row': 3, 'second_row': -20, 'third_row': 121})"
   ]
  },
  {
   "cell_type": "code",
   "execution_count": null,
   "id": "stuffed-finance",
   "metadata": {
    "tags": []
   },
   "outputs": [],
   "source": [
    "pd.Series({0: 'Assets', 5: 'Revenue', -3: 'Sales'})"
   ]
  },
  {
   "cell_type": "code",
   "execution_count": null,
   "id": "ceramic-general",
   "metadata": {
    "tags": []
   },
   "outputs": [],
   "source": [
    "values = pd.Series({'first_row': 3, 'second_row': -20, 'third_row': 121})\n",
    "\n",
    "values['second_row']"
   ]
  },
  {
   "cell_type": "code",
   "execution_count": null,
   "id": "accomplished-protest",
   "metadata": {
    "tags": []
   },
   "outputs": [],
   "source": [
    "values.sum()"
   ]
  },
  {
   "cell_type": "markdown",
   "id": "downtown-space",
   "metadata": {},
   "source": [
    "## DataFrame"
   ]
  },
  {
   "cell_type": "code",
   "execution_count": null,
   "id": "architectural-belly",
   "metadata": {
    "tags": []
   },
   "outputs": [],
   "source": [
    "df = pd.DataFrame({\n",
    "    \"first_column\": pd.Series({\"first_row\": 3, \"second_row\": -20, \"third_row\": 121}),\n",
    "    \"second_column\": pd.Series({\"first_row\": 0.23, \"second_row\": 2, \"third_row\": -3.5}),\n",
    "    \"third_column\": pd.Series({\"second_row\": 'Assets'}),\n",
    "})\n",
    "\n",
    "df"
   ]
  },
  {
   "cell_type": "code",
   "execution_count": null,
   "id": "missing-oklahoma",
   "metadata": {
    "tags": []
   },
   "outputs": [],
   "source": [
    "df['first_column']"
   ]
  },
  {
   "cell_type": "code",
   "execution_count": null,
   "id": "earned-payroll",
   "metadata": {
    "tags": []
   },
   "outputs": [],
   "source": [
    "df['first_column']['second_row']"
   ]
  },
  {
   "cell_type": "markdown",
   "id": "successful-annex",
   "metadata": {},
   "source": [
    "## Index and axes"
   ]
  },
  {
   "cell_type": "code",
   "execution_count": null,
   "id": "interim-pocket",
   "metadata": {
    "tags": []
   },
   "outputs": [],
   "source": [
    "df.columns"
   ]
  },
  {
   "cell_type": "code",
   "execution_count": null,
   "id": "gentle-defense",
   "metadata": {
    "tags": []
   },
   "outputs": [],
   "source": [
    "df.index"
   ]
  },
  {
   "cell_type": "code",
   "execution_count": null,
   "id": "lasting-quarter",
   "metadata": {
    "tags": []
   },
   "outputs": [],
   "source": [
    "df.columns[2]"
   ]
  },
  {
   "cell_type": "code",
   "execution_count": null,
   "id": "limited-flashing",
   "metadata": {
    "tags": []
   },
   "outputs": [],
   "source": [
    "df.index[1]"
   ]
  },
  {
   "cell_type": "code",
   "execution_count": null,
   "id": "surprised-savannah",
   "metadata": {
    "tags": []
   },
   "outputs": [],
   "source": [
    "df"
   ]
  },
  {
   "cell_type": "code",
   "execution_count": null,
   "id": "boolean-leonard",
   "metadata": {
    "tags": []
   },
   "outputs": [],
   "source": [
    "df.transpose()"
   ]
  },
  {
   "cell_type": "markdown",
   "id": "quick-newton",
   "metadata": {},
   "source": [
    "### Axes"
   ]
  },
  {
   "cell_type": "code",
   "execution_count": null,
   "id": "legendary-improvement",
   "metadata": {
    "tags": []
   },
   "outputs": [],
   "source": [
    "df.axes"
   ]
  },
  {
   "cell_type": "code",
   "execution_count": null,
   "id": "nutritional-variety",
   "metadata": {
    "tags": []
   },
   "outputs": [],
   "source": [
    "[df.index, df.columns]"
   ]
  },
  {
   "cell_type": "code",
   "execution_count": null,
   "id": "valuable-meter",
   "metadata": {
    "tags": []
   },
   "outputs": [],
   "source": [
    "df.count(axis='rows')"
   ]
  },
  {
   "cell_type": "code",
   "execution_count": null,
   "id": "running-samuel",
   "metadata": {
    "tags": []
   },
   "outputs": [],
   "source": [
    "df.count(axis='columns')"
   ]
  },
  {
   "cell_type": "markdown",
   "id": "turkish-ordering",
   "metadata": {},
   "source": [
    "## Values and types"
   ]
  },
  {
   "cell_type": "code",
   "execution_count": null,
   "id": "infinite-estimate",
   "metadata": {
    "tags": []
   },
   "outputs": [],
   "source": [
    "df"
   ]
  },
  {
   "cell_type": "code",
   "execution_count": null,
   "id": "obvious-number",
   "metadata": {
    "tags": []
   },
   "outputs": [],
   "source": [
    "df.info()"
   ]
  },
  {
   "cell_type": "code",
   "execution_count": null,
   "id": "ignored-individual",
   "metadata": {
    "tags": []
   },
   "outputs": [],
   "source": [
    "df['first_column'].sum()"
   ]
  },
  {
   "cell_type": "code",
   "execution_count": null,
   "id": "spoken-bhutan",
   "metadata": {
    "tags": [
     "allowerror"
    ]
   },
   "outputs": [],
   "source": [
    "df['first_column'].astype('string').sum()"
   ]
  }
 ],
 "metadata": {
  "jupytext": {
   "formats": "ipynb"
  },
  "kernelspec": {
   "display_name": "Python 3",
   "language": "python",
   "name": "python3"
  }
 },
 "nbformat": 4,
 "nbformat_minor": 5
}

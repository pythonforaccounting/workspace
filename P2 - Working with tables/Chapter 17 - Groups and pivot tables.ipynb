{
 "cells": [
  {
   "cell_type": "markdown",
   "id": "further-utilization",
   "metadata": {},
   "source": [
    "\n",
    "# Groups and pivot tables\n",
    "\n",
    "## How group operations work\n",
    "\n",
    "## Group operations in pandas"
   ]
  },
  {
   "cell_type": "code",
   "execution_count": null,
   "id": "ordinary-albert",
   "metadata": {
    "tags": []
   },
   "outputs": [],
   "source": [
    "columns = ['ProductID', 'Product Name', 'Channel', 'Unit Price', 'Quantity', 'Total']\n",
    "sample_df = ledger_df[columns].tail(10)"
   ]
  },
  {
   "cell_type": "code",
   "execution_count": null,
   "id": "regional-hacker",
   "metadata": {
    "tags": []
   },
   "outputs": [],
   "source": [
    "sample_df"
   ]
  },
  {
   "cell_type": "code",
   "execution_count": null,
   "id": "union-catholic",
   "metadata": {
    "tags": []
   },
   "outputs": [],
   "source": [
    "sample_df.groupby('Channel').agg({'Total': 'sum'})"
   ]
  },
  {
   "cell_type": "markdown",
   "id": "advance-consultancy",
   "metadata": {},
   "source": [
    "### The pandas group object"
   ]
  },
  {
   "cell_type": "code",
   "execution_count": null,
   "id": "similar-stack",
   "metadata": {
    "tags": []
   },
   "outputs": [],
   "source": [
    "groups = sample_df.groupby('Channel')"
   ]
  },
  {
   "cell_type": "code",
   "execution_count": null,
   "id": "driving-hundred",
   "metadata": {
    "tags": []
   },
   "outputs": [],
   "source": [
    "type(groups)"
   ]
  },
  {
   "cell_type": "code",
   "execution_count": null,
   "id": "designing-feedback",
   "metadata": {
    "tags": []
   },
   "outputs": [],
   "source": [
    "groups.groups"
   ]
  },
  {
   "cell_type": "code",
   "execution_count": null,
   "id": "postal-scottish",
   "metadata": {
    "tags": []
   },
   "outputs": [],
   "source": [
    "groups.get_group('Bullseye')"
   ]
  },
  {
   "cell_type": "code",
   "execution_count": null,
   "id": "realistic-alabama",
   "metadata": {
    "tags": []
   },
   "outputs": [],
   "source": [
    "groups['Total'].get_group('Bullseye')"
   ]
  },
  {
   "cell_type": "code",
   "execution_count": null,
   "id": "minute-orleans",
   "metadata": {
    "tags": []
   },
   "outputs": [],
   "source": [
    "groups[['Quantity', 'Total']].get_group('Bullseye')"
   ]
  },
  {
   "cell_type": "code",
   "execution_count": null,
   "id": "alpha-amount",
   "metadata": {
    "tags": []
   },
   "outputs": [],
   "source": [
    "groups['Total'].sum()"
   ]
  },
  {
   "cell_type": "code",
   "execution_count": null,
   "id": "biological-martial",
   "metadata": {
    "tags": []
   },
   "outputs": [],
   "source": [
    "groups[['Quantity', 'Total']].sum()"
   ]
  },
  {
   "cell_type": "code",
   "execution_count": null,
   "id": "tested-encoding",
   "metadata": {
    "tags": []
   },
   "outputs": [],
   "source": [
    "sample_df.groupby('Channel')['Total'].sum()"
   ]
  },
  {
   "cell_type": "markdown",
   "id": "criminal-feeding",
   "metadata": {},
   "source": [
    "### Aggregating group functions"
   ]
  },
  {
   "cell_type": "code",
   "execution_count": null,
   "id": "approximate-lucas",
   "metadata": {
    "tags": []
   },
   "outputs": [],
   "source": [
    "# this works as well\n",
    "# sample_df.groupby('Channel')['Total'].agg('sum')\n",
    "sample_df.groupby('Channel').agg({'Total': 'sum'})"
   ]
  },
  {
   "cell_type": "code",
   "execution_count": null,
   "id": "sensitive-express",
   "metadata": {
    "tags": []
   },
   "outputs": [],
   "source": [
    "(sample_df\n",
    "    .groupby('Channel').agg({\n",
    "        'Total': ['sum', 'mean'],\n",
    "        'Quantity': ['sum', 'max', 'min']\n",
    "    })\n",
    ") "
   ]
  },
  {
   "cell_type": "code",
   "execution_count": null,
   "id": "rural-backing",
   "metadata": {
    "tags": []
   },
   "outputs": [],
   "source": [
    "# assigns the output above\n",
    "# to another variable \n",
    "aggregate_df = (\n",
    "  sample_df\n",
    "    .groupby('Channel').agg({\n",
    "        'Total': ['sum', 'mean'],\n",
    "        'Quantity': ['sum', 'max', 'min']\n",
    "    })\n",
    ") \n",
    "\n",
    "# selects the max column under Quantity\n",
    "aggregate_df.loc[:, ('Quantity', 'max')]"
   ]
  },
  {
   "cell_type": "code",
   "execution_count": null,
   "id": "patient-luxury",
   "metadata": {
    "tags": []
   },
   "outputs": [],
   "source": [
    "aggregate_df.loc[:, 'Quantity']"
   ]
  },
  {
   "cell_type": "markdown",
   "id": "driving-invitation",
   "metadata": {},
   "source": [
    "#### Custom aggregating functions"
   ]
  },
  {
   "cell_type": "code",
   "execution_count": null,
   "id": "tropical-apache",
   "metadata": {
    "tags": []
   },
   "outputs": [],
   "source": [
    "def total_diff(column):\n",
    "    return column.max() - column.min()    \n",
    "\n",
    "sample_df.groupby('Channel').agg({'Total': ['min', 'max', total_diff]})"
   ]
  },
  {
   "cell_type": "code",
   "execution_count": null,
   "id": "arranged-prisoner",
   "metadata": {
    "tags": [
     "allowerror"
    ]
   },
   "outputs": [],
   "source": [
    "def custom_aggregating_function(column):\n",
    "    return column\n",
    "\n",
    "sample_df.groupby('Channel').agg({'Total': custom_aggregating_function})"
   ]
  },
  {
   "cell_type": "markdown",
   "id": "structural-asset",
   "metadata": {},
   "source": [
    "### Overthinking: Other group functions"
   ]
  },
  {
   "cell_type": "code",
   "execution_count": null,
   "id": "closing-thriller",
   "metadata": {
    "tags": []
   },
   "outputs": [],
   "source": [
    "def filter_group(group_df):\n",
    "    return group_df if group_df['Total'].sum() > 200 else None\n",
    "\n",
    "sample_df.groupby('Channel').apply(filter_group)"
   ]
  },
  {
   "cell_type": "code",
   "execution_count": null,
   "id": "fantastic-maple",
   "metadata": {
    "tags": []
   },
   "outputs": [],
   "source": [
    "sample_df.groupby('Channel').apply(filter_group).reset_index(drop=True)"
   ]
  },
  {
   "cell_type": "code",
   "execution_count": null,
   "id": "speaking-chester",
   "metadata": {
    "tags": []
   },
   "outputs": [],
   "source": [
    "def percent_group_total(group_df):    \n",
    "    group_df['% Group Total'] = group_df['Total'] / group_df['Total'].sum() * 100\n",
    "    group_df['% Group Total'] = group_df['% Group Total'].round(2)\n",
    "    \n",
    "    return group_df\n",
    "\n",
    "sample_df.groupby('Channel').apply(percent_group_total)"
   ]
  },
  {
   "cell_type": "markdown",
   "id": "excellent-strand",
   "metadata": {},
   "source": [
    "## Stacking and unstacking"
   ]
  },
  {
   "cell_type": "code",
   "execution_count": null,
   "id": "unauthorized-devon",
   "metadata": {
    "tags": []
   },
   "outputs": [],
   "source": [
    "columns = ['ProductID', 'Channel', 'Total']\n",
    "sample_df = ledger_df[columns].head()\n",
    "\n",
    "sample_df"
   ]
  },
  {
   "cell_type": "code",
   "execution_count": null,
   "id": "further-transformation",
   "metadata": {
    "tags": []
   },
   "outputs": [],
   "source": [
    "sample_df.stack()"
   ]
  },
  {
   "cell_type": "code",
   "execution_count": null,
   "id": "binary-relative",
   "metadata": {
    "tags": []
   },
   "outputs": [],
   "source": [
    "stacked_sample = sample_df.stack() \n",
    "\n",
    "stacked_sample.unstack()"
   ]
  },
  {
   "cell_type": "markdown",
   "id": "cultural-likelihood",
   "metadata": {},
   "source": [
    "## Pivot tables"
   ]
  },
  {
   "cell_type": "code",
   "execution_count": null,
   "id": "sonic-middle",
   "metadata": {
    "tags": []
   },
   "outputs": [],
   "source": [
    "ledger_df = pd.read_excel('Q1Sales.xlsx')\n",
    "\n",
    "ledger_df['Deadline'] = pd.to_datetime(ledger_df['Deadline'])\n",
    "ledger_df['Deadline Quarter'] = ledger_df['Deadline'].dt.to_period(freq='Q-DEC')\n",
    "\n",
    "ledger_df"
   ]
  },
  {
   "cell_type": "code",
   "execution_count": null,
   "id": "effective-investigation",
   "metadata": {
    "tags": []
   },
   "outputs": [],
   "source": [
    "ledger_df.groupby(['Channel', 'Deadline Quarter']).agg({'Quantity': 'sum'})"
   ]
  },
  {
   "cell_type": "code",
   "execution_count": null,
   "id": "awful-bidding",
   "metadata": {
    "tags": []
   },
   "outputs": [],
   "source": [
    "ledger_df.groupby(['Channel', 'Deadline Quarter']).agg({'Quantity': 'sum'}).unstack()"
   ]
  },
  {
   "cell_type": "code",
   "execution_count": null,
   "id": "bored-cathedral",
   "metadata": {
    "tags": []
   },
   "outputs": [],
   "source": [
    "pd.pivot_table(ledger_df, \n",
    "               index='Channel', \n",
    "               columns='Deadline Quarter', \n",
    "               values='Quantity',\n",
    "               aggfunc='sum')"
   ]
  },
  {
   "cell_type": "code",
   "execution_count": null,
   "id": "special-draft",
   "metadata": {
    "tags": []
   },
   "outputs": [],
   "source": [
    "pd.pivot_table(ledger_df, \n",
    "               index='Channel', \n",
    "               columns='Deadline Quarter', \n",
    "               values='Quantity', \n",
    "               aggfunc='sum',\n",
    "               margins=True,\n",
    "               margins_name='TOTAL')"
   ]
  }
 ],
 "metadata": {
  "jupytext": {
   "formats": "ipynb"
  },
  "kernelspec": {
   "display_name": "Python 3",
   "language": "python",
   "name": "python3"
  }
 },
 "nbformat": 4,
 "nbformat_minor": 5
}

{
 "cells": [
  {
   "cell_type": "markdown",
   "id": "dated-lotus",
   "metadata": {},
   "source": [
    "\n",
    "# Groups and pivot tables\n",
    "\n",
    "## How group operations work\n",
    "\n",
    "## Group operations in pandas"
   ]
  },
  {
   "cell_type": "code",
   "execution_count": null,
   "id": "monthly-facial",
   "metadata": {
    "tags": []
   },
   "outputs": [],
   "source": [
    "columns = ['ProductID', 'Product Name', 'Channel', 'Unit Price', 'Quantity', 'Total']\n",
    "sample_df = ledger_df[columns].tail(10)"
   ]
  },
  {
   "cell_type": "code",
   "execution_count": null,
   "id": "affected-briefs",
   "metadata": {
    "tags": []
   },
   "outputs": [],
   "source": [
    "sample_df"
   ]
  },
  {
   "cell_type": "code",
   "execution_count": null,
   "id": "lined-grounds",
   "metadata": {
    "tags": []
   },
   "outputs": [],
   "source": [
    "sample_df.groupby('Channel').agg({'Total': 'sum'})"
   ]
  },
  {
   "cell_type": "markdown",
   "id": "portuguese-complaint",
   "metadata": {},
   "source": [
    "### The pandas group object"
   ]
  },
  {
   "cell_type": "code",
   "execution_count": null,
   "id": "committed-copying",
   "metadata": {
    "tags": []
   },
   "outputs": [],
   "source": [
    "groups = sample_df.groupby('Channel')"
   ]
  },
  {
   "cell_type": "code",
   "execution_count": null,
   "id": "broad-overhead",
   "metadata": {
    "tags": []
   },
   "outputs": [],
   "source": [
    "type(groups)"
   ]
  },
  {
   "cell_type": "code",
   "execution_count": null,
   "id": "secondary-geology",
   "metadata": {
    "tags": []
   },
   "outputs": [],
   "source": [
    "groups.groups"
   ]
  },
  {
   "cell_type": "code",
   "execution_count": null,
   "id": "sweet-settlement",
   "metadata": {
    "tags": []
   },
   "outputs": [],
   "source": [
    "groups.get_group('Bullseye')"
   ]
  },
  {
   "cell_type": "code",
   "execution_count": null,
   "id": "ruled-radical",
   "metadata": {
    "tags": []
   },
   "outputs": [],
   "source": [
    "groups['Total'].get_group('Bullseye')"
   ]
  },
  {
   "cell_type": "code",
   "execution_count": null,
   "id": "latest-investing",
   "metadata": {
    "tags": []
   },
   "outputs": [],
   "source": [
    "groups[['Quantity', 'Total']].get_group('Bullseye')"
   ]
  },
  {
   "cell_type": "code",
   "execution_count": null,
   "id": "celtic-england",
   "metadata": {
    "tags": []
   },
   "outputs": [],
   "source": [
    "groups['Total'].sum()"
   ]
  },
  {
   "cell_type": "code",
   "execution_count": null,
   "id": "federal-candy",
   "metadata": {
    "tags": []
   },
   "outputs": [],
   "source": [
    "groups[['Quantity', 'Total']].sum()"
   ]
  },
  {
   "cell_type": "code",
   "execution_count": null,
   "id": "sacred-removal",
   "metadata": {
    "tags": []
   },
   "outputs": [],
   "source": [
    "sample_df.groupby('Channel')['Total'].sum()"
   ]
  },
  {
   "cell_type": "markdown",
   "id": "south-retreat",
   "metadata": {},
   "source": [
    "### Aggregating group functions"
   ]
  },
  {
   "cell_type": "code",
   "execution_count": null,
   "id": "reduced-divide",
   "metadata": {
    "tags": []
   },
   "outputs": [],
   "source": [
    "# this works as well\n",
    "# sample_df.groupby('Channel')['Total'].agg('sum')\n",
    "sample_df.groupby('Channel').agg({'Total': 'sum'})"
   ]
  },
  {
   "cell_type": "code",
   "execution_count": null,
   "id": "tribal-rental",
   "metadata": {
    "tags": []
   },
   "outputs": [],
   "source": [
    "(sample_df\n",
    "    .groupby('Channel').agg({\n",
    "        'Total': ['sum', 'mean'],\n",
    "        'Quantity': ['sum', 'max', 'min']\n",
    "    })\n",
    ") "
   ]
  },
  {
   "cell_type": "code",
   "execution_count": null,
   "id": "mechanical-savage",
   "metadata": {
    "tags": []
   },
   "outputs": [],
   "source": [
    "# assigns the output above\n",
    "# to another variable \n",
    "aggregate_df = (\n",
    "  sample_df\n",
    "    .groupby('Channel').agg({\n",
    "        'Total': ['sum', 'mean'],\n",
    "        'Quantity': ['sum', 'max', 'min']\n",
    "    })\n",
    ") \n",
    "\n",
    "# selects the max column under Quantity\n",
    "aggregate_df.loc[:, ('Quantity', 'max')]"
   ]
  },
  {
   "cell_type": "code",
   "execution_count": null,
   "id": "sensitive-tutorial",
   "metadata": {
    "tags": []
   },
   "outputs": [],
   "source": [
    "aggregate_df.loc[:, 'Quantity']"
   ]
  },
  {
   "cell_type": "markdown",
   "id": "endless-assistant",
   "metadata": {},
   "source": [
    "#### Custom aggregating functions"
   ]
  },
  {
   "cell_type": "code",
   "execution_count": null,
   "id": "central-selection",
   "metadata": {
    "tags": []
   },
   "outputs": [],
   "source": [
    "def total_diff(column):\n",
    "    return column.max() - column.min()    \n",
    "\n",
    "sample_df.groupby('Channel').agg({'Total': ['min', 'max', total_diff]})"
   ]
  },
  {
   "cell_type": "code",
   "execution_count": null,
   "id": "angry-tolerance",
   "metadata": {
    "tags": [
     "allowerror"
    ]
   },
   "outputs": [],
   "source": [
    "def custom_aggregating_function(column):\n",
    "    return column\n",
    "\n",
    "sample_df.groupby('Channel').agg({'Total': custom_aggregating_function})"
   ]
  },
  {
   "cell_type": "markdown",
   "id": "sealed-airplane",
   "metadata": {},
   "source": [
    "### Overthinking: Other group functions"
   ]
  },
  {
   "cell_type": "code",
   "execution_count": null,
   "id": "dated-equality",
   "metadata": {
    "tags": []
   },
   "outputs": [],
   "source": [
    "def filter_group(group_df):\n",
    "    return group_df if group_df['Total'].sum() > 200 else None\n",
    "\n",
    "sample_df.groupby('Channel').apply(filter_group)"
   ]
  },
  {
   "cell_type": "code",
   "execution_count": null,
   "id": "violent-jewel",
   "metadata": {
    "tags": []
   },
   "outputs": [],
   "source": [
    "sample_df.groupby('Channel').apply(filter_group).reset_index(drop=True)"
   ]
  },
  {
   "cell_type": "code",
   "execution_count": null,
   "id": "spectacular-costs",
   "metadata": {
    "tags": []
   },
   "outputs": [],
   "source": [
    "def percent_group_total(group_df):    \n",
    "    group_df['% Group Total'] = group_df['Total'] / group_df['Total'].sum() * 100\n",
    "    group_df['% Group Total'] = group_df['% Group Total'].round(2)\n",
    "    \n",
    "    return group_df\n",
    "\n",
    "sample_df.groupby('Channel').apply(percent_group_total)"
   ]
  },
  {
   "cell_type": "markdown",
   "id": "detected-beauty",
   "metadata": {},
   "source": [
    "## Stacking and unstacking"
   ]
  },
  {
   "cell_type": "code",
   "execution_count": null,
   "id": "relative-rochester",
   "metadata": {
    "tags": []
   },
   "outputs": [],
   "source": [
    "columns = ['ProductID', 'Channel', 'Total']\n",
    "sample_df = ledger_df[columns].head()\n",
    "\n",
    "sample_df"
   ]
  },
  {
   "cell_type": "code",
   "execution_count": null,
   "id": "toxic-grenada",
   "metadata": {
    "tags": []
   },
   "outputs": [],
   "source": [
    "sample_df.stack()"
   ]
  },
  {
   "cell_type": "code",
   "execution_count": null,
   "id": "rocky-kuwait",
   "metadata": {
    "tags": []
   },
   "outputs": [],
   "source": [
    "stacked_sample = sample_df.stack() \n",
    "\n",
    "stacked_sample.unstack()"
   ]
  },
  {
   "cell_type": "markdown",
   "id": "center-ultimate",
   "metadata": {},
   "source": [
    "## Pivot tables"
   ]
  },
  {
   "cell_type": "code",
   "execution_count": null,
   "id": "framed-utilization",
   "metadata": {
    "tags": []
   },
   "outputs": [],
   "source": [
    "ledger_df = pd.read_excel('Q1Sales.xlsx')\n",
    "\n",
    "ledger_df['Deadline'] = pd.to_datetime(ledger_df['Deadline'])\n",
    "ledger_df['Deadline Quarter'] = ledger_df['Deadline'].dt.to_period(freq='Q-DEC')\n",
    "\n",
    "ledger_df"
   ]
  },
  {
   "cell_type": "code",
   "execution_count": null,
   "id": "marine-firewall",
   "metadata": {
    "tags": []
   },
   "outputs": [],
   "source": [
    "ledger_df.groupby(['Channel', 'Deadline Quarter']).agg({'Quantity': 'sum'})"
   ]
  },
  {
   "cell_type": "code",
   "execution_count": null,
   "id": "fitting-leone",
   "metadata": {
    "tags": []
   },
   "outputs": [],
   "source": [
    "ledger_df.groupby(['Channel', 'Deadline Quarter']).agg({'Quantity': 'sum'}).unstack()"
   ]
  },
  {
   "cell_type": "code",
   "execution_count": null,
   "id": "dominican-seafood",
   "metadata": {
    "tags": []
   },
   "outputs": [],
   "source": [
    "pd.pivot_table(ledger_df, \n",
    "               index='Channel', \n",
    "               columns='Deadline Quarter', \n",
    "               values='Quantity',\n",
    "               aggfunc='sum')"
   ]
  },
  {
   "cell_type": "code",
   "execution_count": null,
   "id": "bacterial-powell",
   "metadata": {
    "tags": []
   },
   "outputs": [],
   "source": [
    "pd.pivot_table(ledger_df, \n",
    "               index='Channel', \n",
    "               columns='Deadline Quarter', \n",
    "               values='Quantity', \n",
    "               aggfunc='sum',\n",
    "               margins=True,\n",
    "               margins_name='TOTAL')"
   ]
  }
 ],
 "metadata": {
  "jupytext": {
   "formats": "ipynb"
  },
  "kernelspec": {
   "display_name": "Python 3",
   "language": "python",
   "name": "python3"
  }
 },
 "nbformat": 4,
 "nbformat_minor": 5
}

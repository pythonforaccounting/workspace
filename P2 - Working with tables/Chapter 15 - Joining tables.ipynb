{
 "cells": [
  {
   "cell_type": "markdown",
   "id": "exact-notion",
   "metadata": {},
   "source": [
    "\n",
    "# Joining tables\n",
    "\n",
    "## How joins work\n",
    "\n",
    "## Joins in pandas"
   ]
  },
  {
   "cell_type": "code",
   "execution_count": null,
   "id": "significant-aruba",
   "metadata": {
    "tags": []
   },
   "outputs": [],
   "source": [
    "import pandas as pd\n",
    "\n",
    "ledger_df = pd.read_excel('Q1Sales.xlsx')\n",
    "products_df = pd.read_csv('products.csv')"
   ]
  },
  {
   "cell_type": "code",
   "execution_count": null,
   "id": "regular-catch",
   "metadata": {
    "tags": []
   },
   "outputs": [],
   "source": [
    "left_df = ledger_df.head(5)\n",
    "left_df = left_df[['ProductID', 'Unit Price', 'Quantity']]\n",
    "left_df = left_df.drop_duplicates(subset=['ProductID'])\n",
    "\n",
    "right_df = products_df[products_df['ProductID'].isin(left_df['ProductID'].unique())]\n",
    "right_df = right_df[['ProductID', 'Product Name', 'Brand']]"
   ]
  },
  {
   "cell_type": "code",
   "execution_count": null,
   "id": "russian-munich",
   "metadata": {
    "tags": []
   },
   "outputs": [],
   "source": [
    "left_df"
   ]
  },
  {
   "cell_type": "code",
   "execution_count": null,
   "id": "buried-precipitation",
   "metadata": {
    "tags": []
   },
   "outputs": [],
   "source": [
    "right_df"
   ]
  },
  {
   "cell_type": "code",
   "execution_count": null,
   "id": "altered-drama",
   "metadata": {
    "tags": []
   },
   "outputs": [],
   "source": [
    "pd.merge(left_df, right_df, on='ProductID')"
   ]
  },
  {
   "cell_type": "code",
   "execution_count": null,
   "id": "middle-faculty",
   "metadata": {
    "tags": []
   },
   "outputs": [],
   "source": [
    "left_df = left_df.append(left_df.iloc[-1])\n",
    "right_df = right_df.append(right_df.iloc[-1])"
   ]
  },
  {
   "cell_type": "code",
   "execution_count": null,
   "id": "normal-cheese",
   "metadata": {
    "tags": []
   },
   "outputs": [],
   "source": [
    "left_df"
   ]
  },
  {
   "cell_type": "code",
   "execution_count": null,
   "id": "important-maryland",
   "metadata": {
    "tags": []
   },
   "outputs": [],
   "source": [
    "right_df"
   ]
  },
  {
   "cell_type": "code",
   "execution_count": null,
   "id": "saving-moment",
   "metadata": {
    "tags": [
     "allowerror"
    ]
   },
   "outputs": [],
   "source": [
    "pd.merge(left_df, right_df, on='ProductID', validate='one_to_one')"
   ]
  },
  {
   "cell_type": "markdown",
   "id": "ecological-assembly",
   "metadata": {},
   "source": [
    "## Inner, outer, left, and right joins"
   ]
  },
  {
   "cell_type": "code",
   "execution_count": null,
   "id": "chief-allocation",
   "metadata": {
    "tags": []
   },
   "outputs": [],
   "source": [
    "left_ids = ['T&G/LEG-60816', 'T&G/PLA-85805', 'T&G/DIS-51236', 'T&G/THE-82687']\n",
    "right_ids = ['T&G/THO-09600', 'T&G/PLA-29969', 'T&G/LEG-60816', 'T&G/PLA-85805']\n",
    "\n",
    "left_df = ledger_df[ledger_df['ProductID'].isin(left_ids)]\n",
    "left_df = left_df[['ProductID', 'Unit Price', 'Quantity']]\n",
    "\n",
    "right_df = products_df[products_df['ProductID'].isin(right_ids)]\n",
    "right_df = right_df[['ProductID', 'Product Name', 'Brand']]"
   ]
  },
  {
   "cell_type": "code",
   "execution_count": null,
   "id": "muslim-franchise",
   "metadata": {
    "tags": []
   },
   "outputs": [],
   "source": [
    "left_df"
   ]
  },
  {
   "cell_type": "code",
   "execution_count": null,
   "id": "scientific-conditions",
   "metadata": {
    "tags": []
   },
   "outputs": [],
   "source": [
    "right_df"
   ]
  },
  {
   "cell_type": "code",
   "execution_count": null,
   "id": "endless-soundtrack",
   "metadata": {
    "tags": []
   },
   "outputs": [],
   "source": [
    "pd.merge(left_df, right_df, on='ProductID')"
   ]
  },
  {
   "cell_type": "code",
   "execution_count": null,
   "id": "accepted-milan",
   "metadata": {
    "tags": []
   },
   "outputs": [],
   "source": [
    "pd.merge(left_df, right_df, on='ProductID', how='left')"
   ]
  },
  {
   "cell_type": "code",
   "execution_count": null,
   "id": "bright-textbook",
   "metadata": {
    "tags": []
   },
   "outputs": [],
   "source": [
    "pd.merge(left_df, right_df, on='ProductID', how='right')"
   ]
  },
  {
   "cell_type": "code",
   "execution_count": null,
   "id": "christian-newport",
   "metadata": {
    "tags": []
   },
   "outputs": [],
   "source": [
    "pd.merge(left_df, right_df, on='ProductID', how='outer')"
   ]
  },
  {
   "cell_type": "code",
   "execution_count": null,
   "id": "iraqi-charity",
   "metadata": {
    "tags": []
   },
   "outputs": [],
   "source": [
    "pd.merge(left_df, right_df, on='ProductID', how='outer', indicator='Source')"
   ]
  },
  {
   "cell_type": "code",
   "execution_count": null,
   "id": "conservative-sweet",
   "metadata": {
    "tags": []
   },
   "outputs": [],
   "source": [
    "merged_df = pd.merge(left_df, right_df, on='ProductID', how='outer', indicator='Source')\n",
    "\n",
    "merged_df['Source'].value_counts()"
   ]
  },
  {
   "cell_type": "markdown",
   "id": "cellular-marriage",
   "metadata": {},
   "source": [
    "## More joining options"
   ]
  },
  {
   "cell_type": "code",
   "execution_count": null,
   "id": "northern-refund",
   "metadata": {
    "tags": []
   },
   "outputs": [],
   "source": [
    "left_df = ledger_df[['ProductID', 'Channel', 'Unit Price']].tail(5)\n",
    "right_df = ledger_df[['ProductID', 'Channel', 'Deadline']].tail(5)"
   ]
  },
  {
   "cell_type": "code",
   "execution_count": null,
   "id": "marine-corrections",
   "metadata": {
    "tags": []
   },
   "outputs": [],
   "source": [
    "left_df"
   ]
  },
  {
   "cell_type": "code",
   "execution_count": null,
   "id": "enclosed-cruise",
   "metadata": {
    "tags": []
   },
   "outputs": [],
   "source": [
    "right_df"
   ]
  },
  {
   "cell_type": "code",
   "execution_count": null,
   "id": "frank-inquiry",
   "metadata": {
    "tags": []
   },
   "outputs": [],
   "source": [
    "pd.merge(left_df, right_df, on=['ProductID', 'Channel'])"
   ]
  },
  {
   "cell_type": "code",
   "execution_count": null,
   "id": "palestinian-joseph",
   "metadata": {
    "tags": []
   },
   "outputs": [],
   "source": [
    "right_df.columns = ['productid', 'channel', 'deadline']\n",
    "\n",
    "right_df"
   ]
  },
  {
   "cell_type": "code",
   "execution_count": null,
   "id": "iraqi-number",
   "metadata": {
    "tags": []
   },
   "outputs": [],
   "source": [
    "pd.merge(\n",
    "    left_df, right_df, \n",
    "    left_on=['ProductID', 'Channel'], \n",
    "    right_on=['productid', 'channel'] \n",
    ")"
   ]
  },
  {
   "cell_type": "code",
   "execution_count": null,
   "id": "pharmaceutical-officer",
   "metadata": {
    "tags": []
   },
   "outputs": [],
   "source": [
    "pd.merge(\n",
    "    left_df, right_df, \n",
    "    left_on=['ProductID', 'Channel'], \n",
    "    right_on=['productid', 'channel']\n",
    ").drop(['productid', 'channel'], axis='columns')"
   ]
  }
 ],
 "metadata": {
  "jupytext": {
   "formats": "ipynb"
  },
  "kernelspec": {
   "display_name": "Python 3",
   "language": "python",
   "name": "python3"
  }
 },
 "nbformat": 4,
 "nbformat_minor": 5
}

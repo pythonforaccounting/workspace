{
 "cells": [
  {
   "cell_type": "markdown",
   "id": "convenient-disclaimer",
   "metadata": {},
   "source": [
    "\n",
    "# Joining tables\n",
    "\n",
    "## How joins work\n",
    "\n",
    "## Joins in pandas"
   ]
  },
  {
   "cell_type": "code",
   "execution_count": null,
   "id": "necessary-bargain",
   "metadata": {
    "tags": []
   },
   "outputs": [],
   "source": [
    "import pandas as pd\n",
    "\n",
    "ledger_df = pd.read_excel('Q1Sales.xlsx')\n",
    "products_df = pd.read_csv('products.csv')"
   ]
  },
  {
   "cell_type": "code",
   "execution_count": null,
   "id": "clear-refund",
   "metadata": {
    "tags": []
   },
   "outputs": [],
   "source": [
    "left_df = ledger_df.head(5)\n",
    "left_df = left_df[['ProductID', 'Unit Price', 'Quantity']]\n",
    "left_df = left_df.drop_duplicates(subset=['ProductID'])\n",
    "\n",
    "right_df = products_df[products_df['ProductID'].isin(left_df['ProductID'].unique())]\n",
    "right_df = right_df[['ProductID', 'Product Name', 'Brand']]"
   ]
  },
  {
   "cell_type": "code",
   "execution_count": null,
   "id": "incredible-recovery",
   "metadata": {
    "tags": []
   },
   "outputs": [],
   "source": [
    "left_df"
   ]
  },
  {
   "cell_type": "code",
   "execution_count": null,
   "id": "dynamic-mileage",
   "metadata": {
    "tags": []
   },
   "outputs": [],
   "source": [
    "right_df"
   ]
  },
  {
   "cell_type": "code",
   "execution_count": null,
   "id": "pointed-summer",
   "metadata": {
    "tags": []
   },
   "outputs": [],
   "source": [
    "pd.merge(left_df, right_df, on='ProductID')"
   ]
  },
  {
   "cell_type": "code",
   "execution_count": null,
   "id": "reliable-adolescent",
   "metadata": {
    "tags": []
   },
   "outputs": [],
   "source": [
    "left_df = left_df.append(left_df.iloc[-1])\n",
    "right_df = right_df.append(right_df.iloc[-1])"
   ]
  },
  {
   "cell_type": "code",
   "execution_count": null,
   "id": "curious-remark",
   "metadata": {
    "tags": []
   },
   "outputs": [],
   "source": [
    "left_df"
   ]
  },
  {
   "cell_type": "code",
   "execution_count": null,
   "id": "challenging-thesaurus",
   "metadata": {
    "tags": []
   },
   "outputs": [],
   "source": [
    "right_df"
   ]
  },
  {
   "cell_type": "code",
   "execution_count": null,
   "id": "chronic-jamaica",
   "metadata": {
    "tags": [
     "allowerror"
    ]
   },
   "outputs": [],
   "source": [
    "pd.merge(left_df, right_df, on='ProductID', validate='one_to_one')"
   ]
  },
  {
   "cell_type": "markdown",
   "id": "macro-database",
   "metadata": {},
   "source": [
    "## Inner, outer, left, and right joins"
   ]
  },
  {
   "cell_type": "code",
   "execution_count": null,
   "id": "adjacent-artist",
   "metadata": {
    "tags": []
   },
   "outputs": [],
   "source": [
    "left_ids = ['T&G/LEG-60816', 'T&G/PLA-85805', 'T&G/DIS-51236', 'T&G/THE-82687']\n",
    "right_ids = ['T&G/THO-09600', 'T&G/PLA-29969', 'T&G/LEG-60816', 'T&G/PLA-85805']\n",
    "\n",
    "left_df = ledger_df[ledger_df['ProductID'].isin(left_ids)]\n",
    "left_df = left_df[['ProductID', 'Unit Price', 'Quantity']]\n",
    "\n",
    "right_df = products_df[products_df['ProductID'].isin(right_ids)]\n",
    "right_df = right_df[['ProductID', 'Product Name', 'Brand']]"
   ]
  },
  {
   "cell_type": "code",
   "execution_count": null,
   "id": "convinced-subscriber",
   "metadata": {
    "tags": []
   },
   "outputs": [],
   "source": [
    "left_df"
   ]
  },
  {
   "cell_type": "code",
   "execution_count": null,
   "id": "continental-advocacy",
   "metadata": {
    "tags": []
   },
   "outputs": [],
   "source": [
    "right_df"
   ]
  },
  {
   "cell_type": "code",
   "execution_count": null,
   "id": "protecting-workshop",
   "metadata": {
    "tags": []
   },
   "outputs": [],
   "source": [
    "pd.merge(left_df, right_df, on='ProductID')"
   ]
  },
  {
   "cell_type": "code",
   "execution_count": null,
   "id": "patient-blair",
   "metadata": {
    "tags": []
   },
   "outputs": [],
   "source": [
    "pd.merge(left_df, right_df, on='ProductID', how='left')"
   ]
  },
  {
   "cell_type": "code",
   "execution_count": null,
   "id": "solid-operation",
   "metadata": {
    "tags": []
   },
   "outputs": [],
   "source": [
    "pd.merge(left_df, right_df, on='ProductID', how='right')"
   ]
  },
  {
   "cell_type": "code",
   "execution_count": null,
   "id": "generic-guatemala",
   "metadata": {
    "tags": []
   },
   "outputs": [],
   "source": [
    "pd.merge(left_df, right_df, on='ProductID', how='outer')"
   ]
  },
  {
   "cell_type": "code",
   "execution_count": null,
   "id": "smart-russell",
   "metadata": {
    "tags": []
   },
   "outputs": [],
   "source": [
    "pd.merge(left_df, right_df, on='ProductID', how='outer', indicator='Source')"
   ]
  },
  {
   "cell_type": "code",
   "execution_count": null,
   "id": "corporate-statement",
   "metadata": {
    "tags": []
   },
   "outputs": [],
   "source": [
    "merged_df = pd.merge(left_df, right_df, on='ProductID', how='outer', indicator='Source')\n",
    "\n",
    "merged_df['Source'].value_counts()"
   ]
  },
  {
   "cell_type": "markdown",
   "id": "aquatic-jackson",
   "metadata": {},
   "source": [
    "## More joining options"
   ]
  },
  {
   "cell_type": "code",
   "execution_count": null,
   "id": "julian-foster",
   "metadata": {
    "tags": []
   },
   "outputs": [],
   "source": [
    "left_df = ledger_df[['ProductID', 'Channel', 'Unit Price']].tail(5)\n",
    "right_df = ledger_df[['ProductID', 'Channel', 'Deadline']].tail(5)"
   ]
  },
  {
   "cell_type": "code",
   "execution_count": null,
   "id": "chicken-village",
   "metadata": {
    "tags": []
   },
   "outputs": [],
   "source": [
    "left_df"
   ]
  },
  {
   "cell_type": "code",
   "execution_count": null,
   "id": "ceramic-billy",
   "metadata": {
    "tags": []
   },
   "outputs": [],
   "source": [
    "right_df"
   ]
  },
  {
   "cell_type": "code",
   "execution_count": null,
   "id": "random-wedding",
   "metadata": {
    "tags": []
   },
   "outputs": [],
   "source": [
    "pd.merge(left_df, right_df, on=['ProductID', 'Channel'])"
   ]
  },
  {
   "cell_type": "code",
   "execution_count": null,
   "id": "cooperative-lebanon",
   "metadata": {
    "tags": []
   },
   "outputs": [],
   "source": [
    "right_df.columns = ['productid', 'channel', 'deadline']\n",
    "\n",
    "right_df"
   ]
  },
  {
   "cell_type": "code",
   "execution_count": null,
   "id": "ultimate-packaging",
   "metadata": {
    "tags": []
   },
   "outputs": [],
   "source": [
    "pd.merge(\n",
    "    left_df, right_df, \n",
    "    left_on=['ProductID', 'Channel'], \n",
    "    right_on=['productid', 'channel'] \n",
    ")"
   ]
  },
  {
   "cell_type": "code",
   "execution_count": null,
   "id": "adjacent-click",
   "metadata": {
    "tags": []
   },
   "outputs": [],
   "source": [
    "pd.merge(\n",
    "    left_df, right_df, \n",
    "    left_on=['ProductID', 'Channel'], \n",
    "    right_on=['productid', 'channel']\n",
    ").drop(['productid', 'channel'], axis='columns')"
   ]
  }
 ],
 "metadata": {
  "jupytext": {
   "formats": "ipynb"
  },
  "kernelspec": {
   "display_name": "Python 3",
   "language": "python",
   "name": "python3"
  }
 },
 "nbformat": 4,
 "nbformat_minor": 5
}

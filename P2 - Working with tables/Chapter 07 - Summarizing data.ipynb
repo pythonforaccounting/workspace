{
 "cells": [
  {
   "cell_type": "markdown",
   "id": "essential-agenda",
   "metadata": {},
   "source": [
    "\n",
    "# Summarizing data\n",
    "\n",
    "## Counting unique values"
   ]
  },
  {
   "cell_type": "code",
   "execution_count": null,
   "id": "broke-animation",
   "metadata": {
    "tags": []
   },
   "outputs": [],
   "source": [
    "ledger_df.nunique()"
   ]
  },
  {
   "cell_type": "code",
   "execution_count": null,
   "id": "equipped-spice",
   "metadata": {
    "tags": []
   },
   "outputs": [],
   "source": [
    "ledger_df['Channel'].nunique()"
   ]
  },
  {
   "cell_type": "code",
   "execution_count": null,
   "id": "nonprofit-alaska",
   "metadata": {
    "tags": []
   },
   "outputs": [],
   "source": [
    "ledger_df['Channel'].unique()"
   ]
  },
  {
   "cell_type": "code",
   "execution_count": null,
   "id": "nearby-stylus",
   "metadata": {
    "tags": []
   },
   "outputs": [],
   "source": [
    "'Walcart' in ledger_df['Channel'].unique()"
   ]
  },
  {
   "cell_type": "code",
   "execution_count": null,
   "id": "guilty-language",
   "metadata": {
    "tags": []
   },
   "outputs": [],
   "source": [
    "'Anazon.com' in ledger_df['Channel'].unique()"
   ]
  },
  {
   "cell_type": "code",
   "execution_count": null,
   "id": "mobile-baghdad",
   "metadata": {
    "tags": []
   },
   "outputs": [],
   "source": [
    "ledger_df['Channel'].value_counts()"
   ]
  },
  {
   "cell_type": "code",
   "execution_count": null,
   "id": "sharing-physiology",
   "metadata": {
    "tags": []
   },
   "outputs": [],
   "source": [
    "ledger_df['Channel'].value_counts().loc['Walcart']"
   ]
  },
  {
   "cell_type": "code",
   "execution_count": null,
   "id": "living-carolina",
   "metadata": {
    "tags": []
   },
   "outputs": [],
   "source": [
    "ledger_df['Channel'].value_counts(normalize=True)"
   ]
  },
  {
   "cell_type": "code",
   "execution_count": null,
   "id": "recent-marsh",
   "metadata": {
    "tags": []
   },
   "outputs": [],
   "source": [
    "ledger_df['Channel'].value_counts(normalize=True) * 100"
   ]
  },
  {
   "cell_type": "code",
   "execution_count": null,
   "id": "antique-terrorism",
   "metadata": {
    "tags": []
   },
   "outputs": [],
   "source": [
    "ledger_df[['Channel', 'ProductID']].value_counts()"
   ]
  },
  {
   "cell_type": "markdown",
   "id": "streaming-simon",
   "metadata": {},
   "source": [
    "## Averages and numerical summaries"
   ]
  },
  {
   "cell_type": "code",
   "execution_count": null,
   "id": "piano-australia",
   "metadata": {
    "tags": []
   },
   "outputs": [],
   "source": [
    "ledger_df['Quantity'].mean()"
   ]
  },
  {
   "cell_type": "code",
   "execution_count": null,
   "id": "tender-unemployment",
   "metadata": {
    "tags": []
   },
   "outputs": [],
   "source": [
    "ledger_df[['Unit Price', 'Quantity', 'Total']].mean()"
   ]
  },
  {
   "cell_type": "code",
   "execution_count": null,
   "id": "atmospheric-asian",
   "metadata": {
    "tags": []
   },
   "outputs": [],
   "source": [
    "ledger_df.describe()"
   ]
  },
  {
   "cell_type": "code",
   "execution_count": null,
   "id": "previous-worst",
   "metadata": {
    "tags": []
   },
   "outputs": [],
   "source": [
    "ledger_df[['Unit Price', 'Quantity', 'Total']].describe()"
   ]
  },
  {
   "cell_type": "code",
   "execution_count": null,
   "id": "broadband-moderator",
   "metadata": {
    "tags": []
   },
   "outputs": [],
   "source": [
    "ledger_df['Total'].describe()"
   ]
  },
  {
   "cell_type": "markdown",
   "id": "sized-candle",
   "metadata": {},
   "source": [
    "## High-level table information"
   ]
  },
  {
   "cell_type": "code",
   "execution_count": null,
   "id": "committed-writing",
   "metadata": {
    "tags": []
   },
   "outputs": [],
   "source": [
    "ledger_df.info()"
   ]
  }
 ],
 "metadata": {
  "jupytext": {
   "formats": "ipynb"
  },
  "kernelspec": {
   "display_name": "Python 3",
   "language": "python",
   "name": "python3"
  }
 },
 "nbformat": 4,
 "nbformat_minor": 5
}

{
 "cells": [
  {
   "cell_type": "markdown",
   "id": "pointed-shoulder",
   "metadata": {},
   "source": [
    "\n",
    "# Summarizing data\n",
    "\n",
    "## Counting unique values"
   ]
  },
  {
   "cell_type": "code",
   "execution_count": null,
   "id": "worth-kitchen",
   "metadata": {
    "tags": []
   },
   "outputs": [],
   "source": [
    "ledger_df.nunique()"
   ]
  },
  {
   "cell_type": "code",
   "execution_count": null,
   "id": "military-spare",
   "metadata": {
    "tags": []
   },
   "outputs": [],
   "source": [
    "ledger_df['Channel'].nunique()"
   ]
  },
  {
   "cell_type": "code",
   "execution_count": null,
   "id": "brief-junction",
   "metadata": {
    "tags": []
   },
   "outputs": [],
   "source": [
    "ledger_df['Channel'].unique()"
   ]
  },
  {
   "cell_type": "code",
   "execution_count": null,
   "id": "documented-twist",
   "metadata": {
    "tags": []
   },
   "outputs": [],
   "source": [
    "'Walcart' in ledger_df['Channel'].unique()"
   ]
  },
  {
   "cell_type": "code",
   "execution_count": null,
   "id": "secure-evidence",
   "metadata": {
    "tags": []
   },
   "outputs": [],
   "source": [
    "'Anazon.com' in ledger_df['Channel'].unique()"
   ]
  },
  {
   "cell_type": "code",
   "execution_count": null,
   "id": "indirect-lease",
   "metadata": {
    "tags": []
   },
   "outputs": [],
   "source": [
    "ledger_df['Channel'].value_counts()"
   ]
  },
  {
   "cell_type": "code",
   "execution_count": null,
   "id": "mexican-irish",
   "metadata": {
    "tags": []
   },
   "outputs": [],
   "source": [
    "ledger_df['Channel'].value_counts().loc['Walcart']"
   ]
  },
  {
   "cell_type": "code",
   "execution_count": null,
   "id": "oriental-trauma",
   "metadata": {
    "tags": []
   },
   "outputs": [],
   "source": [
    "ledger_df['Channel'].value_counts(normalize=True)"
   ]
  },
  {
   "cell_type": "code",
   "execution_count": null,
   "id": "alive-moral",
   "metadata": {
    "tags": []
   },
   "outputs": [],
   "source": [
    "ledger_df['Channel'].value_counts(normalize=True) * 100"
   ]
  },
  {
   "cell_type": "code",
   "execution_count": null,
   "id": "diverse-midwest",
   "metadata": {
    "tags": []
   },
   "outputs": [],
   "source": [
    "ledger_df[['Channel', 'ProductID']].value_counts()"
   ]
  },
  {
   "cell_type": "markdown",
   "id": "minus-restaurant",
   "metadata": {},
   "source": [
    "## Averages and numerical summaries"
   ]
  },
  {
   "cell_type": "code",
   "execution_count": null,
   "id": "united-decrease",
   "metadata": {
    "tags": []
   },
   "outputs": [],
   "source": [
    "ledger_df['Quantity'].mean()"
   ]
  },
  {
   "cell_type": "code",
   "execution_count": null,
   "id": "coupled-variety",
   "metadata": {
    "tags": []
   },
   "outputs": [],
   "source": [
    "ledger_df[['Unit Price', 'Quantity', 'Total']].mean()"
   ]
  },
  {
   "cell_type": "code",
   "execution_count": null,
   "id": "formed-voltage",
   "metadata": {
    "tags": []
   },
   "outputs": [],
   "source": [
    "ledger_df.describe()"
   ]
  },
  {
   "cell_type": "code",
   "execution_count": null,
   "id": "likely-planning",
   "metadata": {
    "tags": []
   },
   "outputs": [],
   "source": [
    "ledger_df[['Unit Price', 'Quantity', 'Total']].describe()"
   ]
  },
  {
   "cell_type": "code",
   "execution_count": null,
   "id": "stuck-arrival",
   "metadata": {
    "tags": []
   },
   "outputs": [],
   "source": [
    "ledger_df['Total'].describe()"
   ]
  },
  {
   "cell_type": "markdown",
   "id": "median-appendix",
   "metadata": {},
   "source": [
    "## High-level table information"
   ]
  },
  {
   "cell_type": "code",
   "execution_count": null,
   "id": "funded-submission",
   "metadata": {
    "tags": []
   },
   "outputs": [],
   "source": [
    "ledger_df.info()"
   ]
  }
 ],
 "metadata": {
  "jupytext": {
   "formats": "ipynb"
  },
  "kernelspec": {
   "display_name": "Python 3",
   "language": "python",
   "name": "python3"
  }
 },
 "nbformat": 4,
 "nbformat_minor": 5
}

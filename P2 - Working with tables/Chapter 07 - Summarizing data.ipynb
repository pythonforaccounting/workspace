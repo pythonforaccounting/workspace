{
 "cells": [
  {
   "cell_type": "markdown",
   "id": "dated-rough",
   "metadata": {},
   "source": [
    "\n",
    "# Summarizing data\n",
    "\n",
    "## Counting unique values"
   ]
  },
  {
   "cell_type": "code",
   "execution_count": null,
   "id": "according-neighbor",
   "metadata": {
    "tags": []
   },
   "outputs": [],
   "source": [
    "ledger_df.nunique()"
   ]
  },
  {
   "cell_type": "code",
   "execution_count": null,
   "id": "gentle-flesh",
   "metadata": {
    "tags": []
   },
   "outputs": [],
   "source": [
    "ledger_df['Channel'].nunique()"
   ]
  },
  {
   "cell_type": "code",
   "execution_count": null,
   "id": "broke-european",
   "metadata": {
    "tags": []
   },
   "outputs": [],
   "source": [
    "ledger_df['Channel'].unique()"
   ]
  },
  {
   "cell_type": "code",
   "execution_count": null,
   "id": "close-strategy",
   "metadata": {
    "tags": []
   },
   "outputs": [],
   "source": [
    "'Walcart' in ledger_df['Channel'].unique()"
   ]
  },
  {
   "cell_type": "code",
   "execution_count": null,
   "id": "municipal-finance",
   "metadata": {
    "tags": []
   },
   "outputs": [],
   "source": [
    "'Anazon.com' in ledger_df['Channel'].unique()"
   ]
  },
  {
   "cell_type": "code",
   "execution_count": null,
   "id": "needed-johnston",
   "metadata": {
    "tags": []
   },
   "outputs": [],
   "source": [
    "ledger_df['Channel'].value_counts()"
   ]
  },
  {
   "cell_type": "code",
   "execution_count": null,
   "id": "irish-space",
   "metadata": {
    "tags": []
   },
   "outputs": [],
   "source": [
    "ledger_df['Channel'].value_counts().loc['Walcart']"
   ]
  },
  {
   "cell_type": "code",
   "execution_count": null,
   "id": "special-capital",
   "metadata": {
    "tags": []
   },
   "outputs": [],
   "source": [
    "ledger_df['Channel'].value_counts(normalize=True)"
   ]
  },
  {
   "cell_type": "code",
   "execution_count": null,
   "id": "turkish-socket",
   "metadata": {
    "tags": []
   },
   "outputs": [],
   "source": [
    "ledger_df['Channel'].value_counts(normalize=True) * 100"
   ]
  },
  {
   "cell_type": "code",
   "execution_count": null,
   "id": "electronic-fluid",
   "metadata": {
    "tags": []
   },
   "outputs": [],
   "source": [
    "ledger_df[['Channel', 'ProductID']].value_counts()"
   ]
  },
  {
   "cell_type": "markdown",
   "id": "collect-heater",
   "metadata": {},
   "source": [
    "## Averages and numerical summaries"
   ]
  },
  {
   "cell_type": "code",
   "execution_count": null,
   "id": "academic-treat",
   "metadata": {
    "tags": []
   },
   "outputs": [],
   "source": [
    "ledger_df['Quantity'].mean()"
   ]
  },
  {
   "cell_type": "code",
   "execution_count": null,
   "id": "illegal-chest",
   "metadata": {
    "tags": []
   },
   "outputs": [],
   "source": [
    "ledger_df[['Unit Price', 'Quantity', 'Total']].mean()"
   ]
  },
  {
   "cell_type": "code",
   "execution_count": null,
   "id": "flying-democrat",
   "metadata": {
    "tags": []
   },
   "outputs": [],
   "source": [
    "ledger_df.describe()"
   ]
  },
  {
   "cell_type": "code",
   "execution_count": null,
   "id": "explicit-courage",
   "metadata": {
    "tags": []
   },
   "outputs": [],
   "source": [
    "ledger_df[['Unit Price', 'Quantity', 'Total']].describe()"
   ]
  },
  {
   "cell_type": "code",
   "execution_count": null,
   "id": "engaged-webster",
   "metadata": {
    "tags": []
   },
   "outputs": [],
   "source": [
    "ledger_df['Total'].describe()"
   ]
  },
  {
   "cell_type": "markdown",
   "id": "bizarre-alcohol",
   "metadata": {},
   "source": [
    "## High-level table information"
   ]
  },
  {
   "cell_type": "code",
   "execution_count": null,
   "id": "internal-bloom",
   "metadata": {
    "tags": []
   },
   "outputs": [],
   "source": [
    "ledger_df.info()"
   ]
  }
 ],
 "metadata": {
  "jupytext": {
   "formats": "ipynb"
  },
  "kernelspec": {
   "display_name": "Python 3",
   "language": "python",
   "name": "python3"
  }
 },
 "nbformat": 4,
 "nbformat_minor": 5
}

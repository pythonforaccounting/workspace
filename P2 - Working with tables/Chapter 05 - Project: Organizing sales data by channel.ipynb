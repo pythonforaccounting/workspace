{
 "cells": [
  {
   "cell_type": "markdown",
   "id": "friendly-cleaning",
   "metadata": {},
   "source": [
    "\n",
    "#  channel"
   ]
  },
  {
   "cell_type": "code",
   "execution_count": null,
   "id": "automatic-temple",
   "metadata": {
    "tags": []
   },
   "outputs": [],
   "source": [
    "import pandas as pd"
   ]
  },
  {
   "cell_type": "code",
   "execution_count": null,
   "id": "speaking-asthma",
   "metadata": {
    "tags": []
   },
   "outputs": [],
   "source": [
    "jan_sales_df = pd.read_excel('Q1Sales.xlsx', sheet_name='January')\n",
    "\n",
    "jan_sales_df"
   ]
  },
  {
   "cell_type": "code",
   "execution_count": null,
   "id": "provincial-liechtenstein",
   "metadata": {
    "tags": []
   },
   "outputs": [],
   "source": [
    "jan_sales_df = pd.read_excel('Q1Sales.xlsx', sheet_name='January')\n",
    "feb_sales_df = pd.read_excel('Q1Sales.xlsx', sheet_name='February')\n",
    "mar_sales_df = pd.read_excel('Q1Sales.xlsx', sheet_name='March')"
   ]
  },
  {
   "cell_type": "code",
   "execution_count": null,
   "id": "critical-rebel",
   "metadata": {
    "tags": []
   },
   "outputs": [],
   "source": [
    "sales_df = pd.concat([jan_sales_df, feb_sales_df, mar_sales_df], ignore_index=True)"
   ]
  },
  {
   "cell_type": "code",
   "execution_count": null,
   "id": "conscious-acrobat",
   "metadata": {
    "tags": []
   },
   "outputs": [],
   "source": [
    "sales_df"
   ]
  },
  {
   "cell_type": "code",
   "execution_count": null,
   "id": "seeing-michigan",
   "metadata": {
    "tags": []
   },
   "outputs": [],
   "source": [
    "sales_df = pd.concat([\n",
    "        pd.read_excel('Q1Sales.xlsx', sheet_name='January'), \n",
    "        pd.read_excel('Q1Sales.xlsx', sheet_name='February'), \n",
    "        pd.read_excel('Q1Sales.xlsx', sheet_name='March')\n",
    "    ], \n",
    "    ignore_index=True)"
   ]
  },
  {
   "cell_type": "code",
   "execution_count": null,
   "id": "coordinated-prayer",
   "metadata": {
    "tags": []
   },
   "outputs": [],
   "source": [
    "channel = 'Understock.com'\n",
    "channel_df = sales_df[sales_df['Channel'] == channel]\n",
    "channel_df = channel_df.sort_values(['Total', 'Quantity'], ascending=False)"
   ]
  },
  {
   "cell_type": "code",
   "execution_count": null,
   "id": "intimate-receipt",
   "metadata": {
    "tags": []
   },
   "outputs": [],
   "source": [
    "channel_df"
   ]
  },
  {
   "cell_type": "code",
   "execution_count": null,
   "id": "immune-disco",
   "metadata": {
    "tags": []
   },
   "outputs": [],
   "source": [
    "channel_df.to_excel('Q1ChannelSales.xlsx', sheet_name='Understock.com', index=False)"
   ]
  },
  {
   "cell_type": "code",
   "execution_count": null,
   "id": "rapid-polish",
   "metadata": {
    "tags": []
   },
   "outputs": [],
   "source": [
    "channels = ['Bullseye', 'iBay.com', 'Shoppe.com', 'Understock.com', 'Walcart']\n",
    "\n",
    "for channel in channels:\n",
    "    print(channel)"
   ]
  },
  {
   "cell_type": "code",
   "execution_count": null,
   "id": "mechanical-wonder",
   "metadata": {
    "tags": []
   },
   "outputs": [],
   "source": [
    "channels = ['Bullseye', 'iBay.com', 'Shoppe.com', 'Understock.com', 'Walcart']\n",
    "\n",
    "for channel in channels:\n",
    "    channel_df = sales_df[sales_df['Channel'] == channel]\n",
    "    channel_df = channel_df.sort_values(['Total', 'Quantity'], ascending=False)"
   ]
  },
  {
   "cell_type": "code",
   "execution_count": null,
   "id": "differential-assurance",
   "metadata": {
    "tags": []
   },
   "outputs": [],
   "source": [
    "channel_df"
   ]
  },
  {
   "cell_type": "code",
   "execution_count": null,
   "id": "impaired-purpose",
   "metadata": {
    "tags": []
   },
   "outputs": [],
   "source": [
    "channels = ['Bullseye', 'iBay.com', 'Shoppe.com', 'Understock.com', 'Walcart']\n",
    "\n",
    "output_file = pd.ExcelWriter('Q1ChannelSales.xlsx')\n",
    "\n",
    "for channel in channels:\n",
    "    channel_df = sales_df[sales_df['Channel'] == channel]\n",
    "    channel_df = channel_df.sort_values(['Total', 'Quantity'], ascending=False)\n",
    "    channel_df.to_excel(output_file, sheet_name=channel, index=False)\n",
    "    \n",
    "output_file.save()"
   ]
  },
  {
   "cell_type": "code",
   "execution_count": null,
   "id": "freelance-damage",
   "metadata": {
    "tags": []
   },
   "outputs": [],
   "source": [
    "with pd.ExcelWriter('Q1ChannelSales.xlsx') as output_file:\n",
    "    for channel in channels:\n",
    "        channel_df = sales_df[sales_df['Channel'] == channel]\n",
    "        channel_df = channel_df.sort_values(['Total', 'Quantity'], ascending=False)\n",
    "        channel_df.to_excel(output_file, sheet_name=channel, index=False)"
   ]
  },
  {
   "cell_type": "code",
   "execution_count": null,
   "id": "worst-credits",
   "metadata": {
    "tags": []
   },
   "outputs": [],
   "source": [
    "sales_df = pd.concat([\n",
    "        pd.read_excel('Q1Sales.xlsx', sheet_name='January'), \n",
    "        pd.read_excel('Q1Sales.xlsx', sheet_name='February'), \n",
    "        pd.read_excel('Q1Sales.xlsx', sheet_name='March')\n",
    "    ], ignore_index=True)\n",
    "channels = ['Bullseye', 'iBay.com', 'Shoppe.com', 'Understock.com', 'Walcart']\n",
    "\n",
    "with pd.ExcelWriter('Q1ChannelSales.xlsx') as output_file:\n",
    "    for channel in channels:\n",
    "        channel_df = sales_df[sales_df['Channel'] == channel]\n",
    "        channel_df = channel_df.sort_values(['Total', 'Quantity'], ascending=False)\n",
    "        channel_df.to_excel(output_file, sheet_name=channel, index=False)"
   ]
  }
 ],
 "metadata": {
  "jupytext": {
   "formats": "ipynb"
  },
  "kernelspec": {
   "display_name": "Python 3",
   "language": "python",
   "name": "python3"
  }
 },
 "nbformat": 4,
 "nbformat_minor": 5
}

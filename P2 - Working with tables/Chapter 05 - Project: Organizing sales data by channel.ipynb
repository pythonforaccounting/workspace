{
 "cells": [
  {
   "cell_type": "markdown",
   "id": "prospective-federation",
   "metadata": {},
   "source": [
    "\n",
    "#  channel"
   ]
  },
  {
   "cell_type": "code",
   "execution_count": null,
   "id": "biological-burden",
   "metadata": {
    "tags": []
   },
   "outputs": [],
   "source": [
    "import pandas as pd"
   ]
  },
  {
   "cell_type": "code",
   "execution_count": null,
   "id": "hindu-carrier",
   "metadata": {
    "tags": []
   },
   "outputs": [],
   "source": [
    "jan_sales_df = pd.read_excel('Q1Sales.xlsx', sheet_name='January')\n",
    "\n",
    "jan_sales_df"
   ]
  },
  {
   "cell_type": "code",
   "execution_count": null,
   "id": "wrong-request",
   "metadata": {
    "tags": []
   },
   "outputs": [],
   "source": [
    "jan_sales_df = pd.read_excel('Q1Sales.xlsx', sheet_name='January')\n",
    "feb_sales_df = pd.read_excel('Q1Sales.xlsx', sheet_name='February')\n",
    "mar_sales_df = pd.read_excel('Q1Sales.xlsx', sheet_name='March')"
   ]
  },
  {
   "cell_type": "code",
   "execution_count": null,
   "id": "applied-journalism",
   "metadata": {
    "tags": []
   },
   "outputs": [],
   "source": [
    "sales_df = pd.concat([jan_sales_df, feb_sales_df, mar_sales_df], ignore_index=True)"
   ]
  },
  {
   "cell_type": "code",
   "execution_count": null,
   "id": "tribal-parcel",
   "metadata": {
    "tags": []
   },
   "outputs": [],
   "source": [
    "sales_df"
   ]
  },
  {
   "cell_type": "code",
   "execution_count": null,
   "id": "chief-worthy",
   "metadata": {
    "tags": []
   },
   "outputs": [],
   "source": [
    "sales_df = pd.concat([\n",
    "        pd.read_excel('Q1Sales.xlsx', sheet_name='January'), \n",
    "        pd.read_excel('Q1Sales.xlsx', sheet_name='February'), \n",
    "        pd.read_excel('Q1Sales.xlsx', sheet_name='March')\n",
    "    ], \n",
    "    ignore_index=True)"
   ]
  },
  {
   "cell_type": "code",
   "execution_count": null,
   "id": "imported-craft",
   "metadata": {
    "tags": []
   },
   "outputs": [],
   "source": [
    "channel = 'Understock.com'\n",
    "channel_df = sales_df[sales_df['Channel'] == channel]\n",
    "channel_df = channel_df.sort_values(['Total', 'Quantity'], ascending=False)"
   ]
  },
  {
   "cell_type": "code",
   "execution_count": null,
   "id": "considerable-emission",
   "metadata": {
    "tags": []
   },
   "outputs": [],
   "source": [
    "channel_df"
   ]
  },
  {
   "cell_type": "code",
   "execution_count": null,
   "id": "pregnant-timer",
   "metadata": {
    "tags": []
   },
   "outputs": [],
   "source": [
    "channel_df.to_excel('Q1ChannelSales.xlsx', sheet_name='Understock.com', index=False)"
   ]
  },
  {
   "cell_type": "code",
   "execution_count": null,
   "id": "chubby-spyware",
   "metadata": {
    "tags": []
   },
   "outputs": [],
   "source": [
    "channels = ['Bullseye', 'iBay.com', 'Shoppe.com', 'Understock.com', 'Walcart']\n",
    "\n",
    "for channel in channels:\n",
    "    print(channel)"
   ]
  },
  {
   "cell_type": "code",
   "execution_count": null,
   "id": "functional-chaos",
   "metadata": {
    "tags": []
   },
   "outputs": [],
   "source": [
    "channels = ['Bullseye', 'iBay.com', 'Shoppe.com', 'Understock.com', 'Walcart']\n",
    "\n",
    "for channel in channels:\n",
    "    channel_df = sales_df[sales_df['Channel'] == channel]\n",
    "    channel_df = channel_df.sort_values(['Total', 'Quantity'], ascending=False)"
   ]
  },
  {
   "cell_type": "code",
   "execution_count": null,
   "id": "preceding-sarah",
   "metadata": {
    "tags": []
   },
   "outputs": [],
   "source": [
    "channel_df"
   ]
  },
  {
   "cell_type": "code",
   "execution_count": null,
   "id": "headed-caution",
   "metadata": {
    "tags": []
   },
   "outputs": [],
   "source": [
    "channels = ['Bullseye', 'iBay.com', 'Shoppe.com', 'Understock.com', 'Walcart']\n",
    "\n",
    "output_file = pd.ExcelWriter('Q1ChannelSales.xlsx')\n",
    "\n",
    "for channel in channels:\n",
    "    channel_df = sales_df[sales_df['Channel'] == channel]\n",
    "    channel_df = channel_df.sort_values(['Total', 'Quantity'], ascending=False)\n",
    "    channel_df.to_excel(output_file, sheet_name=channel, index=False)\n",
    "    \n",
    "output_file.save()"
   ]
  },
  {
   "cell_type": "code",
   "execution_count": null,
   "id": "polyphonic-newfoundland",
   "metadata": {
    "tags": []
   },
   "outputs": [],
   "source": [
    "with pd.ExcelWriter('Q1ChannelSales.xlsx') as output_file:\n",
    "    for channel in channels:\n",
    "        channel_df = sales_df[sales_df['Channel'] == channel]\n",
    "        channel_df = channel_df.sort_values(['Total', 'Quantity'], ascending=False)\n",
    "        channel_df.to_excel(output_file, sheet_name=channel, index=False)"
   ]
  },
  {
   "cell_type": "code",
   "execution_count": null,
   "id": "passing-defendant",
   "metadata": {
    "tags": []
   },
   "outputs": [],
   "source": [
    "sales_df = pd.concat([\n",
    "        pd.read_excel('Q1Sales.xlsx', sheet_name='January'), \n",
    "        pd.read_excel('Q1Sales.xlsx', sheet_name='February'), \n",
    "        pd.read_excel('Q1Sales.xlsx', sheet_name='March')\n",
    "    ], ignore_index=True)\n",
    "channels = ['Bullseye', 'iBay.com', 'Shoppe.com', 'Understock.com', 'Walcart']\n",
    "\n",
    "with pd.ExcelWriter('Q1ChannelSales.xlsx') as output_file:\n",
    "    for channel in channels:\n",
    "        channel_df = sales_df[sales_df['Channel'] == channel]\n",
    "        channel_df = channel_df.sort_values(['Total', 'Quantity'], ascending=False)\n",
    "        channel_df.to_excel(output_file, sheet_name=channel, index=False)"
   ]
  }
 ],
 "metadata": {
  "jupytext": {
   "formats": "ipynb"
  },
  "kernelspec": {
   "display_name": "Python 3",
   "language": "python",
   "name": "python3"
  }
 },
 "nbformat": 4,
 "nbformat_minor": 5
}

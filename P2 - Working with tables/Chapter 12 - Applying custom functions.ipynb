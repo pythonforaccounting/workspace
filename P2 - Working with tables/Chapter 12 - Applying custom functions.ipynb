{
 "cells": [
  {
   "cell_type": "markdown",
   "id": "alien-master",
   "metadata": {},
   "source": [
    "\n",
    "# Applying custom functions\n",
    "\n",
    "## Applying functions to columns"
   ]
  },
  {
   "cell_type": "code",
   "execution_count": null,
   "id": "extended-implementation",
   "metadata": {
    "tags": []
   },
   "outputs": [],
   "source": [
    "def process_channel(channel):\n",
    "    return 'Name: ' + channel.upper()"
   ]
  },
  {
   "cell_type": "code",
   "execution_count": null,
   "id": "average-seventh",
   "metadata": {
    "tags": []
   },
   "outputs": [],
   "source": [
    "process_channel('Shoppe.com')"
   ]
  },
  {
   "cell_type": "code",
   "execution_count": null,
   "id": "labeled-pathology",
   "metadata": {
    "tags": []
   },
   "outputs": [],
   "source": [
    "process_channel('Bullseye')"
   ]
  },
  {
   "cell_type": "code",
   "execution_count": null,
   "id": "reported-resistance",
   "metadata": {
    "tags": []
   },
   "outputs": [],
   "source": [
    "for channel in ledger_df['Channel']:\n",
    "    process_channel(channel)"
   ]
  },
  {
   "cell_type": "code",
   "execution_count": null,
   "id": "female-arrest",
   "metadata": {
    "tags": []
   },
   "outputs": [],
   "source": [
    "ledger_df['Channel'].apply(process_channel)"
   ]
  },
  {
   "cell_type": "code",
   "execution_count": null,
   "id": "running-dominican",
   "metadata": {
    "tags": [
     "allowerror"
    ]
   },
   "outputs": [],
   "source": [
    "ledger_df['AccountNo'].apply(process_channel)"
   ]
  },
  {
   "cell_type": "code",
   "execution_count": null,
   "id": "trained-furniture",
   "metadata": {
    "tags": [
     "allowerror"
    ]
   },
   "outputs": [],
   "source": [
    "def process_product(product):\n",
    "    return 'Product: ' + product.upper()\n",
    "\n",
    "ledger_df['Product Name'].apply(process_product)"
   ]
  },
  {
   "cell_type": "code",
   "execution_count": null,
   "id": "verified-coral",
   "metadata": {
    "tags": []
   },
   "outputs": [],
   "source": [
    "def process_product(product):\n",
    "    if pd.isna(product):\n",
    "        return 'EMPTY PRODUCT NAME'\n",
    "    else:\n",
    "        return 'Product: ' + product.upper()\n",
    "        "
   ]
  },
  {
   "cell_type": "code",
   "execution_count": null,
   "id": "headed-skill",
   "metadata": {
    "tags": []
   },
   "outputs": [],
   "source": [
    "ledger_df['Product Name'].apply(process_product)"
   ]
  },
  {
   "cell_type": "markdown",
   "id": "human-address",
   "metadata": {},
   "source": [
    "## Overthinking: Functions without a name"
   ]
  },
  {
   "cell_type": "code",
   "execution_count": null,
   "id": "variable-biotechnology",
   "metadata": {
    "tags": []
   },
   "outputs": [],
   "source": [
    "ledger_df['Channel'].apply(lambda channel: 'Name: ' + channel.upper())"
   ]
  },
  {
   "cell_type": "code",
   "execution_count": null,
   "id": "broke-graph",
   "metadata": {
    "tags": []
   },
   "outputs": [],
   "source": [
    "# regular function definition\n",
    "def process_channel(channel):\n",
    "    return 'Name: ' + channel.upper()\n",
    "\n",
    "# anonymous function definition\n",
    "lambda channel: 'Name: ' + channel.upper()"
   ]
  },
  {
   "cell_type": "markdown",
   "id": "prime-causing",
   "metadata": {},
   "source": [
    "## Applying functions to rows"
   ]
  },
  {
   "cell_type": "code",
   "execution_count": null,
   "id": "fleet-checkout",
   "metadata": {
    "tags": []
   },
   "outputs": [],
   "source": [
    "first_row = ledger_df.iloc[0]\n",
    "\n",
    "first_row"
   ]
  },
  {
   "cell_type": "code",
   "execution_count": null,
   "id": "internal-electron",
   "metadata": {
    "tags": []
   },
   "outputs": [],
   "source": [
    "first_row['Total']"
   ]
  },
  {
   "cell_type": "code",
   "execution_count": null,
   "id": "front-military",
   "metadata": {
    "tags": []
   },
   "outputs": [],
   "source": [
    "first_row['Channel']"
   ]
  },
  {
   "cell_type": "code",
   "execution_count": null,
   "id": "choice-affiliate",
   "metadata": {
    "tags": []
   },
   "outputs": [],
   "source": [
    "def calculate_tax(row):\n",
    "    if row['Channel'] == 'Shoppe.com':\n",
    "        return row['Total'] * (16 / 100)\n",
    "    elif row['Channel'] == 'iBay.com':\n",
    "        return row['Total'] * (11 / 100)\n",
    "    elif row['Channel'] == 'Understock.com':\n",
    "        return row['Total'] * (9 / 100)\n",
    "    else:\n",
    "        return 0"
   ]
  },
  {
   "cell_type": "code",
   "execution_count": null,
   "id": "pointed-petroleum",
   "metadata": {
    "tags": []
   },
   "outputs": [],
   "source": [
    "calculate_tax(first_row)"
   ]
  },
  {
   "cell_type": "code",
   "execution_count": null,
   "id": "southern-characterization",
   "metadata": {
    "tags": []
   },
   "outputs": [],
   "source": [
    "calculate_tax(ledger_df.iloc[10])"
   ]
  },
  {
   "cell_type": "code",
   "execution_count": null,
   "id": "spatial-house",
   "metadata": {
    "tags": []
   },
   "outputs": [],
   "source": [
    "calculate_tax(ledger_df.iloc[100])"
   ]
  },
  {
   "cell_type": "code",
   "execution_count": null,
   "id": "whole-denial",
   "metadata": {
    "tags": []
   },
   "outputs": [],
   "source": [
    "ledger_df.apply(calculate_tax, axis='columns')"
   ]
  },
  {
   "cell_type": "markdown",
   "id": "scientific-clark",
   "metadata": {},
   "source": [
    "## Overthinking: Other function parameters"
   ]
  },
  {
   "cell_type": "code",
   "execution_count": null,
   "id": "arbitrary-polyester",
   "metadata": {
    "tags": []
   },
   "outputs": [],
   "source": [
    "def calculate_tax(row, levels={}):\n",
    "    channel = row['Channel']\n",
    "    total = row['Total']\n",
    "    \n",
    "    tax = 0\n",
    "    if channel in levels:\n",
    "      tax = levels[channel] \n",
    "\n",
    "    return total * tax"
   ]
  },
  {
   "cell_type": "code",
   "execution_count": null,
   "id": "analyzed-gazette",
   "metadata": {
    "tags": []
   },
   "outputs": [],
   "source": [
    "ledger_df.apply(calculate_tax, axis='columns')"
   ]
  },
  {
   "cell_type": "code",
   "execution_count": null,
   "id": "removed-corrections",
   "metadata": {
    "tags": []
   },
   "outputs": [],
   "source": [
    "ledger_df.apply(\n",
    "    calculate_tax, \n",
    "    levels={\n",
    "        'Shoppe.com': (16 / 100),\n",
    "        'iBay.com': (11 / 100),\n",
    "        'Understock.com': (9 / 100),\n",
    "    }, \n",
    "    axis='columns'\n",
    ")"
   ]
  },
  {
   "cell_type": "code",
   "execution_count": null,
   "id": "bronze-foster",
   "metadata": {
    "tags": []
   },
   "outputs": [],
   "source": [
    "ledger_df.apply(\n",
    "    calculate_tax, \n",
    "    levels={\n",
    "        'Shoppe.com': (16 / 100),\n",
    "        'iBay.com': (11 / 100),\n",
    "        'Understock.com': (9 / 100),\n",
    "        'Bullseye': (6 / 100),\n",
    "        'Walcart': (4 / 100),\n",
    "    }, \n",
    "    axis='columns'\n",
    ")"
   ]
  }
 ],
 "metadata": {
  "jupytext": {
   "formats": "ipynb"
  },
  "kernelspec": {
   "display_name": "Python 3",
   "language": "python",
   "name": "python3"
  }
 },
 "nbformat": 4,
 "nbformat_minor": 5
}

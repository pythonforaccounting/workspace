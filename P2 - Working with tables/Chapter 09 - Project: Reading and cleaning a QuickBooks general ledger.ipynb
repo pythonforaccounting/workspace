{
 "cells": [
  {
   "cell_type": "markdown",
   "id": "featured-marina",
   "metadata": {},
   "source": [
    "\n",
    "# Project: Reading and cleaning a QuickBooks general ledger"
   ]
  },
  {
   "cell_type": "code",
   "execution_count": null,
   "id": "olive-villa",
   "metadata": {
    "tags": []
   },
   "outputs": [],
   "source": [
    "import pandas as pd"
   ]
  },
  {
   "cell_type": "code",
   "execution_count": null,
   "id": "demonstrated-return",
   "metadata": {
    "tags": []
   },
   "outputs": [],
   "source": [
    "ledger_df = pd.read_excel('project_data/QuickBooks GL.xlsx')\n",
    "\n",
    "ledger_df"
   ]
  },
  {
   "cell_type": "code",
   "execution_count": null,
   "id": "apart-recognition",
   "metadata": {
    "tags": []
   },
   "outputs": [],
   "source": [
    "ledger_df = pd.read_excel('project_data/QuickBooks GL.xlsx', skiprows=4)\n",
    "\n",
    "ledger_df"
   ]
  },
  {
   "cell_type": "code",
   "execution_count": null,
   "id": "dietary-musician",
   "metadata": {
    "tags": []
   },
   "outputs": [],
   "source": [
    "ledger_df = pd.read_excel('project_data/QuickBooks GL.xlsx', skiprows=4)\n",
    "\n",
    "ledger_df = ledger_df.dropna(how='all', axis='columns')\n",
    "ledger_df = ledger_df.dropna(how='all', axis='rows')\n",
    "ledger_df = ledger_df.rename(columns={'Acct': 'Account', 'SubAcct': 'SubAccount'})"
   ]
  },
  {
   "cell_type": "code",
   "execution_count": null,
   "id": "proved-lottery",
   "metadata": {
    "tags": []
   },
   "outputs": [],
   "source": [
    "ledger_df['Account'] = ledger_df['Account'].fillna(method='ffill')\n",
    "\n",
    "ledger_df"
   ]
  },
  {
   "cell_type": "code",
   "execution_count": null,
   "id": "elementary-fraud",
   "metadata": {
    "tags": []
   },
   "outputs": [],
   "source": [
    "ledger_df['Account'].value_counts()"
   ]
  },
  {
   "cell_type": "code",
   "execution_count": null,
   "id": "hungarian-pledge",
   "metadata": {
    "tags": []
   },
   "outputs": [],
   "source": [
    "ledger_df['SubAccount'].value_counts()"
   ]
  },
  {
   "cell_type": "code",
   "execution_count": null,
   "id": "leading-vatican",
   "metadata": {
    "tags": []
   },
   "outputs": [],
   "source": [
    "def is_subtotal(name):\n",
    "    return pd.notna(name) and 'Total' in name"
   ]
  },
  {
   "cell_type": "code",
   "execution_count": null,
   "id": "distributed-tampa",
   "metadata": {
    "tags": []
   },
   "outputs": [],
   "source": [
    "is_subtotal('Accounts Receivable (A/R)')"
   ]
  },
  {
   "cell_type": "code",
   "execution_count": null,
   "id": "assumed-diversity",
   "metadata": {
    "tags": []
   },
   "outputs": [],
   "source": [
    "is_subtotal('Total for Notes Payable')"
   ]
  },
  {
   "cell_type": "code",
   "execution_count": null,
   "id": "fleet-cartoon",
   "metadata": {
    "tags": []
   },
   "outputs": [],
   "source": [
    "valid_accounts = [name for name in ledger_df['Account'].unique() if not is_subtotal(name)]"
   ]
  },
  {
   "cell_type": "code",
   "execution_count": null,
   "id": "quick-jersey",
   "metadata": {
    "tags": []
   },
   "outputs": [],
   "source": [
    "valid_accounts = []\n",
    "for name in ledger_df['Account'].unique():\n",
    "    if not is_subtotal(name):\n",
    "        valid_accounts.append(name)"
   ]
  },
  {
   "cell_type": "code",
   "execution_count": null,
   "id": "encouraging-sunday",
   "metadata": {
    "tags": []
   },
   "outputs": [],
   "source": [
    "valid_accounts"
   ]
  },
  {
   "cell_type": "code",
   "execution_count": null,
   "id": "legislative-hawaii",
   "metadata": {
    "tags": []
   },
   "outputs": [],
   "source": [
    "ledger_df = ledger_df[ledger_df['Account'].isin(valid_accounts)]\n",
    "\n",
    "ledger_df"
   ]
  },
  {
   "cell_type": "code",
   "execution_count": null,
   "id": "accurate-coating",
   "metadata": {
    "tags": []
   },
   "outputs": [],
   "source": [
    "def is_subtotal(name):\n",
    "    return pd.notna(name) and 'Total' in name\n",
    "\n",
    "valid_accounts = [name for name in ledger_df['Account'].unique() \n",
    "    if not is_subtotal(name)]\n",
    "valid_subaccounts = [name for name in ledger_df['SubAccount'].unique() \n",
    "    if not is_subtotal(name)]\n",
    "\n",
    "ledger_df = ledger_df[ledger_df['Account'].isin(valid_accounts)]\n",
    "ledger_df = ledger_df[ledger_df['SubAccount'].isin(valid_subaccounts)]\n",
    "\n",
    "ledger_df"
   ]
  },
  {
   "cell_type": "code",
   "execution_count": null,
   "id": "flexible-royal",
   "metadata": {
    "tags": []
   },
   "outputs": [],
   "source": [
    "ledger_df[ledger_df['Account'] == 'Utilities']"
   ]
  },
  {
   "cell_type": "code",
   "execution_count": null,
   "id": "german-moldova",
   "metadata": {
    "tags": []
   },
   "outputs": [],
   "source": [
    "example_df = ledger_df[ledger_df['Account'].isin(['Utilities', 'Miscellaneous'])]\n",
    "\n",
    "example_df "
   ]
  },
  {
   "cell_type": "code",
   "execution_count": null,
   "id": "permanent-viewer",
   "metadata": {
    "tags": []
   },
   "outputs": [],
   "source": [
    "example_df['SubAccount'] = example_df['SubAccount'].fillna(method='ffill')\n",
    "\n",
    "example_df"
   ]
  },
  {
   "cell_type": "code",
   "execution_count": null,
   "id": "immune-brand",
   "metadata": {
    "tags": []
   },
   "outputs": [],
   "source": [
    "for account in ledger_df['Account'].unique():\n",
    "    ledger_df.loc[ledger_df['Account'] == account, 'SubAccount'] = ledger_df.loc[\n",
    "        ledger_df['Account'] == account, 'SubAccount'].fillna(method='ffill')"
   ]
  },
  {
   "cell_type": "code",
   "execution_count": null,
   "id": "coral-heaven",
   "metadata": {
    "tags": []
   },
   "outputs": [],
   "source": [
    "ledger_df"
   ]
  },
  {
   "cell_type": "code",
   "execution_count": null,
   "id": "small-valuable",
   "metadata": {
    "tags": []
   },
   "outputs": [],
   "source": [
    "ledger_df = ledger_df.dropna(subset=ledger_df.columns[2:], how='all')"
   ]
  },
  {
   "cell_type": "code",
   "execution_count": null,
   "id": "familiar-restoration",
   "metadata": {
    "tags": []
   },
   "outputs": [],
   "source": [
    "ledger_df[\n",
    "    (ledger_df['Account'] == 'Landscaping Services') &\n",
    "    (ledger_df['SubAccount'] == 'Fountains and Garden Lighting')\n",
    "]"
   ]
  },
  {
   "cell_type": "code",
   "execution_count": null,
   "id": "parliamentary-terrace",
   "metadata": {
    "tags": []
   },
   "outputs": [],
   "source": [
    "ledger_df.sort_values('Credit', ascending=False)"
   ]
  },
  {
   "cell_type": "code",
   "execution_count": null,
   "id": "desirable-absence",
   "metadata": {
    "tags": []
   },
   "outputs": [],
   "source": [
    "ledger_df[ledger_df['Account'] == 'Utilities']['Debit'].sum()"
   ]
  },
  {
   "cell_type": "code",
   "execution_count": null,
   "id": "structured-chosen",
   "metadata": {
    "tags": []
   },
   "outputs": [],
   "source": [
    "ledger_df.to_excel('project_data/Clean QuickBooks GL.xlsx', index=False)"
   ]
  },
  {
   "cell_type": "code",
   "execution_count": null,
   "id": "floating-boxing",
   "metadata": {
    "tags": []
   },
   "outputs": [],
   "source": [
    "ledger_df = pd.read_excel('project_data/QuickBooks GL.xlsx', skiprows=4)\n",
    "\n",
    "ledger_df = ledger_df.dropna(how='all', axis='columns')\n",
    "ledger_df = ledger_df.dropna(how='all', axis='rows')\n",
    "ledger_df = ledger_df.rename(columns={'Acct': 'Account', 'SubAcct': 'SubAccount'})\n",
    "ledger_df['Account'] = ledger_df['Account'].fillna(method='ffill')\n",
    "\n",
    "def is_subtotal(name):\n",
    "    return pd.notna(name) and 'Total' in name\n",
    "\n",
    "valid_accounts = [name for name in ledger_df['Account'].unique() \n",
    "    if not is_subtotal(name)]\n",
    "valid_subaccounts = [name for name in ledger_df['SubAccount'].unique() \n",
    "    if not is_subtotal(name)]\n",
    "\n",
    "ledger_df = ledger_df[ledger_df['Account'].isin(valid_accounts)]\n",
    "ledger_df = ledger_df[ledger_df['SubAccount'].isin(valid_subaccounts)]\n",
    "\n",
    "for account in ledger_df['Account'].unique():\n",
    "    ledger_df.loc[ledger_df['Account'] == account, 'SubAccount'] = ledger_df.loc[\n",
    "        ledger_df['Account'] == account, 'SubAccount'].fillna(method='ffill')\n",
    "\n",
    "ledger_df = ledger_df.dropna(subset=ledger_df.columns[2:], how='all')"
   ]
  }
 ],
 "metadata": {
  "jupytext": {
   "formats": "ipynb"
  },
  "kernelspec": {
   "display_name": "Python 3",
   "language": "python",
   "name": "python3"
  }
 },
 "nbformat": 4,
 "nbformat_minor": 5
}

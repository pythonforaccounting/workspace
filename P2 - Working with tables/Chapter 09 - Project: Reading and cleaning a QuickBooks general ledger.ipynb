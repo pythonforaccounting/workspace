{
 "cells": [
  {
   "cell_type": "markdown",
   "id": "plain-recommendation",
   "metadata": {},
   "source": [
    "\n",
    "# Project: Reading and cleaning a QuickBooks general ledger"
   ]
  },
  {
   "cell_type": "code",
   "execution_count": null,
   "id": "italian-tulsa",
   "metadata": {
    "tags": []
   },
   "outputs": [],
   "source": [
    "import pandas as pd"
   ]
  },
  {
   "cell_type": "code",
   "execution_count": null,
   "id": "pressed-memorial",
   "metadata": {
    "tags": []
   },
   "outputs": [],
   "source": [
    "ledger_df = pd.read_excel('project_data/QuickBooks GL.xlsx')\n",
    "\n",
    "ledger_df"
   ]
  },
  {
   "cell_type": "code",
   "execution_count": null,
   "id": "thermal-sending",
   "metadata": {
    "tags": []
   },
   "outputs": [],
   "source": [
    "ledger_df = pd.read_excel('project_data/QuickBooks GL.xlsx', skiprows=4)\n",
    "\n",
    "ledger_df"
   ]
  },
  {
   "cell_type": "code",
   "execution_count": null,
   "id": "talented-silly",
   "metadata": {
    "tags": []
   },
   "outputs": [],
   "source": [
    "ledger_df = pd.read_excel('project_data/QuickBooks GL.xlsx', skiprows=4)\n",
    "\n",
    "ledger_df = ledger_df.dropna(how='all', axis='columns')\n",
    "ledger_df = ledger_df.dropna(how='all', axis='rows')\n",
    "ledger_df = ledger_df.rename(columns={'Acct': 'Account', 'SubAcct': 'SubAccount'})"
   ]
  },
  {
   "cell_type": "code",
   "execution_count": null,
   "id": "tamil-cricket",
   "metadata": {
    "tags": []
   },
   "outputs": [],
   "source": [
    "ledger_df['Account'] = ledger_df['Account'].fillna(method='ffill')\n",
    "\n",
    "ledger_df"
   ]
  },
  {
   "cell_type": "code",
   "execution_count": null,
   "id": "meaning-auckland",
   "metadata": {
    "tags": []
   },
   "outputs": [],
   "source": [
    "ledger_df['Account'].value_counts()"
   ]
  },
  {
   "cell_type": "code",
   "execution_count": null,
   "id": "aerial-canberra",
   "metadata": {
    "tags": []
   },
   "outputs": [],
   "source": [
    "ledger_df['SubAccount'].value_counts()"
   ]
  },
  {
   "cell_type": "code",
   "execution_count": null,
   "id": "likely-brain",
   "metadata": {
    "tags": []
   },
   "outputs": [],
   "source": [
    "def is_subtotal(name):\n",
    "    return pd.notna(name) and 'Total' in name"
   ]
  },
  {
   "cell_type": "code",
   "execution_count": null,
   "id": "unlimited-function",
   "metadata": {
    "tags": []
   },
   "outputs": [],
   "source": [
    "is_subtotal('Accounts Receivable (A/R)')"
   ]
  },
  {
   "cell_type": "code",
   "execution_count": null,
   "id": "brief-princeton",
   "metadata": {
    "tags": []
   },
   "outputs": [],
   "source": [
    "is_subtotal('Total for Notes Payable')"
   ]
  },
  {
   "cell_type": "code",
   "execution_count": null,
   "id": "familiar-attack",
   "metadata": {
    "tags": []
   },
   "outputs": [],
   "source": [
    "valid_accounts = [name for name in ledger_df['Account'].unique() if not is_subtotal(name)]"
   ]
  },
  {
   "cell_type": "code",
   "execution_count": null,
   "id": "dirty-account",
   "metadata": {
    "tags": []
   },
   "outputs": [],
   "source": [
    "valid_accounts = []\n",
    "for name in ledger_df['Account'].unique():\n",
    "    if not is_subtotal(name):\n",
    "        valid_accounts.append(name)"
   ]
  },
  {
   "cell_type": "code",
   "execution_count": null,
   "id": "floating-peninsula",
   "metadata": {
    "tags": []
   },
   "outputs": [],
   "source": [
    "valid_accounts"
   ]
  },
  {
   "cell_type": "code",
   "execution_count": null,
   "id": "vietnamese-elite",
   "metadata": {
    "tags": []
   },
   "outputs": [],
   "source": [
    "ledger_df = ledger_df[ledger_df['Account'].isin(valid_accounts)]\n",
    "\n",
    "ledger_df"
   ]
  },
  {
   "cell_type": "code",
   "execution_count": null,
   "id": "necessary-prime",
   "metadata": {
    "tags": []
   },
   "outputs": [],
   "source": [
    "def is_subtotal(name):\n",
    "    return pd.notna(name) and 'Total' in name\n",
    "\n",
    "valid_accounts = [name for name in ledger_df['Account'].unique() \n",
    "    if not is_subtotal(name)]\n",
    "valid_subaccounts = [name for name in ledger_df['SubAccount'].unique() \n",
    "    if not is_subtotal(name)]\n",
    "\n",
    "ledger_df = ledger_df[ledger_df['Account'].isin(valid_accounts)]\n",
    "ledger_df = ledger_df[ledger_df['SubAccount'].isin(valid_subaccounts)]\n",
    "\n",
    "ledger_df"
   ]
  },
  {
   "cell_type": "code",
   "execution_count": null,
   "id": "complimentary-carpet",
   "metadata": {
    "tags": []
   },
   "outputs": [],
   "source": [
    "ledger_df[ledger_df['Account'] == 'Utilities']"
   ]
  },
  {
   "cell_type": "code",
   "execution_count": null,
   "id": "martial-sierra",
   "metadata": {
    "tags": []
   },
   "outputs": [],
   "source": [
    "example_df = ledger_df[ledger_df['Account'].isin(['Utilities', 'Miscellaneous'])]\n",
    "\n",
    "example_df "
   ]
  },
  {
   "cell_type": "code",
   "execution_count": null,
   "id": "wound-contractor",
   "metadata": {
    "tags": []
   },
   "outputs": [],
   "source": [
    "example_df['SubAccount'] = example_df['SubAccount'].fillna(method='ffill')\n",
    "\n",
    "example_df"
   ]
  },
  {
   "cell_type": "code",
   "execution_count": null,
   "id": "unnecessary-broad",
   "metadata": {
    "tags": []
   },
   "outputs": [],
   "source": [
    "for account in ledger_df['Account'].unique():\n",
    "    ledger_df.loc[ledger_df['Account'] == account, 'SubAccount'] = ledger_df.loc[\n",
    "        ledger_df['Account'] == account, 'SubAccount'].fillna(method='ffill')"
   ]
  },
  {
   "cell_type": "code",
   "execution_count": null,
   "id": "fitting-infection",
   "metadata": {
    "tags": []
   },
   "outputs": [],
   "source": [
    "ledger_df"
   ]
  },
  {
   "cell_type": "code",
   "execution_count": null,
   "id": "elder-mouth",
   "metadata": {
    "tags": []
   },
   "outputs": [],
   "source": [
    "ledger_df = ledger_df.dropna(subset=ledger_df.columns[2:], how='all')"
   ]
  },
  {
   "cell_type": "code",
   "execution_count": null,
   "id": "another-laugh",
   "metadata": {
    "tags": []
   },
   "outputs": [],
   "source": [
    "ledger_df[\n",
    "    (ledger_df['Account'] == 'Landscaping Services') &\n",
    "    (ledger_df['SubAccount'] == 'Fountains and Garden Lighting')\n",
    "]"
   ]
  },
  {
   "cell_type": "code",
   "execution_count": null,
   "id": "german-teens",
   "metadata": {
    "tags": []
   },
   "outputs": [],
   "source": [
    "ledger_df.sort_values('Credit', ascending=False)"
   ]
  },
  {
   "cell_type": "code",
   "execution_count": null,
   "id": "latter-effectiveness",
   "metadata": {
    "tags": []
   },
   "outputs": [],
   "source": [
    "ledger_df[ledger_df['Account'] == 'Utilities']['Debit'].sum()"
   ]
  },
  {
   "cell_type": "code",
   "execution_count": null,
   "id": "sound-outreach",
   "metadata": {
    "tags": []
   },
   "outputs": [],
   "source": [
    "ledger_df.to_excel('project_data/Clean QuickBooks GL.xlsx', index=False)"
   ]
  },
  {
   "cell_type": "code",
   "execution_count": null,
   "id": "olive-location",
   "metadata": {
    "tags": []
   },
   "outputs": [],
   "source": [
    "ledger_df = pd.read_excel('project_data/QuickBooks GL.xlsx', skiprows=4)\n",
    "\n",
    "ledger_df = ledger_df.dropna(how='all', axis='columns')\n",
    "ledger_df = ledger_df.dropna(how='all', axis='rows')\n",
    "ledger_df = ledger_df.rename(columns={'Acct': 'Account', 'SubAcct': 'SubAccount'})\n",
    "ledger_df['Account'] = ledger_df['Account'].fillna(method='ffill')\n",
    "\n",
    "def is_subtotal(name):\n",
    "    return pd.notna(name) and 'Total' in name\n",
    "\n",
    "valid_accounts = [name for name in ledger_df['Account'].unique() \n",
    "    if not is_subtotal(name)]\n",
    "valid_subaccounts = [name for name in ledger_df['SubAccount'].unique() \n",
    "    if not is_subtotal(name)]\n",
    "\n",
    "ledger_df = ledger_df[ledger_df['Account'].isin(valid_accounts)]\n",
    "ledger_df = ledger_df[ledger_df['SubAccount'].isin(valid_subaccounts)]\n",
    "\n",
    "for account in ledger_df['Account'].unique():\n",
    "    ledger_df.loc[ledger_df['Account'] == account, 'SubAccount'] = ledger_df.loc[\n",
    "        ledger_df['Account'] == account, 'SubAccount'].fillna(method='ffill')\n",
    "\n",
    "ledger_df = ledger_df.dropna(subset=ledger_df.columns[2:], how='all')"
   ]
  }
 ],
 "metadata": {
  "jupytext": {
   "formats": "ipynb"
  },
  "kernelspec": {
   "display_name": "Python 3",
   "language": "python",
   "name": "python3"
  }
 },
 "nbformat": 4,
 "nbformat_minor": 5
}

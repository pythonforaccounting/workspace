{
 "cells": [
  {
   "cell_type": "markdown",
   "id": "accessory-merchandise",
   "metadata": {},
   "source": [
    "\n",
    "# Adding and modifying columns\n",
    "\n",
    "## Adding columns"
   ]
  },
  {
   "cell_type": "code",
   "execution_count": null,
   "id": "parental-louis",
   "metadata": {
    "tags": []
   },
   "outputs": [],
   "source": [
    "ledger_df['Quarter'] = 'Q1'\n",
    "\n",
    "ledger_df"
   ]
  },
  {
   "cell_type": "code",
   "execution_count": null,
   "id": "healthy-brush",
   "metadata": {
    "tags": []
   },
   "outputs": [],
   "source": [
    "ledger_df['Quarter'] = 1\n",
    "\n",
    "ledger_df"
   ]
  },
  {
   "cell_type": "code",
   "execution_count": null,
   "id": "optical-lunch",
   "metadata": {
    "tags": []
   },
   "outputs": [],
   "source": [
    "ledger_df['Total'] * (19 / 100)"
   ]
  },
  {
   "cell_type": "code",
   "execution_count": null,
   "id": "infectious-politics",
   "metadata": {
    "tags": []
   },
   "outputs": [],
   "source": [
    "ledger_df['Sales Tax'] = ledger_df['Total'] * (19 / 100)"
   ]
  },
  {
   "cell_type": "code",
   "execution_count": null,
   "id": "impaired-savage",
   "metadata": {
    "tags": []
   },
   "outputs": [],
   "source": [
    "ledger_df"
   ]
  },
  {
   "cell_type": "code",
   "execution_count": null,
   "id": "clear-resource",
   "metadata": {
    "tags": []
   },
   "outputs": [],
   "source": [
    "ledger_df['Quantity'] * ledger_df['Unit Price']"
   ]
  },
  {
   "cell_type": "code",
   "execution_count": null,
   "id": "beginning-macro",
   "metadata": {
    "tags": []
   },
   "outputs": [],
   "source": [
    "ledger_df['Total'] = ledger_df['Quantity'] * ledger_df['Unit Price']"
   ]
  },
  {
   "cell_type": "markdown",
   "id": "absolute-honolulu",
   "metadata": {},
   "source": [
    "## Renaming columns"
   ]
  },
  {
   "cell_type": "code",
   "execution_count": null,
   "id": "breeding-abortion",
   "metadata": {
    "tags": []
   },
   "outputs": [],
   "source": [
    "ledger_df.rename(columns={\"Sales Tax\": \"Tax\"})"
   ]
  },
  {
   "cell_type": "code",
   "execution_count": null,
   "id": "specialized-participant",
   "metadata": {
    "tags": []
   },
   "outputs": [],
   "source": [
    "ledger_df = ledger_df.rename(columns={'Sales Tax': 'Tax'})\n",
    "\n",
    "ledger_df.columns"
   ]
  },
  {
   "cell_type": "code",
   "execution_count": null,
   "id": "natural-hebrew",
   "metadata": {
    "tags": []
   },
   "outputs": [],
   "source": [
    "ledger_df = ledger_df.rename(columns={\n",
    "    'Product Name': 'Name',\n",
    "    'Unit Price': 'Price',\n",
    "    'Hello': 'World'\n",
    "})\n",
    "\n",
    "ledger_df"
   ]
  },
  {
   "cell_type": "markdown",
   "id": "coordinated-homeless",
   "metadata": {},
   "source": [
    "## Replacing values"
   ]
  },
  {
   "cell_type": "code",
   "execution_count": null,
   "id": "plastic-trader",
   "metadata": {
    "tags": []
   },
   "outputs": [],
   "source": [
    "ledger_df['Channel'].replace({\n",
    "    'Shoppe.com': 'Shoppe',\n",
    "    'Understock.com': 'Understock',\n",
    "    'iBay.com': 'iBay'\n",
    "})"
   ]
  },
  {
   "cell_type": "code",
   "execution_count": null,
   "id": "structural-talent",
   "metadata": {
    "tags": []
   },
   "outputs": [],
   "source": [
    "ledger_df['Channel'] = ledger_df['Channel'].replace({\n",
    "    'Shoppe.com': 'Shoppe',\n",
    "    'Understock.com': 'Understock',\n",
    "    'iBay.com': 'iBay'\n",
    "})"
   ]
  },
  {
   "cell_type": "code",
   "execution_count": null,
   "id": "arctic-garlic",
   "metadata": {
    "tags": []
   },
   "outputs": [],
   "source": [
    "ledger_df"
   ]
  },
  {
   "cell_type": "markdown",
   "id": "given-novelty",
   "metadata": {},
   "source": [
    "## Assigning new values to a table slice"
   ]
  },
  {
   "cell_type": "code",
   "execution_count": null,
   "id": "central-decline",
   "metadata": {
    "tags": []
   },
   "outputs": [],
   "source": [
    "ledger_df.head(2)"
   ]
  },
  {
   "cell_type": "code",
   "execution_count": null,
   "id": "departmental-envelope",
   "metadata": {
    "tags": []
   },
   "outputs": [],
   "source": [
    "ledger_df.loc[1, 'ProductID']"
   ]
  },
  {
   "cell_type": "code",
   "execution_count": null,
   "id": "starting-bonus",
   "metadata": {
    "tags": []
   },
   "outputs": [],
   "source": [
    "# with .loc\n",
    "ledger_df.loc[1, 'ProductID'] = 'T&G/LEG0-0190'\n",
    "\n",
    "# or with .iloc\n",
    "ledger_df.iloc[1, 3] = 'T&G/LEG0-0190'"
   ]
  },
  {
   "cell_type": "code",
   "execution_count": null,
   "id": "black-section",
   "metadata": {
    "tags": []
   },
   "outputs": [],
   "source": [
    "ledger_df.head(2)"
   ]
  },
  {
   "cell_type": "code",
   "execution_count": null,
   "id": "challenging-scope",
   "metadata": {
    "tags": []
   },
   "outputs": [],
   "source": [
    "ledger_df.loc[0:2, 'Quarter'] = 'One'\n",
    "\n",
    "ledger_df.head()"
   ]
  },
  {
   "cell_type": "code",
   "execution_count": null,
   "id": "static-battlefield",
   "metadata": {
    "tags": []
   },
   "outputs": [],
   "source": [
    "ledger_df.loc[0:2, 'Quarter'] = ['One', 'Two', 'Three']\n",
    "\n",
    "ledger_df.head()"
   ]
  },
  {
   "cell_type": "markdown",
   "id": "natural-telescope",
   "metadata": {},
   "source": [
    "## Filter and edit"
   ]
  },
  {
   "cell_type": "code",
   "execution_count": null,
   "id": "skilled-fitness",
   "metadata": {
    "tags": []
   },
   "outputs": [],
   "source": [
    "ledger_df.loc[ledger_df['Channel'] == 'Walcart', 'Total']"
   ]
  },
  {
   "cell_type": "code",
   "execution_count": null,
   "id": "mighty-transition",
   "metadata": {
    "tags": []
   },
   "outputs": [],
   "source": [
    "ledger_df.loc[ledger_df['Channel'] == 'Walcart', 'Total'] * (9 / 100)"
   ]
  },
  {
   "cell_type": "code",
   "execution_count": null,
   "id": "recovered-maldives",
   "metadata": {
    "tags": []
   },
   "outputs": [],
   "source": [
    "walcart_rows = ledger_df['Channel'] == 'Walcart'\n",
    "\n",
    "ledger_df.loc[walcart_rows, 'Tax'] = ledger_df.loc[walcart_rows, 'Total'] * (9 / 100)"
   ]
  },
  {
   "cell_type": "code",
   "execution_count": null,
   "id": "southeast-ending",
   "metadata": {
    "tags": []
   },
   "outputs": [],
   "source": [
    "ledger_df.loc[ledger_df['Channel'] == 'Walcart', 'Tax'] = (\n",
    "    ledger_df.loc[ledger_df['Channel'] == 'Walcart', 'Total'] * (9 / 100)\n",
    ")"
   ]
  },
  {
   "cell_type": "code",
   "execution_count": null,
   "id": "little-america",
   "metadata": {
    "tags": []
   },
   "outputs": [],
   "source": [
    "ledger_df.loc[ledger_df['Channel'] == 'Bullseye', 'Tax'] = (\n",
    "    ledger_df.loc[ledger_df['Channel'] == 'Bullseye', 'Total'] * (16 / 100)\n",
    ")"
   ]
  }
 ],
 "metadata": {
  "jupytext": {
   "formats": "ipynb"
  },
  "kernelspec": {
   "display_name": "Python 3",
   "language": "python",
   "name": "python3"
  }
 },
 "nbformat": 4,
 "nbformat_minor": 5
}

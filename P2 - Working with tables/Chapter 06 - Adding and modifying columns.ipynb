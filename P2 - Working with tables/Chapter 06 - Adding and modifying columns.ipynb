{
 "cells": [
  {
   "cell_type": "markdown",
   "id": "quiet-venice",
   "metadata": {},
   "source": [
    "\n",
    "# Adding and modifying columns\n",
    "\n",
    "## Adding columns"
   ]
  },
  {
   "cell_type": "code",
   "execution_count": null,
   "id": "palestinian-louisville",
   "metadata": {
    "tags": []
   },
   "outputs": [],
   "source": [
    "ledger_df['Quarter'] = 'Q1'\n",
    "\n",
    "ledger_df"
   ]
  },
  {
   "cell_type": "code",
   "execution_count": null,
   "id": "nonprofit-scott",
   "metadata": {
    "tags": []
   },
   "outputs": [],
   "source": [
    "ledger_df['Quarter'] = 1\n",
    "\n",
    "ledger_df"
   ]
  },
  {
   "cell_type": "code",
   "execution_count": null,
   "id": "judicial-church",
   "metadata": {
    "tags": []
   },
   "outputs": [],
   "source": [
    "ledger_df['Total'] * (19 / 100)"
   ]
  },
  {
   "cell_type": "code",
   "execution_count": null,
   "id": "matched-brooks",
   "metadata": {
    "tags": []
   },
   "outputs": [],
   "source": [
    "ledger_df['Sales Tax'] = ledger_df['Total'] * (19 / 100)"
   ]
  },
  {
   "cell_type": "code",
   "execution_count": null,
   "id": "institutional-villa",
   "metadata": {
    "tags": []
   },
   "outputs": [],
   "source": [
    "ledger_df"
   ]
  },
  {
   "cell_type": "code",
   "execution_count": null,
   "id": "molecular-interval",
   "metadata": {
    "tags": []
   },
   "outputs": [],
   "source": [
    "ledger_df['Quantity'] * ledger_df['Unit Price']"
   ]
  },
  {
   "cell_type": "code",
   "execution_count": null,
   "id": "musical-bobby",
   "metadata": {
    "tags": []
   },
   "outputs": [],
   "source": [
    "ledger_df['Total'] = ledger_df['Quantity'] * ledger_df['Unit Price']"
   ]
  },
  {
   "cell_type": "markdown",
   "id": "theoretical-madagascar",
   "metadata": {},
   "source": [
    "## Renaming columns"
   ]
  },
  {
   "cell_type": "code",
   "execution_count": null,
   "id": "affiliated-astronomy",
   "metadata": {
    "tags": []
   },
   "outputs": [],
   "source": [
    "ledger_df.rename(columns={\"Sales Tax\": \"Tax\"})"
   ]
  },
  {
   "cell_type": "code",
   "execution_count": null,
   "id": "completed-gabriel",
   "metadata": {
    "tags": []
   },
   "outputs": [],
   "source": [
    "ledger_df = ledger_df.rename(columns={'Sales Tax': 'Tax'})\n",
    "\n",
    "ledger_df.columns"
   ]
  },
  {
   "cell_type": "code",
   "execution_count": null,
   "id": "located-hypothetical",
   "metadata": {
    "tags": []
   },
   "outputs": [],
   "source": [
    "ledger_df = ledger_df.rename(columns={\n",
    "    'Product Name': 'Name',\n",
    "    'Unit Price': 'Price',\n",
    "    'Hello': 'World'\n",
    "})\n",
    "\n",
    "ledger_df"
   ]
  },
  {
   "cell_type": "markdown",
   "id": "authorized-buddy",
   "metadata": {},
   "source": [
    "## Replacing values"
   ]
  },
  {
   "cell_type": "code",
   "execution_count": null,
   "id": "patent-demographic",
   "metadata": {
    "tags": []
   },
   "outputs": [],
   "source": [
    "ledger_df['Channel'].replace({\n",
    "    'Shoppe.com': 'Shoppe',\n",
    "    'Understock.com': 'Understock',\n",
    "    'iBay.com': 'iBay'\n",
    "})"
   ]
  },
  {
   "cell_type": "code",
   "execution_count": null,
   "id": "limited-portland",
   "metadata": {
    "tags": []
   },
   "outputs": [],
   "source": [
    "ledger_df['Channel'] = ledger_df['Channel'].replace({\n",
    "    'Shoppe.com': 'Shoppe',\n",
    "    'Understock.com': 'Understock',\n",
    "    'iBay.com': 'iBay'\n",
    "})"
   ]
  },
  {
   "cell_type": "code",
   "execution_count": null,
   "id": "prepared-responsibility",
   "metadata": {
    "tags": []
   },
   "outputs": [],
   "source": [
    "ledger_df"
   ]
  },
  {
   "cell_type": "markdown",
   "id": "outdoor-groove",
   "metadata": {},
   "source": [
    "## Assigning new values to a table slice"
   ]
  },
  {
   "cell_type": "code",
   "execution_count": null,
   "id": "twenty-tanzania",
   "metadata": {
    "tags": []
   },
   "outputs": [],
   "source": [
    "ledger_df.head(2)"
   ]
  },
  {
   "cell_type": "code",
   "execution_count": null,
   "id": "north-enclosure",
   "metadata": {
    "tags": []
   },
   "outputs": [],
   "source": [
    "ledger_df.loc[1, 'ProductID']"
   ]
  },
  {
   "cell_type": "code",
   "execution_count": null,
   "id": "ranging-simon",
   "metadata": {
    "tags": []
   },
   "outputs": [],
   "source": [
    "# with .loc\n",
    "ledger_df.loc[1, 'ProductID'] = 'T&G/LEG0-0190'\n",
    "\n",
    "# or with .iloc\n",
    "ledger_df.iloc[1, 3] = 'T&G/LEG0-0190'"
   ]
  },
  {
   "cell_type": "code",
   "execution_count": null,
   "id": "aggregate-aruba",
   "metadata": {
    "tags": []
   },
   "outputs": [],
   "source": [
    "ledger_df.head(2)"
   ]
  },
  {
   "cell_type": "code",
   "execution_count": null,
   "id": "radio-regulation",
   "metadata": {
    "tags": []
   },
   "outputs": [],
   "source": [
    "ledger_df.loc[0:2, 'Quarter'] = 'One'\n",
    "\n",
    "ledger_df.head()"
   ]
  },
  {
   "cell_type": "code",
   "execution_count": null,
   "id": "extraordinary-allergy",
   "metadata": {
    "tags": []
   },
   "outputs": [],
   "source": [
    "ledger_df.loc[0:2, 'Quarter'] = ['One', 'Two', 'Three']\n",
    "\n",
    "ledger_df.head()"
   ]
  },
  {
   "cell_type": "markdown",
   "id": "forward-village",
   "metadata": {},
   "source": [
    "## Filter and edit"
   ]
  },
  {
   "cell_type": "code",
   "execution_count": null,
   "id": "incorporated-leeds",
   "metadata": {
    "tags": []
   },
   "outputs": [],
   "source": [
    "ledger_df.loc[ledger_df['Channel'] == 'Walcart', 'Total']"
   ]
  },
  {
   "cell_type": "code",
   "execution_count": null,
   "id": "strange-pulse",
   "metadata": {
    "tags": []
   },
   "outputs": [],
   "source": [
    "ledger_df.loc[ledger_df['Channel'] == 'Walcart', 'Total'] * (9 / 100)"
   ]
  },
  {
   "cell_type": "code",
   "execution_count": null,
   "id": "through-domestic",
   "metadata": {
    "tags": []
   },
   "outputs": [],
   "source": [
    "walcart_rows = ledger_df['Channel'] == 'Walcart'\n",
    "\n",
    "ledger_df.loc[walcart_rows, 'Tax'] = ledger_df.loc[walcart_rows, 'Total'] * (9 / 100)"
   ]
  },
  {
   "cell_type": "code",
   "execution_count": null,
   "id": "waiting-exercise",
   "metadata": {
    "tags": []
   },
   "outputs": [],
   "source": [
    "ledger_df.loc[ledger_df['Channel'] == 'Walcart', 'Tax'] = (\n",
    "    ledger_df.loc[ledger_df['Channel'] == 'Walcart', 'Total'] * (9 / 100)\n",
    ")"
   ]
  },
  {
   "cell_type": "code",
   "execution_count": null,
   "id": "opening-turner",
   "metadata": {
    "tags": []
   },
   "outputs": [],
   "source": [
    "ledger_df.loc[ledger_df['Channel'] == 'Bullseye', 'Tax'] = (\n",
    "    ledger_df.loc[ledger_df['Channel'] == 'Bullseye', 'Total'] * (16 / 100)\n",
    ")"
   ]
  }
 ],
 "metadata": {
  "jupytext": {
   "formats": "ipynb"
  },
  "kernelspec": {
   "display_name": "Python 3",
   "language": "python",
   "name": "python3"
  }
 },
 "nbformat": 4,
 "nbformat_minor": 5
}

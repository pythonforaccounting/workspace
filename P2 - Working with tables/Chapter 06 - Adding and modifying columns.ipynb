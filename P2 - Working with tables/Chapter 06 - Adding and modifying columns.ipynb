{
 "cells": [
  {
   "cell_type": "markdown",
   "id": "junior-architecture",
   "metadata": {},
   "source": [
    "\n",
    "# Adding and modifying columns\n",
    "\n",
    "## Adding columns"
   ]
  },
  {
   "cell_type": "code",
   "execution_count": null,
   "id": "bottom-chapel",
   "metadata": {
    "tags": []
   },
   "outputs": [],
   "source": [
    "ledger_df['Quarter'] = 'Q1'\n",
    "\n",
    "ledger_df"
   ]
  },
  {
   "cell_type": "code",
   "execution_count": null,
   "id": "endless-surge",
   "metadata": {
    "tags": []
   },
   "outputs": [],
   "source": [
    "ledger_df['Quarter'] = 1\n",
    "\n",
    "ledger_df"
   ]
  },
  {
   "cell_type": "code",
   "execution_count": null,
   "id": "weekly-maker",
   "metadata": {
    "tags": []
   },
   "outputs": [],
   "source": [
    "ledger_df['Total'] * (19 / 100)"
   ]
  },
  {
   "cell_type": "code",
   "execution_count": null,
   "id": "missing-kruger",
   "metadata": {
    "tags": []
   },
   "outputs": [],
   "source": [
    "ledger_df['Sales Tax'] = ledger_df['Total'] * (19 / 100)"
   ]
  },
  {
   "cell_type": "code",
   "execution_count": null,
   "id": "champion-flight",
   "metadata": {
    "tags": []
   },
   "outputs": [],
   "source": [
    "ledger_df"
   ]
  },
  {
   "cell_type": "code",
   "execution_count": null,
   "id": "thermal-employer",
   "metadata": {
    "tags": []
   },
   "outputs": [],
   "source": [
    "ledger_df['Quantity'] * ledger_df['Unit Price']"
   ]
  },
  {
   "cell_type": "code",
   "execution_count": null,
   "id": "needed-atmosphere",
   "metadata": {
    "tags": []
   },
   "outputs": [],
   "source": [
    "ledger_df['Total'] = ledger_df['Quantity'] * ledger_df['Unit Price']"
   ]
  },
  {
   "cell_type": "markdown",
   "id": "spoken-symposium",
   "metadata": {},
   "source": [
    "## Renaming columns"
   ]
  },
  {
   "cell_type": "code",
   "execution_count": null,
   "id": "processed-plasma",
   "metadata": {
    "tags": []
   },
   "outputs": [],
   "source": [
    "ledger_df.rename(columns={\"Sales Tax\": \"Tax\"})"
   ]
  },
  {
   "cell_type": "code",
   "execution_count": null,
   "id": "objective-frost",
   "metadata": {
    "tags": []
   },
   "outputs": [],
   "source": [
    "ledger_df = ledger_df.rename(columns={'Sales Tax': 'Tax'})\n",
    "\n",
    "ledger_df.columns"
   ]
  },
  {
   "cell_type": "code",
   "execution_count": null,
   "id": "natural-integral",
   "metadata": {
    "tags": []
   },
   "outputs": [],
   "source": [
    "ledger_df = ledger_df.rename(columns={\n",
    "    'Product Name': 'Name',\n",
    "    'Unit Price': 'Price',\n",
    "    'Hello': 'World'\n",
    "})\n",
    "\n",
    "ledger_df"
   ]
  },
  {
   "cell_type": "markdown",
   "id": "guilty-destruction",
   "metadata": {},
   "source": [
    "## Replacing values"
   ]
  },
  {
   "cell_type": "code",
   "execution_count": null,
   "id": "excited-regression",
   "metadata": {
    "tags": []
   },
   "outputs": [],
   "source": [
    "ledger_df['Channel'].replace({\n",
    "    'Shoppe.com': 'Shoppe',\n",
    "    'Understock.com': 'Understock',\n",
    "    'iBay.com': 'iBay'\n",
    "})"
   ]
  },
  {
   "cell_type": "code",
   "execution_count": null,
   "id": "known-wagon",
   "metadata": {
    "tags": []
   },
   "outputs": [],
   "source": [
    "ledger_df['Channel'] = ledger_df['Channel'].replace({\n",
    "    'Shoppe.com': 'Shoppe',\n",
    "    'Understock.com': 'Understock',\n",
    "    'iBay.com': 'iBay'\n",
    "})"
   ]
  },
  {
   "cell_type": "code",
   "execution_count": null,
   "id": "convenient-ticket",
   "metadata": {
    "tags": []
   },
   "outputs": [],
   "source": [
    "ledger_df"
   ]
  },
  {
   "cell_type": "markdown",
   "id": "reasonable-basket",
   "metadata": {},
   "source": [
    "## Assigning new values to a table slice"
   ]
  },
  {
   "cell_type": "code",
   "execution_count": null,
   "id": "instant-internet",
   "metadata": {
    "tags": []
   },
   "outputs": [],
   "source": [
    "ledger_df.head(2)"
   ]
  },
  {
   "cell_type": "code",
   "execution_count": null,
   "id": "expensive-holocaust",
   "metadata": {
    "tags": []
   },
   "outputs": [],
   "source": [
    "ledger_df.loc[1, 'ProductID']"
   ]
  },
  {
   "cell_type": "code",
   "execution_count": null,
   "id": "spiritual-pound",
   "metadata": {
    "tags": []
   },
   "outputs": [],
   "source": [
    "# with .loc\n",
    "ledger_df.loc[1, 'ProductID'] = 'T&G/LEG0-0190'\n",
    "\n",
    "# or with .iloc\n",
    "ledger_df.iloc[1, 3] = 'T&G/LEG0-0190'"
   ]
  },
  {
   "cell_type": "code",
   "execution_count": null,
   "id": "outstanding-murder",
   "metadata": {
    "tags": []
   },
   "outputs": [],
   "source": [
    "ledger_df.head(2)"
   ]
  },
  {
   "cell_type": "code",
   "execution_count": null,
   "id": "relevant-transfer",
   "metadata": {
    "tags": []
   },
   "outputs": [],
   "source": [
    "ledger_df.loc[0:2, 'Quarter'] = 'One'\n",
    "\n",
    "ledger_df.head()"
   ]
  },
  {
   "cell_type": "code",
   "execution_count": null,
   "id": "demanding-still",
   "metadata": {
    "tags": []
   },
   "outputs": [],
   "source": [
    "ledger_df.loc[0:2, 'Quarter'] = ['One', 'Two', 'Three']\n",
    "\n",
    "ledger_df.head()"
   ]
  },
  {
   "cell_type": "markdown",
   "id": "tribal-passport",
   "metadata": {},
   "source": [
    "## Filter and edit"
   ]
  },
  {
   "cell_type": "code",
   "execution_count": null,
   "id": "surprised-leather",
   "metadata": {
    "tags": []
   },
   "outputs": [],
   "source": [
    "ledger_df.loc[ledger_df['Channel'] == 'Walcart', 'Total']"
   ]
  },
  {
   "cell_type": "code",
   "execution_count": null,
   "id": "little-circumstances",
   "metadata": {
    "tags": []
   },
   "outputs": [],
   "source": [
    "ledger_df.loc[ledger_df['Channel'] == 'Walcart', 'Total'] * (9 / 100)"
   ]
  },
  {
   "cell_type": "code",
   "execution_count": null,
   "id": "developed-satellite",
   "metadata": {
    "tags": []
   },
   "outputs": [],
   "source": [
    "walcart_rows = ledger_df['Channel'] == 'Walcart'\n",
    "\n",
    "ledger_df.loc[walcart_rows, 'Tax'] = ledger_df.loc[walcart_rows, 'Total'] * (9 / 100)"
   ]
  },
  {
   "cell_type": "code",
   "execution_count": null,
   "id": "imperial-bloom",
   "metadata": {
    "tags": []
   },
   "outputs": [],
   "source": [
    "ledger_df.loc[ledger_df['Channel'] == 'Walcart', 'Tax'] = (\n",
    "    ledger_df.loc[ledger_df['Channel'] == 'Walcart', 'Total'] * (9 / 100)\n",
    ")"
   ]
  },
  {
   "cell_type": "code",
   "execution_count": null,
   "id": "extreme-apparel",
   "metadata": {
    "tags": []
   },
   "outputs": [],
   "source": [
    "ledger_df.loc[ledger_df['Channel'] == 'Bullseye', 'Tax'] = (\n",
    "    ledger_df.loc[ledger_df['Channel'] == 'Bullseye', 'Total'] * (16 / 100)\n",
    ")"
   ]
  }
 ],
 "metadata": {
  "jupytext": {
   "formats": "ipynb"
  },
  "kernelspec": {
   "display_name": "Python 3",
   "language": "python",
   "name": "python3"
  }
 },
 "nbformat": 4,
 "nbformat_minor": 5
}

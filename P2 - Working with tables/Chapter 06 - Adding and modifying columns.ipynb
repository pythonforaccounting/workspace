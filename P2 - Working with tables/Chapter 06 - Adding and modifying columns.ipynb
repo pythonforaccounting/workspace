{
 "cells": [
  {
   "cell_type": "markdown",
   "id": "beginning-reservation",
   "metadata": {},
   "source": [
    "\n",
    "# Adding and modifying columns\n",
    "\n",
    "## Adding columns"
   ]
  },
  {
   "cell_type": "code",
   "execution_count": null,
   "id": "adjacent-drove",
   "metadata": {
    "tags": []
   },
   "outputs": [],
   "source": [
    "ledger_df['Quarter'] = 'Q1'\n",
    "\n",
    "ledger_df"
   ]
  },
  {
   "cell_type": "code",
   "execution_count": null,
   "id": "developing-cooling",
   "metadata": {
    "tags": []
   },
   "outputs": [],
   "source": [
    "ledger_df['Quarter'] = 1\n",
    "\n",
    "ledger_df"
   ]
  },
  {
   "cell_type": "code",
   "execution_count": null,
   "id": "nervous-runner",
   "metadata": {
    "tags": []
   },
   "outputs": [],
   "source": [
    "ledger_df['Total'] * (19 / 100)"
   ]
  },
  {
   "cell_type": "code",
   "execution_count": null,
   "id": "green-language",
   "metadata": {
    "tags": []
   },
   "outputs": [],
   "source": [
    "ledger_df['Sales Tax'] = ledger_df['Total'] * (19 / 100)"
   ]
  },
  {
   "cell_type": "code",
   "execution_count": null,
   "id": "hidden-secondary",
   "metadata": {
    "tags": []
   },
   "outputs": [],
   "source": [
    "ledger_df"
   ]
  },
  {
   "cell_type": "code",
   "execution_count": null,
   "id": "affecting-netscape",
   "metadata": {
    "tags": []
   },
   "outputs": [],
   "source": [
    "ledger_df['Quantity'] * ledger_df['Unit Price']"
   ]
  },
  {
   "cell_type": "code",
   "execution_count": null,
   "id": "sonic-xerox",
   "metadata": {
    "tags": []
   },
   "outputs": [],
   "source": [
    "ledger_df['Total'] = ledger_df['Quantity'] * ledger_df['Unit Price']"
   ]
  },
  {
   "cell_type": "markdown",
   "id": "supported-danger",
   "metadata": {},
   "source": [
    "## Renaming columns"
   ]
  },
  {
   "cell_type": "code",
   "execution_count": null,
   "id": "boxed-excess",
   "metadata": {
    "tags": []
   },
   "outputs": [],
   "source": [
    "ledger_df.rename(columns={\"Sales Tax\": \"Tax\"})"
   ]
  },
  {
   "cell_type": "code",
   "execution_count": null,
   "id": "commercial-campaign",
   "metadata": {
    "tags": []
   },
   "outputs": [],
   "source": [
    "ledger_df = ledger_df.rename(columns={'Sales Tax': 'Tax'})\n",
    "\n",
    "ledger_df.columns"
   ]
  },
  {
   "cell_type": "code",
   "execution_count": null,
   "id": "perceived-sweden",
   "metadata": {
    "tags": []
   },
   "outputs": [],
   "source": [
    "ledger_df = ledger_df.rename(columns={\n",
    "    'Product Name': 'Name',\n",
    "    'Unit Price': 'Price',\n",
    "    'Hello': 'World'\n",
    "})\n",
    "\n",
    "ledger_df"
   ]
  },
  {
   "cell_type": "markdown",
   "id": "random-nigeria",
   "metadata": {},
   "source": [
    "## Replacing values"
   ]
  },
  {
   "cell_type": "code",
   "execution_count": null,
   "id": "north-sector",
   "metadata": {
    "tags": []
   },
   "outputs": [],
   "source": [
    "ledger_df['Channel'].replace({\n",
    "    'Shoppe.com': 'Shoppe',\n",
    "    'Understock.com': 'Understock',\n",
    "    'iBay.com': 'iBay'\n",
    "})"
   ]
  },
  {
   "cell_type": "code",
   "execution_count": null,
   "id": "dominican-disney",
   "metadata": {
    "tags": []
   },
   "outputs": [],
   "source": [
    "ledger_df['Channel'] = ledger_df['Channel'].replace({\n",
    "    'Shoppe.com': 'Shoppe',\n",
    "    'Understock.com': 'Understock',\n",
    "    'iBay.com': 'iBay'\n",
    "})"
   ]
  },
  {
   "cell_type": "code",
   "execution_count": null,
   "id": "strategic-berkeley",
   "metadata": {
    "tags": []
   },
   "outputs": [],
   "source": [
    "ledger_df"
   ]
  },
  {
   "cell_type": "markdown",
   "id": "announced-preservation",
   "metadata": {},
   "source": [
    "## Assigning new values to a table slice"
   ]
  },
  {
   "cell_type": "code",
   "execution_count": null,
   "id": "driven-george",
   "metadata": {
    "tags": []
   },
   "outputs": [],
   "source": [
    "ledger_df.head(2)"
   ]
  },
  {
   "cell_type": "code",
   "execution_count": null,
   "id": "delayed-cache",
   "metadata": {
    "tags": []
   },
   "outputs": [],
   "source": [
    "ledger_df.loc[1, 'ProductID']"
   ]
  },
  {
   "cell_type": "code",
   "execution_count": null,
   "id": "current-tomato",
   "metadata": {
    "tags": []
   },
   "outputs": [],
   "source": [
    "# with .loc\n",
    "ledger_df.loc[1, 'ProductID'] = 'T&G/LEG0-0190'\n",
    "\n",
    "# or with .iloc\n",
    "ledger_df.iloc[1, 3] = 'T&G/LEG0-0190'"
   ]
  },
  {
   "cell_type": "code",
   "execution_count": null,
   "id": "accomplished-increase",
   "metadata": {
    "tags": []
   },
   "outputs": [],
   "source": [
    "ledger_df.head(2)"
   ]
  },
  {
   "cell_type": "code",
   "execution_count": null,
   "id": "deadly-tooth",
   "metadata": {
    "tags": []
   },
   "outputs": [],
   "source": [
    "ledger_df.loc[0:2, 'Quarter'] = 'One'\n",
    "\n",
    "ledger_df.head()"
   ]
  },
  {
   "cell_type": "code",
   "execution_count": null,
   "id": "german-exclusive",
   "metadata": {
    "tags": []
   },
   "outputs": [],
   "source": [
    "ledger_df.loc[0:2, 'Quarter'] = ['One', 'Two', 'Three']\n",
    "\n",
    "ledger_df.head()"
   ]
  },
  {
   "cell_type": "markdown",
   "id": "increased-aurora",
   "metadata": {},
   "source": [
    "## Filter and edit"
   ]
  },
  {
   "cell_type": "code",
   "execution_count": null,
   "id": "sustainable-spider",
   "metadata": {
    "tags": []
   },
   "outputs": [],
   "source": [
    "ledger_df.loc[ledger_df['Channel'] == 'Walcart', 'Total']"
   ]
  },
  {
   "cell_type": "code",
   "execution_count": null,
   "id": "bigger-interference",
   "metadata": {
    "tags": []
   },
   "outputs": [],
   "source": [
    "ledger_df.loc[ledger_df['Channel'] == 'Walcart', 'Total'] * (9 / 100)"
   ]
  },
  {
   "cell_type": "code",
   "execution_count": null,
   "id": "prepared-correction",
   "metadata": {
    "tags": []
   },
   "outputs": [],
   "source": [
    "walcart_rows = ledger_df['Channel'] == 'Walcart'\n",
    "\n",
    "ledger_df.loc[walcart_rows, 'Tax'] = ledger_df.loc[walcart_rows, 'Total'] * (9 / 100)"
   ]
  },
  {
   "cell_type": "code",
   "execution_count": null,
   "id": "pointed-locking",
   "metadata": {
    "tags": []
   },
   "outputs": [],
   "source": [
    "ledger_df.loc[ledger_df['Channel'] == 'Walcart', 'Tax'] = (\n",
    "    ledger_df.loc[ledger_df['Channel'] == 'Walcart', 'Total'] * (9 / 100)\n",
    ")"
   ]
  },
  {
   "cell_type": "code",
   "execution_count": null,
   "id": "buried-quest",
   "metadata": {
    "tags": []
   },
   "outputs": [],
   "source": [
    "ledger_df.loc[ledger_df['Channel'] == 'Bullseye', 'Tax'] = (\n",
    "    ledger_df.loc[ledger_df['Channel'] == 'Bullseye', 'Total'] * (16 / 100)\n",
    ")"
   ]
  }
 ],
 "metadata": {
  "jupytext": {
   "formats": "ipynb"
  },
  "kernelspec": {
   "display_name": "Python 3",
   "language": "python",
   "name": "python3"
  }
 },
 "nbformat": 4,
 "nbformat_minor": 5
}

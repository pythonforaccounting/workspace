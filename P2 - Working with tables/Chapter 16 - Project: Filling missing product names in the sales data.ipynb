{
 "cells": [
  {
   "cell_type": "markdown",
   "id": "musical-variance",
   "metadata": {},
   "source": [
    "\n",
    "# Project: Filling missing product names in the sales data"
   ]
  },
  {
   "cell_type": "code",
   "execution_count": null,
   "id": "auburn-italian",
   "metadata": {
    "tags": []
   },
   "outputs": [],
   "source": [
    "import pandas as pd\n",
    "\n",
    "sales_df = pd.concat(pd.read_excel('Q1Sales.xlsx', sheet_name=None), ignore_index=True)\n",
    "products_df = pd.read_csv('products.csv')"
   ]
  },
  {
   "cell_type": "code",
   "execution_count": null,
   "id": "controlling-glory",
   "metadata": {
    "tags": []
   },
   "outputs": [],
   "source": [
    "pd.read_excel('Q1Sales.xlsx', sheet_name=None)"
   ]
  },
  {
   "cell_type": "code",
   "execution_count": null,
   "id": "national-shadow",
   "metadata": {
    "tags": []
   },
   "outputs": [],
   "source": [
    "sales_df.isna().sum()"
   ]
  },
  {
   "cell_type": "code",
   "execution_count": null,
   "id": "indonesian-minimum",
   "metadata": {
    "tags": []
   },
   "outputs": [],
   "source": [
    "products_df.isna().sum()"
   ]
  },
  {
   "cell_type": "code",
   "execution_count": null,
   "id": "declared-amount",
   "metadata": {
    "tags": []
   },
   "outputs": [],
   "source": [
    "products_df = products_df[['ProductID', 'Product Name']]"
   ]
  },
  {
   "cell_type": "code",
   "execution_count": null,
   "id": "acknowledged-wagon",
   "metadata": {
    "tags": []
   },
   "outputs": [],
   "source": [
    "sales_df['ProductID'].isin(products_df['ProductID'])"
   ]
  },
  {
   "cell_type": "code",
   "execution_count": null,
   "id": "satisfied-astrology",
   "metadata": {
    "tags": []
   },
   "outputs": [],
   "source": [
    "sales_df['ProductID'].isin(products_df['ProductID']).all()"
   ]
  },
  {
   "cell_type": "code",
   "execution_count": null,
   "id": "prerequisite-canada",
   "metadata": {
    "tags": []
   },
   "outputs": [],
   "source": [
    "pd.merge(\n",
    "    sales_df,\n",
    "    products_df,\n",
    "    on='ProductID',\n",
    "    suffixes=['-Sales', '-Products'],\n",
    "    validate='many_to_one'\n",
    ")"
   ]
  },
  {
   "cell_type": "code",
   "execution_count": null,
   "id": "moved-potato",
   "metadata": {
    "tags": []
   },
   "outputs": [],
   "source": [
    "sales_df = pd.merge(\n",
    "    sales_df,\n",
    "    products_df,\n",
    "    on='ProductID',\n",
    "    suffixes=['-Sales', '-Products'],\n",
    "    validate='many_to_one'\n",
    ")"
   ]
  },
  {
   "cell_type": "code",
   "execution_count": null,
   "id": "alone-sugar",
   "metadata": {
    "tags": []
   },
   "outputs": [],
   "source": [
    "def combine_product_names(row):\n",
    "    if pd.notna(row['Product Name-Sales']):\n",
    "        return row['Product Name-Sales']\n",
    "    else:\n",
    "        return row['Product Name-Products']"
   ]
  },
  {
   "cell_type": "code",
   "execution_count": null,
   "id": "nutritional-motor",
   "metadata": {
    "tags": []
   },
   "outputs": [],
   "source": [
    "sales_df.apply(combine_product_names, axis='columns')"
   ]
  },
  {
   "cell_type": "code",
   "execution_count": null,
   "id": "retained-hepatitis",
   "metadata": {
    "tags": []
   },
   "outputs": [],
   "source": [
    "sales_df['Product Name'] = sales_df.apply(combine_product_names, axis='columns')\n",
    "sales_df = sales_df.drop(['Product Name-Sales', 'Product Name-Products'], axis='columns')"
   ]
  },
  {
   "cell_type": "code",
   "execution_count": null,
   "id": "valuable-harassment",
   "metadata": {
    "tags": []
   },
   "outputs": [],
   "source": [
    "sales_df.isna().sum()"
   ]
  },
  {
   "cell_type": "code",
   "execution_count": null,
   "id": "familiar-yacht",
   "metadata": {
    "tags": []
   },
   "outputs": [],
   "source": [
    "with pd.ExcelWriter('Q1SalesClean.xlsx') as outfile:\n",
    "    for month_name in sales_df['Date'].dt.month_name().unique():\n",
    "        sheet_df = sales_df[sales_df['Date'].dt.month_name() == month_name]    \n",
    "        sheet_df.to_excel(outfile, sheet_name=month_name, index=False)"
   ]
  }
 ],
 "metadata": {
  "jupytext": {
   "formats": "ipynb"
  },
  "kernelspec": {
   "display_name": "Python 3",
   "language": "python",
   "name": "python3"
  }
 },
 "nbformat": 4,
 "nbformat_minor": 5
}

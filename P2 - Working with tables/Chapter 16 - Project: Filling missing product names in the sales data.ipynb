{
 "cells": [
  {
   "cell_type": "markdown",
   "id": "ceramic-veteran",
   "metadata": {},
   "source": [
    "\n",
    "# Project: Filling missing product names in the sales data"
   ]
  },
  {
   "cell_type": "code",
   "execution_count": null,
   "id": "selected-karma",
   "metadata": {
    "tags": []
   },
   "outputs": [],
   "source": [
    "import pandas as pd\n",
    "\n",
    "sales_df = pd.concat(pd.read_excel('Q1Sales.xlsx', sheet_name=None), ignore_index=True)\n",
    "products_df = pd.read_csv('products.csv')"
   ]
  },
  {
   "cell_type": "code",
   "execution_count": null,
   "id": "viral-protection",
   "metadata": {
    "tags": []
   },
   "outputs": [],
   "source": [
    "pd.read_excel('Q1Sales.xlsx', sheet_name=None)"
   ]
  },
  {
   "cell_type": "code",
   "execution_count": null,
   "id": "chinese-spencer",
   "metadata": {
    "tags": []
   },
   "outputs": [],
   "source": [
    "sales_df.isna().sum()"
   ]
  },
  {
   "cell_type": "code",
   "execution_count": null,
   "id": "veterinary-indication",
   "metadata": {
    "tags": []
   },
   "outputs": [],
   "source": [
    "products_df.isna().sum()"
   ]
  },
  {
   "cell_type": "code",
   "execution_count": null,
   "id": "looking-thickness",
   "metadata": {
    "tags": []
   },
   "outputs": [],
   "source": [
    "products_df = products_df[['ProductID', 'Product Name']]"
   ]
  },
  {
   "cell_type": "code",
   "execution_count": null,
   "id": "whole-generator",
   "metadata": {
    "tags": []
   },
   "outputs": [],
   "source": [
    "sales_df['ProductID'].isin(products_df['ProductID'])"
   ]
  },
  {
   "cell_type": "code",
   "execution_count": null,
   "id": "departmental-beast",
   "metadata": {
    "tags": []
   },
   "outputs": [],
   "source": [
    "sales_df['ProductID'].isin(products_df['ProductID']).all()"
   ]
  },
  {
   "cell_type": "code",
   "execution_count": null,
   "id": "electoral-tunisia",
   "metadata": {
    "tags": []
   },
   "outputs": [],
   "source": [
    "pd.merge(\n",
    "    sales_df,\n",
    "    products_df,\n",
    "    on='ProductID',\n",
    "    suffixes=['-Sales', '-Products'],\n",
    "    validate='many_to_one'\n",
    ")"
   ]
  },
  {
   "cell_type": "code",
   "execution_count": null,
   "id": "english-newton",
   "metadata": {
    "tags": []
   },
   "outputs": [],
   "source": [
    "sales_df = pd.merge(\n",
    "    sales_df,\n",
    "    products_df,\n",
    "    on='ProductID',\n",
    "    suffixes=['-Sales', '-Products'],\n",
    "    validate='many_to_one'\n",
    ")"
   ]
  },
  {
   "cell_type": "code",
   "execution_count": null,
   "id": "meaningful-anderson",
   "metadata": {
    "tags": []
   },
   "outputs": [],
   "source": [
    "def combine_product_names(row):\n",
    "    if pd.notna(row['Product Name-Sales']):\n",
    "        return row['Product Name-Sales']\n",
    "    else:\n",
    "        return row['Product Name-Products']"
   ]
  },
  {
   "cell_type": "code",
   "execution_count": null,
   "id": "designed-scratch",
   "metadata": {
    "tags": []
   },
   "outputs": [],
   "source": [
    "sales_df.apply(combine_product_names, axis='columns')"
   ]
  },
  {
   "cell_type": "code",
   "execution_count": null,
   "id": "frozen-telescope",
   "metadata": {
    "tags": []
   },
   "outputs": [],
   "source": [
    "sales_df['Product Name'] = sales_df.apply(combine_product_names, axis='columns')\n",
    "sales_df = sales_df.drop(['Product Name-Sales', 'Product Name-Products'], axis='columns')"
   ]
  },
  {
   "cell_type": "code",
   "execution_count": null,
   "id": "fresh-vitamin",
   "metadata": {
    "tags": []
   },
   "outputs": [],
   "source": [
    "sales_df.isna().sum()"
   ]
  },
  {
   "cell_type": "code",
   "execution_count": null,
   "id": "acoustic-process",
   "metadata": {
    "tags": []
   },
   "outputs": [],
   "source": [
    "with pd.ExcelWriter('Q1SalesClean.xlsx') as outfile:\n",
    "    for month_name in sales_df['Date'].dt.month_name().unique():\n",
    "        sheet_df = sales_df[sales_df['Date'].dt.month_name() == month_name]    \n",
    "        sheet_df.to_excel(outfile, sheet_name=month_name, index=False)"
   ]
  }
 ],
 "metadata": {
  "jupytext": {
   "formats": "ipynb"
  },
  "kernelspec": {
   "display_name": "Python 3",
   "language": "python",
   "name": "python3"
  }
 },
 "nbformat": 4,
 "nbformat_minor": 5
}

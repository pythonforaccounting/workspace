{
 "cells": [
  {
   "cell_type": "markdown",
   "id": "oriented-gibson",
   "metadata": {},
   "source": [
    "\n",
    "# Project: Filling missing product names in the sales data"
   ]
  },
  {
   "cell_type": "code",
   "execution_count": null,
   "id": "dirty-worse",
   "metadata": {
    "tags": []
   },
   "outputs": [],
   "source": [
    "import pandas as pd\n",
    "\n",
    "sales_df = pd.concat(pd.read_excel('Q1Sales.xlsx', sheet_name=None), ignore_index=True)\n",
    "products_df = pd.read_csv('products.csv')"
   ]
  },
  {
   "cell_type": "code",
   "execution_count": null,
   "id": "needed-element",
   "metadata": {
    "tags": []
   },
   "outputs": [],
   "source": [
    "pd.read_excel('Q1Sales.xlsx', sheet_name=None)"
   ]
  },
  {
   "cell_type": "code",
   "execution_count": null,
   "id": "auburn-proposition",
   "metadata": {
    "tags": []
   },
   "outputs": [],
   "source": [
    "sales_df.isna().sum()"
   ]
  },
  {
   "cell_type": "code",
   "execution_count": null,
   "id": "naked-volume",
   "metadata": {
    "tags": []
   },
   "outputs": [],
   "source": [
    "products_df.isna().sum()"
   ]
  },
  {
   "cell_type": "code",
   "execution_count": null,
   "id": "contrary-combining",
   "metadata": {
    "tags": []
   },
   "outputs": [],
   "source": [
    "products_df = products_df[['ProductID', 'Product Name']]"
   ]
  },
  {
   "cell_type": "code",
   "execution_count": null,
   "id": "recreational-spice",
   "metadata": {
    "tags": []
   },
   "outputs": [],
   "source": [
    "sales_df['ProductID'].isin(products_df['ProductID'])"
   ]
  },
  {
   "cell_type": "code",
   "execution_count": null,
   "id": "magnetic-enterprise",
   "metadata": {
    "tags": []
   },
   "outputs": [],
   "source": [
    "sales_df['ProductID'].isin(products_df['ProductID']).all()"
   ]
  },
  {
   "cell_type": "code",
   "execution_count": null,
   "id": "through-jonathan",
   "metadata": {
    "tags": []
   },
   "outputs": [],
   "source": [
    "pd.merge(\n",
    "    sales_df,\n",
    "    products_df,\n",
    "    on='ProductID',\n",
    "    suffixes=['-Sales', '-Products'],\n",
    "    validate='many_to_one'\n",
    ")"
   ]
  },
  {
   "cell_type": "code",
   "execution_count": null,
   "id": "animated-credits",
   "metadata": {
    "tags": []
   },
   "outputs": [],
   "source": [
    "sales_df = pd.merge(\n",
    "    sales_df,\n",
    "    products_df,\n",
    "    on='ProductID',\n",
    "    suffixes=['-Sales', '-Products'],\n",
    "    validate='many_to_one'\n",
    ")"
   ]
  },
  {
   "cell_type": "code",
   "execution_count": null,
   "id": "angry-fourth",
   "metadata": {
    "tags": []
   },
   "outputs": [],
   "source": [
    "def combine_product_names(row):\n",
    "    if pd.notna(row['Product Name-Sales']):\n",
    "        return row['Product Name-Sales']\n",
    "    else:\n",
    "        return row['Product Name-Products']"
   ]
  },
  {
   "cell_type": "code",
   "execution_count": null,
   "id": "pregnant-sally",
   "metadata": {
    "tags": []
   },
   "outputs": [],
   "source": [
    "sales_df.apply(combine_product_names, axis='columns')"
   ]
  },
  {
   "cell_type": "code",
   "execution_count": null,
   "id": "objective-window",
   "metadata": {
    "tags": []
   },
   "outputs": [],
   "source": [
    "sales_df['Product Name'] = sales_df.apply(combine_product_names, axis='columns')\n",
    "sales_df = sales_df.drop(['Product Name-Sales', 'Product Name-Products'], axis='columns')"
   ]
  },
  {
   "cell_type": "code",
   "execution_count": null,
   "id": "prospective-supplier",
   "metadata": {
    "tags": []
   },
   "outputs": [],
   "source": [
    "sales_df.isna().sum()"
   ]
  },
  {
   "cell_type": "code",
   "execution_count": null,
   "id": "illegal-portland",
   "metadata": {
    "tags": []
   },
   "outputs": [],
   "source": [
    "with pd.ExcelWriter('Q1SalesClean.xlsx') as outfile:\n",
    "    for month_name in sales_df['Date'].dt.month_name().unique():\n",
    "        sheet_df = sales_df[sales_df['Date'].dt.month_name() == month_name]    \n",
    "        sheet_df.to_excel(outfile, sheet_name=month_name, index=False)"
   ]
  }
 ],
 "metadata": {
  "jupytext": {
   "formats": "ipynb"
  },
  "kernelspec": {
   "display_name": "Python 3",
   "language": "python",
   "name": "python3"
  }
 },
 "nbformat": 4,
 "nbformat_minor": 5
}

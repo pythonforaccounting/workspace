{
 "cells": [
  {
   "cell_type": "markdown",
   "id": "defensive-damage",
   "metadata": {},
   "source": [
    "\n",
    "# Project: Filling missing product names in the sales data"
   ]
  },
  {
   "cell_type": "code",
   "execution_count": null,
   "id": "accompanied-packet",
   "metadata": {
    "tags": []
   },
   "outputs": [],
   "source": [
    "import pandas as pd\n",
    "\n",
    "sales_df = pd.concat(pd.read_excel('Q1Sales.xlsx', sheet_name=None), ignore_index=True)\n",
    "products_df = pd.read_csv('products.csv')"
   ]
  },
  {
   "cell_type": "code",
   "execution_count": null,
   "id": "electric-growth",
   "metadata": {
    "tags": []
   },
   "outputs": [],
   "source": [
    "pd.read_excel('Q1Sales.xlsx', sheet_name=None)"
   ]
  },
  {
   "cell_type": "code",
   "execution_count": null,
   "id": "classical-termination",
   "metadata": {
    "tags": []
   },
   "outputs": [],
   "source": [
    "sales_df.isna().sum()"
   ]
  },
  {
   "cell_type": "code",
   "execution_count": null,
   "id": "sublime-authority",
   "metadata": {
    "tags": []
   },
   "outputs": [],
   "source": [
    "products_df.isna().sum()"
   ]
  },
  {
   "cell_type": "code",
   "execution_count": null,
   "id": "revolutionary-moses",
   "metadata": {
    "tags": []
   },
   "outputs": [],
   "source": [
    "products_df = products_df[['ProductID', 'Product Name']]"
   ]
  },
  {
   "cell_type": "code",
   "execution_count": null,
   "id": "pleased-shame",
   "metadata": {
    "tags": []
   },
   "outputs": [],
   "source": [
    "sales_df['ProductID'].isin(products_df['ProductID'])"
   ]
  },
  {
   "cell_type": "code",
   "execution_count": null,
   "id": "infinite-straight",
   "metadata": {
    "tags": []
   },
   "outputs": [],
   "source": [
    "sales_df['ProductID'].isin(products_df['ProductID']).all()"
   ]
  },
  {
   "cell_type": "code",
   "execution_count": null,
   "id": "corresponding-tractor",
   "metadata": {
    "tags": []
   },
   "outputs": [],
   "source": [
    "pd.merge(\n",
    "    sales_df,\n",
    "    products_df,\n",
    "    on='ProductID',\n",
    "    suffixes=['-Sales', '-Products'],\n",
    "    validate='many_to_one'\n",
    ")"
   ]
  },
  {
   "cell_type": "code",
   "execution_count": null,
   "id": "digital-document",
   "metadata": {
    "tags": []
   },
   "outputs": [],
   "source": [
    "sales_df = pd.merge(\n",
    "    sales_df,\n",
    "    products_df,\n",
    "    on='ProductID',\n",
    "    suffixes=['-Sales', '-Products'],\n",
    "    validate='many_to_one'\n",
    ")"
   ]
  },
  {
   "cell_type": "code",
   "execution_count": null,
   "id": "positive-preparation",
   "metadata": {
    "tags": []
   },
   "outputs": [],
   "source": [
    "def combine_product_names(row):\n",
    "    if pd.notna(row['Product Name-Sales']):\n",
    "        return row['Product Name-Sales']\n",
    "    else:\n",
    "        return row['Product Name-Products']"
   ]
  },
  {
   "cell_type": "code",
   "execution_count": null,
   "id": "upper-stupid",
   "metadata": {
    "tags": []
   },
   "outputs": [],
   "source": [
    "sales_df.apply(combine_product_names, axis='columns')"
   ]
  },
  {
   "cell_type": "code",
   "execution_count": null,
   "id": "editorial-absolute",
   "metadata": {
    "tags": []
   },
   "outputs": [],
   "source": [
    "sales_df['Product Name'] = sales_df.apply(combine_product_names, axis='columns')\n",
    "sales_df = sales_df.drop(['Product Name-Sales', 'Product Name-Products'], axis='columns')"
   ]
  },
  {
   "cell_type": "code",
   "execution_count": null,
   "id": "seven-right",
   "metadata": {
    "tags": []
   },
   "outputs": [],
   "source": [
    "sales_df.isna().sum()"
   ]
  },
  {
   "cell_type": "code",
   "execution_count": null,
   "id": "still-victory",
   "metadata": {
    "tags": []
   },
   "outputs": [],
   "source": [
    "with pd.ExcelWriter('Q1SalesClean.xlsx') as outfile:\n",
    "    for month_name in sales_df['Date'].dt.month_name().unique():\n",
    "        sheet_df = sales_df[sales_df['Date'].dt.month_name() == month_name]    \n",
    "        sheet_df.to_excel(outfile, sheet_name=month_name, index=False)"
   ]
  }
 ],
 "metadata": {
  "jupytext": {
   "formats": "ipynb"
  },
  "kernelspec": {
   "display_name": "Python 3",
   "language": "python",
   "name": "python3"
  }
 },
 "nbformat": 4,
 "nbformat_minor": 5
}

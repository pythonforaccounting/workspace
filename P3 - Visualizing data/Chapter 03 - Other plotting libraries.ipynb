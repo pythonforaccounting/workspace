{
 "cells": [
  {
   "cell_type": "markdown",
   "id": "smart-import",
   "metadata": {},
   "source": [
    "\n",
    "# Other plotting libraries"
   ]
  },
  {
   "cell_type": "code",
   "execution_count": null,
   "id": "expensive-convertible",
   "metadata": {
    "tags": []
   },
   "outputs": [],
   "source": [
    "import pandas as pd\n",
    "\n",
    "daily_sales_df = pd.read_csv('Q1DailySales.csv', parse_dates=['Date'])\n",
    "daily_sales_df = daily_sales_df.set_index('Date')\n",
    "\n",
    "daily_sales_df"
   ]
  },
  {
   "cell_type": "markdown",
   "id": "flying-booking",
   "metadata": {},
   "source": [
    "## Plotting with pandas"
   ]
  },
  {
   "cell_type": "code",
   "execution_count": null,
   "id": "looking-fraud",
   "metadata": {
    "tags": []
   },
   "outputs": [],
   "source": [
    "daily_sales_df.plot()"
   ]
  },
  {
   "cell_type": "code",
   "execution_count": null,
   "id": "polished-edwards",
   "metadata": {
    "tags": []
   },
   "outputs": [],
   "source": [
    "ax = daily_sales_df.plot()\n",
    "\n",
    "ax.legend(bbox_to_anchor=(1, 1), loc='upper left');"
   ]
  },
  {
   "cell_type": "markdown",
   "id": "rapid-currency",
   "metadata": {},
   "source": [
    "### Different kinds of pandas plots"
   ]
  },
  {
   "cell_type": "code",
   "execution_count": null,
   "id": "medical-survival",
   "metadata": {
    "tags": []
   },
   "outputs": [],
   "source": [
    "(daily_sales_df\n",
    "    .plot\n",
    "    .scatter(\n",
    "        x='iBay.com', y='Understock.com', \n",
    "        marker='o', s=200, \n",
    "        color='white', edgecolor='black'\n",
    "    )\n",
    ")"
   ]
  },
  {
   "cell_type": "markdown",
   "id": "patent-initial",
   "metadata": {},
   "source": [
    "## Plotting with seaborn"
   ]
  },
  {
   "cell_type": "code",
   "execution_count": null,
   "id": "contemporary-baseline",
   "metadata": {
    "tags": []
   },
   "outputs": [],
   "source": [
    "import seaborn as sns"
   ]
  },
  {
   "cell_type": "code",
   "execution_count": null,
   "id": "handed-poultry",
   "metadata": {
    "tags": []
   },
   "outputs": [],
   "source": [
    "sns.pairplot(daily_sales_df[['iBay.com', 'Understock.com', 'Shoppe.com']])"
   ]
  },
  {
   "cell_type": "code",
   "execution_count": null,
   "id": "written-respect",
   "metadata": {
    "tags": []
   },
   "outputs": [],
   "source": [
    "grid = sns.pairplot(daily_sales_df[['iBay.com', 'Understock.com', 'Shoppe.com']])\n",
    "\n",
    "grid.axes"
   ]
  },
  {
   "cell_type": "code",
   "execution_count": null,
   "id": "headed-spyware",
   "metadata": {
    "tags": []
   },
   "outputs": [],
   "source": [
    "grid = sns.pairplot(daily_sales_df[['iBay.com', 'Understock.com', 'Shoppe.com']])\n",
    "\n",
    "first_row = grid.axes[0]\n",
    "first_row[0].set_title('First')\n",
    "first_row[1].set_title('Second')\n",
    "first_row[2].set_title('Third');"
   ]
  },
  {
   "cell_type": "markdown",
   "id": "welcome-bloom",
   "metadata": {},
   "source": [
    "## Using matplotlib, pandas and seaborn together"
   ]
  },
  {
   "cell_type": "code",
   "execution_count": null,
   "id": "single-theme",
   "metadata": {
    "tags": []
   },
   "outputs": [],
   "source": [
    "import matplotlib.pyplot as plt\n",
    "\n",
    "fig = plt.figure(figsize=(12, 6))\n",
    "ax_left = fig.add_subplot(1, 2, 1) # rows, columns, position\n",
    "ax_right = fig.add_subplot(1, 2, 2)"
   ]
  },
  {
   "cell_type": "code",
   "execution_count": null,
   "id": "protecting-deposit",
   "metadata": {
    "tags": []
   },
   "outputs": [],
   "source": [
    "fig, (ax_left, ax_right) = plt.subplots(1, 2, figsize=(12, 6))"
   ]
  },
  {
   "cell_type": "code",
   "execution_count": null,
   "id": "passing-climate",
   "metadata": {
    "tags": []
   },
   "outputs": [],
   "source": [
    "fig, grid = plt.subplots(3, 3, figsize=(12, 6))"
   ]
  },
  {
   "cell_type": "code",
   "execution_count": null,
   "id": "blond-navigator",
   "metadata": {
    "tags": []
   },
   "outputs": [],
   "source": [
    "grid"
   ]
  },
  {
   "cell_type": "code",
   "execution_count": null,
   "id": "thick-source",
   "metadata": {
    "tags": []
   },
   "outputs": [],
   "source": [
    "fig, grid = plt.subplots(3, 3, figsize=(12, 6))\n",
    "\n",
    "ax_top_left = grid[0][0]\n",
    "ax_mid_center = grid[1][1]\n",
    "ax_bottom_right = grid[2][2]\n",
    "\n",
    "ax_top_left.plot([1, 2, 3], [1, 2, 3], linewidth=10, color='tomato')\n",
    "ax_mid_center.scatter([1, 2, 3], [1, 2, 3], s=300, color='gold')\n",
    "ax_bottom_right.bar(['a', 'b', 'c'], [1, 2, 3], color='purple')"
   ]
  },
  {
   "cell_type": "code",
   "execution_count": null,
   "id": "removable-simpson",
   "metadata": {
    "tags": []
   },
   "outputs": [],
   "source": [
    "fig, (ax_left, ax_right) = plt.subplots(1, 2, figsize=(12, 6))\n",
    "\n",
    "# pandas plot on the left\n",
    "daily_sales_df.plot(\n",
    "    ax=ax_left,\n",
    "    legend='reverse'\n",
    ")\n",
    "\n",
    "# seaborn plot on the right\n",
    "sns.regplot(\n",
    "    ax=ax_right,\n",
    "    data=daily_sales_df,\n",
    "    x='iBay.com',\n",
    "    y='Understock.com'\n",
    ")"
   ]
  },
  {
   "cell_type": "markdown",
   "id": "beneficial-valley",
   "metadata": {},
   "source": [
    "## Overthinking: Interactive plots\n",
    "\n",
    "### Interactive sales plot"
   ]
  },
  {
   "cell_type": "code",
   "execution_count": null,
   "id": "sonic-stations",
   "metadata": {
    "tags": []
   },
   "outputs": [],
   "source": [
    "import hvplot.pandas"
   ]
  },
  {
   "cell_type": "code",
   "execution_count": null,
   "id": "plastic-cutting",
   "metadata": {
    "tags": []
   },
   "outputs": [],
   "source": [
    "daily_sales_df.hvplot(\n",
    "    kind='line',\n",
    "    width=800, \n",
    "    height=400, \n",
    "    title='Q1 total daily sales'\n",
    ")"
   ]
  }
 ],
 "metadata": {
  "jupytext": {
   "formats": "ipynb"
  },
  "kernelspec": {
   "display_name": "Python 3",
   "language": "python",
   "name": "python3"
  }
 },
 "nbformat": 4,
 "nbformat_minor": 5
}

{
 "cells": [
  {
   "cell_type": "markdown",
   "id": "overhead-henry",
   "metadata": {},
   "source": [
    "\n",
    "# Project: Making a waterfall plot from a cash flow statement"
   ]
  },
  {
   "cell_type": "code",
   "execution_count": null,
   "id": "expressed-listing",
   "metadata": {
    "tags": []
   },
   "outputs": [],
   "source": [
    "import pandas as pd\n",
    "import matplotlib.pyplot as plt"
   ]
  },
  {
   "cell_type": "code",
   "execution_count": null,
   "id": "voluntary-mechanism",
   "metadata": {
    "tags": []
   },
   "outputs": [],
   "source": [
    "df = pd.read_excel('Cash Flow Statement.xlsx')\n",
    "\n",
    "df"
   ]
  },
  {
   "cell_type": "code",
   "execution_count": null,
   "id": "connected-differential",
   "metadata": {
    "tags": []
   },
   "outputs": [],
   "source": [
    "df.loc[2]"
   ]
  },
  {
   "cell_type": "code",
   "execution_count": null,
   "id": "certified-malpractice",
   "metadata": {
    "tags": []
   },
   "outputs": [],
   "source": [
    "df.loc[3]"
   ]
  },
  {
   "cell_type": "code",
   "execution_count": null,
   "id": "split-plastic",
   "metadata": {
    "tags": []
   },
   "outputs": [],
   "source": [
    "df = df.loc[[2, 3, 11, 43, 44]]\n",
    "\n",
    "df"
   ]
  },
  {
   "cell_type": "code",
   "execution_count": null,
   "id": "velvet-intake",
   "metadata": {
    "tags": []
   },
   "outputs": [],
   "source": [
    "df = df.transpose().dropna().reset_index(drop=True)\n",
    "\n",
    "df"
   ]
  },
  {
   "cell_type": "code",
   "execution_count": null,
   "id": "private-regard",
   "metadata": {
    "tags": []
   },
   "outputs": [],
   "source": [
    "df.columns = [\n",
    "    'Month', 'Beginning Cash Balance', 'Total Cash Inflow', \n",
    "    'Total Cash Outflow', 'Ending Cash Balance'\n",
    "]\n",
    "\n",
    "df"
   ]
  },
  {
   "cell_type": "code",
   "execution_count": null,
   "id": "freelance-edwards",
   "metadata": {
    "tags": []
   },
   "outputs": [],
   "source": [
    "df['Total Cash Outflow'] = df['Total Cash Outflow'] * (-1)"
   ]
  },
  {
   "cell_type": "code",
   "execution_count": null,
   "id": "wrapped-routine",
   "metadata": {
    "tags": []
   },
   "outputs": [],
   "source": [
    "df['Ending Cash Balance'] == (\n",
    "    df['Beginning Cash Balance']\n",
    "    + df['Total Cash Inflow'] \n",
    "    - df['Total Cash Outflow']\n",
    ")"
   ]
  },
  {
   "cell_type": "code",
   "execution_count": null,
   "id": "acknowledged-family",
   "metadata": {
    "tags": []
   },
   "outputs": [],
   "source": [
    "fig = plt.figure(figsize=(12, 6))\n",
    "ax = fig.add_subplot()"
   ]
  },
  {
   "cell_type": "code",
   "execution_count": null,
   "id": "awful-warrant",
   "metadata": {
    "tags": []
   },
   "outputs": [],
   "source": [
    "# you get the same Figure and Axes variables as before \n",
    "# with the code below, but in one line of code\n",
    "fig, ax = plt.subplots(1, 1, figsize=(12, 6))\n",
    "\n",
    "ax.bar(df.index, \n",
    "       df['Total Cash Inflow'], \n",
    "       color='green')"
   ]
  },
  {
   "cell_type": "code",
   "execution_count": null,
   "id": "robust-smile",
   "metadata": {
    "tags": []
   },
   "outputs": [],
   "source": [
    "fig, ax = plt.subplots(1, 1, figsize=(12, 6))\n",
    "\n",
    "ax.bar(df.index, \n",
    "       df['Total Cash Inflow'], \n",
    "       bottom=df['Beginning Cash Balance'],\n",
    "       color='green')"
   ]
  },
  {
   "cell_type": "code",
   "execution_count": null,
   "id": "loved-nebraska",
   "metadata": {
    "tags": []
   },
   "outputs": [],
   "source": [
    "fig, ax = plt.subplots(1, 1, figsize=(12, 6))\n",
    "\n",
    "ax.bar(df.index, \n",
    "       df['Total Cash Inflow'], \n",
    "       bottom=df['Beginning Cash Balance'],\n",
    "       color='green')\n",
    "\n",
    "ax.bar(df.index, \n",
    "       df['Total Cash Outflow'], \n",
    "       bottom=df['Ending Cash Balance'],\n",
    "       color='red')"
   ]
  },
  {
   "cell_type": "code",
   "execution_count": null,
   "id": "sixth-delivery",
   "metadata": {
    "tags": []
   },
   "outputs": [],
   "source": [
    "fig, ax = plt.subplots(1, 1, figsize=(12, 6))\n",
    "\n",
    "bar_width = 0.4\n",
    "\n",
    "ax.bar(df.index - bar_width, \n",
    "       df['Total Cash Inflow'], \n",
    "       bottom=df['Beginning Cash Balance'],\n",
    "       color='green',\n",
    "       width=bar_width,\n",
    "       label='Monthly Cash Inflow')\n",
    "\n",
    "ax.bar(df.index,  \n",
    "       df['Total Cash Outflow'], \n",
    "       bottom=df['Ending Cash Balance'],\n",
    "       color='red',\n",
    "       width=bar_width,\n",
    "       label='Monthly Cash Outflow')"
   ]
  },
  {
   "cell_type": "code",
   "execution_count": null,
   "id": "unable-registrar",
   "metadata": {
    "tags": []
   },
   "outputs": [],
   "source": [
    "ax.set_ylim([-75000, 220000])"
   ]
  },
  {
   "cell_type": "code",
   "execution_count": null,
   "id": "certified-weapon",
   "metadata": {
    "tags": []
   },
   "outputs": [],
   "source": [
    "xticks = df.index\n",
    "xticklabels = df['Month']\n",
    "\n",
    "ax.set_xticks(xticks)\n",
    "ax.set_xticklabels(xticklabels);"
   ]
  },
  {
   "cell_type": "code",
   "execution_count": null,
   "id": "adult-bowling",
   "metadata": {
    "tags": []
   },
   "outputs": [],
   "source": [
    "yticks = range(-75000, 225000, 25000)\n",
    "yticklabels = [f'{ytick:,}' for ytick in yticks]\n",
    "\n",
    "ax.set_yticks(yticks)\n",
    "ax.set_yticklabels(yticklabels)"
   ]
  },
  {
   "cell_type": "code",
   "execution_count": null,
   "id": "clinical-cabin",
   "metadata": {
    "tags": []
   },
   "outputs": [],
   "source": [
    "ax.grid(axis='y', alpha=0.5)\n",
    "ax.set_axisbelow(True)"
   ]
  },
  {
   "cell_type": "code",
   "execution_count": null,
   "id": "completed-mining",
   "metadata": {
    "tags": []
   },
   "outputs": [],
   "source": [
    "ax.set_title('Year one cashflow', loc='left');\n",
    "ax.legend(loc='lower right');"
   ]
  },
  {
   "cell_type": "code",
   "execution_count": null,
   "id": "available-liverpool",
   "metadata": {
    "tags": []
   },
   "outputs": [],
   "source": [
    "for index, row in df.iterrows():    \n",
    "    \n",
    "    beginning_balance = row['Beginning Cash Balance']\n",
    "    ending_balance = row['Ending Cash Balance']\n",
    "    inflow = row['Total Cash Inflow']\n",
    "\n",
    "    annotation_x = index - bar_width / 2\n",
    "    annotation_y = beginning_balance + inflow + 2000\n",
    "    \n",
    "    ax.annotate(f\"{ending_balance:,}\", \n",
    "                xy=(annotation_x, annotation_y),\n",
    "                horizontalalignment='center')\n",
    "    \n",
    "    if index < 11:\n",
    "        ax.hlines(ending_balance, \n",
    "                  index - bar_width / 2, \n",
    "                  index + 2 * bar_width, \n",
    "                  color='black', linewidth=1, linestyle='dashed')"
   ]
  },
  {
   "cell_type": "code",
   "execution_count": null,
   "id": "genuine-anniversary",
   "metadata": {
    "tags": []
   },
   "outputs": [],
   "source": [
    "fig, ax = plt.subplots(1, 1, figsize=(12, 5.5))\n",
    "\n",
    "# Adding the main plot elements\n",
    "bar_width = 0.4\n",
    "ax.bar(df.index - bar_width, \n",
    "       df['Total Cash Inflow'], \n",
    "       bottom=df['Beginning Cash Balance'],\n",
    "       color='green',\n",
    "       width=bar_width,\n",
    "       label='Monthly Cash Inflow')\n",
    "\n",
    "ax.bar(df.index,  \n",
    "       df['Total Cash Outflow'], \n",
    "       bottom=df['Ending Cash Balance'],\n",
    "       color='red',\n",
    "       width=bar_width,\n",
    "       label='Monthly Cash Outflow')\n",
    "\n",
    "# Styling the plot\n",
    "ax.set_ylim([-75000, 220000])\n",
    "\n",
    "xticks = df.index\n",
    "xticklabels = df['Month'].unique()\n",
    "\n",
    "ax.set_xticks(xticks)\n",
    "ax.set_xticklabels(xticklabels)\n",
    "\n",
    "yticks = range(-75000, 225000, 25000)\n",
    "yticklabels = [f'{ytick:,}' for ytick in yticks]\n",
    "\n",
    "ax.set_yticks(yticks)\n",
    "ax.set_yticklabels(yticklabels)\n",
    "\n",
    "ax.grid(axis='y', alpha=0.5)\n",
    "ax.set_axisbelow(True)\n",
    "\n",
    "ax.set_title('Year one cashflow', loc='left')\n",
    "ax.legend(loc='lower right')\n",
    "\n",
    "# Adding text annotation and lines\n",
    "for index, row in df.iterrows():    \n",
    "    \n",
    "    beginning_balance = row['Beginning Cash Balance']\n",
    "    ending_balance = row['Ending Cash Balance']\n",
    "    inflow = row['Total Cash Inflow']\n",
    "    \n",
    "    ax.annotate(f\"{ending_balance:,}\", \n",
    "                xy=(index - bar_width / 2, beginning_balance + inflow + 2000),\n",
    "                horizontalalignment='center')\n",
    "    \n",
    "    if index <= 10:\n",
    "        ax.hlines(ending_balance, \n",
    "                  index - bar_width / 2, \n",
    "                  index + 2 * bar_width, \n",
    "                  color='black', linewidth=1, linestyle='dashed')"
   ]
  }
 ],
 "metadata": {
  "jupytext": {
   "formats": "ipynb"
  },
  "kernelspec": {
   "display_name": "Python 3",
   "language": "python",
   "name": "python3"
  }
 },
 "nbformat": 4,
 "nbformat_minor": 5
}

{
 "cells": [
  {
   "cell_type": "markdown",
   "metadata": {},
   "source": [
    "\n",
    "# Project: Making a waterfall plot from a cash flow statement"
   ]
  },
  {
   "cell_type": "code",
   "execution_count": null,
   "metadata": {},
   "outputs": [],
   "source": [
    "import pandas as pd\n",
    "import matplotlib.pyplot as plt"
   ]
  },
  {
   "cell_type": "code",
   "execution_count": null,
   "metadata": {},
   "outputs": [],
   "source": [
    "df = pd.read_excel('../../code/data/CashFlowStatement.xlsx')\n",
    "\n",
    "plot_df = df.loc[[2, 3, 11, 43, 44], :].transpose().dropna().reset_index(drop=True)\n",
    "plot_df.columns = ['Month', 'Beginning Balance', 'Inflow', 'Outflow', 'Ending Balance']\n",
    "plot_df = plot_df.loc[:11, :]\n",
    "\n",
    "plot_df['Outflow'] = plot_df['Outflow'] * (-1)"
   ]
  },
  {
   "cell_type": "code",
   "execution_count": null,
   "metadata": {},
   "outputs": [],
   "source": [
    "plot_df"
   ]
  },
  {
   "cell_type": "code",
   "execution_count": null,
   "metadata": {},
   "outputs": [],
   "source": [
    "fig, ax = plt.subplots(1, 1, figsize=(12, 6))\n",
    "\n",
    "width = 0.45\n",
    "ax.bar(plot_df.index - width / 2, plot_df['Inflow'], bottom=plot_df['Beginning Balance'], color='green', width=width, label='Inflow')\n",
    "ax.bar(plot_df.index + width / 2, plot_df['Outflow'], bottom=plot_df['Ending Balance'], color='red', width=width, label='Outflow')\n",
    "\n",
    "for index, row in plot_df.iterrows():    \n",
    "    ax.annotate(f\"{row['Ending Balance']:,}\", \n",
    "                xy=(index, (row['Beginning Balance'] + row['Inflow']) + 2000),\n",
    "                horizontalalignment='center')\n",
    "    \n",
    "    if index <= 10:\n",
    "        ax.hlines(row['Ending Balance'], index, index + 1, \n",
    "                  color='black', linewidth=1, linestyle='dashed')\n",
    "        \n",
    "\n",
    "ax.set_ylim([-75000, 220000])\n",
    "\n",
    "xticks = range(plot_df['Month'].nunique())\n",
    "xticklabels = plot_df['Month'].unique()\n",
    "\n",
    "ax.set_xticks(xticks)\n",
    "ax.set_xticklabels(xticklabels);\n",
    "\n",
    "yticks = range(-75000, 225000, 25000)\n",
    "yticklabels = [f'{ytick:,}' for ytick in yticks]\n",
    "\n",
    "ax.set_yticks(yticks)\n",
    "ax.set_yticklabels(yticklabels)\n",
    "\n",
    "ax.grid(axis='y', alpha=0.5)\n",
    "ax.set_axisbelow(True)\n",
    "\n",
    "ax.set_title('Yearly cashflow', loc='left');\n",
    "ax.legend(loc='lower right');"
   ]
  }
 ],
 "metadata": {
  "jupytext": {
   "formats": "ipynb"
  },
  "kernelspec": {
   "display_name": "Python 3",
   "language": "python",
   "name": "python3"
  }
 },
 "nbformat": 4,
 "nbformat_minor": 4
}

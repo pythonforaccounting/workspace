{
 "cells": [
  {
   "cell_type": "markdown",
   "id": "assumed-problem",
   "metadata": {},
   "source": [
    "\n",
    "# Plotting with matplotlib\n",
    "\n",
    "## Elements of a matplotlib plot\n",
    "\n",
    "## Plotting basics"
   ]
  },
  {
   "cell_type": "code",
   "execution_count": null,
   "id": "three-resolution",
   "metadata": {
    "tags": []
   },
   "outputs": [],
   "source": [
    "import pandas as pd\n",
    "import matplotlib.pyplot as plt"
   ]
  },
  {
   "cell_type": "code",
   "execution_count": null,
   "id": "military-biotechnology",
   "metadata": {
    "tags": []
   },
   "outputs": [],
   "source": [
    "daily_sales_df = pd.read_csv('Q1DailySales.csv')\n",
    "daily_sales_df['Date'] = pd.to_datetime(daily_sales_df['Date'])\n",
    "\n",
    "daily_sales_df.head()"
   ]
  },
  {
   "cell_type": "markdown",
   "id": "laden-debut",
   "metadata": {},
   "source": [
    "### Figure and Axes"
   ]
  },
  {
   "cell_type": "code",
   "execution_count": null,
   "id": "federal-cigarette",
   "metadata": {
    "tags": []
   },
   "outputs": [],
   "source": [
    "fig = plt.figure()"
   ]
  },
  {
   "cell_type": "code",
   "execution_count": null,
   "id": "developed-fiber",
   "metadata": {
    "tags": []
   },
   "outputs": [],
   "source": [
    "fig = plt.figure()\n",
    "ax = fig.add_subplot()"
   ]
  },
  {
   "cell_type": "code",
   "execution_count": null,
   "id": "historic-leadership",
   "metadata": {
    "tags": []
   },
   "outputs": [],
   "source": [
    "fig = plt.figure(figsize=(12, 6))\n",
    "ax = fig.add_subplot()"
   ]
  },
  {
   "cell_type": "markdown",
   "id": "neither-supply",
   "metadata": {},
   "source": [
    "### Plotting data"
   ]
  },
  {
   "cell_type": "code",
   "execution_count": null,
   "id": "express-attitude",
   "metadata": {
    "tags": []
   },
   "outputs": [],
   "source": [
    "fig = plt.figure(figsize=(12, 6))\n",
    "ax = fig.add_subplot()\n",
    "\n",
    "ax.plot([1, 2, 3], [2, 4, 4], color='red', linewidth=4)"
   ]
  },
  {
   "cell_type": "markdown",
   "id": "dominant-correction",
   "metadata": {},
   "source": [
    "#### Plotting sales data"
   ]
  },
  {
   "cell_type": "code",
   "execution_count": null,
   "id": "statewide-jenny",
   "metadata": {
    "tags": []
   },
   "outputs": [],
   "source": [
    "fig = plt.figure(figsize=(12, 6))\n",
    "ax = fig.add_subplot()\n",
    "\n",
    "ax.plot(daily_sales_df['Date'], daily_sales_df['Bullseye'])"
   ]
  },
  {
   "cell_type": "code",
   "execution_count": null,
   "id": "noted-camel",
   "metadata": {
    "tags": []
   },
   "outputs": [],
   "source": [
    "fig = plt.figure(figsize=(12, 6))\n",
    "ax = fig.add_subplot()\n",
    "\n",
    "ax.plot(daily_sales_df['Date'], daily_sales_df['Bullseye'])\n",
    "ax.plot(daily_sales_df['Date'], daily_sales_df['Walcart'])"
   ]
  },
  {
   "cell_type": "code",
   "execution_count": null,
   "id": "tropical-blade",
   "metadata": {
    "tags": []
   },
   "outputs": [],
   "source": [
    "fig = plt.figure(figsize=(12, 6))\n",
    "ax = fig.add_subplot()\n",
    "\n",
    "ax.plot(daily_sales_df['Date'], daily_sales_df['Understock.com'])\n",
    "ax.plot(daily_sales_df['Date'], daily_sales_df['Shoppe.com'])\n",
    "ax.plot(daily_sales_df['Date'], daily_sales_df['iBay.com'])\n",
    "ax.plot(daily_sales_df['Date'], daily_sales_df['Walcart'])\n",
    "ax.plot(daily_sales_df['Date'], daily_sales_df['Bullseye'])"
   ]
  },
  {
   "cell_type": "code",
   "execution_count": null,
   "id": "scenic-crime",
   "metadata": {
    "tags": []
   },
   "outputs": [],
   "source": [
    "fig = plt.figure(figsize=(12, 6))\n",
    "ax = fig.add_subplot()\n",
    "\n",
    "ax.plot(daily_sales_df.set_index('Date'))"
   ]
  },
  {
   "cell_type": "code",
   "execution_count": null,
   "id": "pediatric-equation",
   "metadata": {
    "tags": []
   },
   "outputs": [],
   "source": [
    "daily_sales_df = daily_sales_df.set_index('Date')"
   ]
  },
  {
   "cell_type": "markdown",
   "id": "amended-universal",
   "metadata": {},
   "source": [
    "## Adjusting plot details\n",
    "\n",
    "### Title and axis labels"
   ]
  },
  {
   "cell_type": "code",
   "execution_count": null,
   "id": "boxed-frequency",
   "metadata": {
    "tags": []
   },
   "outputs": [],
   "source": [
    "fig = plt.figure(figsize=(12, 6))\n",
    "ax = fig.add_subplot()\n",
    "\n",
    "ax.plot(daily_sales_df)\n",
    "\n",
    "ax.set_title('Daily Sales Q12020', loc='left', pad=10)\n",
    "ax.set_xlabel('Date')\n",
    "ax.set_ylabel('Revenue (USD)');"
   ]
  },
  {
   "cell_type": "markdown",
   "id": "desirable-nylon",
   "metadata": {},
   "source": [
    "### Ticks and tick labels"
   ]
  },
  {
   "cell_type": "code",
   "execution_count": null,
   "id": "rural-dividend",
   "metadata": {
    "tags": []
   },
   "outputs": [],
   "source": [
    "# an easier way to get this list of dates\n",
    "# is by using pandas's date_range function\n",
    "# pd.date_range('01 January 2020', \n",
    "#               '1 April 2020', freq='MS')\n",
    "\n",
    "xtick_values = [\n",
    "    pd.Timestamp('2020-01-01'), pd.Timestamp('2020-02-01'),\n",
    "    pd.Timestamp('2020-03-01'), pd.Timestamp('2020-04-01')\n",
    "]"
   ]
  },
  {
   "cell_type": "code",
   "execution_count": null,
   "id": "printable-stage",
   "metadata": {
    "tags": []
   },
   "outputs": [],
   "source": [
    "fig = plt.figure(figsize=(12, 6))\n",
    "ax = fig.add_subplot()\n",
    "\n",
    "ax.plot(daily_sales_df)\n",
    "\n",
    "xtick_values = [\n",
    "    pd.Timestamp('2020-01-01'), pd.Timestamp('2020-02-01'),\n",
    "    pd.Timestamp('2020-03-01'), pd.Timestamp('2020-04-01')\n",
    "]\n",
    "\n",
    "ax.set_xticks(xtick_values)"
   ]
  },
  {
   "cell_type": "code",
   "execution_count": null,
   "id": "funny-breach",
   "metadata": {
    "tags": []
   },
   "outputs": [],
   "source": [
    "xtick_labels = [date.strftime('%a %d/%m') for date in xtick_values]\n",
    "\n",
    "xtick_labels"
   ]
  },
  {
   "cell_type": "code",
   "execution_count": null,
   "id": "printable-refund",
   "metadata": {
    "tags": []
   },
   "outputs": [],
   "source": [
    "fig = plt.figure(figsize=(12, 6))\n",
    "ax = fig.add_subplot()\n",
    "\n",
    "ax.plot(daily_sales_df)\n",
    "\n",
    "xtick_values = pd.date_range('01 January 2020', '1 April 2020', freq='MS')\n",
    "xtick_labels = [date.strftime('%a %d/%m') for date in xtick_values]\n",
    "\n",
    "ax.set_xticks(xtick_values)\n",
    "ax.set_xticklabels(xtick_labels);"
   ]
  },
  {
   "cell_type": "code",
   "execution_count": null,
   "id": "rental-falls",
   "metadata": {
    "tags": []
   },
   "outputs": [],
   "source": [
    "ytick_values = range(0, 60001, 10000)\n",
    "ytick_labels = [f'{value:,.2f}' for value in ytick_values]\n",
    "\n",
    "ax.set_yticks(ytick_values)\n",
    "ax.set_yticklabels(ytick_labels);"
   ]
  },
  {
   "cell_type": "code",
   "execution_count": null,
   "id": "fifty-welding",
   "metadata": {
    "tags": []
   },
   "outputs": [],
   "source": [
    "ytick_minor_values = range(0, 60001, 2000)\n",
    "ax.set_yticks(ytick_minor_values, minor=True);"
   ]
  },
  {
   "cell_type": "code",
   "execution_count": null,
   "id": "bearing-tongue",
   "metadata": {
    "tags": []
   },
   "outputs": [],
   "source": [
    "ax.tick_params(axis='both', which='major', length=10)\n",
    "ax.tick_params(axis='y', which='minor', length=4)"
   ]
  },
  {
   "cell_type": "code",
   "execution_count": null,
   "id": "round-empty",
   "metadata": {
    "tags": []
   },
   "outputs": [],
   "source": [
    "ax.grid(axis='both', which='major', linestyle='dotted', alpha=0.5);"
   ]
  },
  {
   "cell_type": "markdown",
   "id": "bridal-scott",
   "metadata": {},
   "source": [
    "#### Legend"
   ]
  },
  {
   "cell_type": "code",
   "execution_count": null,
   "id": "polished-invitation",
   "metadata": {
    "tags": []
   },
   "outputs": [],
   "source": [
    "ax.legend(daily_sales_df.columns);"
   ]
  },
  {
   "cell_type": "code",
   "execution_count": null,
   "id": "weighted-victor",
   "metadata": {
    "tags": []
   },
   "outputs": [],
   "source": [
    "ax.legend(daily_sales_df.columns, loc='upper left');"
   ]
  },
  {
   "cell_type": "code",
   "execution_count": null,
   "id": "subjective-poker",
   "metadata": {
    "tags": []
   },
   "outputs": [],
   "source": [
    "ax.legend(\n",
    "    daily_sales_df.columns,\n",
    "    title='Channel', frameon=False,\n",
    "    loc='upper left', bbox_to_anchor=(1, 1)\n",
    ");"
   ]
  },
  {
   "cell_type": "markdown",
   "id": "fluid-hometown",
   "metadata": {},
   "source": [
    "#### Annotations"
   ]
  },
  {
   "cell_type": "code",
   "execution_count": null,
   "id": "dependent-swing",
   "metadata": {
    "tags": []
   },
   "outputs": [],
   "source": [
    "event_date = pd.Timestamp(2020, 2, 11)\n",
    "\n",
    "ax.axvline(event_date, linestyle='dashed', color='red')\n",
    "ax.annotate(' Understock sale event', xy=(event_date, 50000), color='red');"
   ]
  },
  {
   "cell_type": "markdown",
   "id": "painful-giant",
   "metadata": {},
   "source": [
    "#### The complete sales plot"
   ]
  },
  {
   "cell_type": "code",
   "execution_count": null,
   "id": "metropolitan-constant",
   "metadata": {
    "tags": []
   },
   "outputs": [],
   "source": [
    "fig = plt.figure(figsize=(12, 6))\n",
    "ax = fig.add_subplot()\n",
    "\n",
    "# Plot data\n",
    "ax.plot(daily_sales_df)\n",
    "\n",
    "# Plot title\n",
    "ax.set_title('Daily Sales Q12020', loc='left', pad=10)\n",
    "\n",
    "# Axis labels\n",
    "ax.set_xlabel('Date') \n",
    "ax.set_ylabel('Revenue (USD)')\n",
    "\n",
    "# Add legend\n",
    "ax.legend(\n",
    "    daily_sales_df.columns,\n",
    "    title='Channel', frameon=False,\n",
    "    loc='upper left', bbox_to_anchor=(1, 1)\n",
    ")\n",
    "\n",
    "# Add x-ticks and x-tick labels\n",
    "xtick_values = pd.date_range('1 January 2020', '1 April 2020', freq='MS')\n",
    "xtick_labels = [date.strftime('%a %d/%m') for date in xtick_values]\n",
    "\n",
    "ax.set_xticks(xtick_values)\n",
    "ax.set_xticklabels(xtick_labels)\n",
    "\n",
    "# Add y-ticks and y-tick labels\n",
    "ytick_values = range(0, 60001, 10000)\n",
    "ytick_labels = [f'{value:,.2f}' for value in ytick_values]\n",
    "\n",
    "ax.set_yticks(ytick_values)\n",
    "ax.set_yticklabels(ytick_labels)\n",
    "\n",
    "yticks_minor_values = range(0, 60001, 2000)\n",
    "ax.set_yticks(yticks_minor_values, minor=True)\n",
    "\n",
    "# Configure tick length\n",
    "ax.tick_params(axis='both', which='major', length=10)\n",
    "ax.tick_params(axis='y', which='minor', length=4)\n",
    "\n",
    "# Add grid\n",
    "ax.grid(axis='both', which='major', linestyle='dotted', alpha=0.5);\n",
    "\n",
    "# Add sales event annotation\n",
    "event_date = pd.Timestamp(2020, 2, 11)\n",
    "ax.axvline(event_date, linestyle='dashed', color='red')\n",
    "ax.annotate('  Understock sale event', xy=(event_date, 50000), color='red');"
   ]
  },
  {
   "cell_type": "markdown",
   "id": "infectious-temperature",
   "metadata": {},
   "source": [
    "### Overthinking: Saving a plot"
   ]
  },
  {
   "cell_type": "code",
   "execution_count": null,
   "id": "returning-driving",
   "metadata": {
    "tags": []
   },
   "outputs": [],
   "source": [
    "fig.savefig('Q1DailySales.png')"
   ]
  },
  {
   "cell_type": "markdown",
   "id": "romance-creator",
   "metadata": {},
   "source": [
    "## Overthinking: Styles, colors, and fonts"
   ]
  },
  {
   "cell_type": "code",
   "execution_count": null,
   "id": "pharmaceutical-qatar",
   "metadata": {
    "tags": []
   },
   "outputs": [],
   "source": [
    "import matplotlib.pyplot as plt\n",
    "\n",
    "plt.style.available"
   ]
  },
  {
   "cell_type": "code",
   "execution_count": null,
   "id": "composite-laugh",
   "metadata": {
    "tags": []
   },
   "outputs": [],
   "source": [
    "import matplotlib.pyplot as plt\n",
    "\n",
    "plt.style.use('fivethirtyeight')"
   ]
  },
  {
   "cell_type": "markdown",
   "id": "sexual-dylan",
   "metadata": {},
   "source": [
    "### Modifying styles"
   ]
  },
  {
   "cell_type": "code",
   "execution_count": null,
   "id": "sorted-liverpool",
   "metadata": {
    "tags": []
   },
   "outputs": [],
   "source": [
    "plt.rcParams"
   ]
  },
  {
   "cell_type": "code",
   "execution_count": null,
   "id": "classical-modem",
   "metadata": {
    "tags": []
   },
   "outputs": [],
   "source": [
    "plt.rcParams['axes.labelcolor'] "
   ]
  },
  {
   "cell_type": "code",
   "execution_count": null,
   "id": "useful-glance",
   "metadata": {
    "tags": []
   },
   "outputs": [],
   "source": [
    "plt.rcParams['legend.labelspacing'] = 2"
   ]
  },
  {
   "cell_type": "code",
   "execution_count": null,
   "id": "above-marijuana",
   "metadata": {
    "tags": []
   },
   "outputs": [],
   "source": []
  },
  {
   "cell_type": "code",
   "execution_count": null,
   "id": "acquired-finance",
   "metadata": {
    "tags": [
     "allowerror"
    ]
   },
   "outputs": [],
   "source": [
    "plt.rcParams['axes.titlesize'] = 'not too small, not too big'"
   ]
  },
  {
   "cell_type": "code",
   "execution_count": null,
   "id": "center-check",
   "metadata": {
    "tags": []
   },
   "outputs": [],
   "source": [
    "plt.rcdefaults()"
   ]
  },
  {
   "cell_type": "markdown",
   "id": "adverse-twins",
   "metadata": {},
   "source": [
    "### Colors"
   ]
  },
  {
   "cell_type": "code",
   "execution_count": null,
   "id": "vocal-syria",
   "metadata": {
    "tags": []
   },
   "outputs": [],
   "source": [
    "from cycler import cycler\n",
    "\n",
    "plt.rcParams['axes.prop_cycle'] = cycler(\n",
    "    'color', \n",
    "    ['red', 'blue', 'gray']\n",
    ")"
   ]
  },
  {
   "cell_type": "markdown",
   "id": "isolated-toddler",
   "metadata": {},
   "source": [
    "### Fonts"
   ]
  },
  {
   "cell_type": "code",
   "execution_count": null,
   "id": "lesser-adrian",
   "metadata": {
    "tags": []
   },
   "outputs": [],
   "source": [
    "import matplotlib.pyplot as plt\n",
    "\n",
    "plt.rcParams['font.family'] = 'serif'\n",
    "plt.rcParams['font.serif'] = 'Palatino'\n",
    "plt.rcParams['font.size'] = 18\n",
    "plt.rcParams['font.weight'] = 'normal'\n",
    "plt.rcParams['font.style'] = 'normal'"
   ]
  },
  {
   "cell_type": "code",
   "execution_count": null,
   "id": "local-router",
   "metadata": {
    "tags": []
   },
   "outputs": [],
   "source": []
  },
  {
   "cell_type": "code",
   "execution_count": null,
   "id": "unnecessary-gather",
   "metadata": {
    "tags": []
   },
   "outputs": [],
   "source": [
    "import matplotlib\n",
    "\n",
    "matplotlib.font_manager.fontManager.ttflist"
   ]
  }
 ],
 "metadata": {
  "jupytext": {
   "formats": "ipynb"
  },
  "kernelspec": {
   "display_name": "Python 3",
   "language": "python",
   "name": "python3"
  }
 },
 "nbformat": 4,
 "nbformat_minor": 5
}

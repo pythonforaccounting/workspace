{
 "cells": [
  {
   "cell_type": "markdown",
   "metadata": {},
   "source": [
    "\n",
    "# Interactive plots and dashboards\n",
    "\n",
    "## Interactive sales plot"
   ]
  },
  {
   "cell_type": "code",
   "execution_count": null,
   "metadata": {},
   "outputs": [],
   "source": [
    "import hvplot.pandas"
   ]
  },
  {
   "cell_type": "code",
   "execution_count": null,
   "metadata": {},
   "outputs": [],
   "source": [
    "daily_sales_df.hvplot(\n",
    "    kind='line',\n",
    "    width=800, \n",
    "    height=400, \n",
    "    title='Daily profits in February',\n",
    "    yformatter='%.2f',\n",
    "    rot=30\n",
    ")"
   ]
  },
  {
   "cell_type": "markdown",
   "metadata": {},
   "source": [
    "## Dashboards"
   ]
  },
  {
   "cell_type": "code",
   "execution_count": null,
   "metadata": {},
   "outputs": [],
   "source": [
    "import panel as pn\n",
    "pn.extension()"
   ]
  },
  {
   "cell_type": "code",
   "execution_count": null,
   "metadata": {},
   "outputs": [],
   "source": [
    "daily_profits_plot = daily_sales_df.hvplot(\n",
    "    width=700, \n",
    "    height=400, \n",
    "    title='Daily profits in February',\n",
    "    yformatter='%.2f',\n",
    "    rot=30\n",
    ")"
   ]
  },
  {
   "cell_type": "code",
   "execution_count": null,
   "metadata": {},
   "outputs": [],
   "source": [
    "relationships_plot = sns.pairplot(\n",
    "    data=daily_sales_df,\n",
    "    vars=['iBay.com', 'Shoppe.com', 'Understock.com'],\n",
    "    kind='reg',\n",
    "    markers='+'\n",
    ")"
   ]
  },
  {
   "cell_type": "code",
   "execution_count": null,
   "metadata": {},
   "outputs": [],
   "source": [
    "dashboard = pn.Column(\n",
    "    '# Daily profits',\n",
    "    pn.Row(daily_profits_plot),\n",
    "    '# Channel relationships',\n",
    "    pn.Row(relationships_plot.fig)\n",
    ")"
   ]
  },
  {
   "cell_type": "code",
   "execution_count": null,
   "metadata": {},
   "outputs": [],
   "source": [
    "dashboard.save('Sales dashboard.html')"
   ]
  }
 ],
 "metadata": {
  "jupytext": {
   "formats": "ipynb"
  },
  "kernelspec": {
   "display_name": "Python 3",
   "language": "python",
   "name": "python3"
  }
 },
 "nbformat": 4,
 "nbformat_minor": 4
}

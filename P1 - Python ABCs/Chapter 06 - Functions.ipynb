{
 "cells": [
  {
   "cell_type": "markdown",
   "id": "southwest-appeal",
   "metadata": {},
   "source": [
    "\n",
    "# Functions\n",
    "\n",
    "## Defining functions"
   ]
  },
  {
   "cell_type": "code",
   "execution_count": null,
   "id": "concrete-toyota",
   "metadata": {
    "tags": []
   },
   "outputs": [],
   "source": [
    "def print_book_info():\n",
    "    print('Python for Accounting')"
   ]
  },
  {
   "cell_type": "code",
   "execution_count": null,
   "id": "introductory-upgrade",
   "metadata": {
    "tags": []
   },
   "outputs": [],
   "source": [
    "print_book_info()\n",
    "print_book_info()\n",
    "print_book_info()"
   ]
  },
  {
   "cell_type": "markdown",
   "id": "immediate-width",
   "metadata": {},
   "source": [
    "## Parameters and arguments"
   ]
  },
  {
   "cell_type": "code",
   "execution_count": null,
   "id": "southwest-findings",
   "metadata": {
    "tags": []
   },
   "outputs": [],
   "source": [
    "def print_book_info(title):\n",
    "    print(\"Book title: \" + title)\n",
    "\n",
    "print_book_info(\"Python for Accounting\")"
   ]
  },
  {
   "cell_type": "markdown",
   "id": "humanitarian-dialogue",
   "metadata": {},
   "source": [
    "### Keyword arguments"
   ]
  },
  {
   "cell_type": "code",
   "execution_count": null,
   "id": "portuguese-economy",
   "metadata": {
    "tags": []
   },
   "outputs": [],
   "source": [
    "def print_book_info(title, subtitle):\n",
    "    print(\"Book title: \" + title)\n",
    "    print(\"Book subtitle: \" + subtitle)\n",
    "\n",
    "print_book_info(title=\"Python for Accounting\", subtitle=\"A modern guide to Python!\")"
   ]
  },
  {
   "cell_type": "code",
   "execution_count": null,
   "id": "pointed-afternoon",
   "metadata": {
    "tags": []
   },
   "outputs": [],
   "source": [
    "print_book_info(title=\"Python for Accounting\", subtitle=\"A modern guide to Python!\")\n",
    "print_book_info(subtitle=\"A modern guide to Python!\", title=\"Python for Accounting\")"
   ]
  },
  {
   "cell_type": "markdown",
   "id": "sophisticated-modem",
   "metadata": {},
   "source": [
    "### Positional arguments"
   ]
  },
  {
   "cell_type": "code",
   "execution_count": null,
   "id": "provincial-integration",
   "metadata": {
    "tags": []
   },
   "outputs": [],
   "source": [
    "def print_book_info(title, subtitle):\n",
    "    print(\"Book title: \" + title) \n",
    "    print(\"Book subtitle: \" + subtitle)\n",
    "\n",
    "print_book_info(\"Python for Accounting\", \"A modern guide to Python!\")"
   ]
  },
  {
   "cell_type": "markdown",
   "id": "certified-commons",
   "metadata": {},
   "source": [
    "### Default values"
   ]
  },
  {
   "cell_type": "code",
   "execution_count": null,
   "id": "guilty-strip",
   "metadata": {
    "tags": []
   },
   "outputs": [],
   "source": [
    "def print_book_info(title, subtitle=\"Default subtitle\"):\n",
    "    print('Book title: ' + title) \n",
    "    print('Book subtitle: ' + subtitle)\n",
    "\n",
    "my_book_title = \"Python for Accounting\"\n",
    "print_book_info(my_book_title)"
   ]
  },
  {
   "cell_type": "code",
   "execution_count": null,
   "id": "sufficient-tokyo",
   "metadata": {
    "tags": [
     "allowerror"
    ]
   },
   "outputs": [],
   "source": [
    "def print_book_info(title='Python for Accounting', subtitle):\n",
    "    print('Book title: ' + title + ', book subtitle: ' + subtitle)"
   ]
  },
  {
   "cell_type": "code",
   "execution_count": null,
   "id": "partial-syracuse",
   "metadata": {
    "tags": []
   },
   "outputs": [],
   "source": [
    "def print_book_info(title, subtitle='A modern guide to Python!'):\n",
    "    print('Book title: ' + title + ', book subtitle: ' + subtitle)\n",
    "\n",
    "print_book_info(\"Python for Accounting\")\n",
    "print_book_info(\"Python for Accounting\", \"A modern guide to Python!\")\n",
    "print_book_info(\"Python for Accounting\", subtitle=\"A modern guide to Python!\")\n",
    "print_book_info(title=\"Python for Accounting\", subtitle=\"A modern guide to Python!\")\n",
    "print_book_info(subtitle=\"A modern guide to Python!\", title=\"Python for Accounting\")"
   ]
  },
  {
   "cell_type": "markdown",
   "id": "honest-embassy",
   "metadata": {},
   "source": [
    "### Argument errors"
   ]
  },
  {
   "cell_type": "code",
   "execution_count": null,
   "id": "moderate-democracy",
   "metadata": {
    "tags": [
     "allowerror"
    ]
   },
   "outputs": [],
   "source": [
    "print_book_info()"
   ]
  },
  {
   "cell_type": "markdown",
   "id": "boolean-kinase",
   "metadata": {},
   "source": [
    "## Return values"
   ]
  },
  {
   "cell_type": "code",
   "execution_count": null,
   "id": "brutal-portable",
   "metadata": {
    "tags": []
   },
   "outputs": [],
   "source": [
    "def get_book_info(title, subtitle):\n",
    "    return \"Book title: \" + title + \", book subtitle: \" + subtitle\n",
    "\n",
    "get_book_info(\"Python for Accounting\", \"A modern guide to Python!\")"
   ]
  },
  {
   "cell_type": "code",
   "execution_count": null,
   "id": "complimentary-accent",
   "metadata": {
    "tags": []
   },
   "outputs": [],
   "source": [
    "book_info = get_book_info(\"Python for Accounting\", \"A modern guide to Python!\")\n",
    "\n",
    "print(book_info)"
   ]
  },
  {
   "cell_type": "code",
   "execution_count": null,
   "id": "changed-paragraph",
   "metadata": {
    "tags": []
   },
   "outputs": [],
   "source": [
    "def get_book_info(title, subtitle):\n",
    "    return title, subtitle "
   ]
  },
  {
   "cell_type": "code",
   "execution_count": null,
   "id": "acoustic-building",
   "metadata": {
    "tags": []
   },
   "outputs": [],
   "source": [
    "get_book_info('Python for Accounting', 'A modern guide to Python!')"
   ]
  },
  {
   "cell_type": "code",
   "execution_count": null,
   "id": "continental-hayes",
   "metadata": {
    "tags": []
   },
   "outputs": [],
   "source": [
    "book_title, book_subtitle = get_book_info(\n",
    "    'Python for Accounting', \n",
    "    'A modern guide to Python!'\n",
    ")\n",
    "\n",
    "print(book_title)\n",
    "print(book_subtitle)"
   ]
  }
 ],
 "metadata": {
  "jupytext": {
   "formats": "ipynb"
  },
  "kernelspec": {
   "display_name": "Python 3",
   "language": "python",
   "name": "python3"
  }
 },
 "nbformat": 4,
 "nbformat_minor": 5
}

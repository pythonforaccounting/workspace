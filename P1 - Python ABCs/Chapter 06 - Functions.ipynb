{
 "cells": [
  {
   "cell_type": "markdown",
   "id": "speaking-scroll",
   "metadata": {},
   "source": [
    "\n",
    "# Functions\n",
    "\n",
    "## Defining functions"
   ]
  },
  {
   "cell_type": "code",
   "execution_count": null,
   "id": "cubic-shuttle",
   "metadata": {
    "tags": []
   },
   "outputs": [],
   "source": [
    "def print_book_info():\n",
    "    print('Python for Accounting')"
   ]
  },
  {
   "cell_type": "code",
   "execution_count": null,
   "id": "accompanied-southeast",
   "metadata": {
    "tags": []
   },
   "outputs": [],
   "source": [
    "print_book_info()\n",
    "print_book_info()\n",
    "print_book_info()"
   ]
  },
  {
   "cell_type": "markdown",
   "id": "difficult-district",
   "metadata": {},
   "source": [
    "## Parameters and arguments"
   ]
  },
  {
   "cell_type": "code",
   "execution_count": null,
   "id": "arabic-filling",
   "metadata": {
    "tags": []
   },
   "outputs": [],
   "source": [
    "def print_book_info(title):\n",
    "    print(\"Book title: \" + title)\n",
    "\n",
    "print_book_info(\"Python for Accounting\")"
   ]
  },
  {
   "cell_type": "markdown",
   "id": "changed-assignment",
   "metadata": {},
   "source": [
    "### Keyword arguments"
   ]
  },
  {
   "cell_type": "code",
   "execution_count": null,
   "id": "clear-adult",
   "metadata": {
    "tags": []
   },
   "outputs": [],
   "source": [
    "def print_book_info(title, subtitle):\n",
    "    print(\"Book title: \" + title)\n",
    "    print(\"Book subtitle: \" + subtitle)\n",
    "\n",
    "print_book_info(title=\"Python for Accounting\", subtitle=\"A modern guide to Python!\")"
   ]
  },
  {
   "cell_type": "code",
   "execution_count": null,
   "id": "binding-commerce",
   "metadata": {
    "tags": []
   },
   "outputs": [],
   "source": [
    "print_book_info(title=\"Python for Accounting\", subtitle=\"A modern guide to Python!\")\n",
    "print_book_info(subtitle=\"A modern guide to Python!\", title=\"Python for Accounting\")"
   ]
  },
  {
   "cell_type": "markdown",
   "id": "fiscal-forestry",
   "metadata": {},
   "source": [
    "### Positional arguments"
   ]
  },
  {
   "cell_type": "code",
   "execution_count": null,
   "id": "modified-introduction",
   "metadata": {
    "tags": []
   },
   "outputs": [],
   "source": [
    "def print_book_info(title, subtitle):\n",
    "    print(\"Book title: \" + title) \n",
    "    print(\"Book subtitle: \" + subtitle)\n",
    "\n",
    "print_book_info(\"Python for Accounting\", \"A modern guide to Python!\")"
   ]
  },
  {
   "cell_type": "markdown",
   "id": "ongoing-andrews",
   "metadata": {},
   "source": [
    "### Default values"
   ]
  },
  {
   "cell_type": "code",
   "execution_count": null,
   "id": "dressed-advance",
   "metadata": {
    "tags": []
   },
   "outputs": [],
   "source": [
    "def print_book_info(title, subtitle=\"Default subtitle\"):\n",
    "    print('Book title: ' + title) \n",
    "    print('Book subtitle: ' + subtitle)\n",
    "\n",
    "my_book_title = \"Python for Accounting\"\n",
    "print_book_info(my_book_title)"
   ]
  },
  {
   "cell_type": "code",
   "execution_count": null,
   "id": "preliminary-tsunami",
   "metadata": {
    "tags": [
     "allowerror"
    ]
   },
   "outputs": [],
   "source": [
    "def print_book_info(title='Python for Accounting', subtitle):\n",
    "    print('Book title: ' + title + ', book subtitle: ' + subtitle)"
   ]
  },
  {
   "cell_type": "code",
   "execution_count": null,
   "id": "defensive-meeting",
   "metadata": {
    "tags": []
   },
   "outputs": [],
   "source": [
    "def print_book_info(title, subtitle='A modern guide to Python!'):\n",
    "    print('Book title: ' + title + ', book subtitle: ' + subtitle)\n",
    "\n",
    "print_book_info(\"Python for Accounting\")\n",
    "print_book_info(\"Python for Accounting\", \"A modern guide to Python!\")\n",
    "print_book_info(\"Python for Accounting\", subtitle=\"A modern guide to Python!\")\n",
    "print_book_info(title=\"Python for Accounting\", subtitle=\"A modern guide to Python!\")\n",
    "print_book_info(subtitle=\"A modern guide to Python!\", title=\"Python for Accounting\")"
   ]
  },
  {
   "cell_type": "markdown",
   "id": "mechanical-account",
   "metadata": {},
   "source": [
    "### Argument errors"
   ]
  },
  {
   "cell_type": "code",
   "execution_count": null,
   "id": "accredited-offer",
   "metadata": {
    "tags": [
     "allowerror"
    ]
   },
   "outputs": [],
   "source": [
    "print_book_info()"
   ]
  },
  {
   "cell_type": "markdown",
   "id": "adapted-convertible",
   "metadata": {},
   "source": [
    "## Return values"
   ]
  },
  {
   "cell_type": "code",
   "execution_count": null,
   "id": "preliminary-underground",
   "metadata": {
    "tags": []
   },
   "outputs": [],
   "source": [
    "def get_book_info(title, subtitle):\n",
    "    return \"Book title: \" + title + \", book subtitle: \" + subtitle\n",
    "\n",
    "get_book_info(\"Python for Accounting\", \"A modern guide to Python!\")"
   ]
  },
  {
   "cell_type": "code",
   "execution_count": null,
   "id": "balanced-charleston",
   "metadata": {
    "tags": []
   },
   "outputs": [],
   "source": [
    "book_info = get_book_info(\"Python for Accounting\", \"A modern guide to Python!\")\n",
    "\n",
    "print(book_info)"
   ]
  },
  {
   "cell_type": "code",
   "execution_count": null,
   "id": "processed-series",
   "metadata": {
    "tags": []
   },
   "outputs": [],
   "source": [
    "def get_book_info(title, subtitle):\n",
    "    return title, subtitle "
   ]
  },
  {
   "cell_type": "code",
   "execution_count": null,
   "id": "demanding-description",
   "metadata": {
    "tags": []
   },
   "outputs": [],
   "source": [
    "get_book_info('Python for Accounting', 'A modern guide to Python!')"
   ]
  },
  {
   "cell_type": "code",
   "execution_count": null,
   "id": "after-catholic",
   "metadata": {
    "tags": []
   },
   "outputs": [],
   "source": [
    "book_title, book_subtitle = get_book_info(\n",
    "    'Python for Accounting', \n",
    "    'A modern guide to Python!'\n",
    ")\n",
    "\n",
    "print(book_title)\n",
    "print(book_subtitle)"
   ]
  }
 ],
 "metadata": {
  "jupytext": {
   "formats": "ipynb"
  },
  "kernelspec": {
   "display_name": "Python 3",
   "language": "python",
   "name": "python3"
  }
 },
 "nbformat": 4,
 "nbformat_minor": 5
}

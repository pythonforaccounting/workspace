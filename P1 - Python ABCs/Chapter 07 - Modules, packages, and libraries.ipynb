{
 "cells": [
  {
   "cell_type": "markdown",
   "id": "ancient-causing",
   "metadata": {},
   "source": [
    "\n",
    "# Modules, packages, and libraries"
   ]
  },
  {
   "cell_type": "code",
   "execution_count": null,
   "id": "mexican-documentation",
   "metadata": {
    "tags": []
   },
   "outputs": [],
   "source": [
    "import pandas as pd"
   ]
  },
  {
   "cell_type": "markdown",
   "id": "regulated-hughes",
   "metadata": {},
   "source": [
    "## Modules and packages"
   ]
  },
  {
   "cell_type": "code",
   "execution_count": null,
   "id": "spiritual-license",
   "metadata": {
    "tags": []
   },
   "outputs": [],
   "source": [
    "def add_numbers(a, b):\n",
    "    return a + b"
   ]
  },
  {
   "cell_type": "code",
   "execution_count": null,
   "id": "dutch-thumb",
   "metadata": {
    "tags": [
     "allowerror"
    ]
   },
   "outputs": [],
   "source": [
    "import my_module"
   ]
  },
  {
   "cell_type": "code",
   "execution_count": null,
   "id": "alert-wilson",
   "metadata": {
    "tags": [
     "allowerror"
    ]
   },
   "outputs": [],
   "source": [
    "my_module.add_numbers(2, 5)"
   ]
  },
  {
   "cell_type": "code",
   "execution_count": null,
   "id": "lined-timing",
   "metadata": {
    "tags": []
   },
   "outputs": [],
   "source": [
    "def add_numbers(a, b):\n",
    "    return a + b\n",
    "\n",
    "def subtract_numbers(a, b):\n",
    "    return a - b"
   ]
  },
  {
   "cell_type": "code",
   "execution_count": null,
   "id": "worth-throw",
   "metadata": {
    "tags": [
     "allowerror"
    ]
   },
   "outputs": [],
   "source": [
    "import my_module \n",
    "\n",
    "my_module.subtract_numbers(2, 5)"
   ]
  },
  {
   "cell_type": "code",
   "execution_count": null,
   "id": "talented-slide",
   "metadata": {
    "tags": [
     "allowerror"
    ]
   },
   "outputs": [],
   "source": [
    "from my_module import add_numbers, subtract_numbers \n",
    "\n",
    "add_numbers(2, 5)"
   ]
  },
  {
   "cell_type": "code",
   "execution_count": null,
   "id": "robust-guarantee",
   "metadata": {
    "tags": [
     "allowerror"
    ]
   },
   "outputs": [],
   "source": [
    "import my_module as mm\n",
    "\n",
    "mm.subtract_numbers(2, 5)"
   ]
  },
  {
   "cell_type": "code",
   "execution_count": null,
   "id": "continental-temple",
   "metadata": {
    "tags": []
   },
   "outputs": [],
   "source": [
    "import pandas as pd"
   ]
  }
 ],
 "metadata": {
  "jupytext": {
   "formats": "ipynb"
  },
  "kernelspec": {
   "display_name": "Python 3",
   "language": "python",
   "name": "python3"
  }
 },
 "nbformat": 4,
 "nbformat_minor": 5
}

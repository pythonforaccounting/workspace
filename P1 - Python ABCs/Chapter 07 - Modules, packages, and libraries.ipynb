{
 "cells": [
  {
   "cell_type": "markdown",
   "id": "transsexual-quantity",
   "metadata": {},
   "source": [
    "\n",
    "# Modules, packages, and libraries"
   ]
  },
  {
   "cell_type": "code",
   "execution_count": null,
   "id": "measured-reproduction",
   "metadata": {
    "tags": []
   },
   "outputs": [],
   "source": [
    "import pandas as pd"
   ]
  },
  {
   "cell_type": "markdown",
   "id": "cubic-trial",
   "metadata": {},
   "source": [
    "## Modules and packages"
   ]
  },
  {
   "cell_type": "code",
   "execution_count": null,
   "id": "foreign-covering",
   "metadata": {
    "tags": []
   },
   "outputs": [],
   "source": [
    "def add_numbers(a, b):\n",
    "    return a + b"
   ]
  },
  {
   "cell_type": "code",
   "execution_count": null,
   "id": "political-cooler",
   "metadata": {
    "tags": [
     "allowerror"
    ]
   },
   "outputs": [],
   "source": [
    "import my_module"
   ]
  },
  {
   "cell_type": "code",
   "execution_count": null,
   "id": "present-submission",
   "metadata": {
    "tags": [
     "allowerror"
    ]
   },
   "outputs": [],
   "source": [
    "my_module.add_numbers(2, 5)"
   ]
  },
  {
   "cell_type": "code",
   "execution_count": null,
   "id": "difficult-special",
   "metadata": {
    "tags": []
   },
   "outputs": [],
   "source": [
    "def add_numbers(a, b):\n",
    "    return a + b\n",
    "\n",
    "def subtract_numbers(a, b):\n",
    "    return a - b"
   ]
  },
  {
   "cell_type": "code",
   "execution_count": null,
   "id": "handed-complex",
   "metadata": {
    "tags": [
     "allowerror"
    ]
   },
   "outputs": [],
   "source": [
    "import my_module \n",
    "\n",
    "my_module.subtract_numbers(2, 5)"
   ]
  },
  {
   "cell_type": "code",
   "execution_count": null,
   "id": "unlike-tooth",
   "metadata": {
    "tags": [
     "allowerror"
    ]
   },
   "outputs": [],
   "source": [
    "from my_module import add_numbers, subtract_numbers \n",
    "\n",
    "add_numbers(2, 5)"
   ]
  },
  {
   "cell_type": "code",
   "execution_count": null,
   "id": "higher-forth",
   "metadata": {
    "tags": [
     "allowerror"
    ]
   },
   "outputs": [],
   "source": [
    "import my_module as mm\n",
    "\n",
    "mm.subtract_numbers(2, 5)"
   ]
  },
  {
   "cell_type": "code",
   "execution_count": null,
   "id": "lesbian-simple",
   "metadata": {
    "tags": []
   },
   "outputs": [],
   "source": [
    "import pandas as pd"
   ]
  }
 ],
 "metadata": {
  "jupytext": {
   "formats": "ipynb"
  },
  "kernelspec": {
   "display_name": "Python 3",
   "language": "python",
   "name": "python3"
  }
 },
 "nbformat": 4,
 "nbformat_minor": 5
}

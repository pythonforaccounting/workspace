{
 "cells": [
  {
   "cell_type": "markdown",
   "id": "unlikely-bacteria",
   "metadata": {},
   "source": [
    "\n",
    "# How to find help\n",
    "\n",
    "## Jupyter notebook helpers"
   ]
  },
  {
   "cell_type": "code",
   "execution_count": null,
   "id": "growing-pathology",
   "metadata": {
    "tags": [
     "allowerror"
    ]
   },
   "outputs": [],
   "source": [
    "message = 'hello, python for accounting!'\n",
    "\n",
    "message.title?"
   ]
  },
  {
   "cell_type": "code",
   "execution_count": null,
   "id": "corresponding-thomson",
   "metadata": {
    "tags": [
     "allowerror"
    ]
   },
   "outputs": [],
   "source": [
    "message = 'hello, python for accounting!'\n",
    "\n",
    "message."
   ]
  }
 ],
 "metadata": {
  "jupytext": {
   "formats": "ipynb"
  },
  "kernelspec": {
   "display_name": "Python 3",
   "language": "python",
   "name": "python3"
  }
 },
 "nbformat": 4,
 "nbformat_minor": 5
}

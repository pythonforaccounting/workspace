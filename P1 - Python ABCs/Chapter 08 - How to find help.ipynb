{
 "cells": [
  {
   "cell_type": "markdown",
   "id": "bulgarian-cocktail",
   "metadata": {},
   "source": [
    "\n",
    "# How to find help\n",
    "\n",
    "## Jupyter notebook helpers"
   ]
  },
  {
   "cell_type": "code",
   "execution_count": null,
   "id": "understood-publication",
   "metadata": {
    "tags": [
     "allowerror"
    ]
   },
   "outputs": [],
   "source": [
    "message = 'hello, python for accounting!'\n",
    "\n",
    "message.title?"
   ]
  },
  {
   "cell_type": "code",
   "execution_count": null,
   "id": "worldwide-ocean",
   "metadata": {
    "tags": [
     "allowerror"
    ]
   },
   "outputs": [],
   "source": [
    "message = 'hello, python for accounting!'\n",
    "\n",
    "message."
   ]
  }
 ],
 "metadata": {
  "jupytext": {
   "formats": "ipynb"
  },
  "kernelspec": {
   "display_name": "Python 3",
   "language": "python",
   "name": "python3"
  }
 },
 "nbformat": 4,
 "nbformat_minor": 5
}

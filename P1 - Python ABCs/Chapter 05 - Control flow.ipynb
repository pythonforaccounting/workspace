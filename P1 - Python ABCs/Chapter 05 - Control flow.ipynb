{
 "cells": [
  {
   "cell_type": "markdown",
   "id": "historical-funeral",
   "metadata": {},
   "source": [
    "\n",
    "# Control flow\n",
    "\n",
    "## If-else statements"
   ]
  },
  {
   "cell_type": "code",
   "execution_count": null,
   "id": "surgical-recipient",
   "metadata": {
    "tags": []
   },
   "outputs": [],
   "source": [
    "x = 42\n",
    "\n",
    "if x > 0:\n",
    "    print('x is positive')\n",
    "elif x < 0:\n",
    "    print('x is negative')\n",
    "elif x == 0:\n",
    "    print('x is zero')\n",
    "    print('x is neither negative nor positive')\n",
    "else:\n",
    "    print('not sure what x is')"
   ]
  },
  {
   "cell_type": "code",
   "execution_count": null,
   "id": "straight-magnet",
   "metadata": {
    "tags": []
   },
   "outputs": [],
   "source": [
    "if x > 0:\n",
    "    print('x is positive')"
   ]
  },
  {
   "cell_type": "code",
   "execution_count": null,
   "id": "regulated-giving",
   "metadata": {
    "tags": [
     "allowerror"
    ]
   },
   "outputs": [],
   "source": [
    "x = 42\n",
    "\n",
    "if x < 0:\n",
    "print('x is negative')"
   ]
  },
  {
   "cell_type": "markdown",
   "id": "committed-infrastructure",
   "metadata": {},
   "source": [
    "## Loops"
   ]
  },
  {
   "cell_type": "code",
   "execution_count": null,
   "id": "solved-tissue",
   "metadata": {
    "tags": []
   },
   "outputs": [],
   "source": [
    "for i in [1, 2, 3, 4, 5]:\n",
    "    if i % 2 == 0:\n",
    "        print(f'{i} is even')\n",
    "    else:\n",
    "        print(f'{i} is odd')"
   ]
  },
  {
   "cell_type": "code",
   "execution_count": null,
   "id": "identical-cleaners",
   "metadata": {
    "tags": []
   },
   "outputs": [],
   "source": [
    "accounts = ['Assets', 'Equity', 'Income', 'Expenses']\n",
    "\n",
    "for account in accounts:\n",
    "    print(account)"
   ]
  },
  {
   "cell_type": "code",
   "execution_count": null,
   "id": "administrative-recognition",
   "metadata": {
    "tags": []
   },
   "outputs": [],
   "source": [
    "company_accounts = [\n",
    "    {'name': 'Assets', 'value': 12000},\n",
    "    {'name': 'Income', 'value': 20100},\n",
    "    {'name': 'Expenses', 'value': -10300},\n",
    "]\n",
    "\n",
    "for current_account in company_accounts:\n",
    "    print(\"Account name: \" + current_account['name'])\n",
    "    print(\"Account value: \" + str(current_account['value']))\n",
    "    print()\n",
    "\n",
    "print(\"Printed all accounts!\")"
   ]
  },
  {
   "cell_type": "markdown",
   "id": "acoustic-republican",
   "metadata": {},
   "source": [
    "### Overthinking: while loops"
   ]
  },
  {
   "cell_type": "code",
   "execution_count": null,
   "id": "fluid-experience",
   "metadata": {
    "tags": []
   },
   "outputs": [],
   "source": [
    "counter = 0\n",
    "\n",
    "while (counter < 5):\n",
    "    print(counter)\n",
    "    counter = counter + 1"
   ]
  },
  {
   "cell_type": "markdown",
   "id": "swedish-fleet",
   "metadata": {},
   "source": [
    "### Overthinking: break"
   ]
  },
  {
   "cell_type": "code",
   "execution_count": null,
   "id": "spectacular-april",
   "metadata": {
    "tags": []
   },
   "outputs": [],
   "source": [
    "accounts = ['Assets', 'Equity', 'Income', 'Expenses']\n",
    "\n",
    "for account in accounts:\n",
    "    if account.startswith('I'):\n",
    "        print('Account name starts with I: ' + account)\n",
    "        break\n",
    "\n",
    "    print('Account name does not start with I: ' + account)\n"
   ]
  },
  {
   "cell_type": "markdown",
   "id": "reverse-spice",
   "metadata": {},
   "source": [
    "## List comprehensions"
   ]
  },
  {
   "cell_type": "code",
   "execution_count": null,
   "id": "intense-cemetery",
   "metadata": {
    "tags": []
   },
   "outputs": [],
   "source": [
    "numbers = [-11, 9, 3, -2, 0, -3, 18]\n",
    "\n",
    "[n for n in numbers if n < 0]"
   ]
  },
  {
   "cell_type": "code",
   "execution_count": null,
   "id": "sustained-simon",
   "metadata": {
    "tags": []
   },
   "outputs": [],
   "source": [
    "squares = [i**2 for i in [2, 3, 4, 5]]\n",
    "\n",
    "squares"
   ]
  },
  {
   "cell_type": "code",
   "execution_count": null,
   "id": "severe-exhaust",
   "metadata": {
    "tags": []
   },
   "outputs": [],
   "source": [
    "fresh_fruit = ['apple', 'banana', 'blueberry', 'kiwi', 'orange']\n",
    "\n",
    "[fruit.capitalize() for fruit in fresh_fruit]"
   ]
  },
  {
   "cell_type": "code",
   "execution_count": null,
   "id": "authorized-dairy",
   "metadata": {
    "tags": []
   },
   "outputs": [],
   "source": [
    "[fruit for fruit in fresh_fruit if fruit.startswith('b')]"
   ]
  }
 ],
 "metadata": {
  "jupytext": {
   "formats": "ipynb"
  },
  "kernelspec": {
   "display_name": "Python 3",
   "language": "python",
   "name": "python3"
  }
 },
 "nbformat": 4,
 "nbformat_minor": 5
}

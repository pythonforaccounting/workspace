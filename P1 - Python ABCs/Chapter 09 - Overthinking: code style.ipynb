{
 "cells": [
  {
   "cell_type": "markdown",
   "id": "novel-killing",
   "metadata": {},
   "source": [
    "\n",
    "# Overthinking: code style\n",
    "\n",
    "## Naming variables and functions\n",
    "\n",
    "## Breaking long lines of code"
   ]
  },
  {
   "cell_type": "code",
   "execution_count": null,
   "id": "focal-member",
   "metadata": {
    "tags": [
     "allowerror"
    ]
   },
   "outputs": [],
   "source": [
    "income = (gross_wages + taxable_interest + (dividends - qualified_dividends) - ira_deduction - student_loan_interest)"
   ]
  },
  {
   "cell_type": "code",
   "execution_count": null,
   "id": "consistent-stephen",
   "metadata": {
    "tags": [
     "allowerror"
    ]
   },
   "outputs": [],
   "source": [
    "income = (gross_wages\n",
    "          + taxable_interest\n",
    "          + (dividends - qualified_dividends)\n",
    "          - irs_deduction\n",
    "          - student_loan_interest)"
   ]
  },
  {
   "cell_type": "code",
   "execution_count": null,
   "id": "close-promise",
   "metadata": {
    "tags": [
     "allowerror"
    ]
   },
   "outputs": [],
   "source": [
    "income = gross_wages\n",
    "         + taxable_interest\n",
    "         + (dividends - qualified_dividends)\n",
    "         - irs_deduction\n",
    "         - student_loan_interest"
   ]
  },
  {
   "cell_type": "markdown",
   "id": "prescription-conservation",
   "metadata": {},
   "source": [
    "## Spacing around operators"
   ]
  },
  {
   "cell_type": "code",
   "execution_count": null,
   "id": "pointed-professional",
   "metadata": {
    "tags": [
     "allowerror"
    ]
   },
   "outputs": [],
   "source": [
    "# Yes:\n",
    "i = i + 1\n",
    "\n",
    "# No:\n",
    "i=i+1"
   ]
  },
  {
   "cell_type": "code",
   "execution_count": null,
   "id": "processed-leave",
   "metadata": {
    "tags": [
     "allowerror"
    ]
   },
   "outputs": [],
   "source": [
    "# Yes:\n",
    "def get_account(name, id=0.0):\n",
    "    return find_account(n=name, i=id)\n",
    "\n",
    "# No:\n",
    "def get_account(name, id = 0.0):\n",
    "    return find_account(n = name, i = id)"
   ]
  },
  {
   "cell_type": "code",
   "execution_count": null,
   "id": "maritime-publication",
   "metadata": {
    "tags": [
     "allowerror"
    ]
   },
   "outputs": [],
   "source": [
    "# Yes:\n",
    "long_function_name(list_argument[1], dictionary_argument['key'])\n",
    "\n",
    "# No:\n",
    "long_function_name( list_argument[ 1 ] , dictionary_argument[ 'key' ] )"
   ]
  },
  {
   "cell_type": "code",
   "execution_count": null,
   "id": "banner-conflict",
   "metadata": {
    "tags": []
   },
   "outputs": [],
   "source": [
    "# Yes:\n",
    "x = 1\n",
    "y = 2\n",
    "long_variable = 3\n",
    "\n",
    "# No:\n",
    "x             = 1\n",
    "y             = 2\n",
    "long_variable = 3"
   ]
  },
  {
   "cell_type": "markdown",
   "id": "surgical-summer",
   "metadata": {},
   "source": [
    "## Code comments"
   ]
  },
  {
   "cell_type": "code",
   "execution_count": null,
   "id": "developing-bottle",
   "metadata": {
    "tags": []
   },
   "outputs": [],
   "source": [
    "# a commented line\n",
    "message = \"hello\" # inline comment"
   ]
  },
  {
   "cell_type": "code",
   "execution_count": null,
   "id": "portuguese-force",
   "metadata": {
    "tags": []
   },
   "outputs": [],
   "source": [
    "# the following line of code\n",
    "# prints the word \"hello\" on a\n",
    "# separate line then terminates\n",
    "print('hello')"
   ]
  },
  {
   "cell_type": "code",
   "execution_count": null,
   "id": "bizarre-money",
   "metadata": {
    "tags": []
   },
   "outputs": [],
   "source": [
    "# author:       horatio\n",
    "# date:         08/17/2020\n",
    "# description:  python ABCs"
   ]
  }
 ],
 "metadata": {
  "jupytext": {
   "formats": "ipynb"
  },
  "kernelspec": {
   "display_name": "Python 3",
   "language": "python",
   "name": "python3"
  }
 },
 "nbformat": 4,
 "nbformat_minor": 5
}

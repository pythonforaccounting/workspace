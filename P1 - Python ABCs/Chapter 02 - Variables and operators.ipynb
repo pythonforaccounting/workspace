{
 "cells": [
  {
   "cell_type": "markdown",
   "id": "heavy-ribbon",
   "metadata": {},
   "source": [
    "\n",
    "# Variables and operators"
   ]
  },
  {
   "cell_type": "code",
   "execution_count": null,
   "id": "piano-occasion",
   "metadata": {
    "tags": []
   },
   "outputs": [],
   "source": [
    "message = 'hello, python for accounting world!'"
   ]
  },
  {
   "cell_type": "markdown",
   "id": "daily-september",
   "metadata": {},
   "source": [
    "## Everything is an object"
   ]
  },
  {
   "cell_type": "code",
   "execution_count": null,
   "id": "sufficient-ensemble",
   "metadata": {
    "tags": []
   },
   "outputs": [],
   "source": [
    "message.upper()"
   ]
  },
  {
   "cell_type": "code",
   "execution_count": null,
   "id": "scientific-creature",
   "metadata": {
    "tags": []
   },
   "outputs": [],
   "source": [
    "numbers = [10, 20, 30]\n",
    "numbers.append(100)\n",
    "\n",
    "numbers"
   ]
  },
  {
   "cell_type": "code",
   "execution_count": null,
   "id": "floating-indian",
   "metadata": {
    "tags": []
   },
   "outputs": [],
   "source": [
    "numbers = [10, 20, 30]\n",
    "numbers.append"
   ]
  },
  {
   "cell_type": "code",
   "execution_count": null,
   "id": "returning-walker",
   "metadata": {
    "tags": []
   },
   "outputs": [],
   "source": [
    "x = 5\n",
    "\n",
    "print(x.real)\n",
    "print(x.imag)"
   ]
  },
  {
   "cell_type": "code",
   "execution_count": null,
   "id": "fixed-north",
   "metadata": {
    "tags": []
   },
   "outputs": [],
   "source": [
    "x.bit_length()"
   ]
  },
  {
   "cell_type": "code",
   "execution_count": null,
   "id": "executive-legislature",
   "metadata": {
    "tags": []
   },
   "outputs": [],
   "source": [
    "import pandas as pd \n",
    "\n",
    "df = pd.read_excel(\"Q1Sales.xlsx\")"
   ]
  },
  {
   "cell_type": "code",
   "execution_count": null,
   "id": "personalized-marshall",
   "metadata": {
    "tags": []
   },
   "outputs": [],
   "source": [
    "df.sum()"
   ]
  },
  {
   "cell_type": "markdown",
   "id": "posted-happiness",
   "metadata": {},
   "source": [
    "## Point me to the values"
   ]
  },
  {
   "cell_type": "code",
   "execution_count": null,
   "id": "loaded-hartford",
   "metadata": {
    "tags": []
   },
   "outputs": [],
   "source": [
    "value = 100\n",
    "message = 'hello, python for accounting world!' \n",
    "numbers = [1.1, 1.2, 1.3]"
   ]
  },
  {
   "cell_type": "code",
   "execution_count": null,
   "id": "considerable-vertex",
   "metadata": {
    "tags": []
   },
   "outputs": [],
   "source": [
    "a = [10, 20, 30]\n",
    "b = a\n",
    "\n",
    "print(a)\n",
    "print(b)"
   ]
  },
  {
   "cell_type": "code",
   "execution_count": null,
   "id": "liquid-faculty",
   "metadata": {
    "tags": []
   },
   "outputs": [],
   "source": [
    "a = [10, 20, 30]\n",
    "b = a\n",
    "\n",
    "# add a new item to list\n",
    "a.append(40)\n",
    "\n",
    "print(a)\n",
    "print(b)"
   ]
  },
  {
   "cell_type": "code",
   "execution_count": null,
   "id": "inclusive-possible",
   "metadata": {
    "tags": []
   },
   "outputs": [],
   "source": [
    "a = [10, 20, 30]\n",
    "b = a\n",
    "\n",
    "a = [10, 20, 30, 40]\n",
    "\n",
    "print(a)\n",
    "print(b)"
   ]
  },
  {
   "cell_type": "code",
   "execution_count": null,
   "id": "protective-father",
   "metadata": {
    "tags": []
   },
   "outputs": [],
   "source": [
    "x = 10\n",
    "y = x\n",
    "\n",
    "x = x + 10\n",
    "\n",
    "print(x)\n",
    "print(y)"
   ]
  },
  {
   "cell_type": "markdown",
   "id": "joined-jesus",
   "metadata": {},
   "source": [
    "## The cycle of a variable's life"
   ]
  },
  {
   "cell_type": "code",
   "execution_count": null,
   "id": "sought-operator",
   "metadata": {
    "tags": []
   },
   "outputs": [],
   "source": [
    "message = 'hello, python for accounting!'\n",
    "\n",
    "del message"
   ]
  },
  {
   "cell_type": "code",
   "execution_count": null,
   "id": "unexpected-philosophy",
   "metadata": {
    "tags": [
     "allowerror"
    ]
   },
   "outputs": [],
   "source": [
    "message"
   ]
  },
  {
   "cell_type": "markdown",
   "id": "intimate-implement",
   "metadata": {},
   "source": [
    "## Operators\n",
    "\n",
    "### Arithmetic operators"
   ]
  },
  {
   "cell_type": "code",
   "execution_count": null,
   "id": "congressional-midwest",
   "metadata": {
    "tags": []
   },
   "outputs": [],
   "source": [
    "x = 5\n",
    "y = 2\n",
    "\n",
    "x * y + (x // y)"
   ]
  },
  {
   "cell_type": "code",
   "execution_count": null,
   "id": "acquired-renaissance",
   "metadata": {
    "tags": []
   },
   "outputs": [],
   "source": [
    "2 * 3 + 4"
   ]
  },
  {
   "cell_type": "code",
   "execution_count": null,
   "id": "ethical-choir",
   "metadata": {
    "tags": []
   },
   "outputs": [],
   "source": [
    "-10 ** 2 "
   ]
  },
  {
   "cell_type": "code",
   "execution_count": null,
   "id": "generous-tender",
   "metadata": {
    "tags": []
   },
   "outputs": [],
   "source": [
    "(-10) ** 2 "
   ]
  },
  {
   "cell_type": "markdown",
   "id": "material-binding",
   "metadata": {},
   "source": [
    "### Comparison operators"
   ]
  },
  {
   "cell_type": "code",
   "execution_count": null,
   "id": "photographic-export",
   "metadata": {
    "tags": []
   },
   "outputs": [],
   "source": [
    "x = 5\n",
    "\n",
    "1 < x < 10"
   ]
  },
  {
   "cell_type": "code",
   "execution_count": null,
   "id": "subtle-runner",
   "metadata": {
    "tags": []
   },
   "outputs": [],
   "source": [
    "24 % 2 == 0"
   ]
  },
  {
   "cell_type": "markdown",
   "id": "superior-possible",
   "metadata": {},
   "source": [
    "### Assignment operators"
   ]
  },
  {
   "cell_type": "code",
   "execution_count": null,
   "id": "governmental-knife",
   "metadata": {
    "tags": []
   },
   "outputs": [],
   "source": [
    "x = 5"
   ]
  },
  {
   "cell_type": "code",
   "execution_count": null,
   "id": "indonesian-aspect",
   "metadata": {
    "tags": []
   },
   "outputs": [],
   "source": [
    "x = 5\n",
    "x = x + 2\n",
    "\n",
    "x"
   ]
  },
  {
   "cell_type": "code",
   "execution_count": null,
   "id": "impaired-violin",
   "metadata": {
    "tags": []
   },
   "outputs": [],
   "source": [
    "# equivalent to:\n",
    "x = 5\n",
    "x += 2\n",
    "\n",
    "x"
   ]
  },
  {
   "cell_type": "code",
   "execution_count": null,
   "id": "fuzzy-collectible",
   "metadata": {
    "tags": []
   },
   "outputs": [],
   "source": [
    "x = 5\n",
    "x = x ** 2\n",
    "\n",
    "# equivalent to:\n",
    "x = 5\n",
    "x **= 2"
   ]
  },
  {
   "cell_type": "code",
   "execution_count": null,
   "id": "consecutive-hanging",
   "metadata": {
    "tags": []
   },
   "outputs": [],
   "source": [
    "x"
   ]
  }
 ],
 "metadata": {
  "jupytext": {
   "formats": "ipynb"
  },
  "kernelspec": {
   "display_name": "Python 3",
   "language": "python",
   "name": "python3"
  }
 },
 "nbformat": 4,
 "nbformat_minor": 5
}

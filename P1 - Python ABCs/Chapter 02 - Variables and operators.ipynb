{
 "cells": [
  {
   "cell_type": "markdown",
   "id": "informative-understanding",
   "metadata": {},
   "source": [
    "\n",
    "# Variables and operators"
   ]
  },
  {
   "cell_type": "code",
   "execution_count": null,
   "id": "continuous-shooting",
   "metadata": {
    "tags": []
   },
   "outputs": [],
   "source": [
    "message = 'hello, python for accounting world!'"
   ]
  },
  {
   "cell_type": "markdown",
   "id": "saved-adoption",
   "metadata": {},
   "source": [
    "## Everything is an object"
   ]
  },
  {
   "cell_type": "code",
   "execution_count": null,
   "id": "polish-leadership",
   "metadata": {
    "tags": []
   },
   "outputs": [],
   "source": [
    "message.upper()"
   ]
  },
  {
   "cell_type": "code",
   "execution_count": null,
   "id": "serious-fellow",
   "metadata": {
    "tags": []
   },
   "outputs": [],
   "source": [
    "numbers = [10, 20, 30]\n",
    "numbers.append(100)\n",
    "\n",
    "numbers"
   ]
  },
  {
   "cell_type": "code",
   "execution_count": null,
   "id": "anticipated-coating",
   "metadata": {
    "tags": []
   },
   "outputs": [],
   "source": [
    "numbers = [10, 20, 30]\n",
    "numbers.append"
   ]
  },
  {
   "cell_type": "code",
   "execution_count": null,
   "id": "moved-forty",
   "metadata": {
    "tags": []
   },
   "outputs": [],
   "source": [
    "x = 5\n",
    "\n",
    "print(x.real)\n",
    "print(x.imag)"
   ]
  },
  {
   "cell_type": "code",
   "execution_count": null,
   "id": "natural-layout",
   "metadata": {
    "tags": []
   },
   "outputs": [],
   "source": [
    "x.bit_length()"
   ]
  },
  {
   "cell_type": "code",
   "execution_count": null,
   "id": "contrary-document",
   "metadata": {
    "tags": []
   },
   "outputs": [],
   "source": [
    "import pandas as pd \n",
    "\n",
    "df = pd.read_excel(\"Q1Sales.xlsx\")"
   ]
  },
  {
   "cell_type": "code",
   "execution_count": null,
   "id": "rising-mongolia",
   "metadata": {
    "tags": []
   },
   "outputs": [],
   "source": [
    "df.sum()"
   ]
  },
  {
   "cell_type": "markdown",
   "id": "utility-stadium",
   "metadata": {},
   "source": [
    "## Point me to the values"
   ]
  },
  {
   "cell_type": "code",
   "execution_count": null,
   "id": "prompt-optimization",
   "metadata": {
    "tags": []
   },
   "outputs": [],
   "source": [
    "value = 100\n",
    "message = 'hello, python for accounting world!' \n",
    "numbers = [1.1, 1.2, 1.3]"
   ]
  },
  {
   "cell_type": "code",
   "execution_count": null,
   "id": "statutory-organization",
   "metadata": {
    "tags": []
   },
   "outputs": [],
   "source": [
    "a = [10, 20, 30]\n",
    "b = a\n",
    "\n",
    "print(a)\n",
    "print(b)"
   ]
  },
  {
   "cell_type": "code",
   "execution_count": null,
   "id": "primary-investigator",
   "metadata": {
    "tags": []
   },
   "outputs": [],
   "source": [
    "a = [10, 20, 30]\n",
    "b = a\n",
    "\n",
    "# add a new item to list\n",
    "a.append(40)\n",
    "\n",
    "print(a)\n",
    "print(b)"
   ]
  },
  {
   "cell_type": "code",
   "execution_count": null,
   "id": "enclosed-baking",
   "metadata": {
    "tags": []
   },
   "outputs": [],
   "source": [
    "a = [10, 20, 30]\n",
    "b = a\n",
    "\n",
    "a = [10, 20, 30, 40]\n",
    "\n",
    "print(a)\n",
    "print(b)"
   ]
  },
  {
   "cell_type": "code",
   "execution_count": null,
   "id": "different-electricity",
   "metadata": {
    "tags": []
   },
   "outputs": [],
   "source": [
    "x = 10\n",
    "y = x\n",
    "\n",
    "x = x + 10\n",
    "\n",
    "print(x)\n",
    "print(y)"
   ]
  },
  {
   "cell_type": "markdown",
   "id": "educated-developer",
   "metadata": {},
   "source": [
    "## The cycle of a variable's life"
   ]
  },
  {
   "cell_type": "code",
   "execution_count": null,
   "id": "collaborative-anger",
   "metadata": {
    "tags": []
   },
   "outputs": [],
   "source": [
    "message = 'hello, python for accounting!'\n",
    "\n",
    "del message"
   ]
  },
  {
   "cell_type": "code",
   "execution_count": null,
   "id": "fleet-camel",
   "metadata": {
    "tags": [
     "allowerror"
    ]
   },
   "outputs": [],
   "source": [
    "message"
   ]
  },
  {
   "cell_type": "markdown",
   "id": "civilian-credit",
   "metadata": {},
   "source": [
    "## Operators\n",
    "\n",
    "### Arithmetic operators"
   ]
  },
  {
   "cell_type": "code",
   "execution_count": null,
   "id": "maritime-hebrew",
   "metadata": {
    "tags": []
   },
   "outputs": [],
   "source": [
    "x = 5\n",
    "y = 2\n",
    "\n",
    "x * y + (x // y)"
   ]
  },
  {
   "cell_type": "code",
   "execution_count": null,
   "id": "egyptian-shannon",
   "metadata": {
    "tags": []
   },
   "outputs": [],
   "source": [
    "2 * 3 + 4"
   ]
  },
  {
   "cell_type": "code",
   "execution_count": null,
   "id": "racial-community",
   "metadata": {
    "tags": []
   },
   "outputs": [],
   "source": [
    "-10 ** 2 "
   ]
  },
  {
   "cell_type": "code",
   "execution_count": null,
   "id": "reflected-orange",
   "metadata": {
    "tags": []
   },
   "outputs": [],
   "source": [
    "(-10) ** 2 "
   ]
  },
  {
   "cell_type": "markdown",
   "id": "indonesian-rally",
   "metadata": {},
   "source": [
    "### Comparison operators"
   ]
  },
  {
   "cell_type": "code",
   "execution_count": null,
   "id": "greatest-westminster",
   "metadata": {
    "tags": []
   },
   "outputs": [],
   "source": [
    "x = 5\n",
    "\n",
    "1 < x < 10"
   ]
  },
  {
   "cell_type": "code",
   "execution_count": null,
   "id": "organized-anchor",
   "metadata": {
    "tags": []
   },
   "outputs": [],
   "source": [
    "24 % 2 == 0"
   ]
  },
  {
   "cell_type": "markdown",
   "id": "dense-contrary",
   "metadata": {},
   "source": [
    "### Assignment operators"
   ]
  },
  {
   "cell_type": "code",
   "execution_count": null,
   "id": "earlier-width",
   "metadata": {
    "tags": []
   },
   "outputs": [],
   "source": [
    "x = 5"
   ]
  },
  {
   "cell_type": "code",
   "execution_count": null,
   "id": "brazilian-patrol",
   "metadata": {
    "tags": []
   },
   "outputs": [],
   "source": [
    "x = 5\n",
    "x = x + 2\n",
    "\n",
    "x"
   ]
  },
  {
   "cell_type": "code",
   "execution_count": null,
   "id": "individual-contrary",
   "metadata": {
    "tags": []
   },
   "outputs": [],
   "source": [
    "# equivalent to:\n",
    "x = 5\n",
    "x += 2\n",
    "\n",
    "x"
   ]
  },
  {
   "cell_type": "code",
   "execution_count": null,
   "id": "respiratory-shareware",
   "metadata": {
    "tags": []
   },
   "outputs": [],
   "source": [
    "x = 5\n",
    "x = x ** 2\n",
    "\n",
    "# equivalent to:\n",
    "x = 5\n",
    "x **= 2"
   ]
  },
  {
   "cell_type": "code",
   "execution_count": null,
   "id": "bizarre-briefs",
   "metadata": {
    "tags": []
   },
   "outputs": [],
   "source": [
    "x"
   ]
  }
 ],
 "metadata": {
  "jupytext": {
   "formats": "ipynb"
  },
  "kernelspec": {
   "display_name": "Python 3",
   "language": "python",
   "name": "python3"
  }
 },
 "nbformat": 4,
 "nbformat_minor": 5
}

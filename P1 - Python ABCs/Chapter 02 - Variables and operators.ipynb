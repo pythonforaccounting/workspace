{
 "cells": [
  {
   "cell_type": "markdown",
   "id": "loved-solid",
   "metadata": {},
   "source": [
    "\n",
    "# Variables and operators"
   ]
  },
  {
   "cell_type": "code",
   "execution_count": null,
   "id": "liable-oakland",
   "metadata": {
    "tags": []
   },
   "outputs": [],
   "source": [
    "message = 'hello, python for accounting world!'"
   ]
  },
  {
   "cell_type": "markdown",
   "id": "careful-peninsula",
   "metadata": {},
   "source": [
    "## Everything is an object"
   ]
  },
  {
   "cell_type": "code",
   "execution_count": null,
   "id": "informational-parking",
   "metadata": {
    "tags": []
   },
   "outputs": [],
   "source": [
    "message.upper()"
   ]
  },
  {
   "cell_type": "code",
   "execution_count": null,
   "id": "lasting-candle",
   "metadata": {
    "tags": []
   },
   "outputs": [],
   "source": [
    "numbers = [10, 20, 30]\n",
    "numbers.append(100)\n",
    "\n",
    "numbers"
   ]
  },
  {
   "cell_type": "code",
   "execution_count": null,
   "id": "therapeutic-reduction",
   "metadata": {
    "tags": []
   },
   "outputs": [],
   "source": [
    "numbers = [10, 20, 30]\n",
    "numbers.append"
   ]
  },
  {
   "cell_type": "code",
   "execution_count": null,
   "id": "marked-gospel",
   "metadata": {
    "tags": []
   },
   "outputs": [],
   "source": [
    "x = 5\n",
    "\n",
    "print(x.real)\n",
    "print(x.imag)"
   ]
  },
  {
   "cell_type": "code",
   "execution_count": null,
   "id": "chubby-objective",
   "metadata": {
    "tags": []
   },
   "outputs": [],
   "source": [
    "x.bit_length()"
   ]
  },
  {
   "cell_type": "code",
   "execution_count": null,
   "id": "prospective-engagement",
   "metadata": {
    "tags": []
   },
   "outputs": [],
   "source": [
    "import pandas as pd \n",
    "\n",
    "df = pd.read_excel(\"Q1Sales.xlsx\")"
   ]
  },
  {
   "cell_type": "code",
   "execution_count": null,
   "id": "permanent-stuff",
   "metadata": {
    "tags": []
   },
   "outputs": [],
   "source": [
    "df.sum()"
   ]
  },
  {
   "cell_type": "markdown",
   "id": "interested-black",
   "metadata": {},
   "source": [
    "## Point me to the values"
   ]
  },
  {
   "cell_type": "code",
   "execution_count": null,
   "id": "electric-citizen",
   "metadata": {
    "tags": []
   },
   "outputs": [],
   "source": [
    "value = 100\n",
    "message = 'hello, python for accounting world!' \n",
    "numbers = [1.1, 1.2, 1.3]"
   ]
  },
  {
   "cell_type": "code",
   "execution_count": null,
   "id": "known-strengthening",
   "metadata": {
    "tags": []
   },
   "outputs": [],
   "source": [
    "a = [10, 20, 30]\n",
    "b = a\n",
    "\n",
    "print(a)\n",
    "print(b)"
   ]
  },
  {
   "cell_type": "code",
   "execution_count": null,
   "id": "waiting-belarus",
   "metadata": {
    "tags": []
   },
   "outputs": [],
   "source": [
    "a = [10, 20, 30]\n",
    "b = a\n",
    "\n",
    "# add a new item to list\n",
    "a.append(40)\n",
    "\n",
    "print(a)\n",
    "print(b)"
   ]
  },
  {
   "cell_type": "code",
   "execution_count": null,
   "id": "honey-evanescence",
   "metadata": {
    "tags": []
   },
   "outputs": [],
   "source": [
    "a = [10, 20, 30]\n",
    "b = a\n",
    "\n",
    "a = [10, 20, 30, 40]\n",
    "\n",
    "print(a)\n",
    "print(b)"
   ]
  },
  {
   "cell_type": "code",
   "execution_count": null,
   "id": "recreational-humor",
   "metadata": {
    "tags": []
   },
   "outputs": [],
   "source": [
    "x = 10\n",
    "y = x\n",
    "\n",
    "x = x + 10\n",
    "\n",
    "print(x)\n",
    "print(y)"
   ]
  },
  {
   "cell_type": "markdown",
   "id": "soviet-pattern",
   "metadata": {},
   "source": [
    "## The cycle of a variable's life"
   ]
  },
  {
   "cell_type": "code",
   "execution_count": null,
   "id": "regulated-teach",
   "metadata": {
    "tags": []
   },
   "outputs": [],
   "source": [
    "message = 'hello, python for accounting!'\n",
    "\n",
    "del message"
   ]
  },
  {
   "cell_type": "code",
   "execution_count": null,
   "id": "boolean-interstate",
   "metadata": {
    "tags": [
     "allowerror"
    ]
   },
   "outputs": [],
   "source": [
    "message"
   ]
  },
  {
   "cell_type": "markdown",
   "id": "mobile-recipe",
   "metadata": {},
   "source": [
    "## Operators\n",
    "\n",
    "### Arithmetic operators"
   ]
  },
  {
   "cell_type": "code",
   "execution_count": null,
   "id": "qualified-compensation",
   "metadata": {
    "tags": []
   },
   "outputs": [],
   "source": [
    "x = 5\n",
    "y = 2\n",
    "\n",
    "x * y + (x // y)"
   ]
  },
  {
   "cell_type": "code",
   "execution_count": null,
   "id": "narrow-backing",
   "metadata": {
    "tags": []
   },
   "outputs": [],
   "source": [
    "2 * 3 + 4"
   ]
  },
  {
   "cell_type": "code",
   "execution_count": null,
   "id": "sealed-conservation",
   "metadata": {
    "tags": []
   },
   "outputs": [],
   "source": [
    "-10 ** 2 "
   ]
  },
  {
   "cell_type": "code",
   "execution_count": null,
   "id": "confident-invitation",
   "metadata": {
    "tags": []
   },
   "outputs": [],
   "source": [
    "(-10) ** 2 "
   ]
  },
  {
   "cell_type": "markdown",
   "id": "finnish-quality",
   "metadata": {},
   "source": [
    "### Comparison operators"
   ]
  },
  {
   "cell_type": "code",
   "execution_count": null,
   "id": "cardiac-tours",
   "metadata": {
    "tags": []
   },
   "outputs": [],
   "source": [
    "x = 5\n",
    "\n",
    "1 < x < 10"
   ]
  },
  {
   "cell_type": "code",
   "execution_count": null,
   "id": "serious-smell",
   "metadata": {
    "tags": []
   },
   "outputs": [],
   "source": [
    "24 % 2 == 0"
   ]
  },
  {
   "cell_type": "markdown",
   "id": "aggregate-legislature",
   "metadata": {},
   "source": [
    "### Assignment operators"
   ]
  },
  {
   "cell_type": "code",
   "execution_count": null,
   "id": "marked-march",
   "metadata": {
    "tags": []
   },
   "outputs": [],
   "source": [
    "x = 5"
   ]
  },
  {
   "cell_type": "code",
   "execution_count": null,
   "id": "public-boards",
   "metadata": {
    "tags": []
   },
   "outputs": [],
   "source": [
    "x = 5\n",
    "x = x + 2\n",
    "\n",
    "x"
   ]
  },
  {
   "cell_type": "code",
   "execution_count": null,
   "id": "aware-company",
   "metadata": {
    "tags": []
   },
   "outputs": [],
   "source": [
    "# equivalent to:\n",
    "x = 5\n",
    "x += 2\n",
    "\n",
    "x"
   ]
  },
  {
   "cell_type": "code",
   "execution_count": null,
   "id": "literary-talent",
   "metadata": {
    "tags": []
   },
   "outputs": [],
   "source": [
    "x = 5\n",
    "x = x ** 2\n",
    "\n",
    "# equivalent to:\n",
    "x = 5\n",
    "x **= 2"
   ]
  },
  {
   "cell_type": "code",
   "execution_count": null,
   "id": "ranking-feature",
   "metadata": {
    "tags": []
   },
   "outputs": [],
   "source": [
    "x"
   ]
  }
 ],
 "metadata": {
  "jupytext": {
   "formats": "ipynb"
  },
  "kernelspec": {
   "display_name": "Python 3",
   "language": "python",
   "name": "python3"
  }
 },
 "nbformat": 4,
 "nbformat_minor": 5
}

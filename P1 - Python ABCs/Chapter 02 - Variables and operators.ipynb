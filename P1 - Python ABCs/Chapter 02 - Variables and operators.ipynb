{
 "cells": [
  {
   "cell_type": "markdown",
   "id": "southern-belize",
   "metadata": {},
   "source": [
    "\n",
    "# Variables and operators"
   ]
  },
  {
   "cell_type": "code",
   "execution_count": null,
   "id": "north-hungarian",
   "metadata": {
    "tags": []
   },
   "outputs": [],
   "source": [
    "message = 'hello, python for accounting world!'"
   ]
  },
  {
   "cell_type": "markdown",
   "id": "equipped-bowling",
   "metadata": {},
   "source": [
    "## Everything is an object"
   ]
  },
  {
   "cell_type": "code",
   "execution_count": null,
   "id": "alert-wichita",
   "metadata": {
    "tags": []
   },
   "outputs": [],
   "source": [
    "message.upper()"
   ]
  },
  {
   "cell_type": "code",
   "execution_count": null,
   "id": "neither-rescue",
   "metadata": {
    "tags": []
   },
   "outputs": [],
   "source": [
    "numbers = [10, 20, 30]\n",
    "numbers.append(100)\n",
    "\n",
    "numbers"
   ]
  },
  {
   "cell_type": "code",
   "execution_count": null,
   "id": "continental-provider",
   "metadata": {
    "tags": []
   },
   "outputs": [],
   "source": [
    "numbers = [10, 20, 30]\n",
    "numbers.append"
   ]
  },
  {
   "cell_type": "code",
   "execution_count": null,
   "id": "leading-resident",
   "metadata": {
    "tags": []
   },
   "outputs": [],
   "source": [
    "x = 5\n",
    "\n",
    "print(x.real)\n",
    "print(x.imag)"
   ]
  },
  {
   "cell_type": "code",
   "execution_count": null,
   "id": "black-mailman",
   "metadata": {
    "tags": []
   },
   "outputs": [],
   "source": [
    "x.bit_length()"
   ]
  },
  {
   "cell_type": "code",
   "execution_count": null,
   "id": "clear-impression",
   "metadata": {
    "tags": []
   },
   "outputs": [],
   "source": [
    "import pandas as pd \n",
    "\n",
    "df = pd.read_excel(\"Q1Sales.xlsx\")"
   ]
  },
  {
   "cell_type": "code",
   "execution_count": null,
   "id": "completed-calculation",
   "metadata": {
    "tags": []
   },
   "outputs": [],
   "source": [
    "df.sum()"
   ]
  },
  {
   "cell_type": "markdown",
   "id": "chronic-consumption",
   "metadata": {},
   "source": [
    "## Point me to the values"
   ]
  },
  {
   "cell_type": "code",
   "execution_count": null,
   "id": "accomplished-label",
   "metadata": {
    "tags": []
   },
   "outputs": [],
   "source": [
    "value = 100\n",
    "message = 'hello, python for accounting world!' \n",
    "numbers = [1.1, 1.2, 1.3]"
   ]
  },
  {
   "cell_type": "code",
   "execution_count": null,
   "id": "numerical-values",
   "metadata": {
    "tags": []
   },
   "outputs": [],
   "source": [
    "a = [10, 20, 30]\n",
    "b = a\n",
    "\n",
    "print(a)\n",
    "print(b)"
   ]
  },
  {
   "cell_type": "code",
   "execution_count": null,
   "id": "auburn-gibson",
   "metadata": {
    "tags": []
   },
   "outputs": [],
   "source": [
    "a = [10, 20, 30]\n",
    "b = a\n",
    "\n",
    "# add a new item to list\n",
    "a.append(40)\n",
    "\n",
    "print(a)\n",
    "print(b)"
   ]
  },
  {
   "cell_type": "code",
   "execution_count": null,
   "id": "expected-ridge",
   "metadata": {
    "tags": []
   },
   "outputs": [],
   "source": [
    "a = [10, 20, 30]\n",
    "b = a\n",
    "\n",
    "a = [10, 20, 30, 40]\n",
    "\n",
    "print(a)\n",
    "print(b)"
   ]
  },
  {
   "cell_type": "code",
   "execution_count": null,
   "id": "promising-excellence",
   "metadata": {
    "tags": []
   },
   "outputs": [],
   "source": [
    "x = 10\n",
    "y = x\n",
    "\n",
    "x = x + 10\n",
    "\n",
    "print(x)\n",
    "print(y)"
   ]
  },
  {
   "cell_type": "markdown",
   "id": "muslim-microphone",
   "metadata": {},
   "source": [
    "## The cycle of a variable's life"
   ]
  },
  {
   "cell_type": "code",
   "execution_count": null,
   "id": "quantitative-disability",
   "metadata": {
    "tags": []
   },
   "outputs": [],
   "source": [
    "message = 'hello, python for accounting!'\n",
    "\n",
    "del message"
   ]
  },
  {
   "cell_type": "code",
   "execution_count": null,
   "id": "interracial-lodging",
   "metadata": {
    "tags": [
     "allowerror"
    ]
   },
   "outputs": [],
   "source": [
    "message"
   ]
  },
  {
   "cell_type": "markdown",
   "id": "relative-lightweight",
   "metadata": {},
   "source": [
    "## Operators\n",
    "\n",
    "### Arithmetic operators"
   ]
  },
  {
   "cell_type": "code",
   "execution_count": null,
   "id": "terminal-restaurant",
   "metadata": {
    "tags": []
   },
   "outputs": [],
   "source": [
    "x = 5\n",
    "y = 2\n",
    "\n",
    "x * y + (x // y)"
   ]
  },
  {
   "cell_type": "code",
   "execution_count": null,
   "id": "conventional-medicaid",
   "metadata": {
    "tags": []
   },
   "outputs": [],
   "source": [
    "2 * 3 + 4"
   ]
  },
  {
   "cell_type": "code",
   "execution_count": null,
   "id": "heard-benjamin",
   "metadata": {
    "tags": []
   },
   "outputs": [],
   "source": [
    "-10 ** 2 "
   ]
  },
  {
   "cell_type": "code",
   "execution_count": null,
   "id": "handed-secret",
   "metadata": {
    "tags": []
   },
   "outputs": [],
   "source": [
    "(-10) ** 2 "
   ]
  },
  {
   "cell_type": "markdown",
   "id": "disabled-cattle",
   "metadata": {},
   "source": [
    "### Comparison operators"
   ]
  },
  {
   "cell_type": "code",
   "execution_count": null,
   "id": "australian-discovery",
   "metadata": {
    "tags": []
   },
   "outputs": [],
   "source": [
    "x = 5\n",
    "\n",
    "1 < x < 10"
   ]
  },
  {
   "cell_type": "code",
   "execution_count": null,
   "id": "standing-senior",
   "metadata": {
    "tags": []
   },
   "outputs": [],
   "source": [
    "24 % 2 == 0"
   ]
  },
  {
   "cell_type": "markdown",
   "id": "aggregate-cambridge",
   "metadata": {},
   "source": [
    "### Assignment operators"
   ]
  },
  {
   "cell_type": "code",
   "execution_count": null,
   "id": "pressed-specification",
   "metadata": {
    "tags": []
   },
   "outputs": [],
   "source": [
    "x = 5"
   ]
  },
  {
   "cell_type": "code",
   "execution_count": null,
   "id": "through-promise",
   "metadata": {
    "tags": []
   },
   "outputs": [],
   "source": [
    "x = 5\n",
    "x = x + 2\n",
    "\n",
    "x"
   ]
  },
  {
   "cell_type": "code",
   "execution_count": null,
   "id": "sonic-confirmation",
   "metadata": {
    "tags": []
   },
   "outputs": [],
   "source": [
    "# equivalent to:\n",
    "x = 5\n",
    "x += 2\n",
    "\n",
    "x"
   ]
  },
  {
   "cell_type": "code",
   "execution_count": null,
   "id": "vocal-cooper",
   "metadata": {
    "tags": []
   },
   "outputs": [],
   "source": [
    "x = 5\n",
    "x = x ** 2\n",
    "\n",
    "# equivalent to:\n",
    "x = 5\n",
    "x **= 2"
   ]
  },
  {
   "cell_type": "code",
   "execution_count": null,
   "id": "separate-participant",
   "metadata": {
    "tags": []
   },
   "outputs": [],
   "source": [
    "x"
   ]
  }
 ],
 "metadata": {
  "jupytext": {
   "formats": "ipynb"
  },
  "kernelspec": {
   "display_name": "Python 3",
   "language": "python",
   "name": "python3"
  }
 },
 "nbformat": 4,
 "nbformat_minor": 5
}

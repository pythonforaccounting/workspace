{
 "cells": [
  {
   "cell_type": "markdown",
   "id": "sapphire-energy",
   "metadata": {},
   "source": [
    "\n",
    "# Python's built-in data types"
   ]
  },
  {
   "cell_type": "code",
   "execution_count": null,
   "id": "differential-defendant",
   "metadata": {
    "tags": []
   },
   "outputs": [],
   "source": [
    "x = 10\n",
    "type(x)"
   ]
  },
  {
   "cell_type": "code",
   "execution_count": null,
   "id": "stone-denmark",
   "metadata": {
    "tags": []
   },
   "outputs": [],
   "source": [
    "y = 'hello!'\n",
    "type(y)"
   ]
  },
  {
   "cell_type": "markdown",
   "id": "centered-affect",
   "metadata": {},
   "source": [
    "## Integers"
   ]
  },
  {
   "cell_type": "code",
   "execution_count": null,
   "id": "developmental-assembly",
   "metadata": {
    "tags": []
   },
   "outputs": [],
   "source": [
    "2 ** 2000"
   ]
  },
  {
   "cell_type": "markdown",
   "id": "unsigned-container",
   "metadata": {},
   "source": [
    "## Floating-point numbers"
   ]
  },
  {
   "cell_type": "code",
   "execution_count": null,
   "id": "scenic-canal",
   "metadata": {
    "tags": []
   },
   "outputs": [],
   "source": [
    "x = 0.1\n",
    "type(x)"
   ]
  },
  {
   "cell_type": "code",
   "execution_count": null,
   "id": "double-fundamentals",
   "metadata": {
    "tags": []
   },
   "outputs": [],
   "source": [
    "10 + 1.0"
   ]
  },
  {
   "cell_type": "code",
   "execution_count": null,
   "id": "juvenile-brick",
   "metadata": {
    "tags": []
   },
   "outputs": [],
   "source": [
    "0.1 + 0.2"
   ]
  },
  {
   "cell_type": "code",
   "execution_count": null,
   "id": "white-editor",
   "metadata": {
    "tags": []
   },
   "outputs": [],
   "source": [
    "0.1 + 0.2 == 0.3"
   ]
  },
  {
   "cell_type": "code",
   "execution_count": null,
   "id": "stretch-cedar",
   "metadata": {
    "tags": []
   },
   "outputs": [],
   "source": [
    "round(0.30000000000000004, 10)"
   ]
  },
  {
   "cell_type": "markdown",
   "id": "working-expert",
   "metadata": {},
   "source": [
    "## Booleans"
   ]
  },
  {
   "cell_type": "code",
   "execution_count": null,
   "id": "alike-impact",
   "metadata": {
    "tags": []
   },
   "outputs": [],
   "source": [
    "if (10 < 20):\n",
    "    print('hello, python for accounting!')"
   ]
  },
  {
   "cell_type": "code",
   "execution_count": null,
   "id": "significant-boards",
   "metadata": {
    "tags": []
   },
   "outputs": [],
   "source": [
    "t = True\n",
    "f = False"
   ]
  },
  {
   "cell_type": "code",
   "execution_count": null,
   "id": "pressing-albert",
   "metadata": {
    "tags": []
   },
   "outputs": [],
   "source": [
    "x = 5\n",
    "y = 2\n",
    "\n",
    "(x < 10) and (y > 0)"
   ]
  },
  {
   "cell_type": "code",
   "execution_count": null,
   "id": "effective-expansion",
   "metadata": {
    "tags": []
   },
   "outputs": [],
   "source": [
    "t or (x == 5)"
   ]
  },
  {
   "cell_type": "code",
   "execution_count": null,
   "id": "polar-alarm",
   "metadata": {
    "tags": []
   },
   "outputs": [],
   "source": [
    "(x == 5) and (not (y > 10))"
   ]
  },
  {
   "cell_type": "code",
   "execution_count": null,
   "id": "mental-classroom",
   "metadata": {
    "tags": []
   },
   "outputs": [],
   "source": [
    "True == 1"
   ]
  },
  {
   "cell_type": "code",
   "execution_count": null,
   "id": "coral-saskatchewan",
   "metadata": {
    "tags": []
   },
   "outputs": [],
   "source": [
    "True + True + False"
   ]
  },
  {
   "cell_type": "markdown",
   "id": "extreme-flashing",
   "metadata": {},
   "source": [
    "## The None type"
   ]
  },
  {
   "cell_type": "code",
   "execution_count": null,
   "id": "mathematical-quilt",
   "metadata": {
    "tags": []
   },
   "outputs": [],
   "source": [
    "type(None)"
   ]
  },
  {
   "cell_type": "code",
   "execution_count": null,
   "id": "noticed-leeds",
   "metadata": {
    "tags": []
   },
   "outputs": [],
   "source": [
    "value = print(\"hello, python for accounting!\")\n",
    "print(value)"
   ]
  },
  {
   "cell_type": "code",
   "execution_count": null,
   "id": "extra-communist",
   "metadata": {
    "tags": []
   },
   "outputs": [],
   "source": [
    "value = 1\n",
    "no_value = None"
   ]
  },
  {
   "cell_type": "code",
   "execution_count": null,
   "id": "beneficial-eclipse",
   "metadata": {
    "tags": []
   },
   "outputs": [],
   "source": [
    "value"
   ]
  },
  {
   "cell_type": "code",
   "execution_count": null,
   "id": "compact-prevention",
   "metadata": {
    "tags": []
   },
   "outputs": [],
   "source": [
    "no_value"
   ]
  },
  {
   "cell_type": "markdown",
   "id": "future-retrieval",
   "metadata": {},
   "source": [
    "## Strings"
   ]
  },
  {
   "cell_type": "code",
   "execution_count": null,
   "id": "executed-scanner",
   "metadata": {
    "tags": []
   },
   "outputs": [],
   "source": [
    "message = 'hello, python for accounting'\n",
    "message = \"hello, python for accounting\""
   ]
  },
  {
   "cell_type": "code",
   "execution_count": null,
   "id": "norman-austin",
   "metadata": {
    "tags": []
   },
   "outputs": [],
   "source": [
    "message = \"\"\"\n",
    "hello, \n",
    "python \n",
    "for\n",
    "accounting\n",
    "\"\"\""
   ]
  },
  {
   "cell_type": "code",
   "execution_count": null,
   "id": "electric-quantum",
   "metadata": {
    "tags": []
   },
   "outputs": [],
   "source": [
    "message = 'python for accounting'\n",
    "\n",
    "message.title()"
   ]
  },
  {
   "cell_type": "code",
   "execution_count": null,
   "id": "supposed-repair",
   "metadata": {
    "tags": []
   },
   "outputs": [],
   "source": [
    "first_name = \"margaret\"\n",
    "last_name = \"hamilton\"\n",
    "\n",
    "first_name + \" \" + last_name"
   ]
  },
  {
   "cell_type": "code",
   "execution_count": null,
   "id": "behavioral-taylor",
   "metadata": {
    "tags": []
   },
   "outputs": [],
   "source": [
    "first_name.capitalize() + \" \" + last_name.upper()"
   ]
  },
  {
   "cell_type": "code",
   "execution_count": null,
   "id": "entire-specification",
   "metadata": {
    "tags": []
   },
   "outputs": [],
   "source": [
    "\"Hello, \" + (first_name + \" \" + last_name).title()"
   ]
  },
  {
   "cell_type": "code",
   "execution_count": null,
   "id": "informational-capitol",
   "metadata": {
    "tags": [
     "allowerror"
    ]
   },
   "outputs": [],
   "source": [
    "age = 83\n",
    "\n",
    "first_name + \" \" + last_name + \" is \" + age + \" years old!\""
   ]
  },
  {
   "cell_type": "code",
   "execution_count": null,
   "id": "plastic-experience",
   "metadata": {
    "tags": []
   },
   "outputs": [],
   "source": [
    "age = 83\n",
    "\n",
    "first_name + \" \" + last_name + \" is \" + str(age) + \" years old!\""
   ]
  },
  {
   "cell_type": "code",
   "execution_count": null,
   "id": "beneficial-graph",
   "metadata": {
    "tags": []
   },
   "outputs": [],
   "source": [
    "f'{first_name} {last_name} is {age} years old!'"
   ]
  },
  {
   "cell_type": "markdown",
   "id": "organized-application",
   "metadata": {},
   "source": [
    "## Associated built-in functions"
   ]
  },
  {
   "cell_type": "code",
   "execution_count": null,
   "id": "professional-boundary",
   "metadata": {
    "tags": []
   },
   "outputs": [],
   "source": [
    "int(10.5)"
   ]
  },
  {
   "cell_type": "code",
   "execution_count": null,
   "id": "human-apache",
   "metadata": {
    "tags": []
   },
   "outputs": [],
   "source": [
    "float(-10)"
   ]
  },
  {
   "cell_type": "code",
   "execution_count": null,
   "id": "beginning-siemens",
   "metadata": {
    "tags": []
   },
   "outputs": [],
   "source": [
    "bool(10)"
   ]
  },
  {
   "cell_type": "code",
   "execution_count": null,
   "id": "pretty-montreal",
   "metadata": {
    "tags": []
   },
   "outputs": [],
   "source": [
    "bool(None)"
   ]
  },
  {
   "cell_type": "code",
   "execution_count": null,
   "id": "tracked-champion",
   "metadata": {
    "tags": []
   },
   "outputs": [],
   "source": [
    "str(100)"
   ]
  }
 ],
 "metadata": {
  "jupytext": {
   "formats": "ipynb"
  },
  "kernelspec": {
   "display_name": "Python 3",
   "language": "python",
   "name": "python3"
  }
 },
 "nbformat": 4,
 "nbformat_minor": 5
}

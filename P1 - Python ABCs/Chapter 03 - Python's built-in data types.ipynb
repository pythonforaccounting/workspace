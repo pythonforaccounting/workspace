{
 "cells": [
  {
   "cell_type": "markdown",
   "id": "civilian-clone",
   "metadata": {},
   "source": [
    "\n",
    "# Python's built-in data types"
   ]
  },
  {
   "cell_type": "code",
   "execution_count": null,
   "id": "explicit-percentage",
   "metadata": {
    "tags": []
   },
   "outputs": [],
   "source": [
    "x = 10\n",
    "type(x)"
   ]
  },
  {
   "cell_type": "code",
   "execution_count": null,
   "id": "peaceful-arrow",
   "metadata": {
    "tags": []
   },
   "outputs": [],
   "source": [
    "y = 'hello!'\n",
    "type(y)"
   ]
  },
  {
   "cell_type": "markdown",
   "id": "square-robin",
   "metadata": {},
   "source": [
    "## Integers"
   ]
  },
  {
   "cell_type": "code",
   "execution_count": null,
   "id": "lucky-terry",
   "metadata": {
    "tags": []
   },
   "outputs": [],
   "source": [
    "2 ** 2000"
   ]
  },
  {
   "cell_type": "markdown",
   "id": "biological-harris",
   "metadata": {},
   "source": [
    "## Floating-point numbers"
   ]
  },
  {
   "cell_type": "code",
   "execution_count": null,
   "id": "damaged-chocolate",
   "metadata": {
    "tags": []
   },
   "outputs": [],
   "source": [
    "x = 0.1\n",
    "type(x)"
   ]
  },
  {
   "cell_type": "code",
   "execution_count": null,
   "id": "jewish-hospital",
   "metadata": {
    "tags": []
   },
   "outputs": [],
   "source": [
    "10 + 1.0"
   ]
  },
  {
   "cell_type": "code",
   "execution_count": null,
   "id": "instant-rolling",
   "metadata": {
    "tags": []
   },
   "outputs": [],
   "source": [
    "0.1 + 0.2"
   ]
  },
  {
   "cell_type": "code",
   "execution_count": null,
   "id": "falling-married",
   "metadata": {
    "tags": []
   },
   "outputs": [],
   "source": [
    "0.1 + 0.2 == 0.3"
   ]
  },
  {
   "cell_type": "code",
   "execution_count": null,
   "id": "satisfied-volunteer",
   "metadata": {
    "tags": []
   },
   "outputs": [],
   "source": [
    "round(0.30000000000000004, 10)"
   ]
  },
  {
   "cell_type": "markdown",
   "id": "derived-washington",
   "metadata": {},
   "source": [
    "## Booleans"
   ]
  },
  {
   "cell_type": "code",
   "execution_count": null,
   "id": "enabling-salon",
   "metadata": {
    "tags": []
   },
   "outputs": [],
   "source": [
    "if (10 < 20):\n",
    "    print('hello, python for accounting!')"
   ]
  },
  {
   "cell_type": "code",
   "execution_count": null,
   "id": "velvet-criterion",
   "metadata": {
    "tags": []
   },
   "outputs": [],
   "source": [
    "t = True\n",
    "f = False"
   ]
  },
  {
   "cell_type": "code",
   "execution_count": null,
   "id": "industrial-result",
   "metadata": {
    "tags": []
   },
   "outputs": [],
   "source": [
    "x = 5\n",
    "y = 2\n",
    "\n",
    "(x < 10) and (y > 0)"
   ]
  },
  {
   "cell_type": "code",
   "execution_count": null,
   "id": "viral-airport",
   "metadata": {
    "tags": []
   },
   "outputs": [],
   "source": [
    "t or (x == 5)"
   ]
  },
  {
   "cell_type": "code",
   "execution_count": null,
   "id": "descending-conference",
   "metadata": {
    "tags": []
   },
   "outputs": [],
   "source": [
    "(x == 5) and (not (y > 10))"
   ]
  },
  {
   "cell_type": "code",
   "execution_count": null,
   "id": "endangered-cylinder",
   "metadata": {
    "tags": []
   },
   "outputs": [],
   "source": [
    "True == 1"
   ]
  },
  {
   "cell_type": "code",
   "execution_count": null,
   "id": "challenging-juvenile",
   "metadata": {
    "tags": []
   },
   "outputs": [],
   "source": [
    "True + True + False"
   ]
  },
  {
   "cell_type": "markdown",
   "id": "composed-scope",
   "metadata": {},
   "source": [
    "## The None type"
   ]
  },
  {
   "cell_type": "code",
   "execution_count": null,
   "id": "velvet-canvas",
   "metadata": {
    "tags": []
   },
   "outputs": [],
   "source": [
    "type(None)"
   ]
  },
  {
   "cell_type": "code",
   "execution_count": null,
   "id": "given-jenny",
   "metadata": {
    "tags": []
   },
   "outputs": [],
   "source": [
    "value = print(\"hello, python for accounting!\")\n",
    "print(value)"
   ]
  },
  {
   "cell_type": "code",
   "execution_count": null,
   "id": "animated-spell",
   "metadata": {
    "tags": []
   },
   "outputs": [],
   "source": [
    "value = 1\n",
    "no_value = None"
   ]
  },
  {
   "cell_type": "code",
   "execution_count": null,
   "id": "julian-passport",
   "metadata": {
    "tags": []
   },
   "outputs": [],
   "source": [
    "value"
   ]
  },
  {
   "cell_type": "code",
   "execution_count": null,
   "id": "hidden-teens",
   "metadata": {
    "tags": []
   },
   "outputs": [],
   "source": [
    "no_value"
   ]
  },
  {
   "cell_type": "markdown",
   "id": "promising-racing",
   "metadata": {},
   "source": [
    "## Strings"
   ]
  },
  {
   "cell_type": "code",
   "execution_count": null,
   "id": "activated-actress",
   "metadata": {
    "tags": []
   },
   "outputs": [],
   "source": [
    "message = 'hello, python for accounting'\n",
    "message = \"hello, python for accounting\""
   ]
  },
  {
   "cell_type": "code",
   "execution_count": null,
   "id": "suitable-applicant",
   "metadata": {
    "tags": []
   },
   "outputs": [],
   "source": [
    "message = \"\"\"\n",
    "hello, \n",
    "python \n",
    "for\n",
    "accounting\n",
    "\"\"\""
   ]
  },
  {
   "cell_type": "code",
   "execution_count": null,
   "id": "welcome-casino",
   "metadata": {
    "tags": []
   },
   "outputs": [],
   "source": [
    "message = 'python for accounting'\n",
    "\n",
    "message.title()"
   ]
  },
  {
   "cell_type": "code",
   "execution_count": null,
   "id": "constitutional-climb",
   "metadata": {
    "tags": []
   },
   "outputs": [],
   "source": [
    "first_name = \"margaret\"\n",
    "last_name = \"hamilton\"\n",
    "\n",
    "first_name + \" \" + last_name"
   ]
  },
  {
   "cell_type": "code",
   "execution_count": null,
   "id": "derived-package",
   "metadata": {
    "tags": []
   },
   "outputs": [],
   "source": [
    "first_name.capitalize() + \" \" + last_name.upper()"
   ]
  },
  {
   "cell_type": "code",
   "execution_count": null,
   "id": "expressed-child",
   "metadata": {
    "tags": []
   },
   "outputs": [],
   "source": [
    "\"Hello, \" + (first_name + \" \" + last_name).title()"
   ]
  },
  {
   "cell_type": "code",
   "execution_count": null,
   "id": "blessed-aerospace",
   "metadata": {
    "tags": [
     "allowerror"
    ]
   },
   "outputs": [],
   "source": [
    "age = 83\n",
    "\n",
    "first_name + \" \" + last_name + \" is \" + age + \" years old!\""
   ]
  },
  {
   "cell_type": "code",
   "execution_count": null,
   "id": "genetic-national",
   "metadata": {
    "tags": []
   },
   "outputs": [],
   "source": [
    "age = 83\n",
    "\n",
    "first_name + \" \" + last_name + \" is \" + str(age) + \" years old!\""
   ]
  },
  {
   "cell_type": "code",
   "execution_count": null,
   "id": "rising-vision",
   "metadata": {
    "tags": []
   },
   "outputs": [],
   "source": [
    "f'{first_name} {last_name} is {age} years old!'"
   ]
  },
  {
   "cell_type": "markdown",
   "id": "virtual-disposition",
   "metadata": {},
   "source": [
    "## Associated built-in functions"
   ]
  },
  {
   "cell_type": "code",
   "execution_count": null,
   "id": "distant-hurricane",
   "metadata": {
    "tags": []
   },
   "outputs": [],
   "source": [
    "int(10.5)"
   ]
  },
  {
   "cell_type": "code",
   "execution_count": null,
   "id": "efficient-transaction",
   "metadata": {
    "tags": []
   },
   "outputs": [],
   "source": [
    "float(-10)"
   ]
  },
  {
   "cell_type": "code",
   "execution_count": null,
   "id": "everyday-needle",
   "metadata": {
    "tags": []
   },
   "outputs": [],
   "source": [
    "bool(10)"
   ]
  },
  {
   "cell_type": "code",
   "execution_count": null,
   "id": "inclusive-stopping",
   "metadata": {
    "tags": []
   },
   "outputs": [],
   "source": [
    "bool(None)"
   ]
  },
  {
   "cell_type": "code",
   "execution_count": null,
   "id": "happy-facing",
   "metadata": {
    "tags": []
   },
   "outputs": [],
   "source": [
    "str(100)"
   ]
  }
 ],
 "metadata": {
  "jupytext": {
   "formats": "ipynb"
  },
  "kernelspec": {
   "display_name": "Python 3",
   "language": "python",
   "name": "python3"
  }
 },
 "nbformat": 4,
 "nbformat_minor": 5
}

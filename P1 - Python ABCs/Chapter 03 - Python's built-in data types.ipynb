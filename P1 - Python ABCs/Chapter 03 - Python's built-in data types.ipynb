{
 "cells": [
  {
   "cell_type": "markdown",
   "id": "clinical-registrar",
   "metadata": {},
   "source": [
    "\n",
    "# Python's built-in data types"
   ]
  },
  {
   "cell_type": "code",
   "execution_count": null,
   "id": "mineral-understanding",
   "metadata": {
    "tags": []
   },
   "outputs": [],
   "source": [
    "x = 10\n",
    "type(x)"
   ]
  },
  {
   "cell_type": "code",
   "execution_count": null,
   "id": "analyzed-residence",
   "metadata": {
    "tags": []
   },
   "outputs": [],
   "source": [
    "y = 'hello!'\n",
    "type(y)"
   ]
  },
  {
   "cell_type": "markdown",
   "id": "partial-climate",
   "metadata": {},
   "source": [
    "## Integers"
   ]
  },
  {
   "cell_type": "code",
   "execution_count": null,
   "id": "given-taste",
   "metadata": {
    "tags": []
   },
   "outputs": [],
   "source": [
    "2 ** 2000"
   ]
  },
  {
   "cell_type": "markdown",
   "id": "demographic-shipping",
   "metadata": {},
   "source": [
    "## Floating-point numbers"
   ]
  },
  {
   "cell_type": "code",
   "execution_count": null,
   "id": "crude-helen",
   "metadata": {
    "tags": []
   },
   "outputs": [],
   "source": [
    "x = 0.1\n",
    "type(x)"
   ]
  },
  {
   "cell_type": "code",
   "execution_count": null,
   "id": "qualified-lodge",
   "metadata": {
    "tags": []
   },
   "outputs": [],
   "source": [
    "10 + 1.0"
   ]
  },
  {
   "cell_type": "code",
   "execution_count": null,
   "id": "declared-killing",
   "metadata": {
    "tags": []
   },
   "outputs": [],
   "source": [
    "0.1 + 0.2"
   ]
  },
  {
   "cell_type": "code",
   "execution_count": null,
   "id": "confirmed-bacon",
   "metadata": {
    "tags": []
   },
   "outputs": [],
   "source": [
    "0.1 + 0.2 == 0.3"
   ]
  },
  {
   "cell_type": "code",
   "execution_count": null,
   "id": "lyric-sequence",
   "metadata": {
    "tags": []
   },
   "outputs": [],
   "source": [
    "round(0.30000000000000004, 10)"
   ]
  },
  {
   "cell_type": "markdown",
   "id": "alert-poetry",
   "metadata": {},
   "source": [
    "## Booleans"
   ]
  },
  {
   "cell_type": "code",
   "execution_count": null,
   "id": "swiss-outline",
   "metadata": {
    "tags": []
   },
   "outputs": [],
   "source": [
    "if (10 < 20):\n",
    "    print('hello, python for accounting!')"
   ]
  },
  {
   "cell_type": "code",
   "execution_count": null,
   "id": "reverse-bottle",
   "metadata": {
    "tags": []
   },
   "outputs": [],
   "source": [
    "t = True\n",
    "f = False"
   ]
  },
  {
   "cell_type": "code",
   "execution_count": null,
   "id": "pursuant-catch",
   "metadata": {
    "tags": []
   },
   "outputs": [],
   "source": [
    "x = 5\n",
    "y = 2\n",
    "\n",
    "(x < 10) and (y > 0)"
   ]
  },
  {
   "cell_type": "code",
   "execution_count": null,
   "id": "revolutionary-collapse",
   "metadata": {
    "tags": []
   },
   "outputs": [],
   "source": [
    "t or (x == 5)"
   ]
  },
  {
   "cell_type": "code",
   "execution_count": null,
   "id": "chicken-client",
   "metadata": {
    "tags": []
   },
   "outputs": [],
   "source": [
    "(x == 5) and (not (y > 10))"
   ]
  },
  {
   "cell_type": "code",
   "execution_count": null,
   "id": "understood-strip",
   "metadata": {
    "tags": []
   },
   "outputs": [],
   "source": [
    "True == 1"
   ]
  },
  {
   "cell_type": "code",
   "execution_count": null,
   "id": "romantic-craps",
   "metadata": {
    "tags": []
   },
   "outputs": [],
   "source": [
    "True + True + False"
   ]
  },
  {
   "cell_type": "markdown",
   "id": "supposed-antique",
   "metadata": {},
   "source": [
    "## The None type"
   ]
  },
  {
   "cell_type": "code",
   "execution_count": null,
   "id": "reserved-communist",
   "metadata": {
    "tags": []
   },
   "outputs": [],
   "source": [
    "type(None)"
   ]
  },
  {
   "cell_type": "code",
   "execution_count": null,
   "id": "compliant-affiliate",
   "metadata": {
    "tags": []
   },
   "outputs": [],
   "source": [
    "value = print(\"hello, python for accounting!\")\n",
    "print(value)"
   ]
  },
  {
   "cell_type": "code",
   "execution_count": null,
   "id": "split-belarus",
   "metadata": {
    "tags": []
   },
   "outputs": [],
   "source": [
    "value = 1\n",
    "no_value = None"
   ]
  },
  {
   "cell_type": "code",
   "execution_count": null,
   "id": "strange-masters",
   "metadata": {
    "tags": []
   },
   "outputs": [],
   "source": [
    "value"
   ]
  },
  {
   "cell_type": "code",
   "execution_count": null,
   "id": "equivalent-contributor",
   "metadata": {
    "tags": []
   },
   "outputs": [],
   "source": [
    "no_value"
   ]
  },
  {
   "cell_type": "markdown",
   "id": "continued-posting",
   "metadata": {},
   "source": [
    "## Strings"
   ]
  },
  {
   "cell_type": "code",
   "execution_count": null,
   "id": "naked-screw",
   "metadata": {
    "tags": []
   },
   "outputs": [],
   "source": [
    "message = 'hello, python for accounting'\n",
    "message = \"hello, python for accounting\""
   ]
  },
  {
   "cell_type": "code",
   "execution_count": null,
   "id": "inside-amount",
   "metadata": {
    "tags": []
   },
   "outputs": [],
   "source": [
    "message = \"\"\"\n",
    "hello, \n",
    "python \n",
    "for\n",
    "accounting\n",
    "\"\"\""
   ]
  },
  {
   "cell_type": "code",
   "execution_count": null,
   "id": "ecological-elephant",
   "metadata": {
    "tags": []
   },
   "outputs": [],
   "source": [
    "message = 'python for accounting'\n",
    "\n",
    "message.title()"
   ]
  },
  {
   "cell_type": "code",
   "execution_count": null,
   "id": "perceived-guarantee",
   "metadata": {
    "tags": []
   },
   "outputs": [],
   "source": [
    "first_name = \"margaret\"\n",
    "last_name = \"hamilton\"\n",
    "\n",
    "first_name + \" \" + last_name"
   ]
  },
  {
   "cell_type": "code",
   "execution_count": null,
   "id": "technological-helen",
   "metadata": {
    "tags": []
   },
   "outputs": [],
   "source": [
    "first_name.capitalize() + \" \" + last_name.upper()"
   ]
  },
  {
   "cell_type": "code",
   "execution_count": null,
   "id": "offshore-newsletter",
   "metadata": {
    "tags": []
   },
   "outputs": [],
   "source": [
    "\"Hello, \" + (first_name + \" \" + last_name).title()"
   ]
  },
  {
   "cell_type": "code",
   "execution_count": null,
   "id": "sudden-december",
   "metadata": {
    "tags": [
     "allowerror"
    ]
   },
   "outputs": [],
   "source": [
    "age = 83\n",
    "\n",
    "first_name + \" \" + last_name + \" is \" + age + \" years old!\""
   ]
  },
  {
   "cell_type": "code",
   "execution_count": null,
   "id": "acoustic-design",
   "metadata": {
    "tags": []
   },
   "outputs": [],
   "source": [
    "age = 83\n",
    "\n",
    "first_name + \" \" + last_name + \" is \" + str(age) + \" years old!\""
   ]
  },
  {
   "cell_type": "code",
   "execution_count": null,
   "id": "active-moderator",
   "metadata": {
    "tags": []
   },
   "outputs": [],
   "source": [
    "f'{first_name} {last_name} is {age} years old!'"
   ]
  },
  {
   "cell_type": "markdown",
   "id": "remarkable-activation",
   "metadata": {},
   "source": [
    "## Associated built-in functions"
   ]
  },
  {
   "cell_type": "code",
   "execution_count": null,
   "id": "thousand-wilson",
   "metadata": {
    "tags": []
   },
   "outputs": [],
   "source": [
    "int(10.5)"
   ]
  },
  {
   "cell_type": "code",
   "execution_count": null,
   "id": "regular-dependence",
   "metadata": {
    "tags": []
   },
   "outputs": [],
   "source": [
    "float(-10)"
   ]
  },
  {
   "cell_type": "code",
   "execution_count": null,
   "id": "patient-update",
   "metadata": {
    "tags": []
   },
   "outputs": [],
   "source": [
    "bool(10)"
   ]
  },
  {
   "cell_type": "code",
   "execution_count": null,
   "id": "valued-arizona",
   "metadata": {
    "tags": []
   },
   "outputs": [],
   "source": [
    "bool(None)"
   ]
  },
  {
   "cell_type": "code",
   "execution_count": null,
   "id": "medium-shoot",
   "metadata": {
    "tags": []
   },
   "outputs": [],
   "source": [
    "str(100)"
   ]
  }
 ],
 "metadata": {
  "jupytext": {
   "formats": "ipynb"
  },
  "kernelspec": {
   "display_name": "Python 3",
   "language": "python",
   "name": "python3"
  }
 },
 "nbformat": 4,
 "nbformat_minor": 5
}

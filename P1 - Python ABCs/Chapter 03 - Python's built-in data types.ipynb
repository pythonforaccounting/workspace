{
 "cells": [
  {
   "cell_type": "markdown",
   "id": "obvious-pontiac",
   "metadata": {},
   "source": [
    "\n",
    "# Python's built-in data types"
   ]
  },
  {
   "cell_type": "code",
   "execution_count": null,
   "id": "english-notebook",
   "metadata": {
    "tags": []
   },
   "outputs": [],
   "source": [
    "x = 10\n",
    "type(x)"
   ]
  },
  {
   "cell_type": "code",
   "execution_count": null,
   "id": "directed-generator",
   "metadata": {
    "tags": []
   },
   "outputs": [],
   "source": [
    "y = 'hello!'\n",
    "type(y)"
   ]
  },
  {
   "cell_type": "markdown",
   "id": "surface-relative",
   "metadata": {},
   "source": [
    "## Integers"
   ]
  },
  {
   "cell_type": "code",
   "execution_count": null,
   "id": "endangered-invalid",
   "metadata": {
    "tags": []
   },
   "outputs": [],
   "source": [
    "2 ** 2000"
   ]
  },
  {
   "cell_type": "markdown",
   "id": "surprised-judgment",
   "metadata": {},
   "source": [
    "## Floating-point numbers"
   ]
  },
  {
   "cell_type": "code",
   "execution_count": null,
   "id": "pretty-lafayette",
   "metadata": {
    "tags": []
   },
   "outputs": [],
   "source": [
    "x = 0.1\n",
    "type(x)"
   ]
  },
  {
   "cell_type": "code",
   "execution_count": null,
   "id": "potential-magazine",
   "metadata": {
    "tags": []
   },
   "outputs": [],
   "source": [
    "10 + 1.0"
   ]
  },
  {
   "cell_type": "code",
   "execution_count": null,
   "id": "entertaining-memorabilia",
   "metadata": {
    "tags": []
   },
   "outputs": [],
   "source": [
    "0.1 + 0.2"
   ]
  },
  {
   "cell_type": "code",
   "execution_count": null,
   "id": "polar-utilization",
   "metadata": {
    "tags": []
   },
   "outputs": [],
   "source": [
    "0.1 + 0.2 == 0.3"
   ]
  },
  {
   "cell_type": "code",
   "execution_count": null,
   "id": "subsequent-harvard",
   "metadata": {
    "tags": []
   },
   "outputs": [],
   "source": [
    "round(0.30000000000000004, 10)"
   ]
  },
  {
   "cell_type": "markdown",
   "id": "rolled-timeline",
   "metadata": {},
   "source": [
    "## Booleans"
   ]
  },
  {
   "cell_type": "code",
   "execution_count": null,
   "id": "binding-proxy",
   "metadata": {
    "tags": []
   },
   "outputs": [],
   "source": [
    "if (10 < 20):\n",
    "    print('hello, python for accounting!')"
   ]
  },
  {
   "cell_type": "code",
   "execution_count": null,
   "id": "entertaining-stack",
   "metadata": {
    "tags": []
   },
   "outputs": [],
   "source": [
    "t = True\n",
    "f = False"
   ]
  },
  {
   "cell_type": "code",
   "execution_count": null,
   "id": "finished-convenience",
   "metadata": {
    "tags": []
   },
   "outputs": [],
   "source": [
    "x = 5\n",
    "y = 2\n",
    "\n",
    "(x < 10) and (y > 0)"
   ]
  },
  {
   "cell_type": "code",
   "execution_count": null,
   "id": "found-hindu",
   "metadata": {
    "tags": []
   },
   "outputs": [],
   "source": [
    "t or (x == 5)"
   ]
  },
  {
   "cell_type": "code",
   "execution_count": null,
   "id": "promotional-norway",
   "metadata": {
    "tags": []
   },
   "outputs": [],
   "source": [
    "(x == 5) and (not (y > 10))"
   ]
  },
  {
   "cell_type": "code",
   "execution_count": null,
   "id": "atmospheric-alert",
   "metadata": {
    "tags": []
   },
   "outputs": [],
   "source": [
    "True == 1"
   ]
  },
  {
   "cell_type": "code",
   "execution_count": null,
   "id": "empirical-growing",
   "metadata": {
    "tags": []
   },
   "outputs": [],
   "source": [
    "True + True + False"
   ]
  },
  {
   "cell_type": "markdown",
   "id": "hawaiian-issue",
   "metadata": {},
   "source": [
    "## The None type"
   ]
  },
  {
   "cell_type": "code",
   "execution_count": null,
   "id": "according-filter",
   "metadata": {
    "tags": []
   },
   "outputs": [],
   "source": [
    "type(None)"
   ]
  },
  {
   "cell_type": "code",
   "execution_count": null,
   "id": "ranging-stream",
   "metadata": {
    "tags": []
   },
   "outputs": [],
   "source": [
    "value = print(\"hello, python for accounting!\")\n",
    "print(value)"
   ]
  },
  {
   "cell_type": "code",
   "execution_count": null,
   "id": "random-scoop",
   "metadata": {
    "tags": []
   },
   "outputs": [],
   "source": [
    "value = 1\n",
    "no_value = None"
   ]
  },
  {
   "cell_type": "code",
   "execution_count": null,
   "id": "corrected-parade",
   "metadata": {
    "tags": []
   },
   "outputs": [],
   "source": [
    "value"
   ]
  },
  {
   "cell_type": "code",
   "execution_count": null,
   "id": "molecular-calibration",
   "metadata": {
    "tags": []
   },
   "outputs": [],
   "source": [
    "no_value"
   ]
  },
  {
   "cell_type": "markdown",
   "id": "recognized-incidence",
   "metadata": {},
   "source": [
    "## Strings"
   ]
  },
  {
   "cell_type": "code",
   "execution_count": null,
   "id": "exterior-comparison",
   "metadata": {
    "tags": []
   },
   "outputs": [],
   "source": [
    "message = 'hello, python for accounting'\n",
    "message = \"hello, python for accounting\""
   ]
  },
  {
   "cell_type": "code",
   "execution_count": null,
   "id": "organized-sculpture",
   "metadata": {
    "tags": []
   },
   "outputs": [],
   "source": [
    "message = \"\"\"\n",
    "hello, \n",
    "python \n",
    "for\n",
    "accounting\n",
    "\"\"\""
   ]
  },
  {
   "cell_type": "code",
   "execution_count": null,
   "id": "comprehensive-franklin",
   "metadata": {
    "tags": []
   },
   "outputs": [],
   "source": [
    "message = 'python for accounting'\n",
    "\n",
    "message.title()"
   ]
  },
  {
   "cell_type": "code",
   "execution_count": null,
   "id": "tutorial-peninsula",
   "metadata": {
    "tags": []
   },
   "outputs": [],
   "source": [
    "first_name = \"margaret\"\n",
    "last_name = \"hamilton\"\n",
    "\n",
    "first_name + \" \" + last_name"
   ]
  },
  {
   "cell_type": "code",
   "execution_count": null,
   "id": "vietnamese-watershed",
   "metadata": {
    "tags": []
   },
   "outputs": [],
   "source": [
    "first_name.capitalize() + \" \" + last_name.upper()"
   ]
  },
  {
   "cell_type": "code",
   "execution_count": null,
   "id": "commercial-spiritual",
   "metadata": {
    "tags": []
   },
   "outputs": [],
   "source": [
    "\"Hello, \" + (first_name + \" \" + last_name).title()"
   ]
  },
  {
   "cell_type": "code",
   "execution_count": null,
   "id": "understood-leave",
   "metadata": {
    "tags": [
     "allowerror"
    ]
   },
   "outputs": [],
   "source": [
    "age = 83\n",
    "\n",
    "first_name + \" \" + last_name + \" is \" + age + \" years old!\""
   ]
  },
  {
   "cell_type": "code",
   "execution_count": null,
   "id": "enhanced-andrews",
   "metadata": {
    "tags": []
   },
   "outputs": [],
   "source": [
    "age = 83\n",
    "\n",
    "first_name + \" \" + last_name + \" is \" + str(age) + \" years old!\""
   ]
  },
  {
   "cell_type": "code",
   "execution_count": null,
   "id": "reliable-heather",
   "metadata": {
    "tags": []
   },
   "outputs": [],
   "source": [
    "f'{first_name} {last_name} is {age} years old!'"
   ]
  },
  {
   "cell_type": "markdown",
   "id": "first-presence",
   "metadata": {},
   "source": [
    "## Associated built-in functions"
   ]
  },
  {
   "cell_type": "code",
   "execution_count": null,
   "id": "finite-superior",
   "metadata": {
    "tags": []
   },
   "outputs": [],
   "source": [
    "int(10.5)"
   ]
  },
  {
   "cell_type": "code",
   "execution_count": null,
   "id": "cheap-latest",
   "metadata": {
    "tags": []
   },
   "outputs": [],
   "source": [
    "float(-10)"
   ]
  },
  {
   "cell_type": "code",
   "execution_count": null,
   "id": "controversial-general",
   "metadata": {
    "tags": []
   },
   "outputs": [],
   "source": [
    "bool(10)"
   ]
  },
  {
   "cell_type": "code",
   "execution_count": null,
   "id": "smart-storage",
   "metadata": {
    "tags": []
   },
   "outputs": [],
   "source": [
    "bool(None)"
   ]
  },
  {
   "cell_type": "code",
   "execution_count": null,
   "id": "neural-darwin",
   "metadata": {
    "tags": []
   },
   "outputs": [],
   "source": [
    "str(100)"
   ]
  }
 ],
 "metadata": {
  "jupytext": {
   "formats": "ipynb"
  },
  "kernelspec": {
   "display_name": "Python 3",
   "language": "python",
   "name": "python3"
  }
 },
 "nbformat": 4,
 "nbformat_minor": 5
}

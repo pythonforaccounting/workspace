{
 "cells": [
  {
   "cell_type": "markdown",
   "id": "appreciated-effort",
   "metadata": {},
   "source": [
    "\n",
    "# Python's built-in collections\n",
    "\n",
    "## Lists"
   ]
  },
  {
   "cell_type": "code",
   "execution_count": null,
   "id": "elementary-symposium",
   "metadata": {
    "tags": []
   },
   "outputs": [],
   "source": [
    "prices = [15, 19, 7, 40]\n",
    "accounts = ['Assets', 'Equity', 'Income', 'Expenses']"
   ]
  },
  {
   "cell_type": "markdown",
   "id": "rotary-preserve",
   "metadata": {},
   "source": [
    "### Accessing items in a list"
   ]
  },
  {
   "cell_type": "code",
   "execution_count": null,
   "id": "legendary-mauritius",
   "metadata": {
    "tags": []
   },
   "outputs": [],
   "source": [
    "accounts = ['Assets', 'Equity', 'Income', 'Expenses']\n",
    "\n",
    "accounts[0]"
   ]
  },
  {
   "cell_type": "code",
   "execution_count": null,
   "id": "coordinated-lender",
   "metadata": {
    "tags": []
   },
   "outputs": [],
   "source": [
    "len(accounts)"
   ]
  },
  {
   "cell_type": "code",
   "execution_count": null,
   "id": "honey-startup",
   "metadata": {
    "tags": []
   },
   "outputs": [],
   "source": [
    "accounts[0]"
   ]
  },
  {
   "cell_type": "code",
   "execution_count": null,
   "id": "secure-impossible",
   "metadata": {
    "tags": []
   },
   "outputs": [],
   "source": [
    "print(\"Account Name: \" + accounts[0].upper())"
   ]
  },
  {
   "cell_type": "code",
   "execution_count": null,
   "id": "entertaining-ecuador",
   "metadata": {
    "tags": []
   },
   "outputs": [],
   "source": [
    "accounts = ['Assets', 'Equity', 'Income', 'Expenses']\n",
    "\n",
    "print(accounts[-1])\n",
    "print(accounts[-2])\n",
    "print(accounts[-3])\n",
    "print(accounts[-4])"
   ]
  },
  {
   "cell_type": "code",
   "execution_count": null,
   "id": "imperial-studio",
   "metadata": {
    "tags": []
   },
   "outputs": [],
   "source": [
    "accounts = ['Assets', 'Equity', 'Income', 'Expenses']\n",
    "\n",
    "accounts[0:2]"
   ]
  },
  {
   "cell_type": "code",
   "execution_count": null,
   "id": "excessive-symbol",
   "metadata": {
    "tags": []
   },
   "outputs": [],
   "source": [
    "accounts[:2]"
   ]
  },
  {
   "cell_type": "code",
   "execution_count": null,
   "id": "sought-sympathy",
   "metadata": {
    "tags": []
   },
   "outputs": [],
   "source": [
    "accounts[1:]"
   ]
  },
  {
   "cell_type": "code",
   "execution_count": null,
   "id": "solid-camel",
   "metadata": {
    "tags": []
   },
   "outputs": [],
   "source": [
    "accounts = ['Assets', 'Equity', 'Income', 'Expenses']\n",
    "\n",
    "accounts[-2:]"
   ]
  },
  {
   "cell_type": "code",
   "execution_count": null,
   "id": "domestic-luxury",
   "metadata": {
    "tags": []
   },
   "outputs": [],
   "source": [
    "a = [1, 2, 3]\n",
    "b = a[:2]\n",
    "\n",
    "b.append(10)\n",
    "\n",
    "print(a)\n",
    "print(b) "
   ]
  },
  {
   "cell_type": "markdown",
   "id": "concerned-estimate",
   "metadata": {},
   "source": [
    "### Adding or removing items from a list"
   ]
  },
  {
   "cell_type": "code",
   "execution_count": null,
   "id": "wrapped-oxygen",
   "metadata": {
    "tags": []
   },
   "outputs": [],
   "source": [
    "accounts = ['Assets', 'Equity', 'Income', 'Expenses']\n",
    "accounts.append('Liabilities')\n",
    "\n",
    "accounts"
   ]
  },
  {
   "cell_type": "code",
   "execution_count": null,
   "id": "pregnant-silver",
   "metadata": {
    "tags": []
   },
   "outputs": [],
   "source": [
    "accounts = ['Assets', 'Equity', 'Income', 'Expenses']\n",
    "accounts.insert(1, 'Liabilities')\n",
    "\n",
    "accounts"
   ]
  },
  {
   "cell_type": "code",
   "execution_count": null,
   "id": "conceptual-playing",
   "metadata": {
    "tags": []
   },
   "outputs": [],
   "source": [
    "accounts = ['Assets', 'Equity', 'Income', 'Expenses']\n",
    "accounts.remove('Income')\n",
    "\n",
    "accounts"
   ]
  },
  {
   "cell_type": "code",
   "execution_count": null,
   "id": "bibliographic-renaissance",
   "metadata": {
    "tags": []
   },
   "outputs": [],
   "source": [
    "accounts = ['Assets', 'Equity', 'Income', 'Expenses']\n",
    "accounts.pop(2)\n",
    "\n",
    "accounts"
   ]
  },
  {
   "cell_type": "code",
   "execution_count": null,
   "id": "applied-reply",
   "metadata": {
    "tags": []
   },
   "outputs": [],
   "source": [
    "accounts = ['Assets', 'Equity', 'Income', 'Expenses']\n",
    "removed = accounts.pop()\n",
    "\n",
    "removed"
   ]
  },
  {
   "cell_type": "code",
   "execution_count": null,
   "id": "harmful-brand",
   "metadata": {
    "tags": []
   },
   "outputs": [],
   "source": [
    "accounts"
   ]
  },
  {
   "cell_type": "markdown",
   "id": "special-genealogy",
   "metadata": {},
   "source": [
    "### Modifying items in a list"
   ]
  },
  {
   "cell_type": "code",
   "execution_count": null,
   "id": "fluid-suggestion",
   "metadata": {
    "tags": []
   },
   "outputs": [],
   "source": [
    "accounts = ['Assets', 'Equity', 'Income', 'Expenses']\n",
    "accounts[2] = 'Revenue'\n",
    "\n",
    "accounts"
   ]
  },
  {
   "cell_type": "code",
   "execution_count": null,
   "id": "decent-receiver",
   "metadata": {
    "tags": []
   },
   "outputs": [],
   "source": [
    "accounts = ['Assets', 'Equity', 'Income', 'Expenses']\n",
    "accounts.index('Income')"
   ]
  },
  {
   "cell_type": "code",
   "execution_count": null,
   "id": "dense-pierce",
   "metadata": {
    "tags": []
   },
   "outputs": [],
   "source": [
    "accounts = ['Assets', 'Equity', 'Income', 'Expenses']\n",
    "accounts[accounts.index('Income')] = 'Revenue'\n",
    "\n",
    "accounts"
   ]
  },
  {
   "cell_type": "markdown",
   "id": "obvious-investing",
   "metadata": {},
   "source": [
    "### Organizing a list"
   ]
  },
  {
   "cell_type": "code",
   "execution_count": null,
   "id": "inside-mistress",
   "metadata": {
    "tags": []
   },
   "outputs": [],
   "source": [
    "accounts = ['Income', 'Assets', 'Expenses', 'Equity']\n",
    "accounts.sort()\n",
    "\n",
    "accounts"
   ]
  },
  {
   "cell_type": "code",
   "execution_count": null,
   "id": "serial-capitol",
   "metadata": {
    "tags": []
   },
   "outputs": [],
   "source": [
    "numbers = [9, 1, 16, 4, 36, 25]\n",
    "numbers.sort(reverse=True)\n",
    "\n",
    "accounts"
   ]
  },
  {
   "cell_type": "code",
   "execution_count": null,
   "id": "convertible-perception",
   "metadata": {
    "tags": []
   },
   "outputs": [],
   "source": [
    "accounts = ['Assets', 'Equity', 'Income', 'Expenses']\n",
    "accounts.reverse()\n",
    "\n",
    "accounts"
   ]
  },
  {
   "cell_type": "code",
   "execution_count": null,
   "id": "adult-mechanism",
   "metadata": {
    "tags": []
   },
   "outputs": [],
   "source": [
    "accounts = ['Income', 'Assets', 'Expenses', 'Equity']\n",
    "sorted_accounts  = sorted(accounts)\n",
    "reversed_accounts = reversed(accounts)\n",
    "\n",
    "print(accounts)\n",
    "print(sorted_accounts)\n",
    "print(reversed_accounts)"
   ]
  },
  {
   "cell_type": "markdown",
   "id": "effective-cruise",
   "metadata": {},
   "source": [
    "## Overthinking: Tuples and sets"
   ]
  },
  {
   "cell_type": "code",
   "execution_count": null,
   "id": "ordered-ecuador",
   "metadata": {
    "tags": []
   },
   "outputs": [],
   "source": [
    "values = (1, 4, 5, 2)\n",
    "\n",
    "values"
   ]
  },
  {
   "cell_type": "code",
   "execution_count": null,
   "id": "simple-airline",
   "metadata": {
    "tags": []
   },
   "outputs": [],
   "source": [
    "values[0]"
   ]
  },
  {
   "cell_type": "code",
   "execution_count": null,
   "id": "consistent-optimum",
   "metadata": {
    "tags": [
     "allowerror"
    ]
   },
   "outputs": [],
   "source": [
    "values[0] = 9"
   ]
  },
  {
   "cell_type": "code",
   "execution_count": null,
   "id": "confident-density",
   "metadata": {
    "tags": []
   },
   "outputs": [],
   "source": [
    "accounts = {'Assets', 'Liabilities', 'Revenue', 'Assets'}\n",
    "\n",
    "accounts"
   ]
  },
  {
   "cell_type": "code",
   "execution_count": null,
   "id": "leading-toyota",
   "metadata": {
    "tags": []
   },
   "outputs": [],
   "source": [
    "accounts = {'Assets', 'Liabilities', 'Revenue'}\n",
    "ledgers = {'Income', 'Assets', 'Equity'}\n",
    "\n",
    "accounts.union(ledgers)"
   ]
  },
  {
   "cell_type": "code",
   "execution_count": null,
   "id": "white-paste",
   "metadata": {
    "tags": []
   },
   "outputs": [],
   "source": [
    "accounts.intersection(ledgers)"
   ]
  },
  {
   "cell_type": "code",
   "execution_count": null,
   "id": "silent-imperial",
   "metadata": {
    "tags": []
   },
   "outputs": [],
   "source": [
    "accounts.difference(ledgers)"
   ]
  },
  {
   "cell_type": "code",
   "execution_count": null,
   "id": "recorded-steal",
   "metadata": {
    "tags": []
   },
   "outputs": [],
   "source": [
    "values = [1, 2, 2, 3, 3, 3]\n",
    "\n",
    "set(values)"
   ]
  },
  {
   "cell_type": "code",
   "execution_count": null,
   "id": "activated-shanghai",
   "metadata": {
    "tags": []
   },
   "outputs": [],
   "source": [
    "values = [1, 2, 2, 3, 3, 3]\n",
    "unique_values = list(set(values))\n",
    "\n",
    "unique_values"
   ]
  },
  {
   "cell_type": "code",
   "execution_count": null,
   "id": "perfect-henry",
   "metadata": {
    "tags": [
     "allowerror"
    ]
   },
   "outputs": [],
   "source": [
    "accounts = ['Assets', 'Equity', 'Income', 'Expenses']\n",
    "print(accounts[4])"
   ]
  },
  {
   "cell_type": "code",
   "execution_count": null,
   "id": "aggregate-mouse",
   "metadata": {
    "tags": [
     "allowerror"
    ]
   },
   "outputs": [],
   "source": [
    "accounts = []\n",
    "accounts[-1]"
   ]
  },
  {
   "cell_type": "markdown",
   "id": "external-yellow",
   "metadata": {},
   "source": [
    "## Dictionaries"
   ]
  },
  {
   "cell_type": "code",
   "execution_count": null,
   "id": "therapeutic-standing",
   "metadata": {
    "tags": []
   },
   "outputs": [],
   "source": [
    "account = {'name': 'Assets', 'value': 12000}\n",
    "\n",
    "account"
   ]
  },
  {
   "cell_type": "code",
   "execution_count": null,
   "id": "focal-summer",
   "metadata": {
    "tags": []
   },
   "outputs": [],
   "source": [
    "account['name']"
   ]
  },
  {
   "cell_type": "code",
   "execution_count": null,
   "id": "amazing-blogger",
   "metadata": {
    "tags": []
   },
   "outputs": [],
   "source": [
    "account['value']"
   ]
  },
  {
   "cell_type": "code",
   "execution_count": null,
   "id": "signed-april",
   "metadata": {
    "tags": [
     "allowerror"
    ]
   },
   "outputs": [],
   "source": [
    "account['updated_at']"
   ]
  },
  {
   "cell_type": "code",
   "execution_count": null,
   "id": "identical-stand",
   "metadata": {
    "tags": []
   },
   "outputs": [],
   "source": [
    "account['created_at'] = '09/03/2020'\n",
    "\n",
    "account"
   ]
  },
  {
   "cell_type": "code",
   "execution_count": null,
   "id": "appointed-convergence",
   "metadata": {
    "tags": []
   },
   "outputs": [],
   "source": [
    "account.pop('created_at')\n",
    "\n",
    "account"
   ]
  },
  {
   "cell_type": "code",
   "execution_count": null,
   "id": "august-rough",
   "metadata": {
    "tags": []
   },
   "outputs": [],
   "source": [
    "account = {'name': 'Assets', 'value': 12000}\n",
    "account['name'] = 'Liabilities'\n",
    "account['value'] = -19300\n",
    "\n",
    "account"
   ]
  },
  {
   "cell_type": "code",
   "execution_count": null,
   "id": "amazing-control",
   "metadata": {
    "tags": []
   },
   "outputs": [],
   "source": [
    "account = {}\n",
    "\n",
    "account['name'] = 'Income'\n",
    "account['value'] = 20100\n",
    "account['created_at'] = '10/03/2020'\n",
    "\n",
    "account"
   ]
  },
  {
   "cell_type": "code",
   "execution_count": null,
   "id": "neither-harassment",
   "metadata": {
    "tags": []
   },
   "outputs": [],
   "source": [
    "account.keys()"
   ]
  },
  {
   "cell_type": "code",
   "execution_count": null,
   "id": "invisible-characteristic",
   "metadata": {
    "tags": []
   },
   "outputs": [],
   "source": [
    "account.values()"
   ]
  },
  {
   "cell_type": "code",
   "execution_count": null,
   "id": "spiritual-world",
   "metadata": {
    "tags": []
   },
   "outputs": [],
   "source": [
    "account = {}\n",
    "\n",
    "account['name'] = 'Income'\n",
    "account['value'] = 20100\n",
    "account['created_at'] = '10/03/2020'\n",
    "\n",
    "account['info'] = {'title': 'Main income account', 'description': 'Account description'}\n",
    "account['ins'] = [12000, 2300, 5800]\n",
    "\n",
    "print(account)"
   ]
  },
  {
   "cell_type": "code",
   "execution_count": null,
   "id": "theoretical-amino",
   "metadata": {
    "tags": []
   },
   "outputs": [],
   "source": [
    "account['info']['title']"
   ]
  },
  {
   "cell_type": "markdown",
   "id": "pregnant-syracuse",
   "metadata": {},
   "source": [
    "## Membership operators"
   ]
  },
  {
   "cell_type": "code",
   "execution_count": null,
   "id": "august-therapist",
   "metadata": {
    "tags": []
   },
   "outputs": [],
   "source": [
    "accounts = ['Assets', 'Equity', 'Income', 'Expenses']\n",
    "\n",
    "'Income' in accounts"
   ]
  },
  {
   "cell_type": "code",
   "execution_count": null,
   "id": "appreciated-camera",
   "metadata": {
    "tags": []
   },
   "outputs": [],
   "source": [
    "'Revenue' not in accounts"
   ]
  },
  {
   "cell_type": "code",
   "execution_count": null,
   "id": "visible-player",
   "metadata": {
    "tags": []
   },
   "outputs": [],
   "source": [
    "account = {'name': 'Income', 'value': 20100, 'created_at': '10/03/2020'}\n",
    "\n",
    "'name' in account "
   ]
  },
  {
   "cell_type": "code",
   "execution_count": null,
   "id": "direct-upset",
   "metadata": {
    "tags": []
   },
   "outputs": [],
   "source": [
    "'updated_at' in account"
   ]
  },
  {
   "cell_type": "code",
   "execution_count": null,
   "id": "nearby-configuration",
   "metadata": {
    "tags": []
   },
   "outputs": [],
   "source": [
    "account = {'name': 'Income', 'value': 20100, 'created_at': '10/03/2020'}\n",
    "\n",
    "'value' in account and account['value'] > 10000"
   ]
  },
  {
   "cell_type": "markdown",
   "id": "quarterly-least",
   "metadata": {},
   "source": [
    "## Associated built-in functions"
   ]
  },
  {
   "cell_type": "code",
   "execution_count": null,
   "id": "unlimited-measure",
   "metadata": {
    "tags": []
   },
   "outputs": [],
   "source": [
    "values = [1, 2, 2, 3, 3, 3]\n",
    "\n",
    "set(values)"
   ]
  },
  {
   "cell_type": "code",
   "execution_count": null,
   "id": "stable-moscow",
   "metadata": {
    "tags": []
   },
   "outputs": [],
   "source": [
    "tuple(values)"
   ]
  },
  {
   "cell_type": "code",
   "execution_count": null,
   "id": "fifty-saturn",
   "metadata": {
    "tags": []
   },
   "outputs": [],
   "source": [
    "list(set(values))"
   ]
  },
  {
   "cell_type": "code",
   "execution_count": null,
   "id": "overhead-triple",
   "metadata": {
    "tags": []
   },
   "outputs": [],
   "source": [
    "account = {'name': 'Income', 'value': 20100, 'created_at': '10/03/2020'}\n",
    "\n",
    "list(account)"
   ]
  },
  {
   "cell_type": "code",
   "execution_count": null,
   "id": "spectacular-malta",
   "metadata": {
    "tags": []
   },
   "outputs": [],
   "source": [
    "values = [('name', 'Income'), ('value', 20100)]\n",
    "\n",
    "dict(values)"
   ]
  }
 ],
 "metadata": {
  "jupytext": {
   "formats": "ipynb"
  },
  "kernelspec": {
   "display_name": "Python 3",
   "language": "python",
   "name": "python3"
  }
 },
 "nbformat": 4,
 "nbformat_minor": 5
}

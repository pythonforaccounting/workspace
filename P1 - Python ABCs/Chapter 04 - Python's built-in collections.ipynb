{
 "cells": [
  {
   "cell_type": "markdown",
   "id": "athletic-celebrity",
   "metadata": {},
   "source": [
    "\n",
    "# Python's built-in collections\n",
    "\n",
    "## Lists"
   ]
  },
  {
   "cell_type": "code",
   "execution_count": null,
   "id": "minus-corpus",
   "metadata": {
    "tags": []
   },
   "outputs": [],
   "source": [
    "prices = [15, 19, 7, 40]\n",
    "accounts = ['Assets', 'Equity', 'Income', 'Expenses']"
   ]
  },
  {
   "cell_type": "markdown",
   "id": "medical-activity",
   "metadata": {},
   "source": [
    "### Accessing items in a list"
   ]
  },
  {
   "cell_type": "code",
   "execution_count": null,
   "id": "solar-stranger",
   "metadata": {
    "tags": []
   },
   "outputs": [],
   "source": [
    "accounts = ['Assets', 'Equity', 'Income', 'Expenses']\n",
    "\n",
    "accounts[0]"
   ]
  },
  {
   "cell_type": "code",
   "execution_count": null,
   "id": "annoying-somalia",
   "metadata": {
    "tags": []
   },
   "outputs": [],
   "source": [
    "len(accounts)"
   ]
  },
  {
   "cell_type": "code",
   "execution_count": null,
   "id": "smooth-property",
   "metadata": {
    "tags": []
   },
   "outputs": [],
   "source": [
    "accounts[0]"
   ]
  },
  {
   "cell_type": "code",
   "execution_count": null,
   "id": "employed-bradford",
   "metadata": {
    "tags": []
   },
   "outputs": [],
   "source": [
    "print(\"Account Name: \" + accounts[0].upper())"
   ]
  },
  {
   "cell_type": "code",
   "execution_count": null,
   "id": "municipal-brain",
   "metadata": {
    "tags": []
   },
   "outputs": [],
   "source": [
    "accounts = ['Assets', 'Equity', 'Income', 'Expenses']\n",
    "\n",
    "print(accounts[-1])\n",
    "print(accounts[-2])\n",
    "print(accounts[-3])\n",
    "print(accounts[-4])"
   ]
  },
  {
   "cell_type": "code",
   "execution_count": null,
   "id": "driving-executive",
   "metadata": {
    "tags": []
   },
   "outputs": [],
   "source": [
    "accounts = ['Assets', 'Equity', 'Income', 'Expenses']\n",
    "\n",
    "accounts[0:2]"
   ]
  },
  {
   "cell_type": "code",
   "execution_count": null,
   "id": "legislative-broad",
   "metadata": {
    "tags": []
   },
   "outputs": [],
   "source": [
    "accounts[:2]"
   ]
  },
  {
   "cell_type": "code",
   "execution_count": null,
   "id": "dominican-charleston",
   "metadata": {
    "tags": []
   },
   "outputs": [],
   "source": [
    "accounts[1:]"
   ]
  },
  {
   "cell_type": "code",
   "execution_count": null,
   "id": "civic-essex",
   "metadata": {
    "tags": []
   },
   "outputs": [],
   "source": [
    "accounts = ['Assets', 'Equity', 'Income', 'Expenses']\n",
    "\n",
    "accounts[-2:]"
   ]
  },
  {
   "cell_type": "code",
   "execution_count": null,
   "id": "administrative-metabolism",
   "metadata": {
    "tags": []
   },
   "outputs": [],
   "source": [
    "a = [1, 2, 3]\n",
    "b = a[:2]\n",
    "\n",
    "b.append(10)\n",
    "\n",
    "print(a)\n",
    "print(b) "
   ]
  },
  {
   "cell_type": "markdown",
   "id": "failing-hamburg",
   "metadata": {},
   "source": [
    "### Adding or removing items from a list"
   ]
  },
  {
   "cell_type": "code",
   "execution_count": null,
   "id": "forward-rebel",
   "metadata": {
    "tags": []
   },
   "outputs": [],
   "source": [
    "accounts = ['Assets', 'Equity', 'Income', 'Expenses']\n",
    "accounts.append('Liabilities')\n",
    "\n",
    "accounts"
   ]
  },
  {
   "cell_type": "code",
   "execution_count": null,
   "id": "lesser-morrison",
   "metadata": {
    "tags": []
   },
   "outputs": [],
   "source": [
    "accounts = ['Assets', 'Equity', 'Income', 'Expenses']\n",
    "accounts.insert(1, 'Liabilities')\n",
    "\n",
    "accounts"
   ]
  },
  {
   "cell_type": "code",
   "execution_count": null,
   "id": "judicial-renewal",
   "metadata": {
    "tags": []
   },
   "outputs": [],
   "source": [
    "accounts = ['Assets', 'Equity', 'Income', 'Expenses']\n",
    "accounts.remove('Income')\n",
    "\n",
    "accounts"
   ]
  },
  {
   "cell_type": "code",
   "execution_count": null,
   "id": "proper-transaction",
   "metadata": {
    "tags": []
   },
   "outputs": [],
   "source": [
    "accounts = ['Assets', 'Equity', 'Income', 'Expenses']\n",
    "accounts.pop(2)\n",
    "\n",
    "accounts"
   ]
  },
  {
   "cell_type": "code",
   "execution_count": null,
   "id": "industrial-commodity",
   "metadata": {
    "tags": []
   },
   "outputs": [],
   "source": [
    "accounts = ['Assets', 'Equity', 'Income', 'Expenses']\n",
    "removed = accounts.pop()\n",
    "\n",
    "removed"
   ]
  },
  {
   "cell_type": "code",
   "execution_count": null,
   "id": "radio-spoke",
   "metadata": {
    "tags": []
   },
   "outputs": [],
   "source": [
    "accounts"
   ]
  },
  {
   "cell_type": "markdown",
   "id": "interpreted-passport",
   "metadata": {},
   "source": [
    "### Modifying items in a list"
   ]
  },
  {
   "cell_type": "code",
   "execution_count": null,
   "id": "medium-customs",
   "metadata": {
    "tags": []
   },
   "outputs": [],
   "source": [
    "accounts = ['Assets', 'Equity', 'Income', 'Expenses']\n",
    "accounts[2] = 'Revenue'\n",
    "\n",
    "accounts"
   ]
  },
  {
   "cell_type": "code",
   "execution_count": null,
   "id": "liberal-battery",
   "metadata": {
    "tags": []
   },
   "outputs": [],
   "source": [
    "accounts = ['Assets', 'Equity', 'Income', 'Expenses']\n",
    "accounts.index('Income')"
   ]
  },
  {
   "cell_type": "code",
   "execution_count": null,
   "id": "eleven-finish",
   "metadata": {
    "tags": []
   },
   "outputs": [],
   "source": [
    "accounts = ['Assets', 'Equity', 'Income', 'Expenses']\n",
    "accounts[accounts.index('Income')] = 'Revenue'\n",
    "\n",
    "accounts"
   ]
  },
  {
   "cell_type": "markdown",
   "id": "human-trick",
   "metadata": {},
   "source": [
    "### Organizing a list"
   ]
  },
  {
   "cell_type": "code",
   "execution_count": null,
   "id": "guided-prairie",
   "metadata": {
    "tags": []
   },
   "outputs": [],
   "source": [
    "accounts = ['Income', 'Assets', 'Expenses', 'Equity']\n",
    "accounts.sort()\n",
    "\n",
    "accounts"
   ]
  },
  {
   "cell_type": "code",
   "execution_count": null,
   "id": "approved-device",
   "metadata": {
    "tags": []
   },
   "outputs": [],
   "source": [
    "numbers = [9, 1, 16, 4, 36, 25]\n",
    "numbers.sort(reverse=True)\n",
    "\n",
    "accounts"
   ]
  },
  {
   "cell_type": "code",
   "execution_count": null,
   "id": "simplified-motor",
   "metadata": {
    "tags": []
   },
   "outputs": [],
   "source": [
    "accounts = ['Assets', 'Equity', 'Income', 'Expenses']\n",
    "accounts.reverse()\n",
    "\n",
    "accounts"
   ]
  },
  {
   "cell_type": "code",
   "execution_count": null,
   "id": "earned-friday",
   "metadata": {
    "tags": []
   },
   "outputs": [],
   "source": [
    "accounts = ['Income', 'Assets', 'Expenses', 'Equity']\n",
    "sorted_accounts  = sorted(accounts)\n",
    "reversed_accounts = reversed(accounts)\n",
    "\n",
    "print(accounts)\n",
    "print(sorted_accounts)\n",
    "print(reversed_accounts)"
   ]
  },
  {
   "cell_type": "markdown",
   "id": "moral-reading",
   "metadata": {},
   "source": [
    "## Overthinking: Tuples and sets"
   ]
  },
  {
   "cell_type": "code",
   "execution_count": null,
   "id": "permanent-membership",
   "metadata": {
    "tags": []
   },
   "outputs": [],
   "source": [
    "values = (1, 4, 5, 2)\n",
    "\n",
    "values"
   ]
  },
  {
   "cell_type": "code",
   "execution_count": null,
   "id": "resistant-boards",
   "metadata": {
    "tags": []
   },
   "outputs": [],
   "source": [
    "values[0]"
   ]
  },
  {
   "cell_type": "code",
   "execution_count": null,
   "id": "desperate-pavilion",
   "metadata": {
    "tags": [
     "allowerror"
    ]
   },
   "outputs": [],
   "source": [
    "values[0] = 9"
   ]
  },
  {
   "cell_type": "code",
   "execution_count": null,
   "id": "prescribed-breast",
   "metadata": {
    "tags": []
   },
   "outputs": [],
   "source": [
    "accounts = {'Assets', 'Liabilities', 'Revenue', 'Assets'}\n",
    "\n",
    "accounts"
   ]
  },
  {
   "cell_type": "code",
   "execution_count": null,
   "id": "velvet-first",
   "metadata": {
    "tags": []
   },
   "outputs": [],
   "source": [
    "accounts = {'Assets', 'Liabilities', 'Revenue'}\n",
    "ledgers = {'Income', 'Assets', 'Equity'}\n",
    "\n",
    "accounts.union(ledgers)"
   ]
  },
  {
   "cell_type": "code",
   "execution_count": null,
   "id": "transparent-assurance",
   "metadata": {
    "tags": []
   },
   "outputs": [],
   "source": [
    "accounts.intersection(ledgers)"
   ]
  },
  {
   "cell_type": "code",
   "execution_count": null,
   "id": "retired-bahrain",
   "metadata": {
    "tags": []
   },
   "outputs": [],
   "source": [
    "accounts.difference(ledgers)"
   ]
  },
  {
   "cell_type": "code",
   "execution_count": null,
   "id": "novel-scanning",
   "metadata": {
    "tags": []
   },
   "outputs": [],
   "source": [
    "values = [1, 2, 2, 3, 3, 3]\n",
    "\n",
    "set(values)"
   ]
  },
  {
   "cell_type": "code",
   "execution_count": null,
   "id": "cooked-battery",
   "metadata": {
    "tags": []
   },
   "outputs": [],
   "source": [
    "values = [1, 2, 2, 3, 3, 3]\n",
    "unique_values = list(set(values))\n",
    "\n",
    "unique_values"
   ]
  },
  {
   "cell_type": "code",
   "execution_count": null,
   "id": "existing-ordering",
   "metadata": {
    "tags": [
     "allowerror"
    ]
   },
   "outputs": [],
   "source": [
    "accounts = ['Assets', 'Equity', 'Income', 'Expenses']\n",
    "print(accounts[4])"
   ]
  },
  {
   "cell_type": "code",
   "execution_count": null,
   "id": "excess-fetish",
   "metadata": {
    "tags": [
     "allowerror"
    ]
   },
   "outputs": [],
   "source": [
    "accounts = []\n",
    "accounts[-1]"
   ]
  },
  {
   "cell_type": "markdown",
   "id": "military-hawaii",
   "metadata": {},
   "source": [
    "## Dictionaries"
   ]
  },
  {
   "cell_type": "code",
   "execution_count": null,
   "id": "recorded-custody",
   "metadata": {
    "tags": []
   },
   "outputs": [],
   "source": [
    "account = {'name': 'Assets', 'value': 12000}\n",
    "\n",
    "account"
   ]
  },
  {
   "cell_type": "code",
   "execution_count": null,
   "id": "solar-punch",
   "metadata": {
    "tags": []
   },
   "outputs": [],
   "source": [
    "account['name']"
   ]
  },
  {
   "cell_type": "code",
   "execution_count": null,
   "id": "aerial-breast",
   "metadata": {
    "tags": []
   },
   "outputs": [],
   "source": [
    "account['value']"
   ]
  },
  {
   "cell_type": "code",
   "execution_count": null,
   "id": "amino-field",
   "metadata": {
    "tags": [
     "allowerror"
    ]
   },
   "outputs": [],
   "source": [
    "account['updated_at']"
   ]
  },
  {
   "cell_type": "code",
   "execution_count": null,
   "id": "starting-president",
   "metadata": {
    "tags": []
   },
   "outputs": [],
   "source": [
    "account['created_at'] = '09/03/2020'\n",
    "\n",
    "account"
   ]
  },
  {
   "cell_type": "code",
   "execution_count": null,
   "id": "proud-bradley",
   "metadata": {
    "tags": []
   },
   "outputs": [],
   "source": [
    "account.pop('created_at')\n",
    "\n",
    "account"
   ]
  },
  {
   "cell_type": "code",
   "execution_count": null,
   "id": "legal-participant",
   "metadata": {
    "tags": []
   },
   "outputs": [],
   "source": [
    "account = {'name': 'Assets', 'value': 12000}\n",
    "account['name'] = 'Liabilities'\n",
    "account['value'] = -19300\n",
    "\n",
    "account"
   ]
  },
  {
   "cell_type": "code",
   "execution_count": null,
   "id": "sound-shape",
   "metadata": {
    "tags": []
   },
   "outputs": [],
   "source": [
    "account = {}\n",
    "\n",
    "account['name'] = 'Income'\n",
    "account['value'] = 20100\n",
    "account['created_at'] = '10/03/2020'\n",
    "\n",
    "account"
   ]
  },
  {
   "cell_type": "code",
   "execution_count": null,
   "id": "national-steal",
   "metadata": {
    "tags": []
   },
   "outputs": [],
   "source": [
    "account.keys()"
   ]
  },
  {
   "cell_type": "code",
   "execution_count": null,
   "id": "athletic-daisy",
   "metadata": {
    "tags": []
   },
   "outputs": [],
   "source": [
    "account.values()"
   ]
  },
  {
   "cell_type": "code",
   "execution_count": null,
   "id": "champion-triangle",
   "metadata": {
    "tags": []
   },
   "outputs": [],
   "source": [
    "account = {}\n",
    "\n",
    "account['name'] = 'Income'\n",
    "account['value'] = 20100\n",
    "account['created_at'] = '10/03/2020'\n",
    "\n",
    "account['info'] = {'title': 'Main income account', 'description': 'Account description'}\n",
    "account['ins'] = [12000, 2300, 5800]\n",
    "\n",
    "print(account)"
   ]
  },
  {
   "cell_type": "code",
   "execution_count": null,
   "id": "whole-therapist",
   "metadata": {
    "tags": []
   },
   "outputs": [],
   "source": [
    "account['info']['title']"
   ]
  },
  {
   "cell_type": "markdown",
   "id": "heard-policy",
   "metadata": {},
   "source": [
    "## Membership operators"
   ]
  },
  {
   "cell_type": "code",
   "execution_count": null,
   "id": "caring-touch",
   "metadata": {
    "tags": []
   },
   "outputs": [],
   "source": [
    "accounts = ['Assets', 'Equity', 'Income', 'Expenses']\n",
    "\n",
    "'Income' in accounts"
   ]
  },
  {
   "cell_type": "code",
   "execution_count": null,
   "id": "collaborative-statement",
   "metadata": {
    "tags": []
   },
   "outputs": [],
   "source": [
    "'Revenue' not in accounts"
   ]
  },
  {
   "cell_type": "code",
   "execution_count": null,
   "id": "polished-matrix",
   "metadata": {
    "tags": []
   },
   "outputs": [],
   "source": [
    "account = {'name': 'Income', 'value': 20100, 'created_at': '10/03/2020'}\n",
    "\n",
    "'name' in account "
   ]
  },
  {
   "cell_type": "code",
   "execution_count": null,
   "id": "fewer-passage",
   "metadata": {
    "tags": []
   },
   "outputs": [],
   "source": [
    "'updated_at' in account"
   ]
  },
  {
   "cell_type": "code",
   "execution_count": null,
   "id": "thermal-melbourne",
   "metadata": {
    "tags": []
   },
   "outputs": [],
   "source": [
    "account = {'name': 'Income', 'value': 20100, 'created_at': '10/03/2020'}\n",
    "\n",
    "'value' in account and account['value'] > 10000"
   ]
  },
  {
   "cell_type": "markdown",
   "id": "negative-zimbabwe",
   "metadata": {},
   "source": [
    "## Associated built-in functions"
   ]
  },
  {
   "cell_type": "code",
   "execution_count": null,
   "id": "reported-ukraine",
   "metadata": {
    "tags": []
   },
   "outputs": [],
   "source": [
    "values = [1, 2, 2, 3, 3, 3]\n",
    "\n",
    "set(values)"
   ]
  },
  {
   "cell_type": "code",
   "execution_count": null,
   "id": "intensive-turning",
   "metadata": {
    "tags": []
   },
   "outputs": [],
   "source": [
    "tuple(values)"
   ]
  },
  {
   "cell_type": "code",
   "execution_count": null,
   "id": "emerging-awareness",
   "metadata": {
    "tags": []
   },
   "outputs": [],
   "source": [
    "list(set(values))"
   ]
  },
  {
   "cell_type": "code",
   "execution_count": null,
   "id": "exciting-diary",
   "metadata": {
    "tags": []
   },
   "outputs": [],
   "source": [
    "account = {'name': 'Income', 'value': 20100, 'created_at': '10/03/2020'}\n",
    "\n",
    "list(account)"
   ]
  },
  {
   "cell_type": "code",
   "execution_count": null,
   "id": "indonesian-helmet",
   "metadata": {
    "tags": []
   },
   "outputs": [],
   "source": [
    "values = [('name', 'Income'), ('value', 20100)]\n",
    "\n",
    "dict(values)"
   ]
  }
 ],
 "metadata": {
  "jupytext": {
   "formats": "ipynb"
  },
  "kernelspec": {
   "display_name": "Python 3",
   "language": "python",
   "name": "python3"
  }
 },
 "nbformat": 4,
 "nbformat_minor": 5
}

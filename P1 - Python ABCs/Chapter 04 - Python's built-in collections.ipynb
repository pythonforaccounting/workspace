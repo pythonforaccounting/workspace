{
 "cells": [
  {
   "cell_type": "markdown",
   "id": "basic-packing",
   "metadata": {},
   "source": [
    "\n",
    "# Python's built-in collections\n",
    "\n",
    "## Lists"
   ]
  },
  {
   "cell_type": "code",
   "execution_count": null,
   "id": "comfortable-absence",
   "metadata": {
    "tags": []
   },
   "outputs": [],
   "source": [
    "prices = [15, 19, 7, 40]\n",
    "accounts = ['Assets', 'Equity', 'Income', 'Expenses']"
   ]
  },
  {
   "cell_type": "markdown",
   "id": "moving-george",
   "metadata": {},
   "source": [
    "### Accessing items in a list"
   ]
  },
  {
   "cell_type": "code",
   "execution_count": null,
   "id": "worth-professional",
   "metadata": {
    "tags": []
   },
   "outputs": [],
   "source": [
    "accounts = ['Assets', 'Equity', 'Income', 'Expenses']\n",
    "\n",
    "accounts[0]"
   ]
  },
  {
   "cell_type": "code",
   "execution_count": null,
   "id": "literary-university",
   "metadata": {
    "tags": []
   },
   "outputs": [],
   "source": [
    "len(accounts)"
   ]
  },
  {
   "cell_type": "code",
   "execution_count": null,
   "id": "pointed-contrary",
   "metadata": {
    "tags": []
   },
   "outputs": [],
   "source": [
    "accounts[0]"
   ]
  },
  {
   "cell_type": "code",
   "execution_count": null,
   "id": "settled-favorite",
   "metadata": {
    "tags": []
   },
   "outputs": [],
   "source": [
    "print(\"Account Name: \" + accounts[0].upper())"
   ]
  },
  {
   "cell_type": "code",
   "execution_count": null,
   "id": "disturbed-grave",
   "metadata": {
    "tags": []
   },
   "outputs": [],
   "source": [
    "accounts = ['Assets', 'Equity', 'Income', 'Expenses']\n",
    "\n",
    "print(accounts[-1])\n",
    "print(accounts[-2])\n",
    "print(accounts[-3])\n",
    "print(accounts[-4])"
   ]
  },
  {
   "cell_type": "code",
   "execution_count": null,
   "id": "dense-effort",
   "metadata": {
    "tags": []
   },
   "outputs": [],
   "source": [
    "accounts = ['Assets', 'Equity', 'Income', 'Expenses']\n",
    "\n",
    "accounts[0:2]"
   ]
  },
  {
   "cell_type": "code",
   "execution_count": null,
   "id": "lasting-gilbert",
   "metadata": {
    "tags": []
   },
   "outputs": [],
   "source": [
    "accounts[:2]"
   ]
  },
  {
   "cell_type": "code",
   "execution_count": null,
   "id": "governmental-stock",
   "metadata": {
    "tags": []
   },
   "outputs": [],
   "source": [
    "accounts[1:]"
   ]
  },
  {
   "cell_type": "code",
   "execution_count": null,
   "id": "fuzzy-insulin",
   "metadata": {
    "tags": []
   },
   "outputs": [],
   "source": [
    "accounts = ['Assets', 'Equity', 'Income', 'Expenses']\n",
    "\n",
    "accounts[-2:]"
   ]
  },
  {
   "cell_type": "code",
   "execution_count": null,
   "id": "coastal-toddler",
   "metadata": {
    "tags": []
   },
   "outputs": [],
   "source": [
    "a = [1, 2, 3]\n",
    "b = a[:2]\n",
    "\n",
    "b.append(10)\n",
    "\n",
    "print(a)\n",
    "print(b) "
   ]
  },
  {
   "cell_type": "markdown",
   "id": "compliant-manhattan",
   "metadata": {},
   "source": [
    "### Adding or removing items from a list"
   ]
  },
  {
   "cell_type": "code",
   "execution_count": null,
   "id": "geographic-return",
   "metadata": {
    "tags": []
   },
   "outputs": [],
   "source": [
    "accounts = ['Assets', 'Equity', 'Income', 'Expenses']\n",
    "accounts.append('Liabilities')\n",
    "\n",
    "accounts"
   ]
  },
  {
   "cell_type": "code",
   "execution_count": null,
   "id": "smoking-reporter",
   "metadata": {
    "tags": []
   },
   "outputs": [],
   "source": [
    "accounts = ['Assets', 'Equity', 'Income', 'Expenses']\n",
    "accounts.insert(1, 'Liabilities')\n",
    "\n",
    "accounts"
   ]
  },
  {
   "cell_type": "code",
   "execution_count": null,
   "id": "coral-baltimore",
   "metadata": {
    "tags": []
   },
   "outputs": [],
   "source": [
    "accounts = ['Assets', 'Equity', 'Income', 'Expenses']\n",
    "accounts.remove('Income')\n",
    "\n",
    "accounts"
   ]
  },
  {
   "cell_type": "code",
   "execution_count": null,
   "id": "nasty-place",
   "metadata": {
    "tags": []
   },
   "outputs": [],
   "source": [
    "accounts = ['Assets', 'Equity', 'Income', 'Expenses']\n",
    "accounts.pop(2)\n",
    "\n",
    "accounts"
   ]
  },
  {
   "cell_type": "code",
   "execution_count": null,
   "id": "settled-brooklyn",
   "metadata": {
    "tags": []
   },
   "outputs": [],
   "source": [
    "accounts = ['Assets', 'Equity', 'Income', 'Expenses']\n",
    "removed = accounts.pop()\n",
    "\n",
    "removed"
   ]
  },
  {
   "cell_type": "code",
   "execution_count": null,
   "id": "cardiovascular-carolina",
   "metadata": {
    "tags": []
   },
   "outputs": [],
   "source": [
    "accounts"
   ]
  },
  {
   "cell_type": "markdown",
   "id": "australian-edgar",
   "metadata": {},
   "source": [
    "### Modifying items in a list"
   ]
  },
  {
   "cell_type": "code",
   "execution_count": null,
   "id": "aboriginal-hunter",
   "metadata": {
    "tags": []
   },
   "outputs": [],
   "source": [
    "accounts = ['Assets', 'Equity', 'Income', 'Expenses']\n",
    "accounts[2] = 'Revenue'\n",
    "\n",
    "accounts"
   ]
  },
  {
   "cell_type": "code",
   "execution_count": null,
   "id": "smooth-playlist",
   "metadata": {
    "tags": []
   },
   "outputs": [],
   "source": [
    "accounts = ['Assets', 'Equity', 'Income', 'Expenses']\n",
    "accounts.index('Income')"
   ]
  },
  {
   "cell_type": "code",
   "execution_count": null,
   "id": "stable-windsor",
   "metadata": {
    "tags": []
   },
   "outputs": [],
   "source": [
    "accounts = ['Assets', 'Equity', 'Income', 'Expenses']\n",
    "accounts[accounts.index('Income')] = 'Revenue'\n",
    "\n",
    "accounts"
   ]
  },
  {
   "cell_type": "markdown",
   "id": "professional-business",
   "metadata": {},
   "source": [
    "### Organizing a list"
   ]
  },
  {
   "cell_type": "code",
   "execution_count": null,
   "id": "equipped-navigator",
   "metadata": {
    "tags": []
   },
   "outputs": [],
   "source": [
    "accounts = ['Income', 'Assets', 'Expenses', 'Equity']\n",
    "accounts.sort()\n",
    "\n",
    "accounts"
   ]
  },
  {
   "cell_type": "code",
   "execution_count": null,
   "id": "grateful-cricket",
   "metadata": {
    "tags": []
   },
   "outputs": [],
   "source": [
    "numbers = [9, 1, 16, 4, 36, 25]\n",
    "numbers.sort(reverse=True)\n",
    "\n",
    "accounts"
   ]
  },
  {
   "cell_type": "code",
   "execution_count": null,
   "id": "stone-toolbox",
   "metadata": {
    "tags": []
   },
   "outputs": [],
   "source": [
    "accounts = ['Assets', 'Equity', 'Income', 'Expenses']\n",
    "accounts.reverse()\n",
    "\n",
    "accounts"
   ]
  },
  {
   "cell_type": "code",
   "execution_count": null,
   "id": "respected-polish",
   "metadata": {
    "tags": []
   },
   "outputs": [],
   "source": [
    "accounts = ['Income', 'Assets', 'Expenses', 'Equity']\n",
    "sorted_accounts  = sorted(accounts)\n",
    "reversed_accounts = reversed(accounts)\n",
    "\n",
    "print(accounts)\n",
    "print(sorted_accounts)\n",
    "print(reversed_accounts)"
   ]
  },
  {
   "cell_type": "markdown",
   "id": "lightweight-arena",
   "metadata": {},
   "source": [
    "## Overthinking: Tuples and sets"
   ]
  },
  {
   "cell_type": "code",
   "execution_count": null,
   "id": "friendly-china",
   "metadata": {
    "tags": []
   },
   "outputs": [],
   "source": [
    "values = (1, 4, 5, 2)\n",
    "\n",
    "values"
   ]
  },
  {
   "cell_type": "code",
   "execution_count": null,
   "id": "opposite-gross",
   "metadata": {
    "tags": []
   },
   "outputs": [],
   "source": [
    "values[0]"
   ]
  },
  {
   "cell_type": "code",
   "execution_count": null,
   "id": "successful-former",
   "metadata": {
    "tags": [
     "allowerror"
    ]
   },
   "outputs": [],
   "source": [
    "values[0] = 9"
   ]
  },
  {
   "cell_type": "code",
   "execution_count": null,
   "id": "narrative-tucson",
   "metadata": {
    "tags": []
   },
   "outputs": [],
   "source": [
    "accounts = {'Assets', 'Liabilities', 'Revenue', 'Assets'}\n",
    "\n",
    "accounts"
   ]
  },
  {
   "cell_type": "code",
   "execution_count": null,
   "id": "fitting-version",
   "metadata": {
    "tags": []
   },
   "outputs": [],
   "source": [
    "accounts = {'Assets', 'Liabilities', 'Revenue'}\n",
    "ledgers = {'Income', 'Assets', 'Equity'}\n",
    "\n",
    "accounts.union(ledgers)"
   ]
  },
  {
   "cell_type": "code",
   "execution_count": null,
   "id": "infinite-brooklyn",
   "metadata": {
    "tags": []
   },
   "outputs": [],
   "source": [
    "accounts.intersection(ledgers)"
   ]
  },
  {
   "cell_type": "code",
   "execution_count": null,
   "id": "worthy-pennsylvania",
   "metadata": {
    "tags": []
   },
   "outputs": [],
   "source": [
    "accounts.difference(ledgers)"
   ]
  },
  {
   "cell_type": "code",
   "execution_count": null,
   "id": "fantastic-affair",
   "metadata": {
    "tags": []
   },
   "outputs": [],
   "source": [
    "values = [1, 2, 2, 3, 3, 3]\n",
    "\n",
    "set(values)"
   ]
  },
  {
   "cell_type": "code",
   "execution_count": null,
   "id": "fifty-delhi",
   "metadata": {
    "tags": []
   },
   "outputs": [],
   "source": [
    "values = [1, 2, 2, 3, 3, 3]\n",
    "unique_values = list(set(values))\n",
    "\n",
    "unique_values"
   ]
  },
  {
   "cell_type": "code",
   "execution_count": null,
   "id": "rotary-brown",
   "metadata": {
    "tags": [
     "allowerror"
    ]
   },
   "outputs": [],
   "source": [
    "accounts = ['Assets', 'Equity', 'Income', 'Expenses']\n",
    "print(accounts[4])"
   ]
  },
  {
   "cell_type": "code",
   "execution_count": null,
   "id": "private-integer",
   "metadata": {
    "tags": [
     "allowerror"
    ]
   },
   "outputs": [],
   "source": [
    "accounts = []\n",
    "accounts[-1]"
   ]
  },
  {
   "cell_type": "markdown",
   "id": "underlying-fence",
   "metadata": {},
   "source": [
    "## Dictionaries"
   ]
  },
  {
   "cell_type": "code",
   "execution_count": null,
   "id": "dress-graph",
   "metadata": {
    "tags": []
   },
   "outputs": [],
   "source": [
    "account = {'name': 'Assets', 'value': 12000}\n",
    "\n",
    "account"
   ]
  },
  {
   "cell_type": "code",
   "execution_count": null,
   "id": "actual-technician",
   "metadata": {
    "tags": []
   },
   "outputs": [],
   "source": [
    "account['name']"
   ]
  },
  {
   "cell_type": "code",
   "execution_count": null,
   "id": "excess-island",
   "metadata": {
    "tags": []
   },
   "outputs": [],
   "source": [
    "account['value']"
   ]
  },
  {
   "cell_type": "code",
   "execution_count": null,
   "id": "fiscal-venture",
   "metadata": {
    "tags": [
     "allowerror"
    ]
   },
   "outputs": [],
   "source": [
    "account['updated_at']"
   ]
  },
  {
   "cell_type": "code",
   "execution_count": null,
   "id": "worse-nightlife",
   "metadata": {
    "tags": []
   },
   "outputs": [],
   "source": [
    "account['created_at'] = '09/03/2020'\n",
    "\n",
    "account"
   ]
  },
  {
   "cell_type": "code",
   "execution_count": null,
   "id": "split-backup",
   "metadata": {
    "tags": []
   },
   "outputs": [],
   "source": [
    "account.pop('created_at')\n",
    "\n",
    "account"
   ]
  },
  {
   "cell_type": "code",
   "execution_count": null,
   "id": "atomic-oregon",
   "metadata": {
    "tags": []
   },
   "outputs": [],
   "source": [
    "account = {'name': 'Assets', 'value': 12000}\n",
    "account['name'] = 'Liabilities'\n",
    "account['value'] = -19300\n",
    "\n",
    "account"
   ]
  },
  {
   "cell_type": "code",
   "execution_count": null,
   "id": "selected-witness",
   "metadata": {
    "tags": []
   },
   "outputs": [],
   "source": [
    "account = {}\n",
    "\n",
    "account['name'] = 'Income'\n",
    "account['value'] = 20100\n",
    "account['created_at'] = '10/03/2020'\n",
    "\n",
    "account"
   ]
  },
  {
   "cell_type": "code",
   "execution_count": null,
   "id": "incoming-helicopter",
   "metadata": {
    "tags": []
   },
   "outputs": [],
   "source": [
    "account.keys()"
   ]
  },
  {
   "cell_type": "code",
   "execution_count": null,
   "id": "tender-envelope",
   "metadata": {
    "tags": []
   },
   "outputs": [],
   "source": [
    "account.values()"
   ]
  },
  {
   "cell_type": "code",
   "execution_count": null,
   "id": "undefined-pacific",
   "metadata": {
    "tags": []
   },
   "outputs": [],
   "source": [
    "account = {}\n",
    "\n",
    "account['name'] = 'Income'\n",
    "account['value'] = 20100\n",
    "account['created_at'] = '10/03/2020'\n",
    "\n",
    "account['info'] = {'title': 'Main income account', 'description': 'Account description'}\n",
    "account['ins'] = [12000, 2300, 5800]\n",
    "\n",
    "print(account)"
   ]
  },
  {
   "cell_type": "code",
   "execution_count": null,
   "id": "comic-cream",
   "metadata": {
    "tags": []
   },
   "outputs": [],
   "source": [
    "account['info']['title']"
   ]
  },
  {
   "cell_type": "markdown",
   "id": "planned-chapel",
   "metadata": {},
   "source": [
    "## Membership operators"
   ]
  },
  {
   "cell_type": "code",
   "execution_count": null,
   "id": "genuine-success",
   "metadata": {
    "tags": []
   },
   "outputs": [],
   "source": [
    "accounts = ['Assets', 'Equity', 'Income', 'Expenses']\n",
    "\n",
    "'Income' in accounts"
   ]
  },
  {
   "cell_type": "code",
   "execution_count": null,
   "id": "adequate-workplace",
   "metadata": {
    "tags": []
   },
   "outputs": [],
   "source": [
    "'Revenue' not in accounts"
   ]
  },
  {
   "cell_type": "code",
   "execution_count": null,
   "id": "aquatic-intranet",
   "metadata": {
    "tags": []
   },
   "outputs": [],
   "source": [
    "account = {'name': 'Income', 'value': 20100, 'created_at': '10/03/2020'}\n",
    "\n",
    "'name' in account "
   ]
  },
  {
   "cell_type": "code",
   "execution_count": null,
   "id": "bigger-booth",
   "metadata": {
    "tags": []
   },
   "outputs": [],
   "source": [
    "'updated_at' in account"
   ]
  },
  {
   "cell_type": "code",
   "execution_count": null,
   "id": "reflected-appreciation",
   "metadata": {
    "tags": []
   },
   "outputs": [],
   "source": [
    "account = {'name': 'Income', 'value': 20100, 'created_at': '10/03/2020'}\n",
    "\n",
    "'value' in account and account['value'] > 10000"
   ]
  },
  {
   "cell_type": "markdown",
   "id": "excited-mobile",
   "metadata": {},
   "source": [
    "## Associated built-in functions"
   ]
  },
  {
   "cell_type": "code",
   "execution_count": null,
   "id": "royal-canon",
   "metadata": {
    "tags": []
   },
   "outputs": [],
   "source": [
    "values = [1, 2, 2, 3, 3, 3]\n",
    "\n",
    "set(values)"
   ]
  },
  {
   "cell_type": "code",
   "execution_count": null,
   "id": "cooperative-association",
   "metadata": {
    "tags": []
   },
   "outputs": [],
   "source": [
    "tuple(values)"
   ]
  },
  {
   "cell_type": "code",
   "execution_count": null,
   "id": "defensive-cathedral",
   "metadata": {
    "tags": []
   },
   "outputs": [],
   "source": [
    "list(set(values))"
   ]
  },
  {
   "cell_type": "code",
   "execution_count": null,
   "id": "falling-sheriff",
   "metadata": {
    "tags": []
   },
   "outputs": [],
   "source": [
    "account = {'name': 'Income', 'value': 20100, 'created_at': '10/03/2020'}\n",
    "\n",
    "list(account)"
   ]
  },
  {
   "cell_type": "code",
   "execution_count": null,
   "id": "brilliant-writer",
   "metadata": {
    "tags": []
   },
   "outputs": [],
   "source": [
    "values = [('name', 'Income'), ('value', 20100)]\n",
    "\n",
    "dict(values)"
   ]
  }
 ],
 "metadata": {
  "jupytext": {
   "formats": "ipynb"
  },
  "kernelspec": {
   "display_name": "Python 3",
   "language": "python",
   "name": "python3"
  }
 },
 "nbformat": 4,
 "nbformat_minor": 5
}

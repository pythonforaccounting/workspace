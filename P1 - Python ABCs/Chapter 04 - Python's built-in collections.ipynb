{
 "cells": [
  {
   "cell_type": "markdown",
   "id": "offshore-start",
   "metadata": {},
   "source": [
    "\n",
    "# Python's built-in collections\n",
    "\n",
    "## Lists"
   ]
  },
  {
   "cell_type": "code",
   "execution_count": null,
   "id": "prime-ethiopia",
   "metadata": {
    "tags": []
   },
   "outputs": [],
   "source": [
    "prices = [15, 19, 7, 40]\n",
    "accounts = ['Assets', 'Equity', 'Income', 'Expenses']"
   ]
  },
  {
   "cell_type": "markdown",
   "id": "gross-drove",
   "metadata": {},
   "source": [
    "### Accessing items in a list"
   ]
  },
  {
   "cell_type": "code",
   "execution_count": null,
   "id": "chubby-filename",
   "metadata": {
    "tags": []
   },
   "outputs": [],
   "source": [
    "accounts = ['Assets', 'Equity', 'Income', 'Expenses']\n",
    "\n",
    "accounts[0]"
   ]
  },
  {
   "cell_type": "code",
   "execution_count": null,
   "id": "handled-mirror",
   "metadata": {
    "tags": []
   },
   "outputs": [],
   "source": [
    "len(accounts)"
   ]
  },
  {
   "cell_type": "code",
   "execution_count": null,
   "id": "medium-involvement",
   "metadata": {
    "tags": []
   },
   "outputs": [],
   "source": [
    "accounts[0]"
   ]
  },
  {
   "cell_type": "code",
   "execution_count": null,
   "id": "continuous-legislature",
   "metadata": {
    "tags": []
   },
   "outputs": [],
   "source": [
    "print(\"Account Name: \" + accounts[0].upper())"
   ]
  },
  {
   "cell_type": "code",
   "execution_count": null,
   "id": "pressed-greeting",
   "metadata": {
    "tags": []
   },
   "outputs": [],
   "source": [
    "accounts = ['Assets', 'Equity', 'Income', 'Expenses']\n",
    "\n",
    "print(accounts[-1])\n",
    "print(accounts[-2])\n",
    "print(accounts[-3])\n",
    "print(accounts[-4])"
   ]
  },
  {
   "cell_type": "code",
   "execution_count": null,
   "id": "verbal-assembly",
   "metadata": {
    "tags": []
   },
   "outputs": [],
   "source": [
    "accounts = ['Assets', 'Equity', 'Income', 'Expenses']\n",
    "\n",
    "accounts[0:2]"
   ]
  },
  {
   "cell_type": "code",
   "execution_count": null,
   "id": "romance-rendering",
   "metadata": {
    "tags": []
   },
   "outputs": [],
   "source": [
    "accounts[:2]"
   ]
  },
  {
   "cell_type": "code",
   "execution_count": null,
   "id": "distinguished-article",
   "metadata": {
    "tags": []
   },
   "outputs": [],
   "source": [
    "accounts[1:]"
   ]
  },
  {
   "cell_type": "code",
   "execution_count": null,
   "id": "quantitative-preliminary",
   "metadata": {
    "tags": []
   },
   "outputs": [],
   "source": [
    "accounts = ['Assets', 'Equity', 'Income', 'Expenses']\n",
    "\n",
    "accounts[-2:]"
   ]
  },
  {
   "cell_type": "code",
   "execution_count": null,
   "id": "adequate-proposition",
   "metadata": {
    "tags": []
   },
   "outputs": [],
   "source": [
    "a = [1, 2, 3]\n",
    "b = a[:2]\n",
    "\n",
    "b.append(10)\n",
    "\n",
    "print(a)\n",
    "print(b) "
   ]
  },
  {
   "cell_type": "markdown",
   "id": "enormous-liberty",
   "metadata": {},
   "source": [
    "### Adding or removing items from a list"
   ]
  },
  {
   "cell_type": "code",
   "execution_count": null,
   "id": "lightweight-pantyhose",
   "metadata": {
    "tags": []
   },
   "outputs": [],
   "source": [
    "accounts = ['Assets', 'Equity', 'Income', 'Expenses']\n",
    "accounts.append('Liabilities')\n",
    "\n",
    "accounts"
   ]
  },
  {
   "cell_type": "code",
   "execution_count": null,
   "id": "indoor-bandwidth",
   "metadata": {
    "tags": []
   },
   "outputs": [],
   "source": [
    "accounts = ['Assets', 'Equity', 'Income', 'Expenses']\n",
    "accounts.insert(1, 'Liabilities')\n",
    "\n",
    "accounts"
   ]
  },
  {
   "cell_type": "code",
   "execution_count": null,
   "id": "gothic-straight",
   "metadata": {
    "tags": []
   },
   "outputs": [],
   "source": [
    "accounts = ['Assets', 'Equity', 'Income', 'Expenses']\n",
    "accounts.remove('Income')\n",
    "\n",
    "accounts"
   ]
  },
  {
   "cell_type": "code",
   "execution_count": null,
   "id": "federal-prediction",
   "metadata": {
    "tags": []
   },
   "outputs": [],
   "source": [
    "accounts = ['Assets', 'Equity', 'Income', 'Expenses']\n",
    "accounts.pop(2)\n",
    "\n",
    "accounts"
   ]
  },
  {
   "cell_type": "code",
   "execution_count": null,
   "id": "educated-interface",
   "metadata": {
    "tags": []
   },
   "outputs": [],
   "source": [
    "accounts = ['Assets', 'Equity', 'Income', 'Expenses']\n",
    "removed = accounts.pop()\n",
    "\n",
    "removed"
   ]
  },
  {
   "cell_type": "code",
   "execution_count": null,
   "id": "permanent-detail",
   "metadata": {
    "tags": []
   },
   "outputs": [],
   "source": [
    "accounts"
   ]
  },
  {
   "cell_type": "markdown",
   "id": "moral-albania",
   "metadata": {},
   "source": [
    "### Modifying items in a list"
   ]
  },
  {
   "cell_type": "code",
   "execution_count": null,
   "id": "accomplished-chick",
   "metadata": {
    "tags": []
   },
   "outputs": [],
   "source": [
    "accounts = ['Assets', 'Equity', 'Income', 'Expenses']\n",
    "accounts[2] = 'Revenue'\n",
    "\n",
    "accounts"
   ]
  },
  {
   "cell_type": "code",
   "execution_count": null,
   "id": "welsh-diary",
   "metadata": {
    "tags": []
   },
   "outputs": [],
   "source": [
    "accounts = ['Assets', 'Equity', 'Income', 'Expenses']\n",
    "accounts.index('Income')"
   ]
  },
  {
   "cell_type": "code",
   "execution_count": null,
   "id": "centered-sender",
   "metadata": {
    "tags": []
   },
   "outputs": [],
   "source": [
    "accounts = ['Assets', 'Equity', 'Income', 'Expenses']\n",
    "accounts[accounts.index('Income')] = 'Revenue'\n",
    "\n",
    "accounts"
   ]
  },
  {
   "cell_type": "markdown",
   "id": "mature-basin",
   "metadata": {},
   "source": [
    "### Organizing a list"
   ]
  },
  {
   "cell_type": "code",
   "execution_count": null,
   "id": "fatal-latter",
   "metadata": {
    "tags": []
   },
   "outputs": [],
   "source": [
    "accounts = ['Income', 'Assets', 'Expenses', 'Equity']\n",
    "accounts.sort()\n",
    "\n",
    "accounts"
   ]
  },
  {
   "cell_type": "code",
   "execution_count": null,
   "id": "incorrect-honduras",
   "metadata": {
    "tags": []
   },
   "outputs": [],
   "source": [
    "numbers = [9, 1, 16, 4, 36, 25]\n",
    "numbers.sort(reverse=True)\n",
    "\n",
    "accounts"
   ]
  },
  {
   "cell_type": "code",
   "execution_count": null,
   "id": "conceptual-cover",
   "metadata": {
    "tags": []
   },
   "outputs": [],
   "source": [
    "accounts = ['Assets', 'Equity', 'Income', 'Expenses']\n",
    "accounts.reverse()\n",
    "\n",
    "accounts"
   ]
  },
  {
   "cell_type": "code",
   "execution_count": null,
   "id": "mature-authentication",
   "metadata": {
    "tags": []
   },
   "outputs": [],
   "source": [
    "accounts = ['Income', 'Assets', 'Expenses', 'Equity']\n",
    "sorted_accounts  = sorted(accounts)\n",
    "reversed_accounts = reversed(accounts)\n",
    "\n",
    "print(accounts)\n",
    "print(sorted_accounts)\n",
    "print(reversed_accounts)"
   ]
  },
  {
   "cell_type": "markdown",
   "id": "sublime-trouble",
   "metadata": {},
   "source": [
    "## Overthinking: Tuples and sets"
   ]
  },
  {
   "cell_type": "code",
   "execution_count": null,
   "id": "guided-lighter",
   "metadata": {
    "tags": []
   },
   "outputs": [],
   "source": [
    "values = (1, 4, 5, 2)\n",
    "\n",
    "values"
   ]
  },
  {
   "cell_type": "code",
   "execution_count": null,
   "id": "twelve-benjamin",
   "metadata": {
    "tags": []
   },
   "outputs": [],
   "source": [
    "values[0]"
   ]
  },
  {
   "cell_type": "code",
   "execution_count": null,
   "id": "initial-company",
   "metadata": {
    "tags": [
     "allowerror"
    ]
   },
   "outputs": [],
   "source": [
    "values[0] = 9"
   ]
  },
  {
   "cell_type": "code",
   "execution_count": null,
   "id": "organized-tomato",
   "metadata": {
    "tags": []
   },
   "outputs": [],
   "source": [
    "accounts = {'Assets', 'Liabilities', 'Revenue', 'Assets'}\n",
    "\n",
    "accounts"
   ]
  },
  {
   "cell_type": "code",
   "execution_count": null,
   "id": "protected-williams",
   "metadata": {
    "tags": []
   },
   "outputs": [],
   "source": [
    "accounts = {'Assets', 'Liabilities', 'Revenue'}\n",
    "ledgers = {'Income', 'Assets', 'Equity'}\n",
    "\n",
    "accounts.union(ledgers)"
   ]
  },
  {
   "cell_type": "code",
   "execution_count": null,
   "id": "second-peter",
   "metadata": {
    "tags": []
   },
   "outputs": [],
   "source": [
    "accounts.intersection(ledgers)"
   ]
  },
  {
   "cell_type": "code",
   "execution_count": null,
   "id": "tamil-pendant",
   "metadata": {
    "tags": []
   },
   "outputs": [],
   "source": [
    "accounts.difference(ledgers)"
   ]
  },
  {
   "cell_type": "code",
   "execution_count": null,
   "id": "fallen-scottish",
   "metadata": {
    "tags": []
   },
   "outputs": [],
   "source": [
    "values = [1, 2, 2, 3, 3, 3]\n",
    "\n",
    "set(values)"
   ]
  },
  {
   "cell_type": "code",
   "execution_count": null,
   "id": "italian-enemy",
   "metadata": {
    "tags": []
   },
   "outputs": [],
   "source": [
    "values = [1, 2, 2, 3, 3, 3]\n",
    "unique_values = list(set(values))\n",
    "\n",
    "unique_values"
   ]
  },
  {
   "cell_type": "code",
   "execution_count": null,
   "id": "intimate-kansas",
   "metadata": {
    "tags": [
     "allowerror"
    ]
   },
   "outputs": [],
   "source": [
    "accounts = ['Assets', 'Equity', 'Income', 'Expenses']\n",
    "print(accounts[4])"
   ]
  },
  {
   "cell_type": "code",
   "execution_count": null,
   "id": "precious-navigator",
   "metadata": {
    "tags": [
     "allowerror"
    ]
   },
   "outputs": [],
   "source": [
    "accounts = []\n",
    "accounts[-1]"
   ]
  },
  {
   "cell_type": "markdown",
   "id": "pending-module",
   "metadata": {},
   "source": [
    "## Dictionaries"
   ]
  },
  {
   "cell_type": "code",
   "execution_count": null,
   "id": "remarkable-bleeding",
   "metadata": {
    "tags": []
   },
   "outputs": [],
   "source": [
    "account = {'name': 'Assets', 'value': 12000}\n",
    "\n",
    "account"
   ]
  },
  {
   "cell_type": "code",
   "execution_count": null,
   "id": "undefined-stereo",
   "metadata": {
    "tags": []
   },
   "outputs": [],
   "source": [
    "account['name']"
   ]
  },
  {
   "cell_type": "code",
   "execution_count": null,
   "id": "multiple-quilt",
   "metadata": {
    "tags": []
   },
   "outputs": [],
   "source": [
    "account['value']"
   ]
  },
  {
   "cell_type": "code",
   "execution_count": null,
   "id": "artificial-watson",
   "metadata": {
    "tags": [
     "allowerror"
    ]
   },
   "outputs": [],
   "source": [
    "account['updated_at']"
   ]
  },
  {
   "cell_type": "code",
   "execution_count": null,
   "id": "conscious-footwear",
   "metadata": {
    "tags": []
   },
   "outputs": [],
   "source": [
    "account['created_at'] = '09/03/2020'\n",
    "\n",
    "account"
   ]
  },
  {
   "cell_type": "code",
   "execution_count": null,
   "id": "thirty-swedish",
   "metadata": {
    "tags": []
   },
   "outputs": [],
   "source": [
    "account.pop('created_at')\n",
    "\n",
    "account"
   ]
  },
  {
   "cell_type": "code",
   "execution_count": null,
   "id": "significant-norfolk",
   "metadata": {
    "tags": []
   },
   "outputs": [],
   "source": [
    "account = {'name': 'Assets', 'value': 12000}\n",
    "account['name'] = 'Liabilities'\n",
    "account['value'] = -19300\n",
    "\n",
    "account"
   ]
  },
  {
   "cell_type": "code",
   "execution_count": null,
   "id": "contemporary-support",
   "metadata": {
    "tags": []
   },
   "outputs": [],
   "source": [
    "account = {}\n",
    "\n",
    "account['name'] = 'Income'\n",
    "account['value'] = 20100\n",
    "account['created_at'] = '10/03/2020'\n",
    "\n",
    "account"
   ]
  },
  {
   "cell_type": "code",
   "execution_count": null,
   "id": "boolean-export",
   "metadata": {
    "tags": []
   },
   "outputs": [],
   "source": [
    "account.keys()"
   ]
  },
  {
   "cell_type": "code",
   "execution_count": null,
   "id": "overall-seven",
   "metadata": {
    "tags": []
   },
   "outputs": [],
   "source": [
    "account.values()"
   ]
  },
  {
   "cell_type": "code",
   "execution_count": null,
   "id": "automotive-invitation",
   "metadata": {
    "tags": []
   },
   "outputs": [],
   "source": [
    "account = {}\n",
    "\n",
    "account['name'] = 'Income'\n",
    "account['value'] = 20100\n",
    "account['created_at'] = '10/03/2020'\n",
    "\n",
    "account['info'] = {'title': 'Main income account', 'description': 'Account description'}\n",
    "account['ins'] = [12000, 2300, 5800]\n",
    "\n",
    "print(account)"
   ]
  },
  {
   "cell_type": "code",
   "execution_count": null,
   "id": "light-title",
   "metadata": {
    "tags": []
   },
   "outputs": [],
   "source": [
    "account['info']['title']"
   ]
  },
  {
   "cell_type": "markdown",
   "id": "dense-irrigation",
   "metadata": {},
   "source": [
    "## Membership operators"
   ]
  },
  {
   "cell_type": "code",
   "execution_count": null,
   "id": "stone-folks",
   "metadata": {
    "tags": []
   },
   "outputs": [],
   "source": [
    "accounts = ['Assets', 'Equity', 'Income', 'Expenses']\n",
    "\n",
    "'Income' in accounts"
   ]
  },
  {
   "cell_type": "code",
   "execution_count": null,
   "id": "loved-conflict",
   "metadata": {
    "tags": []
   },
   "outputs": [],
   "source": [
    "'Revenue' not in accounts"
   ]
  },
  {
   "cell_type": "code",
   "execution_count": null,
   "id": "sustainable-samuel",
   "metadata": {
    "tags": []
   },
   "outputs": [],
   "source": [
    "account = {'name': 'Income', 'value': 20100, 'created_at': '10/03/2020'}\n",
    "\n",
    "'name' in account "
   ]
  },
  {
   "cell_type": "code",
   "execution_count": null,
   "id": "impaired-institution",
   "metadata": {
    "tags": []
   },
   "outputs": [],
   "source": [
    "'updated_at' in account"
   ]
  },
  {
   "cell_type": "code",
   "execution_count": null,
   "id": "surprised-checklist",
   "metadata": {
    "tags": []
   },
   "outputs": [],
   "source": [
    "account = {'name': 'Income', 'value': 20100, 'created_at': '10/03/2020'}\n",
    "\n",
    "'value' in account and account['value'] > 10000"
   ]
  },
  {
   "cell_type": "markdown",
   "id": "popular-tsunami",
   "metadata": {},
   "source": [
    "## Associated built-in functions"
   ]
  },
  {
   "cell_type": "code",
   "execution_count": null,
   "id": "incredible-oklahoma",
   "metadata": {
    "tags": []
   },
   "outputs": [],
   "source": [
    "values = [1, 2, 2, 3, 3, 3]\n",
    "\n",
    "set(values)"
   ]
  },
  {
   "cell_type": "code",
   "execution_count": null,
   "id": "acute-committee",
   "metadata": {
    "tags": []
   },
   "outputs": [],
   "source": [
    "tuple(values)"
   ]
  },
  {
   "cell_type": "code",
   "execution_count": null,
   "id": "cooperative-citation",
   "metadata": {
    "tags": []
   },
   "outputs": [],
   "source": [
    "list(set(values))"
   ]
  },
  {
   "cell_type": "code",
   "execution_count": null,
   "id": "coordinated-amplifier",
   "metadata": {
    "tags": []
   },
   "outputs": [],
   "source": [
    "account = {'name': 'Income', 'value': 20100, 'created_at': '10/03/2020'}\n",
    "\n",
    "list(account)"
   ]
  },
  {
   "cell_type": "code",
   "execution_count": null,
   "id": "expected-nightlife",
   "metadata": {
    "tags": []
   },
   "outputs": [],
   "source": [
    "values = [('name', 'Income'), ('value', 20100)]\n",
    "\n",
    "dict(values)"
   ]
  }
 ],
 "metadata": {
  "jupytext": {
   "formats": "ipynb"
  },
  "kernelspec": {
   "display_name": "Python 3",
   "language": "python",
   "name": "python3"
  }
 },
 "nbformat": 4,
 "nbformat_minor": 5
}

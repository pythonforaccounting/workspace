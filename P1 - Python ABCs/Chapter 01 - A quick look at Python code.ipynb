{
 "cells": [
  {
   "cell_type": "markdown",
   "id": "romance-innocent",
   "metadata": {},
   "source": [
    "\n",
    "# A quick look at Python code"
   ]
  },
  {
   "cell_type": "code",
   "execution_count": null,
   "id": "angry-scratch",
   "metadata": {
    "tags": []
   },
   "outputs": [],
   "source": [
    "# numbers to split \n",
    "numbers = [-9, 1, -5, 4, -3, 0, 4, 10]\n",
    "\n",
    "# define limit\n",
    "limit = 0\n",
    "\n",
    "# define two empty lists as placeholders\n",
    "less = []; greater = [];\n",
    "\n",
    "# go through numbers and split\n",
    "# them based on limit value\n",
    "for i in numbers:\n",
    "    if (i < limit):\n",
    "        less.append(i)\n",
    "    elif (i > limit):\n",
    "        greater.append(i)\n",
    "    else:\n",
    "        pass\n",
    "    \n",
    "# print results\n",
    "print('Negative numbers:', less)\n",
    "print('Positive numbers:', greater)"
   ]
  }
 ],
 "metadata": {
  "jupytext": {
   "formats": "ipynb"
  },
  "kernelspec": {
   "display_name": "Python 3",
   "language": "python",
   "name": "python3"
  }
 },
 "nbformat": 4,
 "nbformat_minor": 5
}
